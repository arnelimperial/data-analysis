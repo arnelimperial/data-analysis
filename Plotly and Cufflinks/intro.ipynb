{
 "cells": [
  {
   "cell_type": "markdown",
   "metadata": {},
   "source": [
    "# Plotly and Cufflinks"
   ]
  },
  {
   "cell_type": "code",
   "execution_count": 18,
   "metadata": {},
   "outputs": [],
   "source": [
    "import numpy as np\n",
    "import pandas as pd\n",
    "import seaborn as sns"
   ]
  },
  {
   "cell_type": "code",
   "execution_count": 19,
   "metadata": {},
   "outputs": [],
   "source": [
    "from plotly import __version__\n"
   ]
  },
  {
   "cell_type": "code",
   "execution_count": 20,
   "metadata": {},
   "outputs": [
    {
     "name": "stdout",
     "output_type": "stream",
     "text": [
      "4.5.3\n"
     ]
    }
   ],
   "source": [
    "print(__version__)"
   ]
  },
  {
   "cell_type": "code",
   "execution_count": 21,
   "metadata": {},
   "outputs": [],
   "source": [
    "import cufflinks as cf"
   ]
  },
  {
   "cell_type": "code",
   "execution_count": 22,
   "metadata": {},
   "outputs": [],
   "source": [
    "from plotly.offline import download_plotlyjs, init_notebook_mode, plot, iplot"
   ]
  },
  {
   "cell_type": "code",
   "execution_count": null,
   "metadata": {},
   "outputs": [],
   "source": [
    "%matplotlib inline"
   ]
  },
  {
   "cell_type": "code",
   "execution_count": 33,
   "metadata": {},
   "outputs": [],
   "source": [
    "sns.set_style('darkgrid')"
   ]
  },
  {
   "cell_type": "code",
   "execution_count": 34,
   "metadata": {},
   "outputs": [
    {
     "data": {
      "text/html": [
       "        <script type=\"text/javascript\">\n",
       "        window.PlotlyConfig = {MathJaxConfig: 'local'};\n",
       "        if (window.MathJax) {MathJax.Hub.Config({SVG: {font: \"STIX-Web\"}});}\n",
       "        if (typeof require !== 'undefined') {\n",
       "        require.undef(\"plotly\");\n",
       "        requirejs.config({\n",
       "            paths: {\n",
       "                'plotly': ['https://cdn.plot.ly/plotly-latest.min']\n",
       "            }\n",
       "        });\n",
       "        require(['plotly'], function(Plotly) {\n",
       "            window._Plotly = Plotly;\n",
       "        });\n",
       "        }\n",
       "        </script>\n",
       "        "
      ]
     },
     "metadata": {},
     "output_type": "display_data"
    }
   ],
   "source": [
    "init_notebook_mode(connected=True)"
   ]
  },
  {
   "cell_type": "code",
   "execution_count": 35,
   "metadata": {},
   "outputs": [
    {
     "data": {
      "text/html": [
       "        <script type=\"text/javascript\">\n",
       "        window.PlotlyConfig = {MathJaxConfig: 'local'};\n",
       "        if (window.MathJax) {MathJax.Hub.Config({SVG: {font: \"STIX-Web\"}});}\n",
       "        if (typeof require !== 'undefined') {\n",
       "        require.undef(\"plotly\");\n",
       "        requirejs.config({\n",
       "            paths: {\n",
       "                'plotly': ['https://cdn.plot.ly/plotly-latest.min']\n",
       "            }\n",
       "        });\n",
       "        require(['plotly'], function(Plotly) {\n",
       "            window._Plotly = Plotly;\n",
       "        });\n",
       "        }\n",
       "        </script>\n",
       "        "
      ]
     },
     "metadata": {},
     "output_type": "display_data"
    }
   ],
   "source": [
    "cf.go_offline()"
   ]
  },
  {
   "cell_type": "code",
   "execution_count": 36,
   "metadata": {},
   "outputs": [],
   "source": [
    "df = pd.DataFrame(np.random.randn(100,4),columns='A B C D'.split())"
   ]
  },
  {
   "cell_type": "code",
   "execution_count": 37,
   "metadata": {},
   "outputs": [
    {
     "data": {
      "text/html": [
       "<div>\n",
       "<style scoped>\n",
       "    .dataframe tbody tr th:only-of-type {\n",
       "        vertical-align: middle;\n",
       "    }\n",
       "\n",
       "    .dataframe tbody tr th {\n",
       "        vertical-align: top;\n",
       "    }\n",
       "\n",
       "    .dataframe thead th {\n",
       "        text-align: right;\n",
       "    }\n",
       "</style>\n",
       "<table border=\"1\" class=\"dataframe\">\n",
       "  <thead>\n",
       "    <tr style=\"text-align: right;\">\n",
       "      <th></th>\n",
       "      <th>A</th>\n",
       "      <th>B</th>\n",
       "      <th>C</th>\n",
       "      <th>D</th>\n",
       "    </tr>\n",
       "  </thead>\n",
       "  <tbody>\n",
       "    <tr>\n",
       "      <th>0</th>\n",
       "      <td>2.474996</td>\n",
       "      <td>0.313469</td>\n",
       "      <td>1.231070</td>\n",
       "      <td>-0.388858</td>\n",
       "    </tr>\n",
       "    <tr>\n",
       "      <th>1</th>\n",
       "      <td>-0.900799</td>\n",
       "      <td>0.916733</td>\n",
       "      <td>-0.031173</td>\n",
       "      <td>-0.971747</td>\n",
       "    </tr>\n",
       "    <tr>\n",
       "      <th>2</th>\n",
       "      <td>-0.980575</td>\n",
       "      <td>1.835856</td>\n",
       "      <td>-0.616277</td>\n",
       "      <td>-0.913951</td>\n",
       "    </tr>\n",
       "    <tr>\n",
       "      <th>3</th>\n",
       "      <td>0.859124</td>\n",
       "      <td>0.283443</td>\n",
       "      <td>-1.637601</td>\n",
       "      <td>-0.120823</td>\n",
       "    </tr>\n",
       "    <tr>\n",
       "      <th>4</th>\n",
       "      <td>-0.235136</td>\n",
       "      <td>0.228998</td>\n",
       "      <td>-0.082414</td>\n",
       "      <td>0.333015</td>\n",
       "    </tr>\n",
       "  </tbody>\n",
       "</table>\n",
       "</div>"
      ],
      "text/plain": [
       "          A         B         C         D\n",
       "0  2.474996  0.313469  1.231070 -0.388858\n",
       "1 -0.900799  0.916733 -0.031173 -0.971747\n",
       "2 -0.980575  1.835856 -0.616277 -0.913951\n",
       "3  0.859124  0.283443 -1.637601 -0.120823\n",
       "4 -0.235136  0.228998 -0.082414  0.333015"
      ]
     },
     "execution_count": 37,
     "metadata": {},
     "output_type": "execute_result"
    }
   ],
   "source": [
    "df.head()"
   ]
  },
  {
   "cell_type": "code",
   "execution_count": 38,
   "metadata": {},
   "outputs": [],
   "source": [
    "df2 = pd.DataFrame({'Category': ['A', 'B', 'C', 'D'], 'Values': [14,27,38,49]})"
   ]
  },
  {
   "cell_type": "code",
   "execution_count": 39,
   "metadata": {},
   "outputs": [
    {
     "data": {
      "text/html": [
       "<div>\n",
       "<style scoped>\n",
       "    .dataframe tbody tr th:only-of-type {\n",
       "        vertical-align: middle;\n",
       "    }\n",
       "\n",
       "    .dataframe tbody tr th {\n",
       "        vertical-align: top;\n",
       "    }\n",
       "\n",
       "    .dataframe thead th {\n",
       "        text-align: right;\n",
       "    }\n",
       "</style>\n",
       "<table border=\"1\" class=\"dataframe\">\n",
       "  <thead>\n",
       "    <tr style=\"text-align: right;\">\n",
       "      <th></th>\n",
       "      <th>Category</th>\n",
       "      <th>Values</th>\n",
       "    </tr>\n",
       "  </thead>\n",
       "  <tbody>\n",
       "    <tr>\n",
       "      <th>0</th>\n",
       "      <td>A</td>\n",
       "      <td>14</td>\n",
       "    </tr>\n",
       "    <tr>\n",
       "      <th>1</th>\n",
       "      <td>B</td>\n",
       "      <td>27</td>\n",
       "    </tr>\n",
       "    <tr>\n",
       "      <th>2</th>\n",
       "      <td>C</td>\n",
       "      <td>38</td>\n",
       "    </tr>\n",
       "    <tr>\n",
       "      <th>3</th>\n",
       "      <td>D</td>\n",
       "      <td>49</td>\n",
       "    </tr>\n",
       "  </tbody>\n",
       "</table>\n",
       "</div>"
      ],
      "text/plain": [
       "  Category  Values\n",
       "0        A      14\n",
       "1        B      27\n",
       "2        C      38\n",
       "3        D      49"
      ]
     },
     "execution_count": 39,
     "metadata": {},
     "output_type": "execute_result"
    }
   ],
   "source": [
    "df2"
   ]
  },
  {
   "cell_type": "code",
   "execution_count": 40,
   "metadata": {},
   "outputs": [
    {
     "data": {
      "text/plain": [
       "<matplotlib.axes._subplots.AxesSubplot at 0x7f280081d990>"
      ]
     },
     "execution_count": 40,
     "metadata": {},
     "output_type": "execute_result"
    },
    {
     "data": {
      "image/png": "[encoded data removed]",
      "text/plain": [
       "<Figure size 432x288 with 1 Axes>"
      ]
     },
     "metadata": {},
     "output_type": "display_data"
    }
   ],
   "source": [
    "df.plot()"
   ]
  },
  {
   "cell_type": "code",
   "execution_count": 41,
   "metadata": {},
   "outputs": [
    {
     "data": {
      "application/vnd.plotly.v1+json": {
       "config": {
        "linkText": "Export to plot.ly",
        "plotlyServerURL": "https://plot.ly",
        "showLink": true
       },
       "data": [
        {
         "line": {
          "color": "rgba(255, 153, 51, 1.0)",
          "dash": "solid",
          "shape": "linear",
          "width": 1.3
         },
         "mode": "lines",
         "name": "A",
         "text": "",
         "type": "scatter",
         "x": [
          0,
          1,
          2,
          3,
          4,
          5,
          6,
          7,
          8,
          9,
          10,
          11,
          12,
          13,
          14,
          15,
          16,
          17,
          18,
          19,
          20,
          21,
          22,
          23,
          24,
          25,
          26,
          27,
          28,
          29,
          30,
          31,
          32,
          33,
          34,
          35,
          36,
          37,
          38,
          39,
          40,
          41,
          42,
          43,
          44,
          45,
          46,
          47,
          48,
          49,
          50,
          51,
          52,
          53,
          54,
          55,
          56,
          57,
          58,
          59,
          60,
          61,
          62,
          63,
          64,
          65,
          66,
          67,
          68,
          69,
          70,
          71,
          72,
          73,
          74,
          75,
          76,
          77,
          78,
          79,
          80,
          81,
          82,
          83,
          84,
          85,
          86,
          87,
          88,
          89,
          90,
          91,
          92,
          93,
          94,
          95,
          96,
          97,
          98,
          99
         ],
         "y": [
          2.4749962936946055,
          -0.9007990275507158,
          -0.9805747297855275,
          0.8591241423923144,
          -0.23513612993279762,
          -1.4871885942258938,
          0.1509626101323387,
          0.3710990855337078,
          -0.0783348441645605,
          2.26380966222816,
          0.208228005383773,
          0.3526292310156882,
          1.1125779531924598,
          -0.9777079006710802,
          1.2013899556079988,
          0.07237738940168735,
          -1.3345991474970709,
          -2.017283621905848,
          -0.6549271175784173,
          -1.8897303970589032,
          -0.05019611399214896,
          0.2680783170338222,
          0.8959378751017952,
          1.9759406303102243,
          0.6701199636150814,
          0.9306138813501291,
          -2.581350212978,
          1.2019358187360194,
          0.5962268260509613,
          0.043399436853583974,
          -0.7034736013426729,
          -0.5870817705680396,
          0.26132864277511264,
          1.0026011168534013,
          0.5024826385176249,
          -1.3709098720171886,
          1.6010990955566187,
          -1.1866188378116598,
          -0.0851183518897504,
          2.6578337032405006,
          1.6498431342132363,
          0.01577419471099402,
          0.18660345295126896,
          -1.6380810984694385,
          -0.6920612579214326,
          -0.5481117511795,
          -0.8393828604315164,
          0.6545901837953004,
          0.6793888900506158,
          0.5868162253947056,
          0.7373061487047904,
          0.4104583260324701,
          1.512028590184469,
          2.234848174397926,
          -1.206697874221941,
          1.5386372375224369,
          0.4589019331759673,
          -0.2677178684218074,
          -0.5165748852689157,
          2.097914912767957,
          1.1046891478459746,
          -1.0127769075344921,
          -0.9275024218807334,
          0.46254807937094916,
          -2.581572057555803,
          -0.5177589481227729,
          0.4316554621434871,
          0.6954811231387482,
          0.0300098483416636,
          0.6539900009746611,
          -0.4449879580630433,
          -0.999503090467957,
          1.0362026545443144,
          0.9136741620871076,
          -0.5439968151535551,
          -0.8107903439717139,
          -1.9019102452016945,
          0.7119532518308098,
          -0.5667692810338499,
          1.0639290359748934,
          -0.6453104900764639,
          0.26835233269243897,
          -0.7968176977559296,
          -0.7527220997163271,
          -1.5516630981944994,
          0.5303143093757477,
          1.0840453642416785,
          1.4896418973352272,
          1.2220370054697876,
          -0.16792657416935036,
          -0.2308432545947218,
          -0.29786350107739773,
          0.12177245408476088,
          1.3631037691423746,
          0.6384473313553243,
          -0.7283898466255497,
          0.2516740646126679,
          -0.8870567793418102,
          0.5163456231504208,
          1.1852874008722312
         ]
        },
        {
         "line": {
          "color": "rgba(55, 128, 191, 1.0)",
          "dash": "solid",
          "shape": "linear",
          "width": 1.3
         },
         "mode": "lines",
         "name": "B",
         "text": "",
         "type": "scatter",
         "x": [
          0,
          1,
          2,
          3,
          4,
          5,
          6,
          7,
          8,
          9,
          10,
          11,
          12,
          13,
          14,
          15,
          16,
          17,
          18,
          19,
          20,
          21,
          22,
          23,
          24,
          25,
          26,
          27,
          28,
          29,
          30,
          31,
          32,
          33,
          34,
          35,
          36,
          37,
          38,
          39,
          40,
          41,
          42,
          43,
          44,
          45,
          46,
          47,
          48,
          49,
          50,
          51,
          52,
          53,
          54,
          55,
          56,
          57,
          58,
          59,
          60,
          61,
          62,
          63,
          64,
          65,
          66,
          67,
          68,
          69,
          70,
          71,
          72,
          73,
          74,
          75,
          76,
          77,
          78,
          79,
          80,
          81,
          82,
          83,
          84,
          85,
          86,
          87,
          88,
          89,
          90,
          91,
          92,
          93,
          94,
          95,
          96,
          97,
          98,
          99
         ],
         "y": [
          0.3134686022095278,
          0.9167330694085948,
          1.8358559878457181,
          0.2834426630393991,
          0.22899753551591995,
          1.2214721753208433,
          0.2910640003360314,
          0.44389793149791734,
          1.2162009677053427,
          -0.9619002047119665,
          -1.2784583359551878,
          -0.37144603885723965,
          0.8800661016792073,
          -0.6763563018495778,
          -2.2277493627980003,
          0.6930676738162171,
          -1.1683340478867852,
          -0.15790090640505508,
          -0.6826931554912031,
          0.05049038923586889,
          0.4869377860093024,
          -0.8835410697700743,
          0.24868435409408757,
          -1.056969392655306,
          0.6233496437331075,
          0.9046922325586537,
          0.2818495405726576,
          0.14967640219134654,
          -0.6091488927991449,
          0.2123086378874707,
          0.45743817850369867,
          -0.9658200412921484,
          -0.00865557348175014,
          0.4291721685534401,
          -0.22006799285765793,
          2.488597634675389,
          -0.6061303020257509,
          1.6102658234045657,
          -1.000863701554238,
          -0.534256527143899,
          -0.4621570121146412,
          -1.9759816278599311,
          -0.7760690578252674,
          -0.18467394830622197,
          -1.1458391575252205,
          1.7555670562803594,
          -0.26250474351571285,
          0.5464460246470153,
          0.30987674584616987,
          0.3520151819035632,
          0.9958399353993154,
          -0.5214726384988668,
          0.07222055358695231,
          0.46791079579358846,
          -0.33047997165882564,
          0.9192388020854462,
          -0.3256795536945822,
          -1.8653337188608055,
          0.5962235529452432,
          -0.4240408936804001,
          1.8384924861277794,
          -1.1038965745155283,
          -0.8519275517835061,
          0.7141618825240307,
          0.8285710482210474,
          -0.42276652716172586,
          -1.1587737795342765,
          0.9809709177500708,
          -0.12667495781204194,
          -2.5319609816814572,
          1.432198698417712,
          -1.0622603426980124,
          -0.6234638991651306,
          -1.2776077551390106,
          0.028895853903978024,
          1.644544932190103,
          -0.6163351737696124,
          -0.041946278013372994,
          1.07876840216128,
          0.4241597671285785,
          -2.2076469021892127,
          -0.6868007293609565,
          -0.7430886502094988,
          -0.33242320190080693,
          -0.7943984962651276,
          -2.4226861547474168,
          1.5447323436514886,
          -0.5894859162554954,
          -0.5022088401908156,
          -1.5308674143676129,
          -1.1681670620058908,
          1.3748345847740826,
          0.28388738456361123,
          -0.37374003079645696,
          2.9489109452284934,
          0.38147384481885627,
          -0.6351765194539595,
          0.08824145484231279,
          -0.811892307602746,
          -1.742992613677244
         ]
        },
        {
         "line": {
          "color": "rgba(50, 171, 96, 1.0)",
          "dash": "solid",
          "shape": "linear",
          "width": 1.3
         },
         "mode": "lines",
         "name": "C",
         "text": "",
         "type": "scatter",
         "x": [
          0,
          1,
          2,
          3,
          4,
          5,
          6,
          7,
          8,
          9,
          10,
          11,
          12,
          13,
          14,
          15,
          16,
          17,
          18,
          19,
          20,
          21,
          22,
          23,
          24,
          25,
          26,
          27,
          28,
          29,
          30,
          31,
          32,
          33,
          34,
          35,
          36,
          37,
          38,
          39,
          40,
          41,
          42,
          43,
          44,
          45,
          46,
          47,
          48,
          49,
          50,
          51,
          52,
          53,
          54,
          55,
          56,
          57,
          58,
          59,
          60,
          61,
          62,
          63,
          64,
          65,
          66,
          67,
          68,
          69,
          70,
          71,
          72,
          73,
          74,
          75,
          76,
          77,
          78,
          79,
          80,
          81,
          82,
          83,
          84,
          85,
          86,
          87,
          88,
          89,
          90,
          91,
          92,
          93,
          94,
          95,
          96,
          97,
          98,
          99
         ],
         "y": [
          1.231070159811716,
          -0.03117281649129617,
          -0.6162773756384039,
          -1.6376008743252277,
          -0.08241446653137414,
          -1.1857410285737386,
          1.5025063017476732,
          -0.05133227922674751,
          1.2644556879951765,
          -0.05964774681572033,
          -2.297403684005262,
          -0.9868119640856649,
          0.05675988924076596,
          1.185951066101353,
          -1.373095549551666,
          -0.20562601185759508,
          1.9428309188887116,
          -0.18927683502183562,
          0.9825093159521757,
          -1.2263415995284603,
          -0.6298439802477139,
          0.6068580870279782,
          -0.890636392495951,
          0.631918047414181,
          -0.7720379065528462,
          -0.29593149001966135,
          -1.1226904422118051,
          0.23629800314365096,
          -0.4741276194468566,
          2.1717181443789344,
          -1.4806895991854223,
          -0.4955021094440134,
          0.032117081646470994,
          0.25701142893123874,
          -0.23713230266729876,
          0.9695332751815351,
          0.2716319732427874,
          -0.20824851930974994,
          -1.0475258685794056,
          0.56838672084109,
          -0.14802383067475433,
          -0.2626985118025356,
          -0.485172385498463,
          0.40027566985106316,
          -0.4421940311637228,
          -1.2083996634068965,
          -1.5985316077391072,
          0.5640687204376864,
          -0.37255174684050163,
          1.9573057613355627,
          -0.08203264742974938,
          -0.6363424018323703,
          0.47124001588370756,
          -0.9974260837891378,
          0.561213886768126,
          -0.2517931486910543,
          -1.0726006338905476,
          1.895293220583968,
          -0.5735772528649017,
          -1.0961897880553446,
          -1.2473194715544305,
          -1.9395128963440484,
          -0.8011034626807447,
          -0.8729632839115978,
          0.9718542651123409,
          0.9880918794379198,
          -0.3539421511355455,
          -0.7872073680358485,
          -0.014673280228460442,
          0.0719656927583585,
          0.22437507299150267,
          1.238024342372839,
          0.3609958413639249,
          0.31562209670153074,
          0.660784086125347,
          1.0264393713595676,
          -1.2501039657721695,
          0.7398172427970308,
          -1.379883171220064,
          -0.2789847177401478,
          0.402043007570006,
          0.14469232460479514,
          -0.08498934486439978,
          1.7134644085780146,
          -1.4468169895356162,
          0.715895965943651,
          -0.1544878290689414,
          -0.19537887570599272,
          -0.5316531629843192,
          -0.44306354202850134,
          0.42475780202125824,
          -0.585282832765401,
          2.0077890009820103,
          -0.00392265960940687,
          -0.7012580198585556,
          3.2492551217480696,
          -1.0309968186486267,
          -1.8420028443536924,
          -0.4099855734921172,
          0.31802949595869745
         ]
        },
        {
         "line": {
          "color": "rgba(128, 0, 128, 1.0)",
          "dash": "solid",
          "shape": "linear",
          "width": 1.3
         },
         "mode": "lines",
         "name": "D",
         "text": "",
         "type": "scatter",
         "x": [
          0,
          1,
          2,
          3,
          4,
          5,
          6,
          7,
          8,
          9,
          10,
          11,
          12,
          13,
          14,
          15,
          16,
          17,
          18,
          19,
          20,
          21,
          22,
          23,
          24,
          25,
          26,
          27,
          28,
          29,
          30,
          31,
          32,
          33,
          34,
          35,
          36,
          37,
          38,
          39,
          40,
          41,
          42,
          43,
          44,
          45,
          46,
          47,
          48,
          49,
          50,
          51,
          52,
          53,
          54,
          55,
          56,
          57,
          58,
          59,
          60,
          61,
          62,
          63,
          64,
          65,
          66,
          67,
          68,
          69,
          70,
          71,
          72,
          73,
          74,
          75,
          76,
          77,
          78,
          79,
          80,
          81,
          82,
          83,
          84,
          85,
          86,
          87,
          88,
          89,
          90,
          91,
          92,
          93,
          94,
          95,
          96,
          97,
          98,
          99
         ],
         "y": [
          -0.38885819895232676,
          -0.9717472290895455,
          -0.9139514439533044,
          -0.12082311181586085,
          0.3330149406569263,
          -0.9799049992518911,
          -1.67111919752334,
          0.15162770083347216,
          2.1445059748730726,
          0.6058900549623925,
          1.0630011917635849,
          -0.24644562811864812,
          -1.5325621975142605,
          -0.6469666724377413,
          -0.9616193205511907,
          0.41800907429574874,
          1.0397811292984618,
          -0.31541696072229847,
          -1.4049094608966841,
          -0.0884161044520405,
          0.21495690415865082,
          0.7272029791670528,
          -0.36171724757592705,
          -1.8843190236447718,
          -2.601906771859556,
          0.9330016216922752,
          -1.0913660590152312,
          -0.4987963991281909,
          1.7963669173505645,
          -0.020190081183019428,
          -0.08012435469167206,
          1.0110582736533014,
          -1.1176034224498308,
          0.669714490474785,
          1.4345482061991972,
          0.9899681205051231,
          -1.0361872742541638,
          0.9543542851066912,
          0.6886393863606326,
          0.19966677361934768,
          0.2248252323826824,
          1.266659711726156,
          -1.1336143637616543,
          -1.9569188197769551,
          -0.6045250312730492,
          1.008230391710319,
          -0.7398823275817051,
          -1.086953738335082,
          1.9542880196409105,
          -1.941804377383334,
          -1.4808022512692627,
          -0.14015683186366015,
          0.7626198660784957,
          -0.27479444953159154,
          0.34448358744396157,
          0.20148077743096154,
          0.5811986146711187,
          0.19960282050885136,
          0.7739569815639976,
          -1.1573437069405694,
          0.4521186470452195,
          0.11990670910695764,
          1.4924315665692511,
          1.4175810663481372,
          0.6183128660677296,
          1.6061354947982638,
          1.1996224140964713,
          -0.20863814845378764,
          -0.7959340245341419,
          1.6055454796693986,
          0.3345272122695861,
          -1.3223424522812381,
          0.4077645278070668,
          -2.063164604706958,
          -0.06691844889513632,
          0.5828815572503655,
          -0.3128476641027049,
          -1.1638349708744584,
          0.41722706491806855,
          -0.18316239793324637,
          -0.930424708885888,
          -1.902918235853356,
          0.8041526601231147,
          0.10882810639113567,
          0.2644282211852591,
          2.310789453105758,
          -0.16812597599819737,
          -0.558078628026835,
          0.11279638166561838,
          -0.5792231817795479,
          0.09869825075713468,
          0.5882162052004194,
          -0.792805396195245,
          1.2161537394731101,
          -0.31067260416757025,
          -0.1178432631562213,
          0.025596138383547126,
          1.1510116422285448,
          1.1275767421761456,
          -0.7168911555643587
         ]
        }
       ],
       "layout": {
        "legend": {
         "bgcolor": "#F5F6F9",
         "font": {
          "color": "#4D5663"
         }
        },
        "paper_bgcolor": "#F5F6F9",
        "plot_bgcolor": "#F5F6F9",
        "template": {
         "data": {
          "bar": [
           {
            "error_x": {
             "color": "#2a3f5f"
            },
            "error_y": {
             "color": "#2a3f5f"
            },
            "marker": {
             "line": {
              "color": "#E5ECF6",
              "width": 0.5
             }
            },
            "type": "bar"
           }
          ],
          "barpolar": [
           {
            "marker": {
             "line": {
              "color": "#E5ECF6",
              "width": 0.5
             }
            },
            "type": "barpolar"
           }
          ],
          "carpet": [
           {
            "aaxis": {
             "endlinecolor": "#2a3f5f",
             "gridcolor": "white",
             "linecolor": "white",
             "minorgridcolor": "white",
             "startlinecolor": "#2a3f5f"
            },
            "baxis": {
             "endlinecolor": "#2a3f5f",
             "gridcolor": "white",
             "linecolor": "white",
             "minorgridcolor": "white",
             "startlinecolor": "#2a3f5f"
            },
            "type": "carpet"
           }
          ],
          "choropleth": [
           {
            "colorbar": {
             "outlinewidth": 0,
             "ticks": ""
            },
            "type": "choropleth"
           }
          ],
          "contour": [
           {
            "colorbar": {
             "outlinewidth": 0,
             "ticks": ""
            },
            "colorscale": [
             [
              0,
              "#0d0887"
             ],
             [
              0.1111111111111111,
              "#46039f"
             ],
             [
              0.2222222222222222,
              "#7201a8"
             ],
             [
              0.3333333333333333,
              "#9c179e"
             ],
             [
              0.4444444444444444,
              "#bd3786"
             ],
             [
              0.5555555555555556,
              "#d8576b"
             ],
             [
              0.6666666666666666,
              "#ed7953"
             ],
             [
              0.7777777777777778,
              "#fb9f3a"
             ],
             [
              0.8888888888888888,
              "#fdca26"
             ],
             [
              1,
              "#f0f921"
             ]
            ],
            "type": "contour"
           }
          ],
          "contourcarpet": [
           {
            "colorbar": {
             "outlinewidth": 0,
             "ticks": ""
            },
            "type": "contourcarpet"
           }
          ],
          "heatmap": [
           {
            "colorbar": {
             "outlinewidth": 0,
             "ticks": ""
            },
            "colorscale": [
             [
              0,
              "#0d0887"
             ],
             [
              0.1111111111111111,
              "#46039f"
             ],
             [
              0.2222222222222222,
              "#7201a8"
             ],
             [
              0.3333333333333333,
              "#9c179e"
             ],
             [
              0.4444444444444444,
              "#bd3786"
             ],
             [
              0.5555555555555556,
              "#d8576b"
             ],
             [
              0.6666666666666666,
              "#ed7953"
             ],
             [
              0.7777777777777778,
              "#fb9f3a"
             ],
             [
              0.8888888888888888,
              "#fdca26"
             ],
             [
              1,
              "#f0f921"
             ]
            ],
            "type": "heatmap"
           }
          ],
          "heatmapgl": [
           {
            "colorbar": {
             "outlinewidth": 0,
             "ticks": ""
            },
            "colorscale": [
             [
              0,
              "#0d0887"
             ],
             [
              0.1111111111111111,
              "#46039f"
             ],
             [
              0.2222222222222222,
              "#7201a8"
             ],
             [
              0.3333333333333333,
              "#9c179e"
             ],
             [
              0.4444444444444444,
              "#bd3786"
             ],
             [
              0.5555555555555556,
              "#d8576b"
             ],
             [
              0.6666666666666666,
              "#ed7953"
             ],
             [
              0.7777777777777778,
              "#fb9f3a"
             ],
             [
              0.8888888888888888,
              "#fdca26"
             ],
             [
              1,
              "#f0f921"
             ]
            ],
            "type": "heatmapgl"
           }
          ],
          "histogram": [
           {
            "marker": {
             "colorbar": {
              "outlinewidth": 0,
              "ticks": ""
             }
            },
            "type": "histogram"
           }
          ],
          "histogram2d": [
           {
            "colorbar": {
             "outlinewidth": 0,
             "ticks": ""
            },
            "colorscale": [
             [
              0,
              "#0d0887"
             ],
             [
              0.1111111111111111,
              "#46039f"
             ],
             [
              0.2222222222222222,
              "#7201a8"
             ],
             [
              0.3333333333333333,
              "#9c179e"
             ],
             [
              0.4444444444444444,
              "#bd3786"
             ],
             [
              0.5555555555555556,
              "#d8576b"
             ],
             [
              0.6666666666666666,
              "#ed7953"
             ],
             [
              0.7777777777777778,
              "#fb9f3a"
             ],
             [
              0.8888888888888888,
              "#fdca26"
             ],
             [
              1,
              "#f0f921"
             ]
            ],
            "type": "histogram2d"
           }
          ],
          "histogram2dcontour": [
           {
            "colorbar": {
             "outlinewidth": 0,
             "ticks": ""
            },
            "colorscale": [
             [
              0,
              "#0d0887"
             ],
             [
              0.1111111111111111,
              "#46039f"
             ],
             [
              0.2222222222222222,
              "#7201a8"
             ],
             [
              0.3333333333333333,
              "#9c179e"
             ],
             [
              0.4444444444444444,
              "#bd3786"
             ],
             [
              0.5555555555555556,
              "#d8576b"
             ],
             [
              0.6666666666666666,
              "#ed7953"
             ],
             [
              0.7777777777777778,
              "#fb9f3a"
             ],
             [
              0.8888888888888888,
              "#fdca26"
             ],
             [
              1,
              "#f0f921"
             ]
            ],
            "type": "histogram2dcontour"
           }
          ],
          "mesh3d": [
           {
            "colorbar": {
             "outlinewidth": 0,
             "ticks": ""
            },
            "type": "mesh3d"
           }
          ],
          "parcoords": [
           {
            "line": {
             "colorbar": {
              "outlinewidth": 0,
              "ticks": ""
             }
            },
            "type": "parcoords"
           }
          ],
          "pie": [
           {
            "automargin": true,
            "type": "pie"
           }
          ],
          "scatter": [
           {
            "marker": {
             "colorbar": {
              "outlinewidth": 0,
              "ticks": ""
             }
            },
            "type": "scatter"
           }
          ],
          "scatter3d": [
           {
            "line": {
             "colorbar": {
              "outlinewidth": 0,
              "ticks": ""
             }
            },
            "marker": {
             "colorbar": {
              "outlinewidth": 0,
              "ticks": ""
             }
            },
            "type": "scatter3d"
           }
          ],
          "scattercarpet": [
           {
            "marker": {
             "colorbar": {
              "outlinewidth": 0,
              "ticks": ""
             }
            },
            "type": "scattercarpet"
           }
          ],
          "scattergeo": [
           {
            "marker": {
             "colorbar": {
              "outlinewidth": 0,
              "ticks": ""
             }
            },
            "type": "scattergeo"
           }
          ],
          "scattergl": [
           {
            "marker": {
             "colorbar": {
              "outlinewidth": 0,
              "ticks": ""
             }
            },
            "type": "scattergl"
           }
          ],
          "scattermapbox": [
           {
            "marker": {
             "colorbar": {
              "outlinewidth": 0,
              "ticks": ""
             }
            },
            "type": "scattermapbox"
           }
          ],
          "scatterpolar": [
           {
            "marker": {
             "colorbar": {
              "outlinewidth": 0,
              "ticks": ""
             }
            },
            "type": "scatterpolar"
           }
          ],
          "scatterpolargl": [
           {
            "marker": {
             "colorbar": {
              "outlinewidth": 0,
              "ticks": ""
             }
            },
            "type": "scatterpolargl"
           }
          ],
          "scatterternary": [
           {
            "marker": {
             "colorbar": {
              "outlinewidth": 0,
              "ticks": ""
             }
            },
            "type": "scatterternary"
           }
          ],
          "surface": [
           {
            "colorbar": {
             "outlinewidth": 0,
             "ticks": ""
            },
            "colorscale": [
             [
              0,
              "#0d0887"
             ],
             [
              0.1111111111111111,
              "#46039f"
             ],
             [
              0.2222222222222222,
              "#7201a8"
             ],
             [
              0.3333333333333333,
              "#9c179e"
             ],
             [
              0.4444444444444444,
              "#bd3786"
             ],
             [
              0.5555555555555556,
              "#d8576b"
             ],
             [
              0.6666666666666666,
              "#ed7953"
             ],
             [
              0.7777777777777778,
              "#fb9f3a"
             ],
             [
              0.8888888888888888,
              "#fdca26"
             ],
             [
              1,
              "#f0f921"
             ]
            ],
            "type": "surface"
           }
          ],
          "table": [
           {
            "cells": {
             "fill": {
              "color": "#EBF0F8"
             },
             "line": {
              "color": "white"
             }
            },
            "header": {
             "fill": {
              "color": "#C8D4E3"
             },
             "line": {
              "color": "white"
             }
            },
            "type": "table"
           }
          ]
         },
         "layout": {
          "annotationdefaults": {
           "arrowcolor": "#2a3f5f",
           "arrowhead": 0,
           "arrowwidth": 1
          },
          "coloraxis": {
           "colorbar": {
            "outlinewidth": 0,
            "ticks": ""
           }
          },
          "colorscale": {
           "diverging": [
            [
             0,
             "#8e0152"
            ],
            [
             0.1,
             "#c51b7d"
            ],
            [
             0.2,
             "#de77ae"
            ],
            [
             0.3,
             "#f1b6da"
            ],
            [
             0.4,
             "#fde0ef"
            ],
            [
             0.5,
             "#f7f7f7"
            ],
            [
             0.6,
             "#e6f5d0"
            ],
            [
             0.7,
             "#b8e186"
            ],
            [
             0.8,
             "#7fbc41"
            ],
            [
             0.9,
             "#4d9221"
            ],
            [
             1,
             "#276419"
            ]
           ],
           "sequential": [
            [
             0,
             "#0d0887"
            ],
            [
             0.1111111111111111,
             "#46039f"
            ],
            [
             0.2222222222222222,
             "#7201a8"
            ],
            [
             0.3333333333333333,
             "#9c179e"
            ],
            [
             0.4444444444444444,
             "#bd3786"
            ],
            [
             0.5555555555555556,
             "#d8576b"
            ],
            [
             0.6666666666666666,
             "#ed7953"
            ],
            [
             0.7777777777777778,
             "#fb9f3a"
            ],
            [
             0.8888888888888888,
             "#fdca26"
            ],
            [
             1,
             "#f0f921"
            ]
           ],
           "sequentialminus": [
            [
             0,
             "#0d0887"
            ],
            [
             0.1111111111111111,
             "#46039f"
            ],
            [
             0.2222222222222222,
             "#7201a8"
            ],
            [
             0.3333333333333333,
             "#9c179e"
            ],
            [
             0.4444444444444444,
             "#bd3786"
            ],
            [
             0.5555555555555556,
             "#d8576b"
            ],
            [
             0.6666666666666666,
             "#ed7953"
            ],
            [
             0.7777777777777778,
             "#fb9f3a"
            ],
            [
             0.8888888888888888,
             "#fdca26"
            ],
            [
             1,
             "#f0f921"
            ]
           ]
          },
          "colorway": [
           "#636efa",
           "#EF553B",
           "#00cc96",
           "#ab63fa",
           "#FFA15A",
           "#19d3f3",
           "#FF6692",
           "#B6E880",
           "#FF97FF",
           "#FECB52"
          ],
          "font": {
           "color": "#2a3f5f"
          },
          "geo": {
           "bgcolor": "white",
           "lakecolor": "white",
           "landcolor": "#E5ECF6",
           "showlakes": true,
           "showland": true,
           "subunitcolor": "white"
          },
          "hoverlabel": {
           "align": "left"
          },
          "hovermode": "closest",
          "mapbox": {
           "style": "light"
          },
          "paper_bgcolor": "white",
          "plot_bgcolor": "#E5ECF6",
          "polar": {
           "angularaxis": {
            "gridcolor": "white",
            "linecolor": "white",
            "ticks": ""
           },
           "bgcolor": "#E5ECF6",
           "radialaxis": {
            "gridcolor": "white",
            "linecolor": "white",
            "ticks": ""
           }
          },
          "scene": {
           "xaxis": {
            "backgroundcolor": "#E5ECF6",
            "gridcolor": "white",
            "gridwidth": 2,
            "linecolor": "white",
            "showbackground": true,
            "ticks": "",
            "zerolinecolor": "white"
           },
           "yaxis": {
            "backgroundcolor": "#E5ECF6",
            "gridcolor": "white",
            "gridwidth": 2,
            "linecolor": "white",
            "showbackground": true,
            "ticks": "",
            "zerolinecolor": "white"
           },
           "zaxis": {
            "backgroundcolor": "#E5ECF6",
            "gridcolor": "white",
            "gridwidth": 2,
            "linecolor": "white",
            "showbackground": true,
            "ticks": "",
            "zerolinecolor": "white"
           }
          },
          "shapedefaults": {
           "line": {
            "color": "#2a3f5f"
           }
          },
          "ternary": {
           "aaxis": {
            "gridcolor": "white",
            "linecolor": "white",
            "ticks": ""
           },
           "baxis": {
            "gridcolor": "white",
            "linecolor": "white",
            "ticks": ""
           },
           "bgcolor": "#E5ECF6",
           "caxis": {
            "gridcolor": "white",
            "linecolor": "white",
            "ticks": ""
           }
          },
          "title": {
           "x": 0.05
          },
          "xaxis": {
           "automargin": true,
           "gridcolor": "white",
           "linecolor": "white",
           "ticks": "",
           "title": {
            "standoff": 15
           },
           "zerolinecolor": "white",
           "zerolinewidth": 2
          },
          "yaxis": {
           "automargin": true,
           "gridcolor": "white",
           "linecolor": "white",
           "ticks": "",
           "title": {
            "standoff": 15
           },
           "zerolinecolor": "white",
           "zerolinewidth": 2
          }
         }
        },
        "title": {
         "font": {
          "color": "#4D5663"
         }
        },
        "xaxis": {
         "gridcolor": "#E1E5ED",
         "showgrid": true,
         "tickfont": {
          "color": "#4D5663"
         },
         "title": {
          "font": {
           "color": "#4D5663"
          },
          "text": ""
         },
         "zerolinecolor": "#E1E5ED"
        },
        "yaxis": {
         "gridcolor": "#E1E5ED",
         "showgrid": true,
         "tickfont": {
          "color": "#4D5663"
         },
         "title": {
          "font": {
           "color": "#4D5663"
          },
          "text": ""
         },
         "zerolinecolor": "#E1E5ED"
        }
       }
      },
      "text/html": [
       "<div>\n",
       "        \n",
       "        \n",
       "            <div id=\"d83c126a-8c77-4d5b-83b0-70bae726ed98\" class=\"plotly-graph-div\" style=\"height:525px; width:100%;\"></div>\n",
       "            <script type=\"text/javascript\">\n",
       "                require([\"plotly\"], function(Plotly) {\n",
       "                    window.PLOTLYENV=window.PLOTLYENV || {};\n",
       "                    window.PLOTLYENV.BASE_URL='https://plot.ly';\n",
       "                    \n",
       "                if (document.getElementById(\"d83c126a-8c77-4d5b-83b0-70bae726ed98\")) {\n",
       "                    Plotly.newPlot(\n",
       "                        'd83c126a-8c77-4d5b-83b0-70bae726ed98',\n",
       "                        [{\"line\": {\"color\": \"rgba(255, 153, 51, 1.0)\", \"dash\": \"solid\", \"shape\": \"linear\", \"width\": 1.3}, \"mode\": \"lines\", \"name\": \"A\", \"text\": \"\", \"type\": \"scatter\", \"x\": [0, 1, 2, 3, 4, 5, 6, 7, 8, 9, 10, 11, 12, 13, 14, 15, 16, 17, 18, 19, 20, 21, 22, 23, 24, 25, 26, 27, 28, 29, 30, 31, 32, 33, 34, 35, 36, 37, 38, 39, 40, 41, 42, 43, 44, 45, 46, 47, 48, 49, 50, 51, 52, 53, 54, 55, 56, 57, 58, 59, 60, 61, 62, 63, 64, 65, 66, 67, 68, 69, 70, 71, 72, 73, 74, 75, 76, 77, 78, 79, 80, 81, 82, 83, 84, 85, 86, 87, 88, 89, 90, 91, 92, 93, 94, 95, 96, 97, 98, 99], \"y\": [2.4749962936946055, -0.9007990275507158, -0.9805747297855275, 0.8591241423923144, -0.23513612993279762, -1.4871885942258938, 0.1509626101323387, 0.3710990855337078, -0.0783348441645605, 2.26380966222816, 0.208228005383773, 0.3526292310156882, 1.1125779531924598, -0.9777079006710802, 1.2013899556079988, 0.07237738940168735, -1.3345991474970709, -2.017283621905848, -0.6549271175784173, -1.8897303970589032, -0.05019611399214896, 0.2680783170338222, 0.8959378751017952, 1.9759406303102243, 0.6701199636150814, 0.9306138813501291, -2.581350212978, 1.2019358187360194, 0.5962268260509613, 0.043399436853583974, -0.7034736013426729, -0.5870817705680396, 0.26132864277511264, 1.0026011168534013, 0.5024826385176249, -1.3709098720171886, 1.6010990955566187, -1.1866188378116598, -0.0851183518897504, 2.6578337032405006, 1.6498431342132363, 0.01577419471099402, 0.18660345295126896, -1.6380810984694385, -0.6920612579214326, -0.5481117511795, -0.8393828604315164, 0.6545901837953004, 0.6793888900506158, 0.5868162253947056, 0.7373061487047904, 0.4104583260324701, 1.512028590184469, 2.234848174397926, -1.206697874221941, 1.5386372375224369, 0.4589019331759673, -0.2677178684218074, -0.5165748852689157, 2.097914912767957, 1.1046891478459746, -1.0127769075344921, -0.9275024218807334, 0.46254807937094916, -2.581572057555803, -0.5177589481227729, 0.4316554621434871, 0.6954811231387482, 0.0300098483416636, 0.6539900009746611, -0.4449879580630433, -0.999503090467957, 1.0362026545443144, 0.9136741620871076, -0.5439968151535551, -0.8107903439717139, -1.9019102452016945, 0.7119532518308098, -0.5667692810338499, 1.0639290359748934, -0.6453104900764639, 0.26835233269243897, -0.7968176977559296, -0.7527220997163271, -1.5516630981944994, 0.5303143093757477, 1.0840453642416785, 1.4896418973352272, 1.2220370054697876, -0.16792657416935036, -0.2308432545947218, -0.29786350107739773, 0.12177245408476088, 1.3631037691423746, 0.6384473313553243, -0.7283898466255497, 0.2516740646126679, -0.8870567793418102, 0.5163456231504208, 1.1852874008722312]}, {\"line\": {\"color\": \"rgba(55, 128, 191, 1.0)\", \"dash\": \"solid\", \"shape\": \"linear\", \"width\": 1.3}, \"mode\": \"lines\", \"name\": \"B\", \"text\": \"\", \"type\": \"scatter\", \"x\": [0, 1, 2, 3, 4, 5, 6, 7, 8, 9, 10, 11, 12, 13, 14, 15, 16, 17, 18, 19, 20, 21, 22, 23, 24, 25, 26, 27, 28, 29, 30, 31, 32, 33, 34, 35, 36, 37, 38, 39, 40, 41, 42, 43, 44, 45, 46, 47, 48, 49, 50, 51, 52, 53, 54, 55, 56, 57, 58, 59, 60, 61, 62, 63, 64, 65, 66, 67, 68, 69, 70, 71, 72, 73, 74, 75, 76, 77, 78, 79, 80, 81, 82, 83, 84, 85, 86, 87, 88, 89, 90, 91, 92, 93, 94, 95, 96, 97, 98, 99], \"y\": [0.3134686022095278, 0.9167330694085948, 1.8358559878457181, 0.2834426630393991, 0.22899753551591995, 1.2214721753208433, 0.2910640003360314, 0.44389793149791734, 1.2162009677053427, -0.9619002047119665, -1.2784583359551878, -0.37144603885723965, 0.8800661016792073, -0.6763563018495778, -2.2277493627980003, 0.6930676738162171, -1.1683340478867852, -0.15790090640505508, -0.6826931554912031, 0.05049038923586889, 0.4869377860093024, -0.8835410697700743, 0.24868435409408757, -1.056969392655306, 0.6233496437331075, 0.9046922325586537, 0.2818495405726576, 0.14967640219134654, -0.6091488927991449, 0.2123086378874707, 0.45743817850369867, -0.9658200412921484, -0.00865557348175014, 0.4291721685534401, -0.22006799285765793, 2.488597634675389, -0.6061303020257509, 1.6102658234045657, -1.000863701554238, -0.534256527143899, -0.4621570121146412, -1.9759816278599311, -0.7760690578252674, -0.18467394830622197, -1.1458391575252205, 1.7555670562803594, -0.26250474351571285, 0.5464460246470153, 0.30987674584616987, 0.3520151819035632, 0.9958399353993154, -0.5214726384988668, 0.07222055358695231, 0.46791079579358846, -0.33047997165882564, 0.9192388020854462, -0.3256795536945822, -1.8653337188608055, 0.5962235529452432, -0.4240408936804001, 1.8384924861277794, -1.1038965745155283, -0.8519275517835061, 0.7141618825240307, 0.8285710482210474, -0.42276652716172586, -1.1587737795342765, 0.9809709177500708, -0.12667495781204194, -2.5319609816814572, 1.432198698417712, -1.0622603426980124, -0.6234638991651306, -1.2776077551390106, 0.028895853903978024, 1.644544932190103, -0.6163351737696124, -0.041946278013372994, 1.07876840216128, 0.4241597671285785, -2.2076469021892127, -0.6868007293609565, -0.7430886502094988, -0.33242320190080693, -0.7943984962651276, -2.4226861547474168, 1.5447323436514886, -0.5894859162554954, -0.5022088401908156, -1.5308674143676129, -1.1681670620058908, 1.3748345847740826, 0.28388738456361123, -0.37374003079645696, 2.9489109452284934, 0.38147384481885627, -0.6351765194539595, 0.08824145484231279, -0.811892307602746, -1.742992613677244]}, {\"line\": {\"color\": \"rgba(50, 171, 96, 1.0)\", \"dash\": \"solid\", \"shape\": \"linear\", \"width\": 1.3}, \"mode\": \"lines\", \"name\": \"C\", \"text\": \"\", \"type\": \"scatter\", \"x\": [0, 1, 2, 3, 4, 5, 6, 7, 8, 9, 10, 11, 12, 13, 14, 15, 16, 17, 18, 19, 20, 21, 22, 23, 24, 25, 26, 27, 28, 29, 30, 31, 32, 33, 34, 35, 36, 37, 38, 39, 40, 41, 42, 43, 44, 45, 46, 47, 48, 49, 50, 51, 52, 53, 54, 55, 56, 57, 58, 59, 60, 61, 62, 63, 64, 65, 66, 67, 68, 69, 70, 71, 72, 73, 74, 75, 76, 77, 78, 79, 80, 81, 82, 83, 84, 85, 86, 87, 88, 89, 90, 91, 92, 93, 94, 95, 96, 97, 98, 99], \"y\": [1.231070159811716, -0.03117281649129617, -0.6162773756384039, -1.6376008743252277, -0.08241446653137414, -1.1857410285737386, 1.5025063017476732, -0.05133227922674751, 1.2644556879951765, -0.05964774681572033, -2.297403684005262, -0.9868119640856649, 0.05675988924076596, 1.185951066101353, -1.373095549551666, -0.20562601185759508, 1.9428309188887116, -0.18927683502183562, 0.9825093159521757, -1.2263415995284603, -0.6298439802477139, 0.6068580870279782, -0.890636392495951, 0.631918047414181, -0.7720379065528462, -0.29593149001966135, -1.1226904422118051, 0.23629800314365096, -0.4741276194468566, 2.1717181443789344, -1.4806895991854223, -0.4955021094440134, 0.032117081646470994, 0.25701142893123874, -0.23713230266729876, 0.9695332751815351, 0.2716319732427874, -0.20824851930974994, -1.0475258685794056, 0.56838672084109, -0.14802383067475433, -0.2626985118025356, -0.485172385498463, 0.40027566985106316, -0.4421940311637228, -1.2083996634068965, -1.5985316077391072, 0.5640687204376864, -0.37255174684050163, 1.9573057613355627, -0.08203264742974938, -0.6363424018323703, 0.47124001588370756, -0.9974260837891378, 0.561213886768126, -0.2517931486910543, -1.0726006338905476, 1.895293220583968, -0.5735772528649017, -1.0961897880553446, -1.2473194715544305, -1.9395128963440484, -0.8011034626807447, -0.8729632839115978, 0.9718542651123409, 0.9880918794379198, -0.3539421511355455, -0.7872073680358485, -0.014673280228460442, 0.0719656927583585, 0.22437507299150267, 1.238024342372839, 0.3609958413639249, 0.31562209670153074, 0.660784086125347, 1.0264393713595676, -1.2501039657721695, 0.7398172427970308, -1.379883171220064, -0.2789847177401478, 0.402043007570006, 0.14469232460479514, -0.08498934486439978, 1.7134644085780146, -1.4468169895356162, 0.715895965943651, -0.1544878290689414, -0.19537887570599272, -0.5316531629843192, -0.44306354202850134, 0.42475780202125824, -0.585282832765401, 2.0077890009820103, -0.00392265960940687, -0.7012580198585556, 3.2492551217480696, -1.0309968186486267, -1.8420028443536924, -0.4099855734921172, 0.31802949595869745]}, {\"line\": {\"color\": \"rgba(128, 0, 128, 1.0)\", \"dash\": \"solid\", \"shape\": \"linear\", \"width\": 1.3}, \"mode\": \"lines\", \"name\": \"D\", \"text\": \"\", \"type\": \"scatter\", \"x\": [0, 1, 2, 3, 4, 5, 6, 7, 8, 9, 10, 11, 12, 13, 14, 15, 16, 17, 18, 19, 20, 21, 22, 23, 24, 25, 26, 27, 28, 29, 30, 31, 32, 33, 34, 35, 36, 37, 38, 39, 40, 41, 42, 43, 44, 45, 46, 47, 48, 49, 50, 51, 52, 53, 54, 55, 56, 57, 58, 59, 60, 61, 62, 63, 64, 65, 66, 67, 68, 69, 70, 71, 72, 73, 74, 75, 76, 77, 78, 79, 80, 81, 82, 83, 84, 85, 86, 87, 88, 89, 90, 91, 92, 93, 94, 95, 96, 97, 98, 99], \"y\": [-0.38885819895232676, -0.9717472290895455, -0.9139514439533044, -0.12082311181586085, 0.3330149406569263, -0.9799049992518911, -1.67111919752334, 0.15162770083347216, 2.1445059748730726, 0.6058900549623925, 1.0630011917635849, -0.24644562811864812, -1.5325621975142605, -0.6469666724377413, -0.9616193205511907, 0.41800907429574874, 1.0397811292984618, -0.31541696072229847, -1.4049094608966841, -0.0884161044520405, 0.21495690415865082, 0.7272029791670528, -0.36171724757592705, -1.8843190236447718, -2.601906771859556, 0.9330016216922752, -1.0913660590152312, -0.4987963991281909, 1.7963669173505645, -0.020190081183019428, -0.08012435469167206, 1.0110582736533014, -1.1176034224498308, 0.669714490474785, 1.4345482061991972, 0.9899681205051231, -1.0361872742541638, 0.9543542851066912, 0.6886393863606326, 0.19966677361934768, 0.2248252323826824, 1.266659711726156, -1.1336143637616543, -1.9569188197769551, -0.6045250312730492, 1.008230391710319, -0.7398823275817051, -1.086953738335082, 1.9542880196409105, -1.941804377383334, -1.4808022512692627, -0.14015683186366015, 0.7626198660784957, -0.27479444953159154, 0.34448358744396157, 0.20148077743096154, 0.5811986146711187, 0.19960282050885136, 0.7739569815639976, -1.1573437069405694, 0.4521186470452195, 0.11990670910695764, 1.4924315665692511, 1.4175810663481372, 0.6183128660677296, 1.6061354947982638, 1.1996224140964713, -0.20863814845378764, -0.7959340245341419, 1.6055454796693986, 0.3345272122695861, -1.3223424522812381, 0.4077645278070668, -2.063164604706958, -0.06691844889513632, 0.5828815572503655, -0.3128476641027049, -1.1638349708744584, 0.41722706491806855, -0.18316239793324637, -0.930424708885888, -1.902918235853356, 0.8041526601231147, 0.10882810639113567, 0.2644282211852591, 2.310789453105758, -0.16812597599819737, -0.558078628026835, 0.11279638166561838, -0.5792231817795479, 0.09869825075713468, 0.5882162052004194, -0.792805396195245, 1.2161537394731101, -0.31067260416757025, -0.1178432631562213, 0.025596138383547126, 1.1510116422285448, 1.1275767421761456, -0.7168911555643587]}],\n",
       "                        {\"legend\": {\"bgcolor\": \"#F5F6F9\", \"font\": {\"color\": \"#4D5663\"}}, \"paper_bgcolor\": \"#F5F6F9\", \"plot_bgcolor\": \"#F5F6F9\", \"template\": {\"data\": {\"bar\": [{\"error_x\": {\"color\": \"#2a3f5f\"}, \"error_y\": {\"color\": \"#2a3f5f\"}, \"marker\": {\"line\": {\"color\": \"#E5ECF6\", \"width\": 0.5}}, \"type\": \"bar\"}], \"barpolar\": [{\"marker\": {\"line\": {\"color\": \"#E5ECF6\", \"width\": 0.5}}, \"type\": \"barpolar\"}], \"carpet\": [{\"aaxis\": {\"endlinecolor\": \"#2a3f5f\", \"gridcolor\": \"white\", \"linecolor\": \"white\", \"minorgridcolor\": \"white\", \"startlinecolor\": \"#2a3f5f\"}, \"baxis\": {\"endlinecolor\": \"#2a3f5f\", \"gridcolor\": \"white\", \"linecolor\": \"white\", \"minorgridcolor\": \"white\", \"startlinecolor\": \"#2a3f5f\"}, \"type\": \"carpet\"}], \"choropleth\": [{\"colorbar\": {\"outlinewidth\": 0, \"ticks\": \"\"}, \"type\": \"choropleth\"}], \"contour\": [{\"colorbar\": {\"outlinewidth\": 0, \"ticks\": \"\"}, \"colorscale\": [[0.0, \"#0d0887\"], [0.1111111111111111, \"#46039f\"], [0.2222222222222222, \"#7201a8\"], [0.3333333333333333, \"#9c179e\"], [0.4444444444444444, \"#bd3786\"], [0.5555555555555556, \"#d8576b\"], [0.6666666666666666, \"#ed7953\"], [0.7777777777777778, \"#fb9f3a\"], [0.8888888888888888, \"#fdca26\"], [1.0, \"#f0f921\"]], \"type\": \"contour\"}], \"contourcarpet\": [{\"colorbar\": {\"outlinewidth\": 0, \"ticks\": \"\"}, \"type\": \"contourcarpet\"}], \"heatmap\": [{\"colorbar\": {\"outlinewidth\": 0, \"ticks\": \"\"}, \"colorscale\": [[0.0, \"#0d0887\"], [0.1111111111111111, \"#46039f\"], [0.2222222222222222, \"#7201a8\"], [0.3333333333333333, \"#9c179e\"], [0.4444444444444444, \"#bd3786\"], [0.5555555555555556, \"#d8576b\"], [0.6666666666666666, \"#ed7953\"], [0.7777777777777778, \"#fb9f3a\"], [0.8888888888888888, \"#fdca26\"], [1.0, \"#f0f921\"]], \"type\": \"heatmap\"}], \"heatmapgl\": [{\"colorbar\": {\"outlinewidth\": 0, \"ticks\": \"\"}, \"colorscale\": [[0.0, \"#0d0887\"], [0.1111111111111111, \"#46039f\"], [0.2222222222222222, \"#7201a8\"], [0.3333333333333333, \"#9c179e\"], [0.4444444444444444, \"#bd3786\"], [0.5555555555555556, \"#d8576b\"], [0.6666666666666666, \"#ed7953\"], [0.7777777777777778, \"#fb9f3a\"], [0.8888888888888888, \"#fdca26\"], [1.0, \"#f0f921\"]], \"type\": \"heatmapgl\"}], \"histogram\": [{\"marker\": {\"colorbar\": {\"outlinewidth\": 0, \"ticks\": \"\"}}, \"type\": \"histogram\"}], \"histogram2d\": [{\"colorbar\": {\"outlinewidth\": 0, \"ticks\": \"\"}, \"colorscale\": [[0.0, \"#0d0887\"], [0.1111111111111111, \"#46039f\"], [0.2222222222222222, \"#7201a8\"], [0.3333333333333333, \"#9c179e\"], [0.4444444444444444, \"#bd3786\"], [0.5555555555555556, \"#d8576b\"], [0.6666666666666666, \"#ed7953\"], [0.7777777777777778, \"#fb9f3a\"], [0.8888888888888888, \"#fdca26\"], [1.0, \"#f0f921\"]], \"type\": \"histogram2d\"}], \"histogram2dcontour\": [{\"colorbar\": {\"outlinewidth\": 0, \"ticks\": \"\"}, \"colorscale\": [[0.0, \"#0d0887\"], [0.1111111111111111, \"#46039f\"], [0.2222222222222222, \"#7201a8\"], [0.3333333333333333, \"#9c179e\"], [0.4444444444444444, \"#bd3786\"], [0.5555555555555556, \"#d8576b\"], [0.6666666666666666, \"#ed7953\"], [0.7777777777777778, \"#fb9f3a\"], [0.8888888888888888, \"#fdca26\"], [1.0, \"#f0f921\"]], \"type\": \"histogram2dcontour\"}], \"mesh3d\": [{\"colorbar\": {\"outlinewidth\": 0, \"ticks\": \"\"}, \"type\": \"mesh3d\"}], \"parcoords\": [{\"line\": {\"colorbar\": {\"outlinewidth\": 0, \"ticks\": \"\"}}, \"type\": \"parcoords\"}], \"pie\": [{\"automargin\": true, \"type\": \"pie\"}], \"scatter\": [{\"marker\": {\"colorbar\": {\"outlinewidth\": 0, \"ticks\": \"\"}}, \"type\": \"scatter\"}], \"scatter3d\": [{\"line\": {\"colorbar\": {\"outlinewidth\": 0, \"ticks\": \"\"}}, \"marker\": {\"colorbar\": {\"outlinewidth\": 0, \"ticks\": \"\"}}, \"type\": \"scatter3d\"}], \"scattercarpet\": [{\"marker\": {\"colorbar\": {\"outlinewidth\": 0, \"ticks\": \"\"}}, \"type\": \"scattercarpet\"}], \"scattergeo\": [{\"marker\": {\"colorbar\": {\"outlinewidth\": 0, \"ticks\": \"\"}}, \"type\": \"scattergeo\"}], \"scattergl\": [{\"marker\": {\"colorbar\": {\"outlinewidth\": 0, \"ticks\": \"\"}}, \"type\": \"scattergl\"}], \"scattermapbox\": [{\"marker\": {\"colorbar\": {\"outlinewidth\": 0, \"ticks\": \"\"}}, \"type\": \"scattermapbox\"}], \"scatterpolar\": [{\"marker\": {\"colorbar\": {\"outlinewidth\": 0, \"ticks\": \"\"}}, \"type\": \"scatterpolar\"}], \"scatterpolargl\": [{\"marker\": {\"colorbar\": {\"outlinewidth\": 0, \"ticks\": \"\"}}, \"type\": \"scatterpolargl\"}], \"scatterternary\": [{\"marker\": {\"colorbar\": {\"outlinewidth\": 0, \"ticks\": \"\"}}, \"type\": \"scatterternary\"}], \"surface\": [{\"colorbar\": {\"outlinewidth\": 0, \"ticks\": \"\"}, \"colorscale\": [[0.0, \"#0d0887\"], [0.1111111111111111, \"#46039f\"], [0.2222222222222222, \"#7201a8\"], [0.3333333333333333, \"#9c179e\"], [0.4444444444444444, \"#bd3786\"], [0.5555555555555556, \"#d8576b\"], [0.6666666666666666, \"#ed7953\"], [0.7777777777777778, \"#fb9f3a\"], [0.8888888888888888, \"#fdca26\"], [1.0, \"#f0f921\"]], \"type\": \"surface\"}], \"table\": [{\"cells\": {\"fill\": {\"color\": \"#EBF0F8\"}, \"line\": {\"color\": \"white\"}}, \"header\": {\"fill\": {\"color\": \"#C8D4E3\"}, \"line\": {\"color\": \"white\"}}, \"type\": \"table\"}]}, \"layout\": {\"annotationdefaults\": {\"arrowcolor\": \"#2a3f5f\", \"arrowhead\": 0, \"arrowwidth\": 1}, \"coloraxis\": {\"colorbar\": {\"outlinewidth\": 0, \"ticks\": \"\"}}, \"colorscale\": {\"diverging\": [[0, \"#8e0152\"], [0.1, \"#c51b7d\"], [0.2, \"#de77ae\"], [0.3, \"#f1b6da\"], [0.4, \"#fde0ef\"], [0.5, \"#f7f7f7\"], [0.6, \"#e6f5d0\"], [0.7, \"#b8e186\"], [0.8, \"#7fbc41\"], [0.9, \"#4d9221\"], [1, \"#276419\"]], \"sequential\": [[0.0, \"#0d0887\"], [0.1111111111111111, \"#46039f\"], [0.2222222222222222, \"#7201a8\"], [0.3333333333333333, \"#9c179e\"], [0.4444444444444444, \"#bd3786\"], [0.5555555555555556, \"#d8576b\"], [0.6666666666666666, \"#ed7953\"], [0.7777777777777778, \"#fb9f3a\"], [0.8888888888888888, \"#fdca26\"], [1.0, \"#f0f921\"]], \"sequentialminus\": [[0.0, \"#0d0887\"], [0.1111111111111111, \"#46039f\"], [0.2222222222222222, \"#7201a8\"], [0.3333333333333333, \"#9c179e\"], [0.4444444444444444, \"#bd3786\"], [0.5555555555555556, \"#d8576b\"], [0.6666666666666666, \"#ed7953\"], [0.7777777777777778, \"#fb9f3a\"], [0.8888888888888888, \"#fdca26\"], [1.0, \"#f0f921\"]]}, \"colorway\": [\"#636efa\", \"#EF553B\", \"#00cc96\", \"#ab63fa\", \"#FFA15A\", \"#19d3f3\", \"#FF6692\", \"#B6E880\", \"#FF97FF\", \"#FECB52\"], \"font\": {\"color\": \"#2a3f5f\"}, \"geo\": {\"bgcolor\": \"white\", \"lakecolor\": \"white\", \"landcolor\": \"#E5ECF6\", \"showlakes\": true, \"showland\": true, \"subunitcolor\": \"white\"}, \"hoverlabel\": {\"align\": \"left\"}, \"hovermode\": \"closest\", \"mapbox\": {\"style\": \"light\"}, \"paper_bgcolor\": \"white\", \"plot_bgcolor\": \"#E5ECF6\", \"polar\": {\"angularaxis\": {\"gridcolor\": \"white\", \"linecolor\": \"white\", \"ticks\": \"\"}, \"bgcolor\": \"#E5ECF6\", \"radialaxis\": {\"gridcolor\": \"white\", \"linecolor\": \"white\", \"ticks\": \"\"}}, \"scene\": {\"xaxis\": {\"backgroundcolor\": \"#E5ECF6\", \"gridcolor\": \"white\", \"gridwidth\": 2, \"linecolor\": \"white\", \"showbackground\": true, \"ticks\": \"\", \"zerolinecolor\": \"white\"}, \"yaxis\": {\"backgroundcolor\": \"#E5ECF6\", \"gridcolor\": \"white\", \"gridwidth\": 2, \"linecolor\": \"white\", \"showbackground\": true, \"ticks\": \"\", \"zerolinecolor\": \"white\"}, \"zaxis\": {\"backgroundcolor\": \"#E5ECF6\", \"gridcolor\": \"white\", \"gridwidth\": 2, \"linecolor\": \"white\", \"showbackground\": true, \"ticks\": \"\", \"zerolinecolor\": \"white\"}}, \"shapedefaults\": {\"line\": {\"color\": \"#2a3f5f\"}}, \"ternary\": {\"aaxis\": {\"gridcolor\": \"white\", \"linecolor\": \"white\", \"ticks\": \"\"}, \"baxis\": {\"gridcolor\": \"white\", \"linecolor\": \"white\", \"ticks\": \"\"}, \"bgcolor\": \"#E5ECF6\", \"caxis\": {\"gridcolor\": \"white\", \"linecolor\": \"white\", \"ticks\": \"\"}}, \"title\": {\"x\": 0.05}, \"xaxis\": {\"automargin\": true, \"gridcolor\": \"white\", \"linecolor\": \"white\", \"ticks\": \"\", \"title\": {\"standoff\": 15}, \"zerolinecolor\": \"white\", \"zerolinewidth\": 2}, \"yaxis\": {\"automargin\": true, \"gridcolor\": \"white\", \"linecolor\": \"white\", \"ticks\": \"\", \"title\": {\"standoff\": 15}, \"zerolinecolor\": \"white\", \"zerolinewidth\": 2}}}, \"title\": {\"font\": {\"color\": \"#4D5663\"}}, \"xaxis\": {\"gridcolor\": \"#E1E5ED\", \"showgrid\": true, \"tickfont\": {\"color\": \"#4D5663\"}, \"title\": {\"font\": {\"color\": \"#4D5663\"}, \"text\": \"\"}, \"zerolinecolor\": \"#E1E5ED\"}, \"yaxis\": {\"gridcolor\": \"#E1E5ED\", \"showgrid\": true, \"tickfont\": {\"color\": \"#4D5663\"}, \"title\": {\"font\": {\"color\": \"#4D5663\"}, \"text\": \"\"}, \"zerolinecolor\": \"#E1E5ED\"}},\n",
       "                        {\"showLink\": true, \"linkText\": \"Export to plot.ly\", \"plotlyServerURL\": \"https://plot.ly\", \"responsive\": true}\n",
       "                    ).then(function(){\n",
       "                            \n",
       "var gd = document.getElementById('d83c126a-8c77-4d5b-83b0-70bae726ed98');\n",
       "var x = new MutationObserver(function (mutations, observer) {{\n",
       "        var display = window.getComputedStyle(gd).display;\n",
       "        if (!display || display === 'none') {{\n",
       "            console.log([gd, 'removed!']);\n",
       "            Plotly.purge(gd);\n",
       "            observer.disconnect();\n",
       "        }}\n",
       "}});\n",
       "\n",
       "// Listen for the removal of the full notebook cells\n",
       "var notebookContainer = gd.closest('#notebook-container');\n",
       "if (notebookContainer) {{\n",
       "    x.observe(notebookContainer, {childList: true});\n",
       "}}\n",
       "\n",
       "// Listen for the clearing of the current output cell\n",
       "var outputEl = gd.closest('.output');\n",
       "if (outputEl) {{\n",
       "    x.observe(outputEl, {childList: true});\n",
       "}}\n",
       "\n",
       "                        })\n",
       "                };\n",
       "                });\n",
       "            </script>\n",
       "        </div>"
      ]
     },
     "metadata": {},
     "output_type": "display_data"
    }
   ],
   "source": [
    "# Standard line plot\n",
    "df.iplot()"
   ]
  },
  {
   "cell_type": "code",
   "execution_count": 45,
   "metadata": {},
   "outputs": [
    {
     "data": {
      "application/vnd.plotly.v1+json": {
       "config": {
        "linkText": "Export to plot.ly",
        "plotlyServerURL": "https://plot.ly",
        "showLink": true
       },
       "data": [
        {
         "line": {
          "color": "rgba(255, 153, 51, 1.0)",
          "dash": "solid",
          "shape": "linear",
          "width": 1.3
         },
         "marker": {
          "size": 12,
          "symbol": "circle"
         },
         "mode": "markers",
         "name": "B",
         "text": "",
         "type": "scatter",
         "x": [
          2.4749962936946055,
          -0.9007990275507158,
          -0.9805747297855275,
          0.8591241423923144,
          -0.23513612993279762,
          -1.4871885942258938,
          0.1509626101323387,
          0.3710990855337078,
          -0.0783348441645605,
          2.26380966222816,
          0.208228005383773,
          0.3526292310156882,
          1.1125779531924598,
          -0.9777079006710802,
          1.2013899556079988,
          0.07237738940168735,
          -1.3345991474970709,
          -2.017283621905848,
          -0.6549271175784173,
          -1.8897303970589032,
          -0.05019611399214896,
          0.2680783170338222,
          0.8959378751017952,
          1.9759406303102243,
          0.6701199636150814,
          0.9306138813501291,
          -2.581350212978,
          1.2019358187360194,
          0.5962268260509613,
          0.043399436853583974,
          -0.7034736013426729,
          -0.5870817705680396,
          0.26132864277511264,
          1.0026011168534013,
          0.5024826385176249,
          -1.3709098720171886,
          1.6010990955566187,
          -1.1866188378116598,
          -0.0851183518897504,
          2.6578337032405006,
          1.6498431342132363,
          0.01577419471099402,
          0.18660345295126896,
          -1.6380810984694385,
          -0.6920612579214326,
          -0.5481117511795,
          -0.8393828604315164,
          0.6545901837953004,
          0.6793888900506158,
          0.5868162253947056,
          0.7373061487047904,
          0.4104583260324701,
          1.512028590184469,
          2.234848174397926,
          -1.206697874221941,
          1.5386372375224369,
          0.4589019331759673,
          -0.2677178684218074,
          -0.5165748852689157,
          2.097914912767957,
          1.1046891478459746,
          -1.0127769075344921,
          -0.9275024218807334,
          0.46254807937094916,
          -2.581572057555803,
          -0.5177589481227729,
          0.4316554621434871,
          0.6954811231387482,
          0.0300098483416636,
          0.6539900009746611,
          -0.4449879580630433,
          -0.999503090467957,
          1.0362026545443144,
          0.9136741620871076,
          -0.5439968151535551,
          -0.8107903439717139,
          -1.9019102452016945,
          0.7119532518308098,
          -0.5667692810338499,
          1.0639290359748934,
          -0.6453104900764639,
          0.26835233269243897,
          -0.7968176977559296,
          -0.7527220997163271,
          -1.5516630981944994,
          0.5303143093757477,
          1.0840453642416785,
          1.4896418973352272,
          1.2220370054697876,
          -0.16792657416935036,
          -0.2308432545947218,
          -0.29786350107739773,
          0.12177245408476088,
          1.3631037691423746,
          0.6384473313553243,
          -0.7283898466255497,
          0.2516740646126679,
          -0.8870567793418102,
          0.5163456231504208,
          1.1852874008722312
         ],
         "y": [
          0.3134686022095278,
          0.9167330694085948,
          1.8358559878457181,
          0.2834426630393991,
          0.22899753551591995,
          1.2214721753208433,
          0.2910640003360314,
          0.44389793149791734,
          1.2162009677053427,
          -0.9619002047119665,
          -1.2784583359551878,
          -0.37144603885723965,
          0.8800661016792073,
          -0.6763563018495778,
          -2.2277493627980003,
          0.6930676738162171,
          -1.1683340478867852,
          -0.15790090640505508,
          -0.6826931554912031,
          0.05049038923586889,
          0.4869377860093024,
          -0.8835410697700743,
          0.24868435409408757,
          -1.056969392655306,
          0.6233496437331075,
          0.9046922325586537,
          0.2818495405726576,
          0.14967640219134654,
          -0.6091488927991449,
          0.2123086378874707,
          0.45743817850369867,
          -0.9658200412921484,
          -0.00865557348175014,
          0.4291721685534401,
          -0.22006799285765793,
          2.488597634675389,
          -0.6061303020257509,
          1.6102658234045657,
          -1.000863701554238,
          -0.534256527143899,
          -0.4621570121146412,
          -1.9759816278599311,
          -0.7760690578252674,
          -0.18467394830622197,
          -1.1458391575252205,
          1.7555670562803594,
          -0.26250474351571285,
          0.5464460246470153,
          0.30987674584616987,
          0.3520151819035632,
          0.9958399353993154,
          -0.5214726384988668,
          0.07222055358695231,
          0.46791079579358846,
          -0.33047997165882564,
          0.9192388020854462,
          -0.3256795536945822,
          -1.8653337188608055,
          0.5962235529452432,
          -0.4240408936804001,
          1.8384924861277794,
          -1.1038965745155283,
          -0.8519275517835061,
          0.7141618825240307,
          0.8285710482210474,
          -0.42276652716172586,
          -1.1587737795342765,
          0.9809709177500708,
          -0.12667495781204194,
          -2.5319609816814572,
          1.432198698417712,
          -1.0622603426980124,
          -0.6234638991651306,
          -1.2776077551390106,
          0.028895853903978024,
          1.644544932190103,
          -0.6163351737696124,
          -0.041946278013372994,
          1.07876840216128,
          0.4241597671285785,
          -2.2076469021892127,
          -0.6868007293609565,
          -0.7430886502094988,
          -0.33242320190080693,
          -0.7943984962651276,
          -2.4226861547474168,
          1.5447323436514886,
          -0.5894859162554954,
          -0.5022088401908156,
          -1.5308674143676129,
          -1.1681670620058908,
          1.3748345847740826,
          0.28388738456361123,
          -0.37374003079645696,
          2.9489109452284934,
          0.38147384481885627,
          -0.6351765194539595,
          0.08824145484231279,
          -0.811892307602746,
          -1.742992613677244
         ]
        }
       ],
       "layout": {
        "legend": {
         "bgcolor": "#F5F6F9",
         "font": {
          "color": "#4D5663"
         }
        },
        "paper_bgcolor": "#F5F6F9",
        "plot_bgcolor": "#F5F6F9",
        "template": {
         "data": {
          "bar": [
           {
            "error_x": {
             "color": "#2a3f5f"
            },
            "error_y": {
             "color": "#2a3f5f"
            },
            "marker": {
             "line": {
              "color": "#E5ECF6",
              "width": 0.5
             }
            },
            "type": "bar"
           }
          ],
          "barpolar": [
           {
            "marker": {
             "line": {
              "color": "#E5ECF6",
              "width": 0.5
             }
            },
            "type": "barpolar"
           }
          ],
          "carpet": [
           {
            "aaxis": {
             "endlinecolor": "#2a3f5f",
             "gridcolor": "white",
             "linecolor": "white",
             "minorgridcolor": "white",
             "startlinecolor": "#2a3f5f"
            },
            "baxis": {
             "endlinecolor": "#2a3f5f",
             "gridcolor": "white",
             "linecolor": "white",
             "minorgridcolor": "white",
             "startlinecolor": "#2a3f5f"
            },
            "type": "carpet"
           }
          ],
          "choropleth": [
           {
            "colorbar": {
             "outlinewidth": 0,
             "ticks": ""
            },
            "type": "choropleth"
           }
          ],
          "contour": [
           {
            "colorbar": {
             "outlinewidth": 0,
             "ticks": ""
            },
            "colorscale": [
             [
              0,
              "#0d0887"
             ],
             [
              0.1111111111111111,
              "#46039f"
             ],
             [
              0.2222222222222222,
              "#7201a8"
             ],
             [
              0.3333333333333333,
              "#9c179e"
             ],
             [
              0.4444444444444444,
              "#bd3786"
             ],
             [
              0.5555555555555556,
              "#d8576b"
             ],
             [
              0.6666666666666666,
              "#ed7953"
             ],
             [
              0.7777777777777778,
              "#fb9f3a"
             ],
             [
              0.8888888888888888,
              "#fdca26"
             ],
             [
              1,
              "#f0f921"
             ]
            ],
            "type": "contour"
           }
          ],
          "contourcarpet": [
           {
            "colorbar": {
             "outlinewidth": 0,
             "ticks": ""
            },
            "type": "contourcarpet"
           }
          ],
          "heatmap": [
           {
            "colorbar": {
             "outlinewidth": 0,
             "ticks": ""
            },
            "colorscale": [
             [
              0,
              "#0d0887"
             ],
             [
              0.1111111111111111,
              "#46039f"
             ],
             [
              0.2222222222222222,
              "#7201a8"
             ],
             [
              0.3333333333333333,
              "#9c179e"
             ],
             [
              0.4444444444444444,
              "#bd3786"
             ],
             [
              0.5555555555555556,
              "#d8576b"
             ],
             [
              0.6666666666666666,
              "#ed7953"
             ],
             [
              0.7777777777777778,
              "#fb9f3a"
             ],
             [
              0.8888888888888888,
              "#fdca26"
             ],
             [
              1,
              "#f0f921"
             ]
            ],
            "type": "heatmap"
           }
          ],
          "heatmapgl": [
           {
            "colorbar": {
             "outlinewidth": 0,
             "ticks": ""
            },
            "colorscale": [
             [
              0,
              "#0d0887"
             ],
             [
              0.1111111111111111,
              "#46039f"
             ],
             [
              0.2222222222222222,
              "#7201a8"
             ],
             [
              0.3333333333333333,
              "#9c179e"
             ],
             [
              0.4444444444444444,
              "#bd3786"
             ],
             [
              0.5555555555555556,
              "#d8576b"
             ],
             [
              0.6666666666666666,
              "#ed7953"
             ],
             [
              0.7777777777777778,
              "#fb9f3a"
             ],
             [
              0.8888888888888888,
              "#fdca26"
             ],
             [
              1,
              "#f0f921"
             ]
            ],
            "type": "heatmapgl"
           }
          ],
          "histogram": [
           {
            "marker": {
             "colorbar": {
              "outlinewidth": 0,
              "ticks": ""
             }
            },
            "type": "histogram"
           }
          ],
          "histogram2d": [
           {
            "colorbar": {
             "outlinewidth": 0,
             "ticks": ""
            },
            "colorscale": [
             [
              0,
              "#0d0887"
             ],
             [
              0.1111111111111111,
              "#46039f"
             ],
             [
              0.2222222222222222,
              "#7201a8"
             ],
             [
              0.3333333333333333,
              "#9c179e"
             ],
             [
              0.4444444444444444,
              "#bd3786"
             ],
             [
              0.5555555555555556,
              "#d8576b"
             ],
             [
              0.6666666666666666,
              "#ed7953"
             ],
             [
              0.7777777777777778,
              "#fb9f3a"
             ],
             [
              0.8888888888888888,
              "#fdca26"
             ],
             [
              1,
              "#f0f921"
             ]
            ],
            "type": "histogram2d"
           }
          ],
          "histogram2dcontour": [
           {
            "colorbar": {
             "outlinewidth": 0,
             "ticks": ""
            },
            "colorscale": [
             [
              0,
              "#0d0887"
             ],
             [
              0.1111111111111111,
              "#46039f"
             ],
             [
              0.2222222222222222,
              "#7201a8"
             ],
             [
              0.3333333333333333,
              "#9c179e"
             ],
             [
              0.4444444444444444,
              "#bd3786"
             ],
             [
              0.5555555555555556,
              "#d8576b"
             ],
             [
              0.6666666666666666,
              "#ed7953"
             ],
             [
              0.7777777777777778,
              "#fb9f3a"
             ],
             [
              0.8888888888888888,
              "#fdca26"
             ],
             [
              1,
              "#f0f921"
             ]
            ],
            "type": "histogram2dcontour"
           }
          ],
          "mesh3d": [
           {
            "colorbar": {
             "outlinewidth": 0,
             "ticks": ""
            },
            "type": "mesh3d"
           }
          ],
          "parcoords": [
           {
            "line": {
             "colorbar": {
              "outlinewidth": 0,
              "ticks": ""
             }
            },
            "type": "parcoords"
           }
          ],
          "pie": [
           {
            "automargin": true,
            "type": "pie"
           }
          ],
          "scatter": [
           {
            "marker": {
             "colorbar": {
              "outlinewidth": 0,
              "ticks": ""
             }
            },
            "type": "scatter"
           }
          ],
          "scatter3d": [
           {
            "line": {
             "colorbar": {
              "outlinewidth": 0,
              "ticks": ""
             }
            },
            "marker": {
             "colorbar": {
              "outlinewidth": 0,
              "ticks": ""
             }
            },
            "type": "scatter3d"
           }
          ],
          "scattercarpet": [
           {
            "marker": {
             "colorbar": {
              "outlinewidth": 0,
              "ticks": ""
             }
            },
            "type": "scattercarpet"
           }
          ],
          "scattergeo": [
           {
            "marker": {
             "colorbar": {
              "outlinewidth": 0,
              "ticks": ""
             }
            },
            "type": "scattergeo"
           }
          ],
          "scattergl": [
           {
            "marker": {
             "colorbar": {
              "outlinewidth": 0,
              "ticks": ""
             }
            },
            "type": "scattergl"
           }
          ],
          "scattermapbox": [
           {
            "marker": {
             "colorbar": {
              "outlinewidth": 0,
              "ticks": ""
             }
            },
            "type": "scattermapbox"
           }
          ],
          "scatterpolar": [
           {
            "marker": {
             "colorbar": {
              "outlinewidth": 0,
              "ticks": ""
             }
            },
            "type": "scatterpolar"
           }
          ],
          "scatterpolargl": [
           {
            "marker": {
             "colorbar": {
              "outlinewidth": 0,
              "ticks": ""
             }
            },
            "type": "scatterpolargl"
           }
          ],
          "scatterternary": [
           {
            "marker": {
             "colorbar": {
              "outlinewidth": 0,
              "ticks": ""
             }
            },
            "type": "scatterternary"
           }
          ],
          "surface": [
           {
            "colorbar": {
             "outlinewidth": 0,
             "ticks": ""
            },
            "colorscale": [
             [
              0,
              "#0d0887"
             ],
             [
              0.1111111111111111,
              "#46039f"
             ],
             [
              0.2222222222222222,
              "#7201a8"
             ],
             [
              0.3333333333333333,
              "#9c179e"
             ],
             [
              0.4444444444444444,
              "#bd3786"
             ],
             [
              0.5555555555555556,
              "#d8576b"
             ],
             [
              0.6666666666666666,
              "#ed7953"
             ],
             [
              0.7777777777777778,
              "#fb9f3a"
             ],
             [
              0.8888888888888888,
              "#fdca26"
             ],
             [
              1,
              "#f0f921"
             ]
            ],
            "type": "surface"
           }
          ],
          "table": [
           {
            "cells": {
             "fill": {
              "color": "#EBF0F8"
             },
             "line": {
              "color": "white"
             }
            },
            "header": {
             "fill": {
              "color": "#C8D4E3"
             },
             "line": {
              "color": "white"
             }
            },
            "type": "table"
           }
          ]
         },
         "layout": {
          "annotationdefaults": {
           "arrowcolor": "#2a3f5f",
           "arrowhead": 0,
           "arrowwidth": 1
          },
          "coloraxis": {
           "colorbar": {
            "outlinewidth": 0,
            "ticks": ""
           }
          },
          "colorscale": {
           "diverging": [
            [
             0,
             "#8e0152"
            ],
            [
             0.1,
             "#c51b7d"
            ],
            [
             0.2,
             "#de77ae"
            ],
            [
             0.3,
             "#f1b6da"
            ],
            [
             0.4,
             "#fde0ef"
            ],
            [
             0.5,
             "#f7f7f7"
            ],
            [
             0.6,
             "#e6f5d0"
            ],
            [
             0.7,
             "#b8e186"
            ],
            [
             0.8,
             "#7fbc41"
            ],
            [
             0.9,
             "#4d9221"
            ],
            [
             1,
             "#276419"
            ]
           ],
           "sequential": [
            [
             0,
             "#0d0887"
            ],
            [
             0.1111111111111111,
             "#46039f"
            ],
            [
             0.2222222222222222,
             "#7201a8"
            ],
            [
             0.3333333333333333,
             "#9c179e"
            ],
            [
             0.4444444444444444,
             "#bd3786"
            ],
            [
             0.5555555555555556,
             "#d8576b"
            ],
            [
             0.6666666666666666,
             "#ed7953"
            ],
            [
             0.7777777777777778,
             "#fb9f3a"
            ],
            [
             0.8888888888888888,
             "#fdca26"
            ],
            [
             1,
             "#f0f921"
            ]
           ],
           "sequentialminus": [
            [
             0,
             "#0d0887"
            ],
            [
             0.1111111111111111,
             "#46039f"
            ],
            [
             0.2222222222222222,
             "#7201a8"
            ],
            [
             0.3333333333333333,
             "#9c179e"
            ],
            [
             0.4444444444444444,
             "#bd3786"
            ],
            [
             0.5555555555555556,
             "#d8576b"
            ],
            [
             0.6666666666666666,
             "#ed7953"
            ],
            [
             0.7777777777777778,
             "#fb9f3a"
            ],
            [
             0.8888888888888888,
             "#fdca26"
            ],
            [
             1,
             "#f0f921"
            ]
           ]
          },
          "colorway": [
           "#636efa",
           "#EF553B",
           "#00cc96",
           "#ab63fa",
           "#FFA15A",
           "#19d3f3",
           "#FF6692",
           "#B6E880",
           "#FF97FF",
           "#FECB52"
          ],
          "font": {
           "color": "#2a3f5f"
          },
          "geo": {
           "bgcolor": "white",
           "lakecolor": "white",
           "landcolor": "#E5ECF6",
           "showlakes": true,
           "showland": true,
           "subunitcolor": "white"
          },
          "hoverlabel": {
           "align": "left"
          },
          "hovermode": "closest",
          "mapbox": {
           "style": "light"
          },
          "paper_bgcolor": "white",
          "plot_bgcolor": "#E5ECF6",
          "polar": {
           "angularaxis": {
            "gridcolor": "white",
            "linecolor": "white",
            "ticks": ""
           },
           "bgcolor": "#E5ECF6",
           "radialaxis": {
            "gridcolor": "white",
            "linecolor": "white",
            "ticks": ""
           }
          },
          "scene": {
           "xaxis": {
            "backgroundcolor": "#E5ECF6",
            "gridcolor": "white",
            "gridwidth": 2,
            "linecolor": "white",
            "showbackground": true,
            "ticks": "",
            "zerolinecolor": "white"
           },
           "yaxis": {
            "backgroundcolor": "#E5ECF6",
            "gridcolor": "white",
            "gridwidth": 2,
            "linecolor": "white",
            "showbackground": true,
            "ticks": "",
            "zerolinecolor": "white"
           },
           "zaxis": {
            "backgroundcolor": "#E5ECF6",
            "gridcolor": "white",
            "gridwidth": 2,
            "linecolor": "white",
            "showbackground": true,
            "ticks": "",
            "zerolinecolor": "white"
           }
          },
          "shapedefaults": {
           "line": {
            "color": "#2a3f5f"
           }
          },
          "ternary": {
           "aaxis": {
            "gridcolor": "white",
            "linecolor": "white",
            "ticks": ""
           },
           "baxis": {
            "gridcolor": "white",
            "linecolor": "white",
            "ticks": ""
           },
           "bgcolor": "#E5ECF6",
           "caxis": {
            "gridcolor": "white",
            "linecolor": "white",
            "ticks": ""
           }
          },
          "title": {
           "x": 0.05
          },
          "xaxis": {
           "automargin": true,
           "gridcolor": "white",
           "linecolor": "white",
           "ticks": "",
           "title": {
            "standoff": 15
           },
           "zerolinecolor": "white",
           "zerolinewidth": 2
          },
          "yaxis": {
           "automargin": true,
           "gridcolor": "white",
           "linecolor": "white",
           "ticks": "",
           "title": {
            "standoff": 15
           },
           "zerolinecolor": "white",
           "zerolinewidth": 2
          }
         }
        },
        "title": {
         "font": {
          "color": "#4D5663"
         }
        },
        "xaxis": {
         "gridcolor": "#E1E5ED",
         "showgrid": true,
         "tickfont": {
          "color": "#4D5663"
         },
         "title": {
          "font": {
           "color": "#4D5663"
          },
          "text": ""
         },
         "zerolinecolor": "#E1E5ED"
        },
        "yaxis": {
         "gridcolor": "#E1E5ED",
         "showgrid": true,
         "tickfont": {
          "color": "#4D5663"
         },
         "title": {
          "font": {
           "color": "#4D5663"
          },
          "text": ""
         },
         "zerolinecolor": "#E1E5ED"
        }
       }
      },
      "text/html": [
       "<div>\n",
       "        \n",
       "        \n",
       "            <div id=\"a92ffc90-e64a-4e5d-a107-411308dfc999\" class=\"plotly-graph-div\" style=\"height:525px; width:100%;\"></div>\n",
       "            <script type=\"text/javascript\">\n",
       "                require([\"plotly\"], function(Plotly) {\n",
       "                    window.PLOTLYENV=window.PLOTLYENV || {};\n",
       "                    window.PLOTLYENV.BASE_URL='https://plot.ly';\n",
       "                    \n",
       "                if (document.getElementById(\"a92ffc90-e64a-4e5d-a107-411308dfc999\")) {\n",
       "                    Plotly.newPlot(\n",
       "                        'a92ffc90-e64a-4e5d-a107-411308dfc999',\n",
       "                        [{\"line\": {\"color\": \"rgba(255, 153, 51, 1.0)\", \"dash\": \"solid\", \"shape\": \"linear\", \"width\": 1.3}, \"marker\": {\"size\": 12, \"symbol\": \"circle\"}, \"mode\": \"markers\", \"name\": \"B\", \"text\": \"\", \"type\": \"scatter\", \"x\": [2.4749962936946055, -0.9007990275507158, -0.9805747297855275, 0.8591241423923144, -0.23513612993279762, -1.4871885942258938, 0.1509626101323387, 0.3710990855337078, -0.0783348441645605, 2.26380966222816, 0.208228005383773, 0.3526292310156882, 1.1125779531924598, -0.9777079006710802, 1.2013899556079988, 0.07237738940168735, -1.3345991474970709, -2.017283621905848, -0.6549271175784173, -1.8897303970589032, -0.05019611399214896, 0.2680783170338222, 0.8959378751017952, 1.9759406303102243, 0.6701199636150814, 0.9306138813501291, -2.581350212978, 1.2019358187360194, 0.5962268260509613, 0.043399436853583974, -0.7034736013426729, -0.5870817705680396, 0.26132864277511264, 1.0026011168534013, 0.5024826385176249, -1.3709098720171886, 1.6010990955566187, -1.1866188378116598, -0.0851183518897504, 2.6578337032405006, 1.6498431342132363, 0.01577419471099402, 0.18660345295126896, -1.6380810984694385, -0.6920612579214326, -0.5481117511795, -0.8393828604315164, 0.6545901837953004, 0.6793888900506158, 0.5868162253947056, 0.7373061487047904, 0.4104583260324701, 1.512028590184469, 2.234848174397926, -1.206697874221941, 1.5386372375224369, 0.4589019331759673, -0.2677178684218074, -0.5165748852689157, 2.097914912767957, 1.1046891478459746, -1.0127769075344921, -0.9275024218807334, 0.46254807937094916, -2.581572057555803, -0.5177589481227729, 0.4316554621434871, 0.6954811231387482, 0.0300098483416636, 0.6539900009746611, -0.4449879580630433, -0.999503090467957, 1.0362026545443144, 0.9136741620871076, -0.5439968151535551, -0.8107903439717139, -1.9019102452016945, 0.7119532518308098, -0.5667692810338499, 1.0639290359748934, -0.6453104900764639, 0.26835233269243897, -0.7968176977559296, -0.7527220997163271, -1.5516630981944994, 0.5303143093757477, 1.0840453642416785, 1.4896418973352272, 1.2220370054697876, -0.16792657416935036, -0.2308432545947218, -0.29786350107739773, 0.12177245408476088, 1.3631037691423746, 0.6384473313553243, -0.7283898466255497, 0.2516740646126679, -0.8870567793418102, 0.5163456231504208, 1.1852874008722312], \"y\": [0.3134686022095278, 0.9167330694085948, 1.8358559878457181, 0.2834426630393991, 0.22899753551591995, 1.2214721753208433, 0.2910640003360314, 0.44389793149791734, 1.2162009677053427, -0.9619002047119665, -1.2784583359551878, -0.37144603885723965, 0.8800661016792073, -0.6763563018495778, -2.2277493627980003, 0.6930676738162171, -1.1683340478867852, -0.15790090640505508, -0.6826931554912031, 0.05049038923586889, 0.4869377860093024, -0.8835410697700743, 0.24868435409408757, -1.056969392655306, 0.6233496437331075, 0.9046922325586537, 0.2818495405726576, 0.14967640219134654, -0.6091488927991449, 0.2123086378874707, 0.45743817850369867, -0.9658200412921484, -0.00865557348175014, 0.4291721685534401, -0.22006799285765793, 2.488597634675389, -0.6061303020257509, 1.6102658234045657, -1.000863701554238, -0.534256527143899, -0.4621570121146412, -1.9759816278599311, -0.7760690578252674, -0.18467394830622197, -1.1458391575252205, 1.7555670562803594, -0.26250474351571285, 0.5464460246470153, 0.30987674584616987, 0.3520151819035632, 0.9958399353993154, -0.5214726384988668, 0.07222055358695231, 0.46791079579358846, -0.33047997165882564, 0.9192388020854462, -0.3256795536945822, -1.8653337188608055, 0.5962235529452432, -0.4240408936804001, 1.8384924861277794, -1.1038965745155283, -0.8519275517835061, 0.7141618825240307, 0.8285710482210474, -0.42276652716172586, -1.1587737795342765, 0.9809709177500708, -0.12667495781204194, -2.5319609816814572, 1.432198698417712, -1.0622603426980124, -0.6234638991651306, -1.2776077551390106, 0.028895853903978024, 1.644544932190103, -0.6163351737696124, -0.041946278013372994, 1.07876840216128, 0.4241597671285785, -2.2076469021892127, -0.6868007293609565, -0.7430886502094988, -0.33242320190080693, -0.7943984962651276, -2.4226861547474168, 1.5447323436514886, -0.5894859162554954, -0.5022088401908156, -1.5308674143676129, -1.1681670620058908, 1.3748345847740826, 0.28388738456361123, -0.37374003079645696, 2.9489109452284934, 0.38147384481885627, -0.6351765194539595, 0.08824145484231279, -0.811892307602746, -1.742992613677244]}],\n",
       "                        {\"legend\": {\"bgcolor\": \"#F5F6F9\", \"font\": {\"color\": \"#4D5663\"}}, \"paper_bgcolor\": \"#F5F6F9\", \"plot_bgcolor\": \"#F5F6F9\", \"template\": {\"data\": {\"bar\": [{\"error_x\": {\"color\": \"#2a3f5f\"}, \"error_y\": {\"color\": \"#2a3f5f\"}, \"marker\": {\"line\": {\"color\": \"#E5ECF6\", \"width\": 0.5}}, \"type\": \"bar\"}], \"barpolar\": [{\"marker\": {\"line\": {\"color\": \"#E5ECF6\", \"width\": 0.5}}, \"type\": \"barpolar\"}], \"carpet\": [{\"aaxis\": {\"endlinecolor\": \"#2a3f5f\", \"gridcolor\": \"white\", \"linecolor\": \"white\", \"minorgridcolor\": \"white\", \"startlinecolor\": \"#2a3f5f\"}, \"baxis\": {\"endlinecolor\": \"#2a3f5f\", \"gridcolor\": \"white\", \"linecolor\": \"white\", \"minorgridcolor\": \"white\", \"startlinecolor\": \"#2a3f5f\"}, \"type\": \"carpet\"}], \"choropleth\": [{\"colorbar\": {\"outlinewidth\": 0, \"ticks\": \"\"}, \"type\": \"choropleth\"}], \"contour\": [{\"colorbar\": {\"outlinewidth\": 0, \"ticks\": \"\"}, \"colorscale\": [[0.0, \"#0d0887\"], [0.1111111111111111, \"#46039f\"], [0.2222222222222222, \"#7201a8\"], [0.3333333333333333, \"#9c179e\"], [0.4444444444444444, \"#bd3786\"], [0.5555555555555556, \"#d8576b\"], [0.6666666666666666, \"#ed7953\"], [0.7777777777777778, \"#fb9f3a\"], [0.8888888888888888, \"#fdca26\"], [1.0, \"#f0f921\"]], \"type\": \"contour\"}], \"contourcarpet\": [{\"colorbar\": {\"outlinewidth\": 0, \"ticks\": \"\"}, \"type\": \"contourcarpet\"}], \"heatmap\": [{\"colorbar\": {\"outlinewidth\": 0, \"ticks\": \"\"}, \"colorscale\": [[0.0, \"#0d0887\"], [0.1111111111111111, \"#46039f\"], [0.2222222222222222, \"#7201a8\"], [0.3333333333333333, \"#9c179e\"], [0.4444444444444444, \"#bd3786\"], [0.5555555555555556, \"#d8576b\"], [0.6666666666666666, \"#ed7953\"], [0.7777777777777778, \"#fb9f3a\"], [0.8888888888888888, \"#fdca26\"], [1.0, \"#f0f921\"]], \"type\": \"heatmap\"}], \"heatmapgl\": [{\"colorbar\": {\"outlinewidth\": 0, \"ticks\": \"\"}, \"colorscale\": [[0.0, \"#0d0887\"], [0.1111111111111111, \"#46039f\"], [0.2222222222222222, \"#7201a8\"], [0.3333333333333333, \"#9c179e\"], [0.4444444444444444, \"#bd3786\"], [0.5555555555555556, \"#d8576b\"], [0.6666666666666666, \"#ed7953\"], [0.7777777777777778, \"#fb9f3a\"], [0.8888888888888888, \"#fdca26\"], [1.0, \"#f0f921\"]], \"type\": \"heatmapgl\"}], \"histogram\": [{\"marker\": {\"colorbar\": {\"outlinewidth\": 0, \"ticks\": \"\"}}, \"type\": \"histogram\"}], \"histogram2d\": [{\"colorbar\": {\"outlinewidth\": 0, \"ticks\": \"\"}, \"colorscale\": [[0.0, \"#0d0887\"], [0.1111111111111111, \"#46039f\"], [0.2222222222222222, \"#7201a8\"], [0.3333333333333333, \"#9c179e\"], [0.4444444444444444, \"#bd3786\"], [0.5555555555555556, \"#d8576b\"], [0.6666666666666666, \"#ed7953\"], [0.7777777777777778, \"#fb9f3a\"], [0.8888888888888888, \"#fdca26\"], [1.0, \"#f0f921\"]], \"type\": \"histogram2d\"}], \"histogram2dcontour\": [{\"colorbar\": {\"outlinewidth\": 0, \"ticks\": \"\"}, \"colorscale\": [[0.0, \"#0d0887\"], [0.1111111111111111, \"#46039f\"], [0.2222222222222222, \"#7201a8\"], [0.3333333333333333, \"#9c179e\"], [0.4444444444444444, \"#bd3786\"], [0.5555555555555556, \"#d8576b\"], [0.6666666666666666, \"#ed7953\"], [0.7777777777777778, \"#fb9f3a\"], [0.8888888888888888, \"#fdca26\"], [1.0, \"#f0f921\"]], \"type\": \"histogram2dcontour\"}], \"mesh3d\": [{\"colorbar\": {\"outlinewidth\": 0, \"ticks\": \"\"}, \"type\": \"mesh3d\"}], \"parcoords\": [{\"line\": {\"colorbar\": {\"outlinewidth\": 0, \"ticks\": \"\"}}, \"type\": \"parcoords\"}], \"pie\": [{\"automargin\": true, \"type\": \"pie\"}], \"scatter\": [{\"marker\": {\"colorbar\": {\"outlinewidth\": 0, \"ticks\": \"\"}}, \"type\": \"scatter\"}], \"scatter3d\": [{\"line\": {\"colorbar\": {\"outlinewidth\": 0, \"ticks\": \"\"}}, \"marker\": {\"colorbar\": {\"outlinewidth\": 0, \"ticks\": \"\"}}, \"type\": \"scatter3d\"}], \"scattercarpet\": [{\"marker\": {\"colorbar\": {\"outlinewidth\": 0, \"ticks\": \"\"}}, \"type\": \"scattercarpet\"}], \"scattergeo\": [{\"marker\": {\"colorbar\": {\"outlinewidth\": 0, \"ticks\": \"\"}}, \"type\": \"scattergeo\"}], \"scattergl\": [{\"marker\": {\"colorbar\": {\"outlinewidth\": 0, \"ticks\": \"\"}}, \"type\": \"scattergl\"}], \"scattermapbox\": [{\"marker\": {\"colorbar\": {\"outlinewidth\": 0, \"ticks\": \"\"}}, \"type\": \"scattermapbox\"}], \"scatterpolar\": [{\"marker\": {\"colorbar\": {\"outlinewidth\": 0, \"ticks\": \"\"}}, \"type\": \"scatterpolar\"}], \"scatterpolargl\": [{\"marker\": {\"colorbar\": {\"outlinewidth\": 0, \"ticks\": \"\"}}, \"type\": \"scatterpolargl\"}], \"scatterternary\": [{\"marker\": {\"colorbar\": {\"outlinewidth\": 0, \"ticks\": \"\"}}, \"type\": \"scatterternary\"}], \"surface\": [{\"colorbar\": {\"outlinewidth\": 0, \"ticks\": \"\"}, \"colorscale\": [[0.0, \"#0d0887\"], [0.1111111111111111, \"#46039f\"], [0.2222222222222222, \"#7201a8\"], [0.3333333333333333, \"#9c179e\"], [0.4444444444444444, \"#bd3786\"], [0.5555555555555556, \"#d8576b\"], [0.6666666666666666, \"#ed7953\"], [0.7777777777777778, \"#fb9f3a\"], [0.8888888888888888, \"#fdca26\"], [1.0, \"#f0f921\"]], \"type\": \"surface\"}], \"table\": [{\"cells\": {\"fill\": {\"color\": \"#EBF0F8\"}, \"line\": {\"color\": \"white\"}}, \"header\": {\"fill\": {\"color\": \"#C8D4E3\"}, \"line\": {\"color\": \"white\"}}, \"type\": \"table\"}]}, \"layout\": {\"annotationdefaults\": {\"arrowcolor\": \"#2a3f5f\", \"arrowhead\": 0, \"arrowwidth\": 1}, \"coloraxis\": {\"colorbar\": {\"outlinewidth\": 0, \"ticks\": \"\"}}, \"colorscale\": {\"diverging\": [[0, \"#8e0152\"], [0.1, \"#c51b7d\"], [0.2, \"#de77ae\"], [0.3, \"#f1b6da\"], [0.4, \"#fde0ef\"], [0.5, \"#f7f7f7\"], [0.6, \"#e6f5d0\"], [0.7, \"#b8e186\"], [0.8, \"#7fbc41\"], [0.9, \"#4d9221\"], [1, \"#276419\"]], \"sequential\": [[0.0, \"#0d0887\"], [0.1111111111111111, \"#46039f\"], [0.2222222222222222, \"#7201a8\"], [0.3333333333333333, \"#9c179e\"], [0.4444444444444444, \"#bd3786\"], [0.5555555555555556, \"#d8576b\"], [0.6666666666666666, \"#ed7953\"], [0.7777777777777778, \"#fb9f3a\"], [0.8888888888888888, \"#fdca26\"], [1.0, \"#f0f921\"]], \"sequentialminus\": [[0.0, \"#0d0887\"], [0.1111111111111111, \"#46039f\"], [0.2222222222222222, \"#7201a8\"], [0.3333333333333333, \"#9c179e\"], [0.4444444444444444, \"#bd3786\"], [0.5555555555555556, \"#d8576b\"], [0.6666666666666666, \"#ed7953\"], [0.7777777777777778, \"#fb9f3a\"], [0.8888888888888888, \"#fdca26\"], [1.0, \"#f0f921\"]]}, \"colorway\": [\"#636efa\", \"#EF553B\", \"#00cc96\", \"#ab63fa\", \"#FFA15A\", \"#19d3f3\", \"#FF6692\", \"#B6E880\", \"#FF97FF\", \"#FECB52\"], \"font\": {\"color\": \"#2a3f5f\"}, \"geo\": {\"bgcolor\": \"white\", \"lakecolor\": \"white\", \"landcolor\": \"#E5ECF6\", \"showlakes\": true, \"showland\": true, \"subunitcolor\": \"white\"}, \"hoverlabel\": {\"align\": \"left\"}, \"hovermode\": \"closest\", \"mapbox\": {\"style\": \"light\"}, \"paper_bgcolor\": \"white\", \"plot_bgcolor\": \"#E5ECF6\", \"polar\": {\"angularaxis\": {\"gridcolor\": \"white\", \"linecolor\": \"white\", \"ticks\": \"\"}, \"bgcolor\": \"#E5ECF6\", \"radialaxis\": {\"gridcolor\": \"white\", \"linecolor\": \"white\", \"ticks\": \"\"}}, \"scene\": {\"xaxis\": {\"backgroundcolor\": \"#E5ECF6\", \"gridcolor\": \"white\", \"gridwidth\": 2, \"linecolor\": \"white\", \"showbackground\": true, \"ticks\": \"\", \"zerolinecolor\": \"white\"}, \"yaxis\": {\"backgroundcolor\": \"#E5ECF6\", \"gridcolor\": \"white\", \"gridwidth\": 2, \"linecolor\": \"white\", \"showbackground\": true, \"ticks\": \"\", \"zerolinecolor\": \"white\"}, \"zaxis\": {\"backgroundcolor\": \"#E5ECF6\", \"gridcolor\": \"white\", \"gridwidth\": 2, \"linecolor\": \"white\", \"showbackground\": true, \"ticks\": \"\", \"zerolinecolor\": \"white\"}}, \"shapedefaults\": {\"line\": {\"color\": \"#2a3f5f\"}}, \"ternary\": {\"aaxis\": {\"gridcolor\": \"white\", \"linecolor\": \"white\", \"ticks\": \"\"}, \"baxis\": {\"gridcolor\": \"white\", \"linecolor\": \"white\", \"ticks\": \"\"}, \"bgcolor\": \"#E5ECF6\", \"caxis\": {\"gridcolor\": \"white\", \"linecolor\": \"white\", \"ticks\": \"\"}}, \"title\": {\"x\": 0.05}, \"xaxis\": {\"automargin\": true, \"gridcolor\": \"white\", \"linecolor\": \"white\", \"ticks\": \"\", \"title\": {\"standoff\": 15}, \"zerolinecolor\": \"white\", \"zerolinewidth\": 2}, \"yaxis\": {\"automargin\": true, \"gridcolor\": \"white\", \"linecolor\": \"white\", \"ticks\": \"\", \"title\": {\"standoff\": 15}, \"zerolinecolor\": \"white\", \"zerolinewidth\": 2}}}, \"title\": {\"font\": {\"color\": \"#4D5663\"}}, \"xaxis\": {\"gridcolor\": \"#E1E5ED\", \"showgrid\": true, \"tickfont\": {\"color\": \"#4D5663\"}, \"title\": {\"font\": {\"color\": \"#4D5663\"}, \"text\": \"\"}, \"zerolinecolor\": \"#E1E5ED\"}, \"yaxis\": {\"gridcolor\": \"#E1E5ED\", \"showgrid\": true, \"tickfont\": {\"color\": \"#4D5663\"}, \"title\": {\"font\": {\"color\": \"#4D5663\"}, \"text\": \"\"}, \"zerolinecolor\": \"#E1E5ED\"}},\n",
       "                        {\"showLink\": true, \"linkText\": \"Export to plot.ly\", \"plotlyServerURL\": \"https://plot.ly\", \"responsive\": true}\n",
       "                    ).then(function(){\n",
       "                            \n",
       "var gd = document.getElementById('a92ffc90-e64a-4e5d-a107-411308dfc999');\n",
       "var x = new MutationObserver(function (mutations, observer) {{\n",
       "        var display = window.getComputedStyle(gd).display;\n",
       "        if (!display || display === 'none') {{\n",
       "            console.log([gd, 'removed!']);\n",
       "            Plotly.purge(gd);\n",
       "            observer.disconnect();\n",
       "        }}\n",
       "}});\n",
       "\n",
       "// Listen for the removal of the full notebook cells\n",
       "var notebookContainer = gd.closest('#notebook-container');\n",
       "if (notebookContainer) {{\n",
       "    x.observe(notebookContainer, {childList: true});\n",
       "}}\n",
       "\n",
       "// Listen for the clearing of the current output cell\n",
       "var outputEl = gd.closest('.output');\n",
       "if (outputEl) {{\n",
       "    x.observe(outputEl, {childList: true});\n",
       "}}\n",
       "\n",
       "                        })\n",
       "                };\n",
       "                });\n",
       "            </script>\n",
       "        </div>"
      ]
     },
     "metadata": {},
     "output_type": "display_data"
    }
   ],
   "source": [
    "# Scatter plot\n",
    "df.iplot(kind='scatter',x='A',y='B',mode='markers')"
   ]
  },
  {
   "cell_type": "code",
   "execution_count": 47,
   "metadata": {},
   "outputs": [
    {
     "data": {
      "application/vnd.plotly.v1+json": {
       "config": {
        "linkText": "Export to plot.ly",
        "plotlyServerURL": "https://plot.ly",
        "showLink": true
       },
       "data": [
        {
         "line": {
          "color": "rgba(255, 153, 51, 1.0)",
          "dash": "solid",
          "shape": "linear",
          "width": 1.3
         },
         "marker": {
          "size": 20,
          "symbol": "circle"
         },
         "mode": "markers",
         "name": "B",
         "text": "",
         "type": "scatter",
         "x": [
          2.4749962936946055,
          -0.9007990275507158,
          -0.9805747297855275,
          0.8591241423923144,
          -0.23513612993279762,
          -1.4871885942258938,
          0.1509626101323387,
          0.3710990855337078,
          -0.0783348441645605,
          2.26380966222816,
          0.208228005383773,
          0.3526292310156882,
          1.1125779531924598,
          -0.9777079006710802,
          1.2013899556079988,
          0.07237738940168735,
          -1.3345991474970709,
          -2.017283621905848,
          -0.6549271175784173,
          -1.8897303970589032,
          -0.05019611399214896,
          0.2680783170338222,
          0.8959378751017952,
          1.9759406303102243,
          0.6701199636150814,
          0.9306138813501291,
          -2.581350212978,
          1.2019358187360194,
          0.5962268260509613,
          0.043399436853583974,
          -0.7034736013426729,
          -0.5870817705680396,
          0.26132864277511264,
          1.0026011168534013,
          0.5024826385176249,
          -1.3709098720171886,
          1.6010990955566187,
          -1.1866188378116598,
          -0.0851183518897504,
          2.6578337032405006,
          1.6498431342132363,
          0.01577419471099402,
          0.18660345295126896,
          -1.6380810984694385,
          -0.6920612579214326,
          -0.5481117511795,
          -0.8393828604315164,
          0.6545901837953004,
          0.6793888900506158,
          0.5868162253947056,
          0.7373061487047904,
          0.4104583260324701,
          1.512028590184469,
          2.234848174397926,
          -1.206697874221941,
          1.5386372375224369,
          0.4589019331759673,
          -0.2677178684218074,
          -0.5165748852689157,
          2.097914912767957,
          1.1046891478459746,
          -1.0127769075344921,
          -0.9275024218807334,
          0.46254807937094916,
          -2.581572057555803,
          -0.5177589481227729,
          0.4316554621434871,
          0.6954811231387482,
          0.0300098483416636,
          0.6539900009746611,
          -0.4449879580630433,
          -0.999503090467957,
          1.0362026545443144,
          0.9136741620871076,
          -0.5439968151535551,
          -0.8107903439717139,
          -1.9019102452016945,
          0.7119532518308098,
          -0.5667692810338499,
          1.0639290359748934,
          -0.6453104900764639,
          0.26835233269243897,
          -0.7968176977559296,
          -0.7527220997163271,
          -1.5516630981944994,
          0.5303143093757477,
          1.0840453642416785,
          1.4896418973352272,
          1.2220370054697876,
          -0.16792657416935036,
          -0.2308432545947218,
          -0.29786350107739773,
          0.12177245408476088,
          1.3631037691423746,
          0.6384473313553243,
          -0.7283898466255497,
          0.2516740646126679,
          -0.8870567793418102,
          0.5163456231504208,
          1.1852874008722312
         ],
         "y": [
          0.3134686022095278,
          0.9167330694085948,
          1.8358559878457181,
          0.2834426630393991,
          0.22899753551591995,
          1.2214721753208433,
          0.2910640003360314,
          0.44389793149791734,
          1.2162009677053427,
          -0.9619002047119665,
          -1.2784583359551878,
          -0.37144603885723965,
          0.8800661016792073,
          -0.6763563018495778,
          -2.2277493627980003,
          0.6930676738162171,
          -1.1683340478867852,
          -0.15790090640505508,
          -0.6826931554912031,
          0.05049038923586889,
          0.4869377860093024,
          -0.8835410697700743,
          0.24868435409408757,
          -1.056969392655306,
          0.6233496437331075,
          0.9046922325586537,
          0.2818495405726576,
          0.14967640219134654,
          -0.6091488927991449,
          0.2123086378874707,
          0.45743817850369867,
          -0.9658200412921484,
          -0.00865557348175014,
          0.4291721685534401,
          -0.22006799285765793,
          2.488597634675389,
          -0.6061303020257509,
          1.6102658234045657,
          -1.000863701554238,
          -0.534256527143899,
          -0.4621570121146412,
          -1.9759816278599311,
          -0.7760690578252674,
          -0.18467394830622197,
          -1.1458391575252205,
          1.7555670562803594,
          -0.26250474351571285,
          0.5464460246470153,
          0.30987674584616987,
          0.3520151819035632,
          0.9958399353993154,
          -0.5214726384988668,
          0.07222055358695231,
          0.46791079579358846,
          -0.33047997165882564,
          0.9192388020854462,
          -0.3256795536945822,
          -1.8653337188608055,
          0.5962235529452432,
          -0.4240408936804001,
          1.8384924861277794,
          -1.1038965745155283,
          -0.8519275517835061,
          0.7141618825240307,
          0.8285710482210474,
          -0.42276652716172586,
          -1.1587737795342765,
          0.9809709177500708,
          -0.12667495781204194,
          -2.5319609816814572,
          1.432198698417712,
          -1.0622603426980124,
          -0.6234638991651306,
          -1.2776077551390106,
          0.028895853903978024,
          1.644544932190103,
          -0.6163351737696124,
          -0.041946278013372994,
          1.07876840216128,
          0.4241597671285785,
          -2.2076469021892127,
          -0.6868007293609565,
          -0.7430886502094988,
          -0.33242320190080693,
          -0.7943984962651276,
          -2.4226861547474168,
          1.5447323436514886,
          -0.5894859162554954,
          -0.5022088401908156,
          -1.5308674143676129,
          -1.1681670620058908,
          1.3748345847740826,
          0.28388738456361123,
          -0.37374003079645696,
          2.9489109452284934,
          0.38147384481885627,
          -0.6351765194539595,
          0.08824145484231279,
          -0.811892307602746,
          -1.742992613677244
         ]
        }
       ],
       "layout": {
        "legend": {
         "bgcolor": "#F5F6F9",
         "font": {
          "color": "#4D5663"
         }
        },
        "paper_bgcolor": "#F5F6F9",
        "plot_bgcolor": "#F5F6F9",
        "template": {
         "data": {
          "bar": [
           {
            "error_x": {
             "color": "#2a3f5f"
            },
            "error_y": {
             "color": "#2a3f5f"
            },
            "marker": {
             "line": {
              "color": "#E5ECF6",
              "width": 0.5
             }
            },
            "type": "bar"
           }
          ],
          "barpolar": [
           {
            "marker": {
             "line": {
              "color": "#E5ECF6",
              "width": 0.5
             }
            },
            "type": "barpolar"
           }
          ],
          "carpet": [
           {
            "aaxis": {
             "endlinecolor": "#2a3f5f",
             "gridcolor": "white",
             "linecolor": "white",
             "minorgridcolor": "white",
             "startlinecolor": "#2a3f5f"
            },
            "baxis": {
             "endlinecolor": "#2a3f5f",
             "gridcolor": "white",
             "linecolor": "white",
             "minorgridcolor": "white",
             "startlinecolor": "#2a3f5f"
            },
            "type": "carpet"
           }
          ],
          "choropleth": [
           {
            "colorbar": {
             "outlinewidth": 0,
             "ticks": ""
            },
            "type": "choropleth"
           }
          ],
          "contour": [
           {
            "colorbar": {
             "outlinewidth": 0,
             "ticks": ""
            },
            "colorscale": [
             [
              0,
              "#0d0887"
             ],
             [
              0.1111111111111111,
              "#46039f"
             ],
             [
              0.2222222222222222,
              "#7201a8"
             ],
             [
              0.3333333333333333,
              "#9c179e"
             ],
             [
              0.4444444444444444,
              "#bd3786"
             ],
             [
              0.5555555555555556,
              "#d8576b"
             ],
             [
              0.6666666666666666,
              "#ed7953"
             ],
             [
              0.7777777777777778,
              "#fb9f3a"
             ],
             [
              0.8888888888888888,
              "#fdca26"
             ],
             [
              1,
              "#f0f921"
             ]
            ],
            "type": "contour"
           }
          ],
          "contourcarpet": [
           {
            "colorbar": {
             "outlinewidth": 0,
             "ticks": ""
            },
            "type": "contourcarpet"
           }
          ],
          "heatmap": [
           {
            "colorbar": {
             "outlinewidth": 0,
             "ticks": ""
            },
            "colorscale": [
             [
              0,
              "#0d0887"
             ],
             [
              0.1111111111111111,
              "#46039f"
             ],
             [
              0.2222222222222222,
              "#7201a8"
             ],
             [
              0.3333333333333333,
              "#9c179e"
             ],
             [
              0.4444444444444444,
              "#bd3786"
             ],
             [
              0.5555555555555556,
              "#d8576b"
             ],
             [
              0.6666666666666666,
              "#ed7953"
             ],
             [
              0.7777777777777778,
              "#fb9f3a"
             ],
             [
              0.8888888888888888,
              "#fdca26"
             ],
             [
              1,
              "#f0f921"
             ]
            ],
            "type": "heatmap"
           }
          ],
          "heatmapgl": [
           {
            "colorbar": {
             "outlinewidth": 0,
             "ticks": ""
            },
            "colorscale": [
             [
              0,
              "#0d0887"
             ],
             [
              0.1111111111111111,
              "#46039f"
             ],
             [
              0.2222222222222222,
              "#7201a8"
             ],
             [
              0.3333333333333333,
              "#9c179e"
             ],
             [
              0.4444444444444444,
              "#bd3786"
             ],
             [
              0.5555555555555556,
              "#d8576b"
             ],
             [
              0.6666666666666666,
              "#ed7953"
             ],
             [
              0.7777777777777778,
              "#fb9f3a"
             ],
             [
              0.8888888888888888,
              "#fdca26"
             ],
             [
              1,
              "#f0f921"
             ]
            ],
            "type": "heatmapgl"
           }
          ],
          "histogram": [
           {
            "marker": {
             "colorbar": {
              "outlinewidth": 0,
              "ticks": ""
             }
            },
            "type": "histogram"
           }
          ],
          "histogram2d": [
           {
            "colorbar": {
             "outlinewidth": 0,
             "ticks": ""
            },
            "colorscale": [
             [
              0,
              "#0d0887"
             ],
             [
              0.1111111111111111,
              "#46039f"
             ],
             [
              0.2222222222222222,
              "#7201a8"
             ],
             [
              0.3333333333333333,
              "#9c179e"
             ],
             [
              0.4444444444444444,
              "#bd3786"
             ],
             [
              0.5555555555555556,
              "#d8576b"
             ],
             [
              0.6666666666666666,
              "#ed7953"
             ],
             [
              0.7777777777777778,
              "#fb9f3a"
             ],
             [
              0.8888888888888888,
              "#fdca26"
             ],
             [
              1,
              "#f0f921"
             ]
            ],
            "type": "histogram2d"
           }
          ],
          "histogram2dcontour": [
           {
            "colorbar": {
             "outlinewidth": 0,
             "ticks": ""
            },
            "colorscale": [
             [
              0,
              "#0d0887"
             ],
             [
              0.1111111111111111,
              "#46039f"
             ],
             [
              0.2222222222222222,
              "#7201a8"
             ],
             [
              0.3333333333333333,
              "#9c179e"
             ],
             [
              0.4444444444444444,
              "#bd3786"
             ],
             [
              0.5555555555555556,
              "#d8576b"
             ],
             [
              0.6666666666666666,
              "#ed7953"
             ],
             [
              0.7777777777777778,
              "#fb9f3a"
             ],
             [
              0.8888888888888888,
              "#fdca26"
             ],
             [
              1,
              "#f0f921"
             ]
            ],
            "type": "histogram2dcontour"
           }
          ],
          "mesh3d": [
           {
            "colorbar": {
             "outlinewidth": 0,
             "ticks": ""
            },
            "type": "mesh3d"
           }
          ],
          "parcoords": [
           {
            "line": {
             "colorbar": {
              "outlinewidth": 0,
              "ticks": ""
             }
            },
            "type": "parcoords"
           }
          ],
          "pie": [
           {
            "automargin": true,
            "type": "pie"
           }
          ],
          "scatter": [
           {
            "marker": {
             "colorbar": {
              "outlinewidth": 0,
              "ticks": ""
             }
            },
            "type": "scatter"
           }
          ],
          "scatter3d": [
           {
            "line": {
             "colorbar": {
              "outlinewidth": 0,
              "ticks": ""
             }
            },
            "marker": {
             "colorbar": {
              "outlinewidth": 0,
              "ticks": ""
             }
            },
            "type": "scatter3d"
           }
          ],
          "scattercarpet": [
           {
            "marker": {
             "colorbar": {
              "outlinewidth": 0,
              "ticks": ""
             }
            },
            "type": "scattercarpet"
           }
          ],
          "scattergeo": [
           {
            "marker": {
             "colorbar": {
              "outlinewidth": 0,
              "ticks": ""
             }
            },
            "type": "scattergeo"
           }
          ],
          "scattergl": [
           {
            "marker": {
             "colorbar": {
              "outlinewidth": 0,
              "ticks": ""
             }
            },
            "type": "scattergl"
           }
          ],
          "scattermapbox": [
           {
            "marker": {
             "colorbar": {
              "outlinewidth": 0,
              "ticks": ""
             }
            },
            "type": "scattermapbox"
           }
          ],
          "scatterpolar": [
           {
            "marker": {
             "colorbar": {
              "outlinewidth": 0,
              "ticks": ""
             }
            },
            "type": "scatterpolar"
           }
          ],
          "scatterpolargl": [
           {
            "marker": {
             "colorbar": {
              "outlinewidth": 0,
              "ticks": ""
             }
            },
            "type": "scatterpolargl"
           }
          ],
          "scatterternary": [
           {
            "marker": {
             "colorbar": {
              "outlinewidth": 0,
              "ticks": ""
             }
            },
            "type": "scatterternary"
           }
          ],
          "surface": [
           {
            "colorbar": {
             "outlinewidth": 0,
             "ticks": ""
            },
            "colorscale": [
             [
              0,
              "#0d0887"
             ],
             [
              0.1111111111111111,
              "#46039f"
             ],
             [
              0.2222222222222222,
              "#7201a8"
             ],
             [
              0.3333333333333333,
              "#9c179e"
             ],
             [
              0.4444444444444444,
              "#bd3786"
             ],
             [
              0.5555555555555556,
              "#d8576b"
             ],
             [
              0.6666666666666666,
              "#ed7953"
             ],
             [
              0.7777777777777778,
              "#fb9f3a"
             ],
             [
              0.8888888888888888,
              "#fdca26"
             ],
             [
              1,
              "#f0f921"
             ]
            ],
            "type": "surface"
           }
          ],
          "table": [
           {
            "cells": {
             "fill": {
              "color": "#EBF0F8"
             },
             "line": {
              "color": "white"
             }
            },
            "header": {
             "fill": {
              "color": "#C8D4E3"
             },
             "line": {
              "color": "white"
             }
            },
            "type": "table"
           }
          ]
         },
         "layout": {
          "annotationdefaults": {
           "arrowcolor": "#2a3f5f",
           "arrowhead": 0,
           "arrowwidth": 1
          },
          "coloraxis": {
           "colorbar": {
            "outlinewidth": 0,
            "ticks": ""
           }
          },
          "colorscale": {
           "diverging": [
            [
             0,
             "#8e0152"
            ],
            [
             0.1,
             "#c51b7d"
            ],
            [
             0.2,
             "#de77ae"
            ],
            [
             0.3,
             "#f1b6da"
            ],
            [
             0.4,
             "#fde0ef"
            ],
            [
             0.5,
             "#f7f7f7"
            ],
            [
             0.6,
             "#e6f5d0"
            ],
            [
             0.7,
             "#b8e186"
            ],
            [
             0.8,
             "#7fbc41"
            ],
            [
             0.9,
             "#4d9221"
            ],
            [
             1,
             "#276419"
            ]
           ],
           "sequential": [
            [
             0,
             "#0d0887"
            ],
            [
             0.1111111111111111,
             "#46039f"
            ],
            [
             0.2222222222222222,
             "#7201a8"
            ],
            [
             0.3333333333333333,
             "#9c179e"
            ],
            [
             0.4444444444444444,
             "#bd3786"
            ],
            [
             0.5555555555555556,
             "#d8576b"
            ],
            [
             0.6666666666666666,
             "#ed7953"
            ],
            [
             0.7777777777777778,
             "#fb9f3a"
            ],
            [
             0.8888888888888888,
             "#fdca26"
            ],
            [
             1,
             "#f0f921"
            ]
           ],
           "sequentialminus": [
            [
             0,
             "#0d0887"
            ],
            [
             0.1111111111111111,
             "#46039f"
            ],
            [
             0.2222222222222222,
             "#7201a8"
            ],
            [
             0.3333333333333333,
             "#9c179e"
            ],
            [
             0.4444444444444444,
             "#bd3786"
            ],
            [
             0.5555555555555556,
             "#d8576b"
            ],
            [
             0.6666666666666666,
             "#ed7953"
            ],
            [
             0.7777777777777778,
             "#fb9f3a"
            ],
            [
             0.8888888888888888,
             "#fdca26"
            ],
            [
             1,
             "#f0f921"
            ]
           ]
          },
          "colorway": [
           "#636efa",
           "#EF553B",
           "#00cc96",
           "#ab63fa",
           "#FFA15A",
           "#19d3f3",
           "#FF6692",
           "#B6E880",
           "#FF97FF",
           "#FECB52"
          ],
          "font": {
           "color": "#2a3f5f"
          },
          "geo": {
           "bgcolor": "white",
           "lakecolor": "white",
           "landcolor": "#E5ECF6",
           "showlakes": true,
           "showland": true,
           "subunitcolor": "white"
          },
          "hoverlabel": {
           "align": "left"
          },
          "hovermode": "closest",
          "mapbox": {
           "style": "light"
          },
          "paper_bgcolor": "white",
          "plot_bgcolor": "#E5ECF6",
          "polar": {
           "angularaxis": {
            "gridcolor": "white",
            "linecolor": "white",
            "ticks": ""
           },
           "bgcolor": "#E5ECF6",
           "radialaxis": {
            "gridcolor": "white",
            "linecolor": "white",
            "ticks": ""
           }
          },
          "scene": {
           "xaxis": {
            "backgroundcolor": "#E5ECF6",
            "gridcolor": "white",
            "gridwidth": 2,
            "linecolor": "white",
            "showbackground": true,
            "ticks": "",
            "zerolinecolor": "white"
           },
           "yaxis": {
            "backgroundcolor": "#E5ECF6",
            "gridcolor": "white",
            "gridwidth": 2,
            "linecolor": "white",
            "showbackground": true,
            "ticks": "",
            "zerolinecolor": "white"
           },
           "zaxis": {
            "backgroundcolor": "#E5ECF6",
            "gridcolor": "white",
            "gridwidth": 2,
            "linecolor": "white",
            "showbackground": true,
            "ticks": "",
            "zerolinecolor": "white"
           }
          },
          "shapedefaults": {
           "line": {
            "color": "#2a3f5f"
           }
          },
          "ternary": {
           "aaxis": {
            "gridcolor": "white",
            "linecolor": "white",
            "ticks": ""
           },
           "baxis": {
            "gridcolor": "white",
            "linecolor": "white",
            "ticks": ""
           },
           "bgcolor": "#E5ECF6",
           "caxis": {
            "gridcolor": "white",
            "linecolor": "white",
            "ticks": ""
           }
          },
          "title": {
           "x": 0.05
          },
          "xaxis": {
           "automargin": true,
           "gridcolor": "white",
           "linecolor": "white",
           "ticks": "",
           "title": {
            "standoff": 15
           },
           "zerolinecolor": "white",
           "zerolinewidth": 2
          },
          "yaxis": {
           "automargin": true,
           "gridcolor": "white",
           "linecolor": "white",
           "ticks": "",
           "title": {
            "standoff": 15
           },
           "zerolinecolor": "white",
           "zerolinewidth": 2
          }
         }
        },
        "title": {
         "font": {
          "color": "#4D5663"
         }
        },
        "xaxis": {
         "gridcolor": "#E1E5ED",
         "showgrid": true,
         "tickfont": {
          "color": "#4D5663"
         },
         "title": {
          "font": {
           "color": "#4D5663"
          },
          "text": ""
         },
         "zerolinecolor": "#E1E5ED"
        },
        "yaxis": {
         "gridcolor": "#E1E5ED",
         "showgrid": true,
         "tickfont": {
          "color": "#4D5663"
         },
         "title": {
          "font": {
           "color": "#4D5663"
          },
          "text": ""
         },
         "zerolinecolor": "#E1E5ED"
        }
       }
      },
      "text/html": [
       "<div>\n",
       "        \n",
       "        \n",
       "            <div id=\"8335b598-827e-4177-bf59-f2aaa7bd324b\" class=\"plotly-graph-div\" style=\"height:525px; width:100%;\"></div>\n",
       "            <script type=\"text/javascript\">\n",
       "                require([\"plotly\"], function(Plotly) {\n",
       "                    window.PLOTLYENV=window.PLOTLYENV || {};\n",
       "                    window.PLOTLYENV.BASE_URL='https://plot.ly';\n",
       "                    \n",
       "                if (document.getElementById(\"8335b598-827e-4177-bf59-f2aaa7bd324b\")) {\n",
       "                    Plotly.newPlot(\n",
       "                        '8335b598-827e-4177-bf59-f2aaa7bd324b',\n",
       "                        [{\"line\": {\"color\": \"rgba(255, 153, 51, 1.0)\", \"dash\": \"solid\", \"shape\": \"linear\", \"width\": 1.3}, \"marker\": {\"size\": 20, \"symbol\": \"circle\"}, \"mode\": \"markers\", \"name\": \"B\", \"text\": \"\", \"type\": \"scatter\", \"x\": [2.4749962936946055, -0.9007990275507158, -0.9805747297855275, 0.8591241423923144, -0.23513612993279762, -1.4871885942258938, 0.1509626101323387, 0.3710990855337078, -0.0783348441645605, 2.26380966222816, 0.208228005383773, 0.3526292310156882, 1.1125779531924598, -0.9777079006710802, 1.2013899556079988, 0.07237738940168735, -1.3345991474970709, -2.017283621905848, -0.6549271175784173, -1.8897303970589032, -0.05019611399214896, 0.2680783170338222, 0.8959378751017952, 1.9759406303102243, 0.6701199636150814, 0.9306138813501291, -2.581350212978, 1.2019358187360194, 0.5962268260509613, 0.043399436853583974, -0.7034736013426729, -0.5870817705680396, 0.26132864277511264, 1.0026011168534013, 0.5024826385176249, -1.3709098720171886, 1.6010990955566187, -1.1866188378116598, -0.0851183518897504, 2.6578337032405006, 1.6498431342132363, 0.01577419471099402, 0.18660345295126896, -1.6380810984694385, -0.6920612579214326, -0.5481117511795, -0.8393828604315164, 0.6545901837953004, 0.6793888900506158, 0.5868162253947056, 0.7373061487047904, 0.4104583260324701, 1.512028590184469, 2.234848174397926, -1.206697874221941, 1.5386372375224369, 0.4589019331759673, -0.2677178684218074, -0.5165748852689157, 2.097914912767957, 1.1046891478459746, -1.0127769075344921, -0.9275024218807334, 0.46254807937094916, -2.581572057555803, -0.5177589481227729, 0.4316554621434871, 0.6954811231387482, 0.0300098483416636, 0.6539900009746611, -0.4449879580630433, -0.999503090467957, 1.0362026545443144, 0.9136741620871076, -0.5439968151535551, -0.8107903439717139, -1.9019102452016945, 0.7119532518308098, -0.5667692810338499, 1.0639290359748934, -0.6453104900764639, 0.26835233269243897, -0.7968176977559296, -0.7527220997163271, -1.5516630981944994, 0.5303143093757477, 1.0840453642416785, 1.4896418973352272, 1.2220370054697876, -0.16792657416935036, -0.2308432545947218, -0.29786350107739773, 0.12177245408476088, 1.3631037691423746, 0.6384473313553243, -0.7283898466255497, 0.2516740646126679, -0.8870567793418102, 0.5163456231504208, 1.1852874008722312], \"y\": [0.3134686022095278, 0.9167330694085948, 1.8358559878457181, 0.2834426630393991, 0.22899753551591995, 1.2214721753208433, 0.2910640003360314, 0.44389793149791734, 1.2162009677053427, -0.9619002047119665, -1.2784583359551878, -0.37144603885723965, 0.8800661016792073, -0.6763563018495778, -2.2277493627980003, 0.6930676738162171, -1.1683340478867852, -0.15790090640505508, -0.6826931554912031, 0.05049038923586889, 0.4869377860093024, -0.8835410697700743, 0.24868435409408757, -1.056969392655306, 0.6233496437331075, 0.9046922325586537, 0.2818495405726576, 0.14967640219134654, -0.6091488927991449, 0.2123086378874707, 0.45743817850369867, -0.9658200412921484, -0.00865557348175014, 0.4291721685534401, -0.22006799285765793, 2.488597634675389, -0.6061303020257509, 1.6102658234045657, -1.000863701554238, -0.534256527143899, -0.4621570121146412, -1.9759816278599311, -0.7760690578252674, -0.18467394830622197, -1.1458391575252205, 1.7555670562803594, -0.26250474351571285, 0.5464460246470153, 0.30987674584616987, 0.3520151819035632, 0.9958399353993154, -0.5214726384988668, 0.07222055358695231, 0.46791079579358846, -0.33047997165882564, 0.9192388020854462, -0.3256795536945822, -1.8653337188608055, 0.5962235529452432, -0.4240408936804001, 1.8384924861277794, -1.1038965745155283, -0.8519275517835061, 0.7141618825240307, 0.8285710482210474, -0.42276652716172586, -1.1587737795342765, 0.9809709177500708, -0.12667495781204194, -2.5319609816814572, 1.432198698417712, -1.0622603426980124, -0.6234638991651306, -1.2776077551390106, 0.028895853903978024, 1.644544932190103, -0.6163351737696124, -0.041946278013372994, 1.07876840216128, 0.4241597671285785, -2.2076469021892127, -0.6868007293609565, -0.7430886502094988, -0.33242320190080693, -0.7943984962651276, -2.4226861547474168, 1.5447323436514886, -0.5894859162554954, -0.5022088401908156, -1.5308674143676129, -1.1681670620058908, 1.3748345847740826, 0.28388738456361123, -0.37374003079645696, 2.9489109452284934, 0.38147384481885627, -0.6351765194539595, 0.08824145484231279, -0.811892307602746, -1.742992613677244]}],\n",
       "                        {\"legend\": {\"bgcolor\": \"#F5F6F9\", \"font\": {\"color\": \"#4D5663\"}}, \"paper_bgcolor\": \"#F5F6F9\", \"plot_bgcolor\": \"#F5F6F9\", \"template\": {\"data\": {\"bar\": [{\"error_x\": {\"color\": \"#2a3f5f\"}, \"error_y\": {\"color\": \"#2a3f5f\"}, \"marker\": {\"line\": {\"color\": \"#E5ECF6\", \"width\": 0.5}}, \"type\": \"bar\"}], \"barpolar\": [{\"marker\": {\"line\": {\"color\": \"#E5ECF6\", \"width\": 0.5}}, \"type\": \"barpolar\"}], \"carpet\": [{\"aaxis\": {\"endlinecolor\": \"#2a3f5f\", \"gridcolor\": \"white\", \"linecolor\": \"white\", \"minorgridcolor\": \"white\", \"startlinecolor\": \"#2a3f5f\"}, \"baxis\": {\"endlinecolor\": \"#2a3f5f\", \"gridcolor\": \"white\", \"linecolor\": \"white\", \"minorgridcolor\": \"white\", \"startlinecolor\": \"#2a3f5f\"}, \"type\": \"carpet\"}], \"choropleth\": [{\"colorbar\": {\"outlinewidth\": 0, \"ticks\": \"\"}, \"type\": \"choropleth\"}], \"contour\": [{\"colorbar\": {\"outlinewidth\": 0, \"ticks\": \"\"}, \"colorscale\": [[0.0, \"#0d0887\"], [0.1111111111111111, \"#46039f\"], [0.2222222222222222, \"#7201a8\"], [0.3333333333333333, \"#9c179e\"], [0.4444444444444444, \"#bd3786\"], [0.5555555555555556, \"#d8576b\"], [0.6666666666666666, \"#ed7953\"], [0.7777777777777778, \"#fb9f3a\"], [0.8888888888888888, \"#fdca26\"], [1.0, \"#f0f921\"]], \"type\": \"contour\"}], \"contourcarpet\": [{\"colorbar\": {\"outlinewidth\": 0, \"ticks\": \"\"}, \"type\": \"contourcarpet\"}], \"heatmap\": [{\"colorbar\": {\"outlinewidth\": 0, \"ticks\": \"\"}, \"colorscale\": [[0.0, \"#0d0887\"], [0.1111111111111111, \"#46039f\"], [0.2222222222222222, \"#7201a8\"], [0.3333333333333333, \"#9c179e\"], [0.4444444444444444, \"#bd3786\"], [0.5555555555555556, \"#d8576b\"], [0.6666666666666666, \"#ed7953\"], [0.7777777777777778, \"#fb9f3a\"], [0.8888888888888888, \"#fdca26\"], [1.0, \"#f0f921\"]], \"type\": \"heatmap\"}], \"heatmapgl\": [{\"colorbar\": {\"outlinewidth\": 0, \"ticks\": \"\"}, \"colorscale\": [[0.0, \"#0d0887\"], [0.1111111111111111, \"#46039f\"], [0.2222222222222222, \"#7201a8\"], [0.3333333333333333, \"#9c179e\"], [0.4444444444444444, \"#bd3786\"], [0.5555555555555556, \"#d8576b\"], [0.6666666666666666, \"#ed7953\"], [0.7777777777777778, \"#fb9f3a\"], [0.8888888888888888, \"#fdca26\"], [1.0, \"#f0f921\"]], \"type\": \"heatmapgl\"}], \"histogram\": [{\"marker\": {\"colorbar\": {\"outlinewidth\": 0, \"ticks\": \"\"}}, \"type\": \"histogram\"}], \"histogram2d\": [{\"colorbar\": {\"outlinewidth\": 0, \"ticks\": \"\"}, \"colorscale\": [[0.0, \"#0d0887\"], [0.1111111111111111, \"#46039f\"], [0.2222222222222222, \"#7201a8\"], [0.3333333333333333, \"#9c179e\"], [0.4444444444444444, \"#bd3786\"], [0.5555555555555556, \"#d8576b\"], [0.6666666666666666, \"#ed7953\"], [0.7777777777777778, \"#fb9f3a\"], [0.8888888888888888, \"#fdca26\"], [1.0, \"#f0f921\"]], \"type\": \"histogram2d\"}], \"histogram2dcontour\": [{\"colorbar\": {\"outlinewidth\": 0, \"ticks\": \"\"}, \"colorscale\": [[0.0, \"#0d0887\"], [0.1111111111111111, \"#46039f\"], [0.2222222222222222, \"#7201a8\"], [0.3333333333333333, \"#9c179e\"], [0.4444444444444444, \"#bd3786\"], [0.5555555555555556, \"#d8576b\"], [0.6666666666666666, \"#ed7953\"], [0.7777777777777778, \"#fb9f3a\"], [0.8888888888888888, \"#fdca26\"], [1.0, \"#f0f921\"]], \"type\": \"histogram2dcontour\"}], \"mesh3d\": [{\"colorbar\": {\"outlinewidth\": 0, \"ticks\": \"\"}, \"type\": \"mesh3d\"}], \"parcoords\": [{\"line\": {\"colorbar\": {\"outlinewidth\": 0, \"ticks\": \"\"}}, \"type\": \"parcoords\"}], \"pie\": [{\"automargin\": true, \"type\": \"pie\"}], \"scatter\": [{\"marker\": {\"colorbar\": {\"outlinewidth\": 0, \"ticks\": \"\"}}, \"type\": \"scatter\"}], \"scatter3d\": [{\"line\": {\"colorbar\": {\"outlinewidth\": 0, \"ticks\": \"\"}}, \"marker\": {\"colorbar\": {\"outlinewidth\": 0, \"ticks\": \"\"}}, \"type\": \"scatter3d\"}], \"scattercarpet\": [{\"marker\": {\"colorbar\": {\"outlinewidth\": 0, \"ticks\": \"\"}}, \"type\": \"scattercarpet\"}], \"scattergeo\": [{\"marker\": {\"colorbar\": {\"outlinewidth\": 0, \"ticks\": \"\"}}, \"type\": \"scattergeo\"}], \"scattergl\": [{\"marker\": {\"colorbar\": {\"outlinewidth\": 0, \"ticks\": \"\"}}, \"type\": \"scattergl\"}], \"scattermapbox\": [{\"marker\": {\"colorbar\": {\"outlinewidth\": 0, \"ticks\": \"\"}}, \"type\": \"scattermapbox\"}], \"scatterpolar\": [{\"marker\": {\"colorbar\": {\"outlinewidth\": 0, \"ticks\": \"\"}}, \"type\": \"scatterpolar\"}], \"scatterpolargl\": [{\"marker\": {\"colorbar\": {\"outlinewidth\": 0, \"ticks\": \"\"}}, \"type\": \"scatterpolargl\"}], \"scatterternary\": [{\"marker\": {\"colorbar\": {\"outlinewidth\": 0, \"ticks\": \"\"}}, \"type\": \"scatterternary\"}], \"surface\": [{\"colorbar\": {\"outlinewidth\": 0, \"ticks\": \"\"}, \"colorscale\": [[0.0, \"#0d0887\"], [0.1111111111111111, \"#46039f\"], [0.2222222222222222, \"#7201a8\"], [0.3333333333333333, \"#9c179e\"], [0.4444444444444444, \"#bd3786\"], [0.5555555555555556, \"#d8576b\"], [0.6666666666666666, \"#ed7953\"], [0.7777777777777778, \"#fb9f3a\"], [0.8888888888888888, \"#fdca26\"], [1.0, \"#f0f921\"]], \"type\": \"surface\"}], \"table\": [{\"cells\": {\"fill\": {\"color\": \"#EBF0F8\"}, \"line\": {\"color\": \"white\"}}, \"header\": {\"fill\": {\"color\": \"#C8D4E3\"}, \"line\": {\"color\": \"white\"}}, \"type\": \"table\"}]}, \"layout\": {\"annotationdefaults\": {\"arrowcolor\": \"#2a3f5f\", \"arrowhead\": 0, \"arrowwidth\": 1}, \"coloraxis\": {\"colorbar\": {\"outlinewidth\": 0, \"ticks\": \"\"}}, \"colorscale\": {\"diverging\": [[0, \"#8e0152\"], [0.1, \"#c51b7d\"], [0.2, \"#de77ae\"], [0.3, \"#f1b6da\"], [0.4, \"#fde0ef\"], [0.5, \"#f7f7f7\"], [0.6, \"#e6f5d0\"], [0.7, \"#b8e186\"], [0.8, \"#7fbc41\"], [0.9, \"#4d9221\"], [1, \"#276419\"]], \"sequential\": [[0.0, \"#0d0887\"], [0.1111111111111111, \"#46039f\"], [0.2222222222222222, \"#7201a8\"], [0.3333333333333333, \"#9c179e\"], [0.4444444444444444, \"#bd3786\"], [0.5555555555555556, \"#d8576b\"], [0.6666666666666666, \"#ed7953\"], [0.7777777777777778, \"#fb9f3a\"], [0.8888888888888888, \"#fdca26\"], [1.0, \"#f0f921\"]], \"sequentialminus\": [[0.0, \"#0d0887\"], [0.1111111111111111, \"#46039f\"], [0.2222222222222222, \"#7201a8\"], [0.3333333333333333, \"#9c179e\"], [0.4444444444444444, \"#bd3786\"], [0.5555555555555556, \"#d8576b\"], [0.6666666666666666, \"#ed7953\"], [0.7777777777777778, \"#fb9f3a\"], [0.8888888888888888, \"#fdca26\"], [1.0, \"#f0f921\"]]}, \"colorway\": [\"#636efa\", \"#EF553B\", \"#00cc96\", \"#ab63fa\", \"#FFA15A\", \"#19d3f3\", \"#FF6692\", \"#B6E880\", \"#FF97FF\", \"#FECB52\"], \"font\": {\"color\": \"#2a3f5f\"}, \"geo\": {\"bgcolor\": \"white\", \"lakecolor\": \"white\", \"landcolor\": \"#E5ECF6\", \"showlakes\": true, \"showland\": true, \"subunitcolor\": \"white\"}, \"hoverlabel\": {\"align\": \"left\"}, \"hovermode\": \"closest\", \"mapbox\": {\"style\": \"light\"}, \"paper_bgcolor\": \"white\", \"plot_bgcolor\": \"#E5ECF6\", \"polar\": {\"angularaxis\": {\"gridcolor\": \"white\", \"linecolor\": \"white\", \"ticks\": \"\"}, \"bgcolor\": \"#E5ECF6\", \"radialaxis\": {\"gridcolor\": \"white\", \"linecolor\": \"white\", \"ticks\": \"\"}}, \"scene\": {\"xaxis\": {\"backgroundcolor\": \"#E5ECF6\", \"gridcolor\": \"white\", \"gridwidth\": 2, \"linecolor\": \"white\", \"showbackground\": true, \"ticks\": \"\", \"zerolinecolor\": \"white\"}, \"yaxis\": {\"backgroundcolor\": \"#E5ECF6\", \"gridcolor\": \"white\", \"gridwidth\": 2, \"linecolor\": \"white\", \"showbackground\": true, \"ticks\": \"\", \"zerolinecolor\": \"white\"}, \"zaxis\": {\"backgroundcolor\": \"#E5ECF6\", \"gridcolor\": \"white\", \"gridwidth\": 2, \"linecolor\": \"white\", \"showbackground\": true, \"ticks\": \"\", \"zerolinecolor\": \"white\"}}, \"shapedefaults\": {\"line\": {\"color\": \"#2a3f5f\"}}, \"ternary\": {\"aaxis\": {\"gridcolor\": \"white\", \"linecolor\": \"white\", \"ticks\": \"\"}, \"baxis\": {\"gridcolor\": \"white\", \"linecolor\": \"white\", \"ticks\": \"\"}, \"bgcolor\": \"#E5ECF6\", \"caxis\": {\"gridcolor\": \"white\", \"linecolor\": \"white\", \"ticks\": \"\"}}, \"title\": {\"x\": 0.05}, \"xaxis\": {\"automargin\": true, \"gridcolor\": \"white\", \"linecolor\": \"white\", \"ticks\": \"\", \"title\": {\"standoff\": 15}, \"zerolinecolor\": \"white\", \"zerolinewidth\": 2}, \"yaxis\": {\"automargin\": true, \"gridcolor\": \"white\", \"linecolor\": \"white\", \"ticks\": \"\", \"title\": {\"standoff\": 15}, \"zerolinecolor\": \"white\", \"zerolinewidth\": 2}}}, \"title\": {\"font\": {\"color\": \"#4D5663\"}}, \"xaxis\": {\"gridcolor\": \"#E1E5ED\", \"showgrid\": true, \"tickfont\": {\"color\": \"#4D5663\"}, \"title\": {\"font\": {\"color\": \"#4D5663\"}, \"text\": \"\"}, \"zerolinecolor\": \"#E1E5ED\"}, \"yaxis\": {\"gridcolor\": \"#E1E5ED\", \"showgrid\": true, \"tickfont\": {\"color\": \"#4D5663\"}, \"title\": {\"font\": {\"color\": \"#4D5663\"}, \"text\": \"\"}, \"zerolinecolor\": \"#E1E5ED\"}},\n",
       "                        {\"showLink\": true, \"linkText\": \"Export to plot.ly\", \"plotlyServerURL\": \"https://plot.ly\", \"responsive\": true}\n",
       "                    ).then(function(){\n",
       "                            \n",
       "var gd = document.getElementById('8335b598-827e-4177-bf59-f2aaa7bd324b');\n",
       "var x = new MutationObserver(function (mutations, observer) {{\n",
       "        var display = window.getComputedStyle(gd).display;\n",
       "        if (!display || display === 'none') {{\n",
       "            console.log([gd, 'removed!']);\n",
       "            Plotly.purge(gd);\n",
       "            observer.disconnect();\n",
       "        }}\n",
       "}});\n",
       "\n",
       "// Listen for the removal of the full notebook cells\n",
       "var notebookContainer = gd.closest('#notebook-container');\n",
       "if (notebookContainer) {{\n",
       "    x.observe(notebookContainer, {childList: true});\n",
       "}}\n",
       "\n",
       "// Listen for the clearing of the current output cell\n",
       "var outputEl = gd.closest('.output');\n",
       "if (outputEl) {{\n",
       "    x.observe(outputEl, {childList: true});\n",
       "}}\n",
       "\n",
       "                        })\n",
       "                };\n",
       "                });\n",
       "            </script>\n",
       "        </div>"
      ]
     },
     "metadata": {},
     "output_type": "display_data"
    }
   ],
   "source": [
    "df.iplot(kind='scatter',x='A',y='B',mode='markers',size=20)"
   ]
  },
  {
   "cell_type": "code",
   "execution_count": 48,
   "metadata": {},
   "outputs": [
    {
     "data": {
      "application/vnd.plotly.v1+json": {
       "config": {
        "linkText": "Export to plot.ly",
        "plotlyServerURL": "https://plot.ly",
        "showLink": true
       },
       "data": [
        {
         "marker": {
          "color": "rgba(255, 153, 51, 0.6)",
          "line": {
           "color": "rgba(255, 153, 51, 1.0)",
           "width": 1
          }
         },
         "name": "Values",
         "orientation": "v",
         "text": "",
         "type": "bar",
         "x": [
          "A",
          "B",
          "C",
          "D"
         ],
         "y": [
          14,
          27,
          38,
          49
         ]
        }
       ],
       "layout": {
        "legend": {
         "bgcolor": "#F5F6F9",
         "font": {
          "color": "#4D5663"
         }
        },
        "paper_bgcolor": "#F5F6F9",
        "plot_bgcolor": "#F5F6F9",
        "template": {
         "data": {
          "bar": [
           {
            "error_x": {
             "color": "#2a3f5f"
            },
            "error_y": {
             "color": "#2a3f5f"
            },
            "marker": {
             "line": {
              "color": "#E5ECF6",
              "width": 0.5
             }
            },
            "type": "bar"
           }
          ],
          "barpolar": [
           {
            "marker": {
             "line": {
              "color": "#E5ECF6",
              "width": 0.5
             }
            },
            "type": "barpolar"
           }
          ],
          "carpet": [
           {
            "aaxis": {
             "endlinecolor": "#2a3f5f",
             "gridcolor": "white",
             "linecolor": "white",
             "minorgridcolor": "white",
             "startlinecolor": "#2a3f5f"
            },
            "baxis": {
             "endlinecolor": "#2a3f5f",
             "gridcolor": "white",
             "linecolor": "white",
             "minorgridcolor": "white",
             "startlinecolor": "#2a3f5f"
            },
            "type": "carpet"
           }
          ],
          "choropleth": [
           {
            "colorbar": {
             "outlinewidth": 0,
             "ticks": ""
            },
            "type": "choropleth"
           }
          ],
          "contour": [
           {
            "colorbar": {
             "outlinewidth": 0,
             "ticks": ""
            },
            "colorscale": [
             [
              0,
              "#0d0887"
             ],
             [
              0.1111111111111111,
              "#46039f"
             ],
             [
              0.2222222222222222,
              "#7201a8"
             ],
             [
              0.3333333333333333,
              "#9c179e"
             ],
             [
              0.4444444444444444,
              "#bd3786"
             ],
             [
              0.5555555555555556,
              "#d8576b"
             ],
             [
              0.6666666666666666,
              "#ed7953"
             ],
             [
              0.7777777777777778,
              "#fb9f3a"
             ],
             [
              0.8888888888888888,
              "#fdca26"
             ],
             [
              1,
              "#f0f921"
             ]
            ],
            "type": "contour"
           }
          ],
          "contourcarpet": [
           {
            "colorbar": {
             "outlinewidth": 0,
             "ticks": ""
            },
            "type": "contourcarpet"
           }
          ],
          "heatmap": [
           {
            "colorbar": {
             "outlinewidth": 0,
             "ticks": ""
            },
            "colorscale": [
             [
              0,
              "#0d0887"
             ],
             [
              0.1111111111111111,
              "#46039f"
             ],
             [
              0.2222222222222222,
              "#7201a8"
             ],
             [
              0.3333333333333333,
              "#9c179e"
             ],
             [
              0.4444444444444444,
              "#bd3786"
             ],
             [
              0.5555555555555556,
              "#d8576b"
             ],
             [
              0.6666666666666666,
              "#ed7953"
             ],
             [
              0.7777777777777778,
              "#fb9f3a"
             ],
             [
              0.8888888888888888,
              "#fdca26"
             ],
             [
              1,
              "#f0f921"
             ]
            ],
            "type": "heatmap"
           }
          ],
          "heatmapgl": [
           {
            "colorbar": {
             "outlinewidth": 0,
             "ticks": ""
            },
            "colorscale": [
             [
              0,
              "#0d0887"
             ],
             [
              0.1111111111111111,
              "#46039f"
             ],
             [
              0.2222222222222222,
              "#7201a8"
             ],
             [
              0.3333333333333333,
              "#9c179e"
             ],
             [
              0.4444444444444444,
              "#bd3786"
             ],
             [
              0.5555555555555556,
              "#d8576b"
             ],
             [
              0.6666666666666666,
              "#ed7953"
             ],
             [
              0.7777777777777778,
              "#fb9f3a"
             ],
             [
              0.8888888888888888,
              "#fdca26"
             ],
             [
              1,
              "#f0f921"
             ]
            ],
            "type": "heatmapgl"
           }
          ],
          "histogram": [
           {
            "marker": {
             "colorbar": {
              "outlinewidth": 0,
              "ticks": ""
             }
            },
            "type": "histogram"
           }
          ],
          "histogram2d": [
           {
            "colorbar": {
             "outlinewidth": 0,
             "ticks": ""
            },
            "colorscale": [
             [
              0,
              "#0d0887"
             ],
             [
              0.1111111111111111,
              "#46039f"
             ],
             [
              0.2222222222222222,
              "#7201a8"
             ],
             [
              0.3333333333333333,
              "#9c179e"
             ],
             [
              0.4444444444444444,
              "#bd3786"
             ],
             [
              0.5555555555555556,
              "#d8576b"
             ],
             [
              0.6666666666666666,
              "#ed7953"
             ],
             [
              0.7777777777777778,
              "#fb9f3a"
             ],
             [
              0.8888888888888888,
              "#fdca26"
             ],
             [
              1,
              "#f0f921"
             ]
            ],
            "type": "histogram2d"
           }
          ],
          "histogram2dcontour": [
           {
            "colorbar": {
             "outlinewidth": 0,
             "ticks": ""
            },
            "colorscale": [
             [
              0,
              "#0d0887"
             ],
             [
              0.1111111111111111,
              "#46039f"
             ],
             [
              0.2222222222222222,
              "#7201a8"
             ],
             [
              0.3333333333333333,
              "#9c179e"
             ],
             [
              0.4444444444444444,
              "#bd3786"
             ],
             [
              0.5555555555555556,
              "#d8576b"
             ],
             [
              0.6666666666666666,
              "#ed7953"
             ],
             [
              0.7777777777777778,
              "#fb9f3a"
             ],
             [
              0.8888888888888888,
              "#fdca26"
             ],
             [
              1,
              "#f0f921"
             ]
            ],
            "type": "histogram2dcontour"
           }
          ],
          "mesh3d": [
           {
            "colorbar": {
             "outlinewidth": 0,
             "ticks": ""
            },
            "type": "mesh3d"
           }
          ],
          "parcoords": [
           {
            "line": {
             "colorbar": {
              "outlinewidth": 0,
              "ticks": ""
             }
            },
            "type": "parcoords"
           }
          ],
          "pie": [
           {
            "automargin": true,
            "type": "pie"
           }
          ],
          "scatter": [
           {
            "marker": {
             "colorbar": {
              "outlinewidth": 0,
              "ticks": ""
             }
            },
            "type": "scatter"
           }
          ],
          "scatter3d": [
           {
            "line": {
             "colorbar": {
              "outlinewidth": 0,
              "ticks": ""
             }
            },
            "marker": {
             "colorbar": {
              "outlinewidth": 0,
              "ticks": ""
             }
            },
            "type": "scatter3d"
           }
          ],
          "scattercarpet": [
           {
            "marker": {
             "colorbar": {
              "outlinewidth": 0,
              "ticks": ""
             }
            },
            "type": "scattercarpet"
           }
          ],
          "scattergeo": [
           {
            "marker": {
             "colorbar": {
              "outlinewidth": 0,
              "ticks": ""
             }
            },
            "type": "scattergeo"
           }
          ],
          "scattergl": [
           {
            "marker": {
             "colorbar": {
              "outlinewidth": 0,
              "ticks": ""
             }
            },
            "type": "scattergl"
           }
          ],
          "scattermapbox": [
           {
            "marker": {
             "colorbar": {
              "outlinewidth": 0,
              "ticks": ""
             }
            },
            "type": "scattermapbox"
           }
          ],
          "scatterpolar": [
           {
            "marker": {
             "colorbar": {
              "outlinewidth": 0,
              "ticks": ""
             }
            },
            "type": "scatterpolar"
           }
          ],
          "scatterpolargl": [
           {
            "marker": {
             "colorbar": {
              "outlinewidth": 0,
              "ticks": ""
             }
            },
            "type": "scatterpolargl"
           }
          ],
          "scatterternary": [
           {
            "marker": {
             "colorbar": {
              "outlinewidth": 0,
              "ticks": ""
             }
            },
            "type": "scatterternary"
           }
          ],
          "surface": [
           {
            "colorbar": {
             "outlinewidth": 0,
             "ticks": ""
            },
            "colorscale": [
             [
              0,
              "#0d0887"
             ],
             [
              0.1111111111111111,
              "#46039f"
             ],
             [
              0.2222222222222222,
              "#7201a8"
             ],
             [
              0.3333333333333333,
              "#9c179e"
             ],
             [
              0.4444444444444444,
              "#bd3786"
             ],
             [
              0.5555555555555556,
              "#d8576b"
             ],
             [
              0.6666666666666666,
              "#ed7953"
             ],
             [
              0.7777777777777778,
              "#fb9f3a"
             ],
             [
              0.8888888888888888,
              "#fdca26"
             ],
             [
              1,
              "#f0f921"
             ]
            ],
            "type": "surface"
           }
          ],
          "table": [
           {
            "cells": {
             "fill": {
              "color": "#EBF0F8"
             },
             "line": {
              "color": "white"
             }
            },
            "header": {
             "fill": {
              "color": "#C8D4E3"
             },
             "line": {
              "color": "white"
             }
            },
            "type": "table"
           }
          ]
         },
         "layout": {
          "annotationdefaults": {
           "arrowcolor": "#2a3f5f",
           "arrowhead": 0,
           "arrowwidth": 1
          },
          "coloraxis": {
           "colorbar": {
            "outlinewidth": 0,
            "ticks": ""
           }
          },
          "colorscale": {
           "diverging": [
            [
             0,
             "#8e0152"
            ],
            [
             0.1,
             "#c51b7d"
            ],
            [
             0.2,
             "#de77ae"
            ],
            [
             0.3,
             "#f1b6da"
            ],
            [
             0.4,
             "#fde0ef"
            ],
            [
             0.5,
             "#f7f7f7"
            ],
            [
             0.6,
             "#e6f5d0"
            ],
            [
             0.7,
             "#b8e186"
            ],
            [
             0.8,
             "#7fbc41"
            ],
            [
             0.9,
             "#4d9221"
            ],
            [
             1,
             "#276419"
            ]
           ],
           "sequential": [
            [
             0,
             "#0d0887"
            ],
            [
             0.1111111111111111,
             "#46039f"
            ],
            [
             0.2222222222222222,
             "#7201a8"
            ],
            [
             0.3333333333333333,
             "#9c179e"
            ],
            [
             0.4444444444444444,
             "#bd3786"
            ],
            [
             0.5555555555555556,
             "#d8576b"
            ],
            [
             0.6666666666666666,
             "#ed7953"
            ],
            [
             0.7777777777777778,
             "#fb9f3a"
            ],
            [
             0.8888888888888888,
             "#fdca26"
            ],
            [
             1,
             "#f0f921"
            ]
           ],
           "sequentialminus": [
            [
             0,
             "#0d0887"
            ],
            [
             0.1111111111111111,
             "#46039f"
            ],
            [
             0.2222222222222222,
             "#7201a8"
            ],
            [
             0.3333333333333333,
             "#9c179e"
            ],
            [
             0.4444444444444444,
             "#bd3786"
            ],
            [
             0.5555555555555556,
             "#d8576b"
            ],
            [
             0.6666666666666666,
             "#ed7953"
            ],
            [
             0.7777777777777778,
             "#fb9f3a"
            ],
            [
             0.8888888888888888,
             "#fdca26"
            ],
            [
             1,
             "#f0f921"
            ]
           ]
          },
          "colorway": [
           "#636efa",
           "#EF553B",
           "#00cc96",
           "#ab63fa",
           "#FFA15A",
           "#19d3f3",
           "#FF6692",
           "#B6E880",
           "#FF97FF",
           "#FECB52"
          ],
          "font": {
           "color": "#2a3f5f"
          },
          "geo": {
           "bgcolor": "white",
           "lakecolor": "white",
           "landcolor": "#E5ECF6",
           "showlakes": true,
           "showland": true,
           "subunitcolor": "white"
          },
          "hoverlabel": {
           "align": "left"
          },
          "hovermode": "closest",
          "mapbox": {
           "style": "light"
          },
          "paper_bgcolor": "white",
          "plot_bgcolor": "#E5ECF6",
          "polar": {
           "angularaxis": {
            "gridcolor": "white",
            "linecolor": "white",
            "ticks": ""
           },
           "bgcolor": "#E5ECF6",
           "radialaxis": {
            "gridcolor": "white",
            "linecolor": "white",
            "ticks": ""
           }
          },
          "scene": {
           "xaxis": {
            "backgroundcolor": "#E5ECF6",
            "gridcolor": "white",
            "gridwidth": 2,
            "linecolor": "white",
            "showbackground": true,
            "ticks": "",
            "zerolinecolor": "white"
           },
           "yaxis": {
            "backgroundcolor": "#E5ECF6",
            "gridcolor": "white",
            "gridwidth": 2,
            "linecolor": "white",
            "showbackground": true,
            "ticks": "",
            "zerolinecolor": "white"
           },
           "zaxis": {
            "backgroundcolor": "#E5ECF6",
            "gridcolor": "white",
            "gridwidth": 2,
            "linecolor": "white",
            "showbackground": true,
            "ticks": "",
            "zerolinecolor": "white"
           }
          },
          "shapedefaults": {
           "line": {
            "color": "#2a3f5f"
           }
          },
          "ternary": {
           "aaxis": {
            "gridcolor": "white",
            "linecolor": "white",
            "ticks": ""
           },
           "baxis": {
            "gridcolor": "white",
            "linecolor": "white",
            "ticks": ""
           },
           "bgcolor": "#E5ECF6",
           "caxis": {
            "gridcolor": "white",
            "linecolor": "white",
            "ticks": ""
           }
          },
          "title": {
           "x": 0.05
          },
          "xaxis": {
           "automargin": true,
           "gridcolor": "white",
           "linecolor": "white",
           "ticks": "",
           "title": {
            "standoff": 15
           },
           "zerolinecolor": "white",
           "zerolinewidth": 2
          },
          "yaxis": {
           "automargin": true,
           "gridcolor": "white",
           "linecolor": "white",
           "ticks": "",
           "title": {
            "standoff": 15
           },
           "zerolinecolor": "white",
           "zerolinewidth": 2
          }
         }
        },
        "title": {
         "font": {
          "color": "#4D5663"
         }
        },
        "xaxis": {
         "gridcolor": "#E1E5ED",
         "showgrid": true,
         "tickfont": {
          "color": "#4D5663"
         },
         "title": {
          "font": {
           "color": "#4D5663"
          },
          "text": ""
         },
         "zerolinecolor": "#E1E5ED"
        },
        "yaxis": {
         "gridcolor": "#E1E5ED",
         "showgrid": true,
         "tickfont": {
          "color": "#4D5663"
         },
         "title": {
          "font": {
           "color": "#4D5663"
          },
          "text": ""
         },
         "zerolinecolor": "#E1E5ED"
        }
       }
      },
      "text/html": [
       "<div>\n",
       "        \n",
       "        \n",
       "            <div id=\"826418bb-f662-4d9d-a595-80c8c0f293f8\" class=\"plotly-graph-div\" style=\"height:525px; width:100%;\"></div>\n",
       "            <script type=\"text/javascript\">\n",
       "                require([\"plotly\"], function(Plotly) {\n",
       "                    window.PLOTLYENV=window.PLOTLYENV || {};\n",
       "                    window.PLOTLYENV.BASE_URL='https://plot.ly';\n",
       "                    \n",
       "                if (document.getElementById(\"826418bb-f662-4d9d-a595-80c8c0f293f8\")) {\n",
       "                    Plotly.newPlot(\n",
       "                        '826418bb-f662-4d9d-a595-80c8c0f293f8',\n",
       "                        [{\"marker\": {\"color\": \"rgba(255, 153, 51, 0.6)\", \"line\": {\"color\": \"rgba(255, 153, 51, 1.0)\", \"width\": 1}}, \"name\": \"Values\", \"orientation\": \"v\", \"text\": \"\", \"type\": \"bar\", \"x\": [\"A\", \"B\", \"C\", \"D\"], \"y\": [14, 27, 38, 49]}],\n",
       "                        {\"legend\": {\"bgcolor\": \"#F5F6F9\", \"font\": {\"color\": \"#4D5663\"}}, \"paper_bgcolor\": \"#F5F6F9\", \"plot_bgcolor\": \"#F5F6F9\", \"template\": {\"data\": {\"bar\": [{\"error_x\": {\"color\": \"#2a3f5f\"}, \"error_y\": {\"color\": \"#2a3f5f\"}, \"marker\": {\"line\": {\"color\": \"#E5ECF6\", \"width\": 0.5}}, \"type\": \"bar\"}], \"barpolar\": [{\"marker\": {\"line\": {\"color\": \"#E5ECF6\", \"width\": 0.5}}, \"type\": \"barpolar\"}], \"carpet\": [{\"aaxis\": {\"endlinecolor\": \"#2a3f5f\", \"gridcolor\": \"white\", \"linecolor\": \"white\", \"minorgridcolor\": \"white\", \"startlinecolor\": \"#2a3f5f\"}, \"baxis\": {\"endlinecolor\": \"#2a3f5f\", \"gridcolor\": \"white\", \"linecolor\": \"white\", \"minorgridcolor\": \"white\", \"startlinecolor\": \"#2a3f5f\"}, \"type\": \"carpet\"}], \"choropleth\": [{\"colorbar\": {\"outlinewidth\": 0, \"ticks\": \"\"}, \"type\": \"choropleth\"}], \"contour\": [{\"colorbar\": {\"outlinewidth\": 0, \"ticks\": \"\"}, \"colorscale\": [[0.0, \"#0d0887\"], [0.1111111111111111, \"#46039f\"], [0.2222222222222222, \"#7201a8\"], [0.3333333333333333, \"#9c179e\"], [0.4444444444444444, \"#bd3786\"], [0.5555555555555556, \"#d8576b\"], [0.6666666666666666, \"#ed7953\"], [0.7777777777777778, \"#fb9f3a\"], [0.8888888888888888, \"#fdca26\"], [1.0, \"#f0f921\"]], \"type\": \"contour\"}], \"contourcarpet\": [{\"colorbar\": {\"outlinewidth\": 0, \"ticks\": \"\"}, \"type\": \"contourcarpet\"}], \"heatmap\": [{\"colorbar\": {\"outlinewidth\": 0, \"ticks\": \"\"}, \"colorscale\": [[0.0, \"#0d0887\"], [0.1111111111111111, \"#46039f\"], [0.2222222222222222, \"#7201a8\"], [0.3333333333333333, \"#9c179e\"], [0.4444444444444444, \"#bd3786\"], [0.5555555555555556, \"#d8576b\"], [0.6666666666666666, \"#ed7953\"], [0.7777777777777778, \"#fb9f3a\"], [0.8888888888888888, \"#fdca26\"], [1.0, \"#f0f921\"]], \"type\": \"heatmap\"}], \"heatmapgl\": [{\"colorbar\": {\"outlinewidth\": 0, \"ticks\": \"\"}, \"colorscale\": [[0.0, \"#0d0887\"], [0.1111111111111111, \"#46039f\"], [0.2222222222222222, \"#7201a8\"], [0.3333333333333333, \"#9c179e\"], [0.4444444444444444, \"#bd3786\"], [0.5555555555555556, \"#d8576b\"], [0.6666666666666666, \"#ed7953\"], [0.7777777777777778, \"#fb9f3a\"], [0.8888888888888888, \"#fdca26\"], [1.0, \"#f0f921\"]], \"type\": \"heatmapgl\"}], \"histogram\": [{\"marker\": {\"colorbar\": {\"outlinewidth\": 0, \"ticks\": \"\"}}, \"type\": \"histogram\"}], \"histogram2d\": [{\"colorbar\": {\"outlinewidth\": 0, \"ticks\": \"\"}, \"colorscale\": [[0.0, \"#0d0887\"], [0.1111111111111111, \"#46039f\"], [0.2222222222222222, \"#7201a8\"], [0.3333333333333333, \"#9c179e\"], [0.4444444444444444, \"#bd3786\"], [0.5555555555555556, \"#d8576b\"], [0.6666666666666666, \"#ed7953\"], [0.7777777777777778, \"#fb9f3a\"], [0.8888888888888888, \"#fdca26\"], [1.0, \"#f0f921\"]], \"type\": \"histogram2d\"}], \"histogram2dcontour\": [{\"colorbar\": {\"outlinewidth\": 0, \"ticks\": \"\"}, \"colorscale\": [[0.0, \"#0d0887\"], [0.1111111111111111, \"#46039f\"], [0.2222222222222222, \"#7201a8\"], [0.3333333333333333, \"#9c179e\"], [0.4444444444444444, \"#bd3786\"], [0.5555555555555556, \"#d8576b\"], [0.6666666666666666, \"#ed7953\"], [0.7777777777777778, \"#fb9f3a\"], [0.8888888888888888, \"#fdca26\"], [1.0, \"#f0f921\"]], \"type\": \"histogram2dcontour\"}], \"mesh3d\": [{\"colorbar\": {\"outlinewidth\": 0, \"ticks\": \"\"}, \"type\": \"mesh3d\"}], \"parcoords\": [{\"line\": {\"colorbar\": {\"outlinewidth\": 0, \"ticks\": \"\"}}, \"type\": \"parcoords\"}], \"pie\": [{\"automargin\": true, \"type\": \"pie\"}], \"scatter\": [{\"marker\": {\"colorbar\": {\"outlinewidth\": 0, \"ticks\": \"\"}}, \"type\": \"scatter\"}], \"scatter3d\": [{\"line\": {\"colorbar\": {\"outlinewidth\": 0, \"ticks\": \"\"}}, \"marker\": {\"colorbar\": {\"outlinewidth\": 0, \"ticks\": \"\"}}, \"type\": \"scatter3d\"}], \"scattercarpet\": [{\"marker\": {\"colorbar\": {\"outlinewidth\": 0, \"ticks\": \"\"}}, \"type\": \"scattercarpet\"}], \"scattergeo\": [{\"marker\": {\"colorbar\": {\"outlinewidth\": 0, \"ticks\": \"\"}}, \"type\": \"scattergeo\"}], \"scattergl\": [{\"marker\": {\"colorbar\": {\"outlinewidth\": 0, \"ticks\": \"\"}}, \"type\": \"scattergl\"}], \"scattermapbox\": [{\"marker\": {\"colorbar\": {\"outlinewidth\": 0, \"ticks\": \"\"}}, \"type\": \"scattermapbox\"}], \"scatterpolar\": [{\"marker\": {\"colorbar\": {\"outlinewidth\": 0, \"ticks\": \"\"}}, \"type\": \"scatterpolar\"}], \"scatterpolargl\": [{\"marker\": {\"colorbar\": {\"outlinewidth\": 0, \"ticks\": \"\"}}, \"type\": \"scatterpolargl\"}], \"scatterternary\": [{\"marker\": {\"colorbar\": {\"outlinewidth\": 0, \"ticks\": \"\"}}, \"type\": \"scatterternary\"}], \"surface\": [{\"colorbar\": {\"outlinewidth\": 0, \"ticks\": \"\"}, \"colorscale\": [[0.0, \"#0d0887\"], [0.1111111111111111, \"#46039f\"], [0.2222222222222222, \"#7201a8\"], [0.3333333333333333, \"#9c179e\"], [0.4444444444444444, \"#bd3786\"], [0.5555555555555556, \"#d8576b\"], [0.6666666666666666, \"#ed7953\"], [0.7777777777777778, \"#fb9f3a\"], [0.8888888888888888, \"#fdca26\"], [1.0, \"#f0f921\"]], \"type\": \"surface\"}], \"table\": [{\"cells\": {\"fill\": {\"color\": \"#EBF0F8\"}, \"line\": {\"color\": \"white\"}}, \"header\": {\"fill\": {\"color\": \"#C8D4E3\"}, \"line\": {\"color\": \"white\"}}, \"type\": \"table\"}]}, \"layout\": {\"annotationdefaults\": {\"arrowcolor\": \"#2a3f5f\", \"arrowhead\": 0, \"arrowwidth\": 1}, \"coloraxis\": {\"colorbar\": {\"outlinewidth\": 0, \"ticks\": \"\"}}, \"colorscale\": {\"diverging\": [[0, \"#8e0152\"], [0.1, \"#c51b7d\"], [0.2, \"#de77ae\"], [0.3, \"#f1b6da\"], [0.4, \"#fde0ef\"], [0.5, \"#f7f7f7\"], [0.6, \"#e6f5d0\"], [0.7, \"#b8e186\"], [0.8, \"#7fbc41\"], [0.9, \"#4d9221\"], [1, \"#276419\"]], \"sequential\": [[0.0, \"#0d0887\"], [0.1111111111111111, \"#46039f\"], [0.2222222222222222, \"#7201a8\"], [0.3333333333333333, \"#9c179e\"], [0.4444444444444444, \"#bd3786\"], [0.5555555555555556, \"#d8576b\"], [0.6666666666666666, \"#ed7953\"], [0.7777777777777778, \"#fb9f3a\"], [0.8888888888888888, \"#fdca26\"], [1.0, \"#f0f921\"]], \"sequentialminus\": [[0.0, \"#0d0887\"], [0.1111111111111111, \"#46039f\"], [0.2222222222222222, \"#7201a8\"], [0.3333333333333333, \"#9c179e\"], [0.4444444444444444, \"#bd3786\"], [0.5555555555555556, \"#d8576b\"], [0.6666666666666666, \"#ed7953\"], [0.7777777777777778, \"#fb9f3a\"], [0.8888888888888888, \"#fdca26\"], [1.0, \"#f0f921\"]]}, \"colorway\": [\"#636efa\", \"#EF553B\", \"#00cc96\", \"#ab63fa\", \"#FFA15A\", \"#19d3f3\", \"#FF6692\", \"#B6E880\", \"#FF97FF\", \"#FECB52\"], \"font\": {\"color\": \"#2a3f5f\"}, \"geo\": {\"bgcolor\": \"white\", \"lakecolor\": \"white\", \"landcolor\": \"#E5ECF6\", \"showlakes\": true, \"showland\": true, \"subunitcolor\": \"white\"}, \"hoverlabel\": {\"align\": \"left\"}, \"hovermode\": \"closest\", \"mapbox\": {\"style\": \"light\"}, \"paper_bgcolor\": \"white\", \"plot_bgcolor\": \"#E5ECF6\", \"polar\": {\"angularaxis\": {\"gridcolor\": \"white\", \"linecolor\": \"white\", \"ticks\": \"\"}, \"bgcolor\": \"#E5ECF6\", \"radialaxis\": {\"gridcolor\": \"white\", \"linecolor\": \"white\", \"ticks\": \"\"}}, \"scene\": {\"xaxis\": {\"backgroundcolor\": \"#E5ECF6\", \"gridcolor\": \"white\", \"gridwidth\": 2, \"linecolor\": \"white\", \"showbackground\": true, \"ticks\": \"\", \"zerolinecolor\": \"white\"}, \"yaxis\": {\"backgroundcolor\": \"#E5ECF6\", \"gridcolor\": \"white\", \"gridwidth\": 2, \"linecolor\": \"white\", \"showbackground\": true, \"ticks\": \"\", \"zerolinecolor\": \"white\"}, \"zaxis\": {\"backgroundcolor\": \"#E5ECF6\", \"gridcolor\": \"white\", \"gridwidth\": 2, \"linecolor\": \"white\", \"showbackground\": true, \"ticks\": \"\", \"zerolinecolor\": \"white\"}}, \"shapedefaults\": {\"line\": {\"color\": \"#2a3f5f\"}}, \"ternary\": {\"aaxis\": {\"gridcolor\": \"white\", \"linecolor\": \"white\", \"ticks\": \"\"}, \"baxis\": {\"gridcolor\": \"white\", \"linecolor\": \"white\", \"ticks\": \"\"}, \"bgcolor\": \"#E5ECF6\", \"caxis\": {\"gridcolor\": \"white\", \"linecolor\": \"white\", \"ticks\": \"\"}}, \"title\": {\"x\": 0.05}, \"xaxis\": {\"automargin\": true, \"gridcolor\": \"white\", \"linecolor\": \"white\", \"ticks\": \"\", \"title\": {\"standoff\": 15}, \"zerolinecolor\": \"white\", \"zerolinewidth\": 2}, \"yaxis\": {\"automargin\": true, \"gridcolor\": \"white\", \"linecolor\": \"white\", \"ticks\": \"\", \"title\": {\"standoff\": 15}, \"zerolinecolor\": \"white\", \"zerolinewidth\": 2}}}, \"title\": {\"font\": {\"color\": \"#4D5663\"}}, \"xaxis\": {\"gridcolor\": \"#E1E5ED\", \"showgrid\": true, \"tickfont\": {\"color\": \"#4D5663\"}, \"title\": {\"font\": {\"color\": \"#4D5663\"}, \"text\": \"\"}, \"zerolinecolor\": \"#E1E5ED\"}, \"yaxis\": {\"gridcolor\": \"#E1E5ED\", \"showgrid\": true, \"tickfont\": {\"color\": \"#4D5663\"}, \"title\": {\"font\": {\"color\": \"#4D5663\"}, \"text\": \"\"}, \"zerolinecolor\": \"#E1E5ED\"}},\n",
       "                        {\"showLink\": true, \"linkText\": \"Export to plot.ly\", \"plotlyServerURL\": \"https://plot.ly\", \"responsive\": true}\n",
       "                    ).then(function(){\n",
       "                            \n",
       "var gd = document.getElementById('826418bb-f662-4d9d-a595-80c8c0f293f8');\n",
       "var x = new MutationObserver(function (mutations, observer) {{\n",
       "        var display = window.getComputedStyle(gd).display;\n",
       "        if (!display || display === 'none') {{\n",
       "            console.log([gd, 'removed!']);\n",
       "            Plotly.purge(gd);\n",
       "            observer.disconnect();\n",
       "        }}\n",
       "}});\n",
       "\n",
       "// Listen for the removal of the full notebook cells\n",
       "var notebookContainer = gd.closest('#notebook-container');\n",
       "if (notebookContainer) {{\n",
       "    x.observe(notebookContainer, {childList: true});\n",
       "}}\n",
       "\n",
       "// Listen for the clearing of the current output cell\n",
       "var outputEl = gd.closest('.output');\n",
       "if (outputEl) {{\n",
       "    x.observe(outputEl, {childList: true});\n",
       "}}\n",
       "\n",
       "                        })\n",
       "                };\n",
       "                });\n",
       "            </script>\n",
       "        </div>"
      ]
     },
     "metadata": {},
     "output_type": "display_data"
    }
   ],
   "source": [
    "# Bar plot\n",
    "df2.iplot(kind='bar',x='Category',y='Values')"
   ]
  },
  {
   "cell_type": "code",
   "execution_count": 50,
   "metadata": {},
   "outputs": [
    {
     "data": {
      "application/vnd.plotly.v1+json": {
       "config": {
        "linkText": "Export to plot.ly",
        "plotlyServerURL": "https://plot.ly",
        "showLink": true
       },
       "data": [
        {
         "marker": {
          "color": "rgba(255, 153, 51, 0.6)",
          "line": {
           "color": "rgba(255, 153, 51, 1.0)",
           "width": 1
          }
         },
         "name": "A",
         "orientation": "v",
         "text": "",
         "type": "bar",
         "x": [
          0,
          1,
          2,
          3,
          4,
          5,
          6,
          7,
          8,
          9,
          10,
          11,
          12,
          13,
          14,
          15,
          16,
          17,
          18,
          19,
          20,
          21,
          22,
          23,
          24,
          25,
          26,
          27,
          28,
          29,
          30,
          31,
          32,
          33,
          34,
          35,
          36,
          37,
          38,
          39,
          40,
          41,
          42,
          43,
          44,
          45,
          46,
          47,
          48,
          49,
          50,
          51,
          52,
          53,
          54,
          55,
          56,
          57,
          58,
          59,
          60,
          61,
          62,
          63,
          64,
          65,
          66,
          67,
          68,
          69,
          70,
          71,
          72,
          73,
          74,
          75,
          76,
          77,
          78,
          79,
          80,
          81,
          82,
          83,
          84,
          85,
          86,
          87,
          88,
          89,
          90,
          91,
          92,
          93,
          94,
          95,
          96,
          97,
          98,
          99
         ],
         "y": [
          2.4749962936946055,
          -0.9007990275507158,
          -0.9805747297855275,
          0.8591241423923144,
          -0.23513612993279762,
          -1.4871885942258938,
          0.1509626101323387,
          0.3710990855337078,
          -0.0783348441645605,
          2.26380966222816,
          0.208228005383773,
          0.3526292310156882,
          1.1125779531924598,
          -0.9777079006710802,
          1.2013899556079988,
          0.07237738940168735,
          -1.3345991474970709,
          -2.017283621905848,
          -0.6549271175784173,
          -1.8897303970589032,
          -0.05019611399214896,
          0.2680783170338222,
          0.8959378751017952,
          1.9759406303102243,
          0.6701199636150814,
          0.9306138813501291,
          -2.581350212978,
          1.2019358187360194,
          0.5962268260509613,
          0.043399436853583974,
          -0.7034736013426729,
          -0.5870817705680396,
          0.26132864277511264,
          1.0026011168534013,
          0.5024826385176249,
          -1.3709098720171886,
          1.6010990955566187,
          -1.1866188378116598,
          -0.0851183518897504,
          2.6578337032405006,
          1.6498431342132363,
          0.01577419471099402,
          0.18660345295126896,
          -1.6380810984694385,
          -0.6920612579214326,
          -0.5481117511795,
          -0.8393828604315164,
          0.6545901837953004,
          0.6793888900506158,
          0.5868162253947056,
          0.7373061487047904,
          0.4104583260324701,
          1.512028590184469,
          2.234848174397926,
          -1.206697874221941,
          1.5386372375224369,
          0.4589019331759673,
          -0.2677178684218074,
          -0.5165748852689157,
          2.097914912767957,
          1.1046891478459746,
          -1.0127769075344921,
          -0.9275024218807334,
          0.46254807937094916,
          -2.581572057555803,
          -0.5177589481227729,
          0.4316554621434871,
          0.6954811231387482,
          0.0300098483416636,
          0.6539900009746611,
          -0.4449879580630433,
          -0.999503090467957,
          1.0362026545443144,
          0.9136741620871076,
          -0.5439968151535551,
          -0.8107903439717139,
          -1.9019102452016945,
          0.7119532518308098,
          -0.5667692810338499,
          1.0639290359748934,
          -0.6453104900764639,
          0.26835233269243897,
          -0.7968176977559296,
          -0.7527220997163271,
          -1.5516630981944994,
          0.5303143093757477,
          1.0840453642416785,
          1.4896418973352272,
          1.2220370054697876,
          -0.16792657416935036,
          -0.2308432545947218,
          -0.29786350107739773,
          0.12177245408476088,
          1.3631037691423746,
          0.6384473313553243,
          -0.7283898466255497,
          0.2516740646126679,
          -0.8870567793418102,
          0.5163456231504208,
          1.1852874008722312
         ]
        },
        {
         "marker": {
          "color": "rgba(55, 128, 191, 0.6)",
          "line": {
           "color": "rgba(55, 128, 191, 1.0)",
           "width": 1
          }
         },
         "name": "B",
         "orientation": "v",
         "text": "",
         "type": "bar",
         "x": [
          0,
          1,
          2,
          3,
          4,
          5,
          6,
          7,
          8,
          9,
          10,
          11,
          12,
          13,
          14,
          15,
          16,
          17,
          18,
          19,
          20,
          21,
          22,
          23,
          24,
          25,
          26,
          27,
          28,
          29,
          30,
          31,
          32,
          33,
          34,
          35,
          36,
          37,
          38,
          39,
          40,
          41,
          42,
          43,
          44,
          45,
          46,
          47,
          48,
          49,
          50,
          51,
          52,
          53,
          54,
          55,
          56,
          57,
          58,
          59,
          60,
          61,
          62,
          63,
          64,
          65,
          66,
          67,
          68,
          69,
          70,
          71,
          72,
          73,
          74,
          75,
          76,
          77,
          78,
          79,
          80,
          81,
          82,
          83,
          84,
          85,
          86,
          87,
          88,
          89,
          90,
          91,
          92,
          93,
          94,
          95,
          96,
          97,
          98,
          99
         ],
         "y": [
          0.3134686022095278,
          0.9167330694085948,
          1.8358559878457181,
          0.2834426630393991,
          0.22899753551591995,
          1.2214721753208433,
          0.2910640003360314,
          0.44389793149791734,
          1.2162009677053427,
          -0.9619002047119665,
          -1.2784583359551878,
          -0.37144603885723965,
          0.8800661016792073,
          -0.6763563018495778,
          -2.2277493627980003,
          0.6930676738162171,
          -1.1683340478867852,
          -0.15790090640505508,
          -0.6826931554912031,
          0.05049038923586889,
          0.4869377860093024,
          -0.8835410697700743,
          0.24868435409408757,
          -1.056969392655306,
          0.6233496437331075,
          0.9046922325586537,
          0.2818495405726576,
          0.14967640219134654,
          -0.6091488927991449,
          0.2123086378874707,
          0.45743817850369867,
          -0.9658200412921484,
          -0.00865557348175014,
          0.4291721685534401,
          -0.22006799285765793,
          2.488597634675389,
          -0.6061303020257509,
          1.6102658234045657,
          -1.000863701554238,
          -0.534256527143899,
          -0.4621570121146412,
          -1.9759816278599311,
          -0.7760690578252674,
          -0.18467394830622197,
          -1.1458391575252205,
          1.7555670562803594,
          -0.26250474351571285,
          0.5464460246470153,
          0.30987674584616987,
          0.3520151819035632,
          0.9958399353993154,
          -0.5214726384988668,
          0.07222055358695231,
          0.46791079579358846,
          -0.33047997165882564,
          0.9192388020854462,
          -0.3256795536945822,
          -1.8653337188608055,
          0.5962235529452432,
          -0.4240408936804001,
          1.8384924861277794,
          -1.1038965745155283,
          -0.8519275517835061,
          0.7141618825240307,
          0.8285710482210474,
          -0.42276652716172586,
          -1.1587737795342765,
          0.9809709177500708,
          -0.12667495781204194,
          -2.5319609816814572,
          1.432198698417712,
          -1.0622603426980124,
          -0.6234638991651306,
          -1.2776077551390106,
          0.028895853903978024,
          1.644544932190103,
          -0.6163351737696124,
          -0.041946278013372994,
          1.07876840216128,
          0.4241597671285785,
          -2.2076469021892127,
          -0.6868007293609565,
          -0.7430886502094988,
          -0.33242320190080693,
          -0.7943984962651276,
          -2.4226861547474168,
          1.5447323436514886,
          -0.5894859162554954,
          -0.5022088401908156,
          -1.5308674143676129,
          -1.1681670620058908,
          1.3748345847740826,
          0.28388738456361123,
          -0.37374003079645696,
          2.9489109452284934,
          0.38147384481885627,
          -0.6351765194539595,
          0.08824145484231279,
          -0.811892307602746,
          -1.742992613677244
         ]
        },
        {
         "marker": {
          "color": "rgba(50, 171, 96, 0.6)",
          "line": {
           "color": "rgba(50, 171, 96, 1.0)",
           "width": 1
          }
         },
         "name": "C",
         "orientation": "v",
         "text": "",
         "type": "bar",
         "x": [
          0,
          1,
          2,
          3,
          4,
          5,
          6,
          7,
          8,
          9,
          10,
          11,
          12,
          13,
          14,
          15,
          16,
          17,
          18,
          19,
          20,
          21,
          22,
          23,
          24,
          25,
          26,
          27,
          28,
          29,
          30,
          31,
          32,
          33,
          34,
          35,
          36,
          37,
          38,
          39,
          40,
          41,
          42,
          43,
          44,
          45,
          46,
          47,
          48,
          49,
          50,
          51,
          52,
          53,
          54,
          55,
          56,
          57,
          58,
          59,
          60,
          61,
          62,
          63,
          64,
          65,
          66,
          67,
          68,
          69,
          70,
          71,
          72,
          73,
          74,
          75,
          76,
          77,
          78,
          79,
          80,
          81,
          82,
          83,
          84,
          85,
          86,
          87,
          88,
          89,
          90,
          91,
          92,
          93,
          94,
          95,
          96,
          97,
          98,
          99
         ],
         "y": [
          1.231070159811716,
          -0.03117281649129617,
          -0.6162773756384039,
          -1.6376008743252277,
          -0.08241446653137414,
          -1.1857410285737386,
          1.5025063017476732,
          -0.05133227922674751,
          1.2644556879951765,
          -0.05964774681572033,
          -2.297403684005262,
          -0.9868119640856649,
          0.05675988924076596,
          1.185951066101353,
          -1.373095549551666,
          -0.20562601185759508,
          1.9428309188887116,
          -0.18927683502183562,
          0.9825093159521757,
          -1.2263415995284603,
          -0.6298439802477139,
          0.6068580870279782,
          -0.890636392495951,
          0.631918047414181,
          -0.7720379065528462,
          -0.29593149001966135,
          -1.1226904422118051,
          0.23629800314365096,
          -0.4741276194468566,
          2.1717181443789344,
          -1.4806895991854223,
          -0.4955021094440134,
          0.032117081646470994,
          0.25701142893123874,
          -0.23713230266729876,
          0.9695332751815351,
          0.2716319732427874,
          -0.20824851930974994,
          -1.0475258685794056,
          0.56838672084109,
          -0.14802383067475433,
          -0.2626985118025356,
          -0.485172385498463,
          0.40027566985106316,
          -0.4421940311637228,
          -1.2083996634068965,
          -1.5985316077391072,
          0.5640687204376864,
          -0.37255174684050163,
          1.9573057613355627,
          -0.08203264742974938,
          -0.6363424018323703,
          0.47124001588370756,
          -0.9974260837891378,
          0.561213886768126,
          -0.2517931486910543,
          -1.0726006338905476,
          1.895293220583968,
          -0.5735772528649017,
          -1.0961897880553446,
          -1.2473194715544305,
          -1.9395128963440484,
          -0.8011034626807447,
          -0.8729632839115978,
          0.9718542651123409,
          0.9880918794379198,
          -0.3539421511355455,
          -0.7872073680358485,
          -0.014673280228460442,
          0.0719656927583585,
          0.22437507299150267,
          1.238024342372839,
          0.3609958413639249,
          0.31562209670153074,
          0.660784086125347,
          1.0264393713595676,
          -1.2501039657721695,
          0.7398172427970308,
          -1.379883171220064,
          -0.2789847177401478,
          0.402043007570006,
          0.14469232460479514,
          -0.08498934486439978,
          1.7134644085780146,
          -1.4468169895356162,
          0.715895965943651,
          -0.1544878290689414,
          -0.19537887570599272,
          -0.5316531629843192,
          -0.44306354202850134,
          0.42475780202125824,
          -0.585282832765401,
          2.0077890009820103,
          -0.00392265960940687,
          -0.7012580198585556,
          3.2492551217480696,
          -1.0309968186486267,
          -1.8420028443536924,
          -0.4099855734921172,
          0.31802949595869745
         ]
        },
        {
         "marker": {
          "color": "rgba(128, 0, 128, 0.6)",
          "line": {
           "color": "rgba(128, 0, 128, 1.0)",
           "width": 1
          }
         },
         "name": "D",
         "orientation": "v",
         "text": "",
         "type": "bar",
         "x": [
          0,
          1,
          2,
          3,
          4,
          5,
          6,
          7,
          8,
          9,
          10,
          11,
          12,
          13,
          14,
          15,
          16,
          17,
          18,
          19,
          20,
          21,
          22,
          23,
          24,
          25,
          26,
          27,
          28,
          29,
          30,
          31,
          32,
          33,
          34,
          35,
          36,
          37,
          38,
          39,
          40,
          41,
          42,
          43,
          44,
          45,
          46,
          47,
          48,
          49,
          50,
          51,
          52,
          53,
          54,
          55,
          56,
          57,
          58,
          59,
          60,
          61,
          62,
          63,
          64,
          65,
          66,
          67,
          68,
          69,
          70,
          71,
          72,
          73,
          74,
          75,
          76,
          77,
          78,
          79,
          80,
          81,
          82,
          83,
          84,
          85,
          86,
          87,
          88,
          89,
          90,
          91,
          92,
          93,
          94,
          95,
          96,
          97,
          98,
          99
         ],
         "y": [
          -0.38885819895232676,
          -0.9717472290895455,
          -0.9139514439533044,
          -0.12082311181586085,
          0.3330149406569263,
          -0.9799049992518911,
          -1.67111919752334,
          0.15162770083347216,
          2.1445059748730726,
          0.6058900549623925,
          1.0630011917635849,
          -0.24644562811864812,
          -1.5325621975142605,
          -0.6469666724377413,
          -0.9616193205511907,
          0.41800907429574874,
          1.0397811292984618,
          -0.31541696072229847,
          -1.4049094608966841,
          -0.0884161044520405,
          0.21495690415865082,
          0.7272029791670528,
          -0.36171724757592705,
          -1.8843190236447718,
          -2.601906771859556,
          0.9330016216922752,
          -1.0913660590152312,
          -0.4987963991281909,
          1.7963669173505645,
          -0.020190081183019428,
          -0.08012435469167206,
          1.0110582736533014,
          -1.1176034224498308,
          0.669714490474785,
          1.4345482061991972,
          0.9899681205051231,
          -1.0361872742541638,
          0.9543542851066912,
          0.6886393863606326,
          0.19966677361934768,
          0.2248252323826824,
          1.266659711726156,
          -1.1336143637616543,
          -1.9569188197769551,
          -0.6045250312730492,
          1.008230391710319,
          -0.7398823275817051,
          -1.086953738335082,
          1.9542880196409105,
          -1.941804377383334,
          -1.4808022512692627,
          -0.14015683186366015,
          0.7626198660784957,
          -0.27479444953159154,
          0.34448358744396157,
          0.20148077743096154,
          0.5811986146711187,
          0.19960282050885136,
          0.7739569815639976,
          -1.1573437069405694,
          0.4521186470452195,
          0.11990670910695764,
          1.4924315665692511,
          1.4175810663481372,
          0.6183128660677296,
          1.6061354947982638,
          1.1996224140964713,
          -0.20863814845378764,
          -0.7959340245341419,
          1.6055454796693986,
          0.3345272122695861,
          -1.3223424522812381,
          0.4077645278070668,
          -2.063164604706958,
          -0.06691844889513632,
          0.5828815572503655,
          -0.3128476641027049,
          -1.1638349708744584,
          0.41722706491806855,
          -0.18316239793324637,
          -0.930424708885888,
          -1.902918235853356,
          0.8041526601231147,
          0.10882810639113567,
          0.2644282211852591,
          2.310789453105758,
          -0.16812597599819737,
          -0.558078628026835,
          0.11279638166561838,
          -0.5792231817795479,
          0.09869825075713468,
          0.5882162052004194,
          -0.792805396195245,
          1.2161537394731101,
          -0.31067260416757025,
          -0.1178432631562213,
          0.025596138383547126,
          1.1510116422285448,
          1.1275767421761456,
          -0.7168911555643587
         ]
        }
       ],
       "layout": {
        "legend": {
         "bgcolor": "#F5F6F9",
         "font": {
          "color": "#4D5663"
         }
        },
        "paper_bgcolor": "#F5F6F9",
        "plot_bgcolor": "#F5F6F9",
        "template": {
         "data": {
          "bar": [
           {
            "error_x": {
             "color": "#2a3f5f"
            },
            "error_y": {
             "color": "#2a3f5f"
            },
            "marker": {
             "line": {
              "color": "#E5ECF6",
              "width": 0.5
             }
            },
            "type": "bar"
           }
          ],
          "barpolar": [
           {
            "marker": {
             "line": {
              "color": "#E5ECF6",
              "width": 0.5
             }
            },
            "type": "barpolar"
           }
          ],
          "carpet": [
           {
            "aaxis": {
             "endlinecolor": "#2a3f5f",
             "gridcolor": "white",
             "linecolor": "white",
             "minorgridcolor": "white",
             "startlinecolor": "#2a3f5f"
            },
            "baxis": {
             "endlinecolor": "#2a3f5f",
             "gridcolor": "white",
             "linecolor": "white",
             "minorgridcolor": "white",
             "startlinecolor": "#2a3f5f"
            },
            "type": "carpet"
           }
          ],
          "choropleth": [
           {
            "colorbar": {
             "outlinewidth": 0,
             "ticks": ""
            },
            "type": "choropleth"
           }
          ],
          "contour": [
           {
            "colorbar": {
             "outlinewidth": 0,
             "ticks": ""
            },
            "colorscale": [
             [
              0,
              "#0d0887"
             ],
             [
              0.1111111111111111,
              "#46039f"
             ],
             [
              0.2222222222222222,
              "#7201a8"
             ],
             [
              0.3333333333333333,
              "#9c179e"
             ],
             [
              0.4444444444444444,
              "#bd3786"
             ],
             [
              0.5555555555555556,
              "#d8576b"
             ],
             [
              0.6666666666666666,
              "#ed7953"
             ],
             [
              0.7777777777777778,
              "#fb9f3a"
             ],
             [
              0.8888888888888888,
              "#fdca26"
             ],
             [
              1,
              "#f0f921"
             ]
            ],
            "type": "contour"
           }
          ],
          "contourcarpet": [
           {
            "colorbar": {
             "outlinewidth": 0,
             "ticks": ""
            },
            "type": "contourcarpet"
           }
          ],
          "heatmap": [
           {
            "colorbar": {
             "outlinewidth": 0,
             "ticks": ""
            },
            "colorscale": [
             [
              0,
              "#0d0887"
             ],
             [
              0.1111111111111111,
              "#46039f"
             ],
             [
              0.2222222222222222,
              "#7201a8"
             ],
             [
              0.3333333333333333,
              "#9c179e"
             ],
             [
              0.4444444444444444,
              "#bd3786"
             ],
             [
              0.5555555555555556,
              "#d8576b"
             ],
             [
              0.6666666666666666,
              "#ed7953"
             ],
             [
              0.7777777777777778,
              "#fb9f3a"
             ],
             [
              0.8888888888888888,
              "#fdca26"
             ],
             [
              1,
              "#f0f921"
             ]
            ],
            "type": "heatmap"
           }
          ],
          "heatmapgl": [
           {
            "colorbar": {
             "outlinewidth": 0,
             "ticks": ""
            },
            "colorscale": [
             [
              0,
              "#0d0887"
             ],
             [
              0.1111111111111111,
              "#46039f"
             ],
             [
              0.2222222222222222,
              "#7201a8"
             ],
             [
              0.3333333333333333,
              "#9c179e"
             ],
             [
              0.4444444444444444,
              "#bd3786"
             ],
             [
              0.5555555555555556,
              "#d8576b"
             ],
             [
              0.6666666666666666,
              "#ed7953"
             ],
             [
              0.7777777777777778,
              "#fb9f3a"
             ],
             [
              0.8888888888888888,
              "#fdca26"
             ],
             [
              1,
              "#f0f921"
             ]
            ],
            "type": "heatmapgl"
           }
          ],
          "histogram": [
           {
            "marker": {
             "colorbar": {
              "outlinewidth": 0,
              "ticks": ""
             }
            },
            "type": "histogram"
           }
          ],
          "histogram2d": [
           {
            "colorbar": {
             "outlinewidth": 0,
             "ticks": ""
            },
            "colorscale": [
             [
              0,
              "#0d0887"
             ],
             [
              0.1111111111111111,
              "#46039f"
             ],
             [
              0.2222222222222222,
              "#7201a8"
             ],
             [
              0.3333333333333333,
              "#9c179e"
             ],
             [
              0.4444444444444444,
              "#bd3786"
             ],
             [
              0.5555555555555556,
              "#d8576b"
             ],
             [
              0.6666666666666666,
              "#ed7953"
             ],
             [
              0.7777777777777778,
              "#fb9f3a"
             ],
             [
              0.8888888888888888,
              "#fdca26"
             ],
             [
              1,
              "#f0f921"
             ]
            ],
            "type": "histogram2d"
           }
          ],
          "histogram2dcontour": [
           {
            "colorbar": {
             "outlinewidth": 0,
             "ticks": ""
            },
            "colorscale": [
             [
              0,
              "#0d0887"
             ],
             [
              0.1111111111111111,
              "#46039f"
             ],
             [
              0.2222222222222222,
              "#7201a8"
             ],
             [
              0.3333333333333333,
              "#9c179e"
             ],
             [
              0.4444444444444444,
              "#bd3786"
             ],
             [
              0.5555555555555556,
              "#d8576b"
             ],
             [
              0.6666666666666666,
              "#ed7953"
             ],
             [
              0.7777777777777778,
              "#fb9f3a"
             ],
             [
              0.8888888888888888,
              "#fdca26"
             ],
             [
              1,
              "#f0f921"
             ]
            ],
            "type": "histogram2dcontour"
           }
          ],
          "mesh3d": [
           {
            "colorbar": {
             "outlinewidth": 0,
             "ticks": ""
            },
            "type": "mesh3d"
           }
          ],
          "parcoords": [
           {
            "line": {
             "colorbar": {
              "outlinewidth": 0,
              "ticks": ""
             }
            },
            "type": "parcoords"
           }
          ],
          "pie": [
           {
            "automargin": true,
            "type": "pie"
           }
          ],
          "scatter": [
           {
            "marker": {
             "colorbar": {
              "outlinewidth": 0,
              "ticks": ""
             }
            },
            "type": "scatter"
           }
          ],
          "scatter3d": [
           {
            "line": {
             "colorbar": {
              "outlinewidth": 0,
              "ticks": ""
             }
            },
            "marker": {
             "colorbar": {
              "outlinewidth": 0,
              "ticks": ""
             }
            },
            "type": "scatter3d"
           }
          ],
          "scattercarpet": [
           {
            "marker": {
             "colorbar": {
              "outlinewidth": 0,
              "ticks": ""
             }
            },
            "type": "scattercarpet"
           }
          ],
          "scattergeo": [
           {
            "marker": {
             "colorbar": {
              "outlinewidth": 0,
              "ticks": ""
             }
            },
            "type": "scattergeo"
           }
          ],
          "scattergl": [
           {
            "marker": {
             "colorbar": {
              "outlinewidth": 0,
              "ticks": ""
             }
            },
            "type": "scattergl"
           }
          ],
          "scattermapbox": [
           {
            "marker": {
             "colorbar": {
              "outlinewidth": 0,
              "ticks": ""
             }
            },
            "type": "scattermapbox"
           }
          ],
          "scatterpolar": [
           {
            "marker": {
             "colorbar": {
              "outlinewidth": 0,
              "ticks": ""
             }
            },
            "type": "scatterpolar"
           }
          ],
          "scatterpolargl": [
           {
            "marker": {
             "colorbar": {
              "outlinewidth": 0,
              "ticks": ""
             }
            },
            "type": "scatterpolargl"
           }
          ],
          "scatterternary": [
           {
            "marker": {
             "colorbar": {
              "outlinewidth": 0,
              "ticks": ""
             }
            },
            "type": "scatterternary"
           }
          ],
          "surface": [
           {
            "colorbar": {
             "outlinewidth": 0,
             "ticks": ""
            },
            "colorscale": [
             [
              0,
              "#0d0887"
             ],
             [
              0.1111111111111111,
              "#46039f"
             ],
             [
              0.2222222222222222,
              "#7201a8"
             ],
             [
              0.3333333333333333,
              "#9c179e"
             ],
             [
              0.4444444444444444,
              "#bd3786"
             ],
             [
              0.5555555555555556,
              "#d8576b"
             ],
             [
              0.6666666666666666,
              "#ed7953"
             ],
             [
              0.7777777777777778,
              "#fb9f3a"
             ],
             [
              0.8888888888888888,
              "#fdca26"
             ],
             [
              1,
              "#f0f921"
             ]
            ],
            "type": "surface"
           }
          ],
          "table": [
           {
            "cells": {
             "fill": {
              "color": "#EBF0F8"
             },
             "line": {
              "color": "white"
             }
            },
            "header": {
             "fill": {
              "color": "#C8D4E3"
             },
             "line": {
              "color": "white"
             }
            },
            "type": "table"
           }
          ]
         },
         "layout": {
          "annotationdefaults": {
           "arrowcolor": "#2a3f5f",
           "arrowhead": 0,
           "arrowwidth": 1
          },
          "coloraxis": {
           "colorbar": {
            "outlinewidth": 0,
            "ticks": ""
           }
          },
          "colorscale": {
           "diverging": [
            [
             0,
             "#8e0152"
            ],
            [
             0.1,
             "#c51b7d"
            ],
            [
             0.2,
             "#de77ae"
            ],
            [
             0.3,
             "#f1b6da"
            ],
            [
             0.4,
             "#fde0ef"
            ],
            [
             0.5,
             "#f7f7f7"
            ],
            [
             0.6,
             "#e6f5d0"
            ],
            [
             0.7,
             "#b8e186"
            ],
            [
             0.8,
             "#7fbc41"
            ],
            [
             0.9,
             "#4d9221"
            ],
            [
             1,
             "#276419"
            ]
           ],
           "sequential": [
            [
             0,
             "#0d0887"
            ],
            [
             0.1111111111111111,
             "#46039f"
            ],
            [
             0.2222222222222222,
             "#7201a8"
            ],
            [
             0.3333333333333333,
             "#9c179e"
            ],
            [
             0.4444444444444444,
             "#bd3786"
            ],
            [
             0.5555555555555556,
             "#d8576b"
            ],
            [
             0.6666666666666666,
             "#ed7953"
            ],
            [
             0.7777777777777778,
             "#fb9f3a"
            ],
            [
             0.8888888888888888,
             "#fdca26"
            ],
            [
             1,
             "#f0f921"
            ]
           ],
           "sequentialminus": [
            [
             0,
             "#0d0887"
            ],
            [
             0.1111111111111111,
             "#46039f"
            ],
            [
             0.2222222222222222,
             "#7201a8"
            ],
            [
             0.3333333333333333,
             "#9c179e"
            ],
            [
             0.4444444444444444,
             "#bd3786"
            ],
            [
             0.5555555555555556,
             "#d8576b"
            ],
            [
             0.6666666666666666,
             "#ed7953"
            ],
            [
             0.7777777777777778,
             "#fb9f3a"
            ],
            [
             0.8888888888888888,
             "#fdca26"
            ],
            [
             1,
             "#f0f921"
            ]
           ]
          },
          "colorway": [
           "#636efa",
           "#EF553B",
           "#00cc96",
           "#ab63fa",
           "#FFA15A",
           "#19d3f3",
           "#FF6692",
           "#B6E880",
           "#FF97FF",
           "#FECB52"
          ],
          "font": {
           "color": "#2a3f5f"
          },
          "geo": {
           "bgcolor": "white",
           "lakecolor": "white",
           "landcolor": "#E5ECF6",
           "showlakes": true,
           "showland": true,
           "subunitcolor": "white"
          },
          "hoverlabel": {
           "align": "left"
          },
          "hovermode": "closest",
          "mapbox": {
           "style": "light"
          },
          "paper_bgcolor": "white",
          "plot_bgcolor": "#E5ECF6",
          "polar": {
           "angularaxis": {
            "gridcolor": "white",
            "linecolor": "white",
            "ticks": ""
           },
           "bgcolor": "#E5ECF6",
           "radialaxis": {
            "gridcolor": "white",
            "linecolor": "white",
            "ticks": ""
           }
          },
          "scene": {
           "xaxis": {
            "backgroundcolor": "#E5ECF6",
            "gridcolor": "white",
            "gridwidth": 2,
            "linecolor": "white",
            "showbackground": true,
            "ticks": "",
            "zerolinecolor": "white"
           },
           "yaxis": {
            "backgroundcolor": "#E5ECF6",
            "gridcolor": "white",
            "gridwidth": 2,
            "linecolor": "white",
            "showbackground": true,
            "ticks": "",
            "zerolinecolor": "white"
           },
           "zaxis": {
            "backgroundcolor": "#E5ECF6",
            "gridcolor": "white",
            "gridwidth": 2,
            "linecolor": "white",
            "showbackground": true,
            "ticks": "",
            "zerolinecolor": "white"
           }
          },
          "shapedefaults": {
           "line": {
            "color": "#2a3f5f"
           }
          },
          "ternary": {
           "aaxis": {
            "gridcolor": "white",
            "linecolor": "white",
            "ticks": ""
           },
           "baxis": {
            "gridcolor": "white",
            "linecolor": "white",
            "ticks": ""
           },
           "bgcolor": "#E5ECF6",
           "caxis": {
            "gridcolor": "white",
            "linecolor": "white",
            "ticks": ""
           }
          },
          "title": {
           "x": 0.05
          },
          "xaxis": {
           "automargin": true,
           "gridcolor": "white",
           "linecolor": "white",
           "ticks": "",
           "title": {
            "standoff": 15
           },
           "zerolinecolor": "white",
           "zerolinewidth": 2
          },
          "yaxis": {
           "automargin": true,
           "gridcolor": "white",
           "linecolor": "white",
           "ticks": "",
           "title": {
            "standoff": 15
           },
           "zerolinecolor": "white",
           "zerolinewidth": 2
          }
         }
        },
        "title": {
         "font": {
          "color": "#4D5663"
         }
        },
        "xaxis": {
         "gridcolor": "#E1E5ED",
         "showgrid": true,
         "tickfont": {
          "color": "#4D5663"
         },
         "title": {
          "font": {
           "color": "#4D5663"
          },
          "text": ""
         },
         "zerolinecolor": "#E1E5ED"
        },
        "yaxis": {
         "gridcolor": "#E1E5ED",
         "showgrid": true,
         "tickfont": {
          "color": "#4D5663"
         },
         "title": {
          "font": {
           "color": "#4D5663"
          },
          "text": ""
         },
         "zerolinecolor": "#E1E5ED"
        }
       }
      },
      "text/html": [
       "<div>\n",
       "        \n",
       "        \n",
       "            <div id=\"077ea323-7bdd-4ca1-b23b-4f589add54f9\" class=\"plotly-graph-div\" style=\"height:525px; width:100%;\"></div>\n",
       "            <script type=\"text/javascript\">\n",
       "                require([\"plotly\"], function(Plotly) {\n",
       "                    window.PLOTLYENV=window.PLOTLYENV || {};\n",
       "                    window.PLOTLYENV.BASE_URL='https://plot.ly';\n",
       "                    \n",
       "                if (document.getElementById(\"077ea323-7bdd-4ca1-b23b-4f589add54f9\")) {\n",
       "                    Plotly.newPlot(\n",
       "                        '077ea323-7bdd-4ca1-b23b-4f589add54f9',\n",
       "                        [{\"marker\": {\"color\": \"rgba(255, 153, 51, 0.6)\", \"line\": {\"color\": \"rgba(255, 153, 51, 1.0)\", \"width\": 1}}, \"name\": \"A\", \"orientation\": \"v\", \"text\": \"\", \"type\": \"bar\", \"x\": [0, 1, 2, 3, 4, 5, 6, 7, 8, 9, 10, 11, 12, 13, 14, 15, 16, 17, 18, 19, 20, 21, 22, 23, 24, 25, 26, 27, 28, 29, 30, 31, 32, 33, 34, 35, 36, 37, 38, 39, 40, 41, 42, 43, 44, 45, 46, 47, 48, 49, 50, 51, 52, 53, 54, 55, 56, 57, 58, 59, 60, 61, 62, 63, 64, 65, 66, 67, 68, 69, 70, 71, 72, 73, 74, 75, 76, 77, 78, 79, 80, 81, 82, 83, 84, 85, 86, 87, 88, 89, 90, 91, 92, 93, 94, 95, 96, 97, 98, 99], \"y\": [2.4749962936946055, -0.9007990275507158, -0.9805747297855275, 0.8591241423923144, -0.23513612993279762, -1.4871885942258938, 0.1509626101323387, 0.3710990855337078, -0.0783348441645605, 2.26380966222816, 0.208228005383773, 0.3526292310156882, 1.1125779531924598, -0.9777079006710802, 1.2013899556079988, 0.07237738940168735, -1.3345991474970709, -2.017283621905848, -0.6549271175784173, -1.8897303970589032, -0.05019611399214896, 0.2680783170338222, 0.8959378751017952, 1.9759406303102243, 0.6701199636150814, 0.9306138813501291, -2.581350212978, 1.2019358187360194, 0.5962268260509613, 0.043399436853583974, -0.7034736013426729, -0.5870817705680396, 0.26132864277511264, 1.0026011168534013, 0.5024826385176249, -1.3709098720171886, 1.6010990955566187, -1.1866188378116598, -0.0851183518897504, 2.6578337032405006, 1.6498431342132363, 0.01577419471099402, 0.18660345295126896, -1.6380810984694385, -0.6920612579214326, -0.5481117511795, -0.8393828604315164, 0.6545901837953004, 0.6793888900506158, 0.5868162253947056, 0.7373061487047904, 0.4104583260324701, 1.512028590184469, 2.234848174397926, -1.206697874221941, 1.5386372375224369, 0.4589019331759673, -0.2677178684218074, -0.5165748852689157, 2.097914912767957, 1.1046891478459746, -1.0127769075344921, -0.9275024218807334, 0.46254807937094916, -2.581572057555803, -0.5177589481227729, 0.4316554621434871, 0.6954811231387482, 0.0300098483416636, 0.6539900009746611, -0.4449879580630433, -0.999503090467957, 1.0362026545443144, 0.9136741620871076, -0.5439968151535551, -0.8107903439717139, -1.9019102452016945, 0.7119532518308098, -0.5667692810338499, 1.0639290359748934, -0.6453104900764639, 0.26835233269243897, -0.7968176977559296, -0.7527220997163271, -1.5516630981944994, 0.5303143093757477, 1.0840453642416785, 1.4896418973352272, 1.2220370054697876, -0.16792657416935036, -0.2308432545947218, -0.29786350107739773, 0.12177245408476088, 1.3631037691423746, 0.6384473313553243, -0.7283898466255497, 0.2516740646126679, -0.8870567793418102, 0.5163456231504208, 1.1852874008722312]}, {\"marker\": {\"color\": \"rgba(55, 128, 191, 0.6)\", \"line\": {\"color\": \"rgba(55, 128, 191, 1.0)\", \"width\": 1}}, \"name\": \"B\", \"orientation\": \"v\", \"text\": \"\", \"type\": \"bar\", \"x\": [0, 1, 2, 3, 4, 5, 6, 7, 8, 9, 10, 11, 12, 13, 14, 15, 16, 17, 18, 19, 20, 21, 22, 23, 24, 25, 26, 27, 28, 29, 30, 31, 32, 33, 34, 35, 36, 37, 38, 39, 40, 41, 42, 43, 44, 45, 46, 47, 48, 49, 50, 51, 52, 53, 54, 55, 56, 57, 58, 59, 60, 61, 62, 63, 64, 65, 66, 67, 68, 69, 70, 71, 72, 73, 74, 75, 76, 77, 78, 79, 80, 81, 82, 83, 84, 85, 86, 87, 88, 89, 90, 91, 92, 93, 94, 95, 96, 97, 98, 99], \"y\": [0.3134686022095278, 0.9167330694085948, 1.8358559878457181, 0.2834426630393991, 0.22899753551591995, 1.2214721753208433, 0.2910640003360314, 0.44389793149791734, 1.2162009677053427, -0.9619002047119665, -1.2784583359551878, -0.37144603885723965, 0.8800661016792073, -0.6763563018495778, -2.2277493627980003, 0.6930676738162171, -1.1683340478867852, -0.15790090640505508, -0.6826931554912031, 0.05049038923586889, 0.4869377860093024, -0.8835410697700743, 0.24868435409408757, -1.056969392655306, 0.6233496437331075, 0.9046922325586537, 0.2818495405726576, 0.14967640219134654, -0.6091488927991449, 0.2123086378874707, 0.45743817850369867, -0.9658200412921484, -0.00865557348175014, 0.4291721685534401, -0.22006799285765793, 2.488597634675389, -0.6061303020257509, 1.6102658234045657, -1.000863701554238, -0.534256527143899, -0.4621570121146412, -1.9759816278599311, -0.7760690578252674, -0.18467394830622197, -1.1458391575252205, 1.7555670562803594, -0.26250474351571285, 0.5464460246470153, 0.30987674584616987, 0.3520151819035632, 0.9958399353993154, -0.5214726384988668, 0.07222055358695231, 0.46791079579358846, -0.33047997165882564, 0.9192388020854462, -0.3256795536945822, -1.8653337188608055, 0.5962235529452432, -0.4240408936804001, 1.8384924861277794, -1.1038965745155283, -0.8519275517835061, 0.7141618825240307, 0.8285710482210474, -0.42276652716172586, -1.1587737795342765, 0.9809709177500708, -0.12667495781204194, -2.5319609816814572, 1.432198698417712, -1.0622603426980124, -0.6234638991651306, -1.2776077551390106, 0.028895853903978024, 1.644544932190103, -0.6163351737696124, -0.041946278013372994, 1.07876840216128, 0.4241597671285785, -2.2076469021892127, -0.6868007293609565, -0.7430886502094988, -0.33242320190080693, -0.7943984962651276, -2.4226861547474168, 1.5447323436514886, -0.5894859162554954, -0.5022088401908156, -1.5308674143676129, -1.1681670620058908, 1.3748345847740826, 0.28388738456361123, -0.37374003079645696, 2.9489109452284934, 0.38147384481885627, -0.6351765194539595, 0.08824145484231279, -0.811892307602746, -1.742992613677244]}, {\"marker\": {\"color\": \"rgba(50, 171, 96, 0.6)\", \"line\": {\"color\": \"rgba(50, 171, 96, 1.0)\", \"width\": 1}}, \"name\": \"C\", \"orientation\": \"v\", \"text\": \"\", \"type\": \"bar\", \"x\": [0, 1, 2, 3, 4, 5, 6, 7, 8, 9, 10, 11, 12, 13, 14, 15, 16, 17, 18, 19, 20, 21, 22, 23, 24, 25, 26, 27, 28, 29, 30, 31, 32, 33, 34, 35, 36, 37, 38, 39, 40, 41, 42, 43, 44, 45, 46, 47, 48, 49, 50, 51, 52, 53, 54, 55, 56, 57, 58, 59, 60, 61, 62, 63, 64, 65, 66, 67, 68, 69, 70, 71, 72, 73, 74, 75, 76, 77, 78, 79, 80, 81, 82, 83, 84, 85, 86, 87, 88, 89, 90, 91, 92, 93, 94, 95, 96, 97, 98, 99], \"y\": [1.231070159811716, -0.03117281649129617, -0.6162773756384039, -1.6376008743252277, -0.08241446653137414, -1.1857410285737386, 1.5025063017476732, -0.05133227922674751, 1.2644556879951765, -0.05964774681572033, -2.297403684005262, -0.9868119640856649, 0.05675988924076596, 1.185951066101353, -1.373095549551666, -0.20562601185759508, 1.9428309188887116, -0.18927683502183562, 0.9825093159521757, -1.2263415995284603, -0.6298439802477139, 0.6068580870279782, -0.890636392495951, 0.631918047414181, -0.7720379065528462, -0.29593149001966135, -1.1226904422118051, 0.23629800314365096, -0.4741276194468566, 2.1717181443789344, -1.4806895991854223, -0.4955021094440134, 0.032117081646470994, 0.25701142893123874, -0.23713230266729876, 0.9695332751815351, 0.2716319732427874, -0.20824851930974994, -1.0475258685794056, 0.56838672084109, -0.14802383067475433, -0.2626985118025356, -0.485172385498463, 0.40027566985106316, -0.4421940311637228, -1.2083996634068965, -1.5985316077391072, 0.5640687204376864, -0.37255174684050163, 1.9573057613355627, -0.08203264742974938, -0.6363424018323703, 0.47124001588370756, -0.9974260837891378, 0.561213886768126, -0.2517931486910543, -1.0726006338905476, 1.895293220583968, -0.5735772528649017, -1.0961897880553446, -1.2473194715544305, -1.9395128963440484, -0.8011034626807447, -0.8729632839115978, 0.9718542651123409, 0.9880918794379198, -0.3539421511355455, -0.7872073680358485, -0.014673280228460442, 0.0719656927583585, 0.22437507299150267, 1.238024342372839, 0.3609958413639249, 0.31562209670153074, 0.660784086125347, 1.0264393713595676, -1.2501039657721695, 0.7398172427970308, -1.379883171220064, -0.2789847177401478, 0.402043007570006, 0.14469232460479514, -0.08498934486439978, 1.7134644085780146, -1.4468169895356162, 0.715895965943651, -0.1544878290689414, -0.19537887570599272, -0.5316531629843192, -0.44306354202850134, 0.42475780202125824, -0.585282832765401, 2.0077890009820103, -0.00392265960940687, -0.7012580198585556, 3.2492551217480696, -1.0309968186486267, -1.8420028443536924, -0.4099855734921172, 0.31802949595869745]}, {\"marker\": {\"color\": \"rgba(128, 0, 128, 0.6)\", \"line\": {\"color\": \"rgba(128, 0, 128, 1.0)\", \"width\": 1}}, \"name\": \"D\", \"orientation\": \"v\", \"text\": \"\", \"type\": \"bar\", \"x\": [0, 1, 2, 3, 4, 5, 6, 7, 8, 9, 10, 11, 12, 13, 14, 15, 16, 17, 18, 19, 20, 21, 22, 23, 24, 25, 26, 27, 28, 29, 30, 31, 32, 33, 34, 35, 36, 37, 38, 39, 40, 41, 42, 43, 44, 45, 46, 47, 48, 49, 50, 51, 52, 53, 54, 55, 56, 57, 58, 59, 60, 61, 62, 63, 64, 65, 66, 67, 68, 69, 70, 71, 72, 73, 74, 75, 76, 77, 78, 79, 80, 81, 82, 83, 84, 85, 86, 87, 88, 89, 90, 91, 92, 93, 94, 95, 96, 97, 98, 99], \"y\": [-0.38885819895232676, -0.9717472290895455, -0.9139514439533044, -0.12082311181586085, 0.3330149406569263, -0.9799049992518911, -1.67111919752334, 0.15162770083347216, 2.1445059748730726, 0.6058900549623925, 1.0630011917635849, -0.24644562811864812, -1.5325621975142605, -0.6469666724377413, -0.9616193205511907, 0.41800907429574874, 1.0397811292984618, -0.31541696072229847, -1.4049094608966841, -0.0884161044520405, 0.21495690415865082, 0.7272029791670528, -0.36171724757592705, -1.8843190236447718, -2.601906771859556, 0.9330016216922752, -1.0913660590152312, -0.4987963991281909, 1.7963669173505645, -0.020190081183019428, -0.08012435469167206, 1.0110582736533014, -1.1176034224498308, 0.669714490474785, 1.4345482061991972, 0.9899681205051231, -1.0361872742541638, 0.9543542851066912, 0.6886393863606326, 0.19966677361934768, 0.2248252323826824, 1.266659711726156, -1.1336143637616543, -1.9569188197769551, -0.6045250312730492, 1.008230391710319, -0.7398823275817051, -1.086953738335082, 1.9542880196409105, -1.941804377383334, -1.4808022512692627, -0.14015683186366015, 0.7626198660784957, -0.27479444953159154, 0.34448358744396157, 0.20148077743096154, 0.5811986146711187, 0.19960282050885136, 0.7739569815639976, -1.1573437069405694, 0.4521186470452195, 0.11990670910695764, 1.4924315665692511, 1.4175810663481372, 0.6183128660677296, 1.6061354947982638, 1.1996224140964713, -0.20863814845378764, -0.7959340245341419, 1.6055454796693986, 0.3345272122695861, -1.3223424522812381, 0.4077645278070668, -2.063164604706958, -0.06691844889513632, 0.5828815572503655, -0.3128476641027049, -1.1638349708744584, 0.41722706491806855, -0.18316239793324637, -0.930424708885888, -1.902918235853356, 0.8041526601231147, 0.10882810639113567, 0.2644282211852591, 2.310789453105758, -0.16812597599819737, -0.558078628026835, 0.11279638166561838, -0.5792231817795479, 0.09869825075713468, 0.5882162052004194, -0.792805396195245, 1.2161537394731101, -0.31067260416757025, -0.1178432631562213, 0.025596138383547126, 1.1510116422285448, 1.1275767421761456, -0.7168911555643587]}],\n",
       "                        {\"legend\": {\"bgcolor\": \"#F5F6F9\", \"font\": {\"color\": \"#4D5663\"}}, \"paper_bgcolor\": \"#F5F6F9\", \"plot_bgcolor\": \"#F5F6F9\", \"template\": {\"data\": {\"bar\": [{\"error_x\": {\"color\": \"#2a3f5f\"}, \"error_y\": {\"color\": \"#2a3f5f\"}, \"marker\": {\"line\": {\"color\": \"#E5ECF6\", \"width\": 0.5}}, \"type\": \"bar\"}], \"barpolar\": [{\"marker\": {\"line\": {\"color\": \"#E5ECF6\", \"width\": 0.5}}, \"type\": \"barpolar\"}], \"carpet\": [{\"aaxis\": {\"endlinecolor\": \"#2a3f5f\", \"gridcolor\": \"white\", \"linecolor\": \"white\", \"minorgridcolor\": \"white\", \"startlinecolor\": \"#2a3f5f\"}, \"baxis\": {\"endlinecolor\": \"#2a3f5f\", \"gridcolor\": \"white\", \"linecolor\": \"white\", \"minorgridcolor\": \"white\", \"startlinecolor\": \"#2a3f5f\"}, \"type\": \"carpet\"}], \"choropleth\": [{\"colorbar\": {\"outlinewidth\": 0, \"ticks\": \"\"}, \"type\": \"choropleth\"}], \"contour\": [{\"colorbar\": {\"outlinewidth\": 0, \"ticks\": \"\"}, \"colorscale\": [[0.0, \"#0d0887\"], [0.1111111111111111, \"#46039f\"], [0.2222222222222222, \"#7201a8\"], [0.3333333333333333, \"#9c179e\"], [0.4444444444444444, \"#bd3786\"], [0.5555555555555556, \"#d8576b\"], [0.6666666666666666, \"#ed7953\"], [0.7777777777777778, \"#fb9f3a\"], [0.8888888888888888, \"#fdca26\"], [1.0, \"#f0f921\"]], \"type\": \"contour\"}], \"contourcarpet\": [{\"colorbar\": {\"outlinewidth\": 0, \"ticks\": \"\"}, \"type\": \"contourcarpet\"}], \"heatmap\": [{\"colorbar\": {\"outlinewidth\": 0, \"ticks\": \"\"}, \"colorscale\": [[0.0, \"#0d0887\"], [0.1111111111111111, \"#46039f\"], [0.2222222222222222, \"#7201a8\"], [0.3333333333333333, \"#9c179e\"], [0.4444444444444444, \"#bd3786\"], [0.5555555555555556, \"#d8576b\"], [0.6666666666666666, \"#ed7953\"], [0.7777777777777778, \"#fb9f3a\"], [0.8888888888888888, \"#fdca26\"], [1.0, \"#f0f921\"]], \"type\": \"heatmap\"}], \"heatmapgl\": [{\"colorbar\": {\"outlinewidth\": 0, \"ticks\": \"\"}, \"colorscale\": [[0.0, \"#0d0887\"], [0.1111111111111111, \"#46039f\"], [0.2222222222222222, \"#7201a8\"], [0.3333333333333333, \"#9c179e\"], [0.4444444444444444, \"#bd3786\"], [0.5555555555555556, \"#d8576b\"], [0.6666666666666666, \"#ed7953\"], [0.7777777777777778, \"#fb9f3a\"], [0.8888888888888888, \"#fdca26\"], [1.0, \"#f0f921\"]], \"type\": \"heatmapgl\"}], \"histogram\": [{\"marker\": {\"colorbar\": {\"outlinewidth\": 0, \"ticks\": \"\"}}, \"type\": \"histogram\"}], \"histogram2d\": [{\"colorbar\": {\"outlinewidth\": 0, \"ticks\": \"\"}, \"colorscale\": [[0.0, \"#0d0887\"], [0.1111111111111111, \"#46039f\"], [0.2222222222222222, \"#7201a8\"], [0.3333333333333333, \"#9c179e\"], [0.4444444444444444, \"#bd3786\"], [0.5555555555555556, \"#d8576b\"], [0.6666666666666666, \"#ed7953\"], [0.7777777777777778, \"#fb9f3a\"], [0.8888888888888888, \"#fdca26\"], [1.0, \"#f0f921\"]], \"type\": \"histogram2d\"}], \"histogram2dcontour\": [{\"colorbar\": {\"outlinewidth\": 0, \"ticks\": \"\"}, \"colorscale\": [[0.0, \"#0d0887\"], [0.1111111111111111, \"#46039f\"], [0.2222222222222222, \"#7201a8\"], [0.3333333333333333, \"#9c179e\"], [0.4444444444444444, \"#bd3786\"], [0.5555555555555556, \"#d8576b\"], [0.6666666666666666, \"#ed7953\"], [0.7777777777777778, \"#fb9f3a\"], [0.8888888888888888, \"#fdca26\"], [1.0, \"#f0f921\"]], \"type\": \"histogram2dcontour\"}], \"mesh3d\": [{\"colorbar\": {\"outlinewidth\": 0, \"ticks\": \"\"}, \"type\": \"mesh3d\"}], \"parcoords\": [{\"line\": {\"colorbar\": {\"outlinewidth\": 0, \"ticks\": \"\"}}, \"type\": \"parcoords\"}], \"pie\": [{\"automargin\": true, \"type\": \"pie\"}], \"scatter\": [{\"marker\": {\"colorbar\": {\"outlinewidth\": 0, \"ticks\": \"\"}}, \"type\": \"scatter\"}], \"scatter3d\": [{\"line\": {\"colorbar\": {\"outlinewidth\": 0, \"ticks\": \"\"}}, \"marker\": {\"colorbar\": {\"outlinewidth\": 0, \"ticks\": \"\"}}, \"type\": \"scatter3d\"}], \"scattercarpet\": [{\"marker\": {\"colorbar\": {\"outlinewidth\": 0, \"ticks\": \"\"}}, \"type\": \"scattercarpet\"}], \"scattergeo\": [{\"marker\": {\"colorbar\": {\"outlinewidth\": 0, \"ticks\": \"\"}}, \"type\": \"scattergeo\"}], \"scattergl\": [{\"marker\": {\"colorbar\": {\"outlinewidth\": 0, \"ticks\": \"\"}}, \"type\": \"scattergl\"}], \"scattermapbox\": [{\"marker\": {\"colorbar\": {\"outlinewidth\": 0, \"ticks\": \"\"}}, \"type\": \"scattermapbox\"}], \"scatterpolar\": [{\"marker\": {\"colorbar\": {\"outlinewidth\": 0, \"ticks\": \"\"}}, \"type\": \"scatterpolar\"}], \"scatterpolargl\": [{\"marker\": {\"colorbar\": {\"outlinewidth\": 0, \"ticks\": \"\"}}, \"type\": \"scatterpolargl\"}], \"scatterternary\": [{\"marker\": {\"colorbar\": {\"outlinewidth\": 0, \"ticks\": \"\"}}, \"type\": \"scatterternary\"}], \"surface\": [{\"colorbar\": {\"outlinewidth\": 0, \"ticks\": \"\"}, \"colorscale\": [[0.0, \"#0d0887\"], [0.1111111111111111, \"#46039f\"], [0.2222222222222222, \"#7201a8\"], [0.3333333333333333, \"#9c179e\"], [0.4444444444444444, \"#bd3786\"], [0.5555555555555556, \"#d8576b\"], [0.6666666666666666, \"#ed7953\"], [0.7777777777777778, \"#fb9f3a\"], [0.8888888888888888, \"#fdca26\"], [1.0, \"#f0f921\"]], \"type\": \"surface\"}], \"table\": [{\"cells\": {\"fill\": {\"color\": \"#EBF0F8\"}, \"line\": {\"color\": \"white\"}}, \"header\": {\"fill\": {\"color\": \"#C8D4E3\"}, \"line\": {\"color\": \"white\"}}, \"type\": \"table\"}]}, \"layout\": {\"annotationdefaults\": {\"arrowcolor\": \"#2a3f5f\", \"arrowhead\": 0, \"arrowwidth\": 1}, \"coloraxis\": {\"colorbar\": {\"outlinewidth\": 0, \"ticks\": \"\"}}, \"colorscale\": {\"diverging\": [[0, \"#8e0152\"], [0.1, \"#c51b7d\"], [0.2, \"#de77ae\"], [0.3, \"#f1b6da\"], [0.4, \"#fde0ef\"], [0.5, \"#f7f7f7\"], [0.6, \"#e6f5d0\"], [0.7, \"#b8e186\"], [0.8, \"#7fbc41\"], [0.9, \"#4d9221\"], [1, \"#276419\"]], \"sequential\": [[0.0, \"#0d0887\"], [0.1111111111111111, \"#46039f\"], [0.2222222222222222, \"#7201a8\"], [0.3333333333333333, \"#9c179e\"], [0.4444444444444444, \"#bd3786\"], [0.5555555555555556, \"#d8576b\"], [0.6666666666666666, \"#ed7953\"], [0.7777777777777778, \"#fb9f3a\"], [0.8888888888888888, \"#fdca26\"], [1.0, \"#f0f921\"]], \"sequentialminus\": [[0.0, \"#0d0887\"], [0.1111111111111111, \"#46039f\"], [0.2222222222222222, \"#7201a8\"], [0.3333333333333333, \"#9c179e\"], [0.4444444444444444, \"#bd3786\"], [0.5555555555555556, \"#d8576b\"], [0.6666666666666666, \"#ed7953\"], [0.7777777777777778, \"#fb9f3a\"], [0.8888888888888888, \"#fdca26\"], [1.0, \"#f0f921\"]]}, \"colorway\": [\"#636efa\", \"#EF553B\", \"#00cc96\", \"#ab63fa\", \"#FFA15A\", \"#19d3f3\", \"#FF6692\", \"#B6E880\", \"#FF97FF\", \"#FECB52\"], \"font\": {\"color\": \"#2a3f5f\"}, \"geo\": {\"bgcolor\": \"white\", \"lakecolor\": \"white\", \"landcolor\": \"#E5ECF6\", \"showlakes\": true, \"showland\": true, \"subunitcolor\": \"white\"}, \"hoverlabel\": {\"align\": \"left\"}, \"hovermode\": \"closest\", \"mapbox\": {\"style\": \"light\"}, \"paper_bgcolor\": \"white\", \"plot_bgcolor\": \"#E5ECF6\", \"polar\": {\"angularaxis\": {\"gridcolor\": \"white\", \"linecolor\": \"white\", \"ticks\": \"\"}, \"bgcolor\": \"#E5ECF6\", \"radialaxis\": {\"gridcolor\": \"white\", \"linecolor\": \"white\", \"ticks\": \"\"}}, \"scene\": {\"xaxis\": {\"backgroundcolor\": \"#E5ECF6\", \"gridcolor\": \"white\", \"gridwidth\": 2, \"linecolor\": \"white\", \"showbackground\": true, \"ticks\": \"\", \"zerolinecolor\": \"white\"}, \"yaxis\": {\"backgroundcolor\": \"#E5ECF6\", \"gridcolor\": \"white\", \"gridwidth\": 2, \"linecolor\": \"white\", \"showbackground\": true, \"ticks\": \"\", \"zerolinecolor\": \"white\"}, \"zaxis\": {\"backgroundcolor\": \"#E5ECF6\", \"gridcolor\": \"white\", \"gridwidth\": 2, \"linecolor\": \"white\", \"showbackground\": true, \"ticks\": \"\", \"zerolinecolor\": \"white\"}}, \"shapedefaults\": {\"line\": {\"color\": \"#2a3f5f\"}}, \"ternary\": {\"aaxis\": {\"gridcolor\": \"white\", \"linecolor\": \"white\", \"ticks\": \"\"}, \"baxis\": {\"gridcolor\": \"white\", \"linecolor\": \"white\", \"ticks\": \"\"}, \"bgcolor\": \"#E5ECF6\", \"caxis\": {\"gridcolor\": \"white\", \"linecolor\": \"white\", \"ticks\": \"\"}}, \"title\": {\"x\": 0.05}, \"xaxis\": {\"automargin\": true, \"gridcolor\": \"white\", \"linecolor\": \"white\", \"ticks\": \"\", \"title\": {\"standoff\": 15}, \"zerolinecolor\": \"white\", \"zerolinewidth\": 2}, \"yaxis\": {\"automargin\": true, \"gridcolor\": \"white\", \"linecolor\": \"white\", \"ticks\": \"\", \"title\": {\"standoff\": 15}, \"zerolinecolor\": \"white\", \"zerolinewidth\": 2}}}, \"title\": {\"font\": {\"color\": \"#4D5663\"}}, \"xaxis\": {\"gridcolor\": \"#E1E5ED\", \"showgrid\": true, \"tickfont\": {\"color\": \"#4D5663\"}, \"title\": {\"font\": {\"color\": \"#4D5663\"}, \"text\": \"\"}, \"zerolinecolor\": \"#E1E5ED\"}, \"yaxis\": {\"gridcolor\": \"#E1E5ED\", \"showgrid\": true, \"tickfont\": {\"color\": \"#4D5663\"}, \"title\": {\"font\": {\"color\": \"#4D5663\"}, \"text\": \"\"}, \"zerolinecolor\": \"#E1E5ED\"}},\n",
       "                        {\"showLink\": true, \"linkText\": \"Export to plot.ly\", \"plotlyServerURL\": \"https://plot.ly\", \"responsive\": true}\n",
       "                    ).then(function(){\n",
       "                            \n",
       "var gd = document.getElementById('077ea323-7bdd-4ca1-b23b-4f589add54f9');\n",
       "var x = new MutationObserver(function (mutations, observer) {{\n",
       "        var display = window.getComputedStyle(gd).display;\n",
       "        if (!display || display === 'none') {{\n",
       "            console.log([gd, 'removed!']);\n",
       "            Plotly.purge(gd);\n",
       "            observer.disconnect();\n",
       "        }}\n",
       "}});\n",
       "\n",
       "// Listen for the removal of the full notebook cells\n",
       "var notebookContainer = gd.closest('#notebook-container');\n",
       "if (notebookContainer) {{\n",
       "    x.observe(notebookContainer, {childList: true});\n",
       "}}\n",
       "\n",
       "// Listen for the clearing of the current output cell\n",
       "var outputEl = gd.closest('.output');\n",
       "if (outputEl) {{\n",
       "    x.observe(outputEl, {childList: true});\n",
       "}}\n",
       "\n",
       "                        })\n",
       "                };\n",
       "                });\n",
       "            </script>\n",
       "        </div>"
      ]
     },
     "metadata": {},
     "output_type": "display_data"
    }
   ],
   "source": [
    "df.iplot(kind='bar')"
   ]
  },
  {
   "cell_type": "code",
   "execution_count": 53,
   "metadata": {},
   "outputs": [
    {
     "data": {
      "text/plain": [
       "A    11.017239\n",
       "B    -8.167800\n",
       "C    -7.845324\n",
       "D    -0.890617\n",
       "dtype: float64"
      ]
     },
     "execution_count": 53,
     "metadata": {},
     "output_type": "execute_result"
    }
   ],
   "source": [
    "df.sum()"
   ]
  },
  {
   "cell_type": "code",
   "execution_count": 54,
   "metadata": {},
   "outputs": [
    {
     "data": {
      "application/vnd.plotly.v1+json": {
       "config": {
        "linkText": "Export to plot.ly",
        "plotlyServerURL": "https://plot.ly",
        "showLink": true
       },
       "data": [
        {
         "marker": {
          "color": "rgba(255, 153, 51, 0.6)",
          "line": {
           "color": "rgba(255, 153, 51, 1.0)",
           "width": 1
          }
         },
         "name": "None",
         "orientation": "v",
         "text": "",
         "type": "bar",
         "x": [
          "A",
          "B",
          "C",
          "D"
         ],
         "y": [
          11.01723871964252,
          -8.16780013678699,
          -7.845324062199017,
          -0.8906167434422119
         ]
        }
       ],
       "layout": {
        "legend": {
         "bgcolor": "#F5F6F9",
         "font": {
          "color": "#4D5663"
         }
        },
        "paper_bgcolor": "#F5F6F9",
        "plot_bgcolor": "#F5F6F9",
        "template": {
         "data": {
          "bar": [
           {
            "error_x": {
             "color": "#2a3f5f"
            },
            "error_y": {
             "color": "#2a3f5f"
            },
            "marker": {
             "line": {
              "color": "#E5ECF6",
              "width": 0.5
             }
            },
            "type": "bar"
           }
          ],
          "barpolar": [
           {
            "marker": {
             "line": {
              "color": "#E5ECF6",
              "width": 0.5
             }
            },
            "type": "barpolar"
           }
          ],
          "carpet": [
           {
            "aaxis": {
             "endlinecolor": "#2a3f5f",
             "gridcolor": "white",
             "linecolor": "white",
             "minorgridcolor": "white",
             "startlinecolor": "#2a3f5f"
            },
            "baxis": {
             "endlinecolor": "#2a3f5f",
             "gridcolor": "white",
             "linecolor": "white",
             "minorgridcolor": "white",
             "startlinecolor": "#2a3f5f"
            },
            "type": "carpet"
           }
          ],
          "choropleth": [
           {
            "colorbar": {
             "outlinewidth": 0,
             "ticks": ""
            },
            "type": "choropleth"
           }
          ],
          "contour": [
           {
            "colorbar": {
             "outlinewidth": 0,
             "ticks": ""
            },
            "colorscale": [
             [
              0,
              "#0d0887"
             ],
             [
              0.1111111111111111,
              "#46039f"
             ],
             [
              0.2222222222222222,
              "#7201a8"
             ],
             [
              0.3333333333333333,
              "#9c179e"
             ],
             [
              0.4444444444444444,
              "#bd3786"
             ],
             [
              0.5555555555555556,
              "#d8576b"
             ],
             [
              0.6666666666666666,
              "#ed7953"
             ],
             [
              0.7777777777777778,
              "#fb9f3a"
             ],
             [
              0.8888888888888888,
              "#fdca26"
             ],
             [
              1,
              "#f0f921"
             ]
            ],
            "type": "contour"
           }
          ],
          "contourcarpet": [
           {
            "colorbar": {
             "outlinewidth": 0,
             "ticks": ""
            },
            "type": "contourcarpet"
           }
          ],
          "heatmap": [
           {
            "colorbar": {
             "outlinewidth": 0,
             "ticks": ""
            },
            "colorscale": [
             [
              0,
              "#0d0887"
             ],
             [
              0.1111111111111111,
              "#46039f"
             ],
             [
              0.2222222222222222,
              "#7201a8"
             ],
             [
              0.3333333333333333,
              "#9c179e"
             ],
             [
              0.4444444444444444,
              "#bd3786"
             ],
             [
              0.5555555555555556,
              "#d8576b"
             ],
             [
              0.6666666666666666,
              "#ed7953"
             ],
             [
              0.7777777777777778,
              "#fb9f3a"
             ],
             [
              0.8888888888888888,
              "#fdca26"
             ],
             [
              1,
              "#f0f921"
             ]
            ],
            "type": "heatmap"
           }
          ],
          "heatmapgl": [
           {
            "colorbar": {
             "outlinewidth": 0,
             "ticks": ""
            },
            "colorscale": [
             [
              0,
              "#0d0887"
             ],
             [
              0.1111111111111111,
              "#46039f"
             ],
             [
              0.2222222222222222,
              "#7201a8"
             ],
             [
              0.3333333333333333,
              "#9c179e"
             ],
             [
              0.4444444444444444,
              "#bd3786"
             ],
             [
              0.5555555555555556,
              "#d8576b"
             ],
             [
              0.6666666666666666,
              "#ed7953"
             ],
             [
              0.7777777777777778,
              "#fb9f3a"
             ],
             [
              0.8888888888888888,
              "#fdca26"
             ],
             [
              1,
              "#f0f921"
             ]
            ],
            "type": "heatmapgl"
           }
          ],
          "histogram": [
           {
            "marker": {
             "colorbar": {
              "outlinewidth": 0,
              "ticks": ""
             }
            },
            "type": "histogram"
           }
          ],
          "histogram2d": [
           {
            "colorbar": {
             "outlinewidth": 0,
             "ticks": ""
            },
            "colorscale": [
             [
              0,
              "#0d0887"
             ],
             [
              0.1111111111111111,
              "#46039f"
             ],
             [
              0.2222222222222222,
              "#7201a8"
             ],
             [
              0.3333333333333333,
              "#9c179e"
             ],
             [
              0.4444444444444444,
              "#bd3786"
             ],
             [
              0.5555555555555556,
              "#d8576b"
             ],
             [
              0.6666666666666666,
              "#ed7953"
             ],
             [
              0.7777777777777778,
              "#fb9f3a"
             ],
             [
              0.8888888888888888,
              "#fdca26"
             ],
             [
              1,
              "#f0f921"
             ]
            ],
            "type": "histogram2d"
           }
          ],
          "histogram2dcontour": [
           {
            "colorbar": {
             "outlinewidth": 0,
             "ticks": ""
            },
            "colorscale": [
             [
              0,
              "#0d0887"
             ],
             [
              0.1111111111111111,
              "#46039f"
             ],
             [
              0.2222222222222222,
              "#7201a8"
             ],
             [
              0.3333333333333333,
              "#9c179e"
             ],
             [
              0.4444444444444444,
              "#bd3786"
             ],
             [
              0.5555555555555556,
              "#d8576b"
             ],
             [
              0.6666666666666666,
              "#ed7953"
             ],
             [
              0.7777777777777778,
              "#fb9f3a"
             ],
             [
              0.8888888888888888,
              "#fdca26"
             ],
             [
              1,
              "#f0f921"
             ]
            ],
            "type": "histogram2dcontour"
           }
          ],
          "mesh3d": [
           {
            "colorbar": {
             "outlinewidth": 0,
             "ticks": ""
            },
            "type": "mesh3d"
           }
          ],
          "parcoords": [
           {
            "line": {
             "colorbar": {
              "outlinewidth": 0,
              "ticks": ""
             }
            },
            "type": "parcoords"
           }
          ],
          "pie": [
           {
            "automargin": true,
            "type": "pie"
           }
          ],
          "scatter": [
           {
            "marker": {
             "colorbar": {
              "outlinewidth": 0,
              "ticks": ""
             }
            },
            "type": "scatter"
           }
          ],
          "scatter3d": [
           {
            "line": {
             "colorbar": {
              "outlinewidth": 0,
              "ticks": ""
             }
            },
            "marker": {
             "colorbar": {
              "outlinewidth": 0,
              "ticks": ""
             }
            },
            "type": "scatter3d"
           }
          ],
          "scattercarpet": [
           {
            "marker": {
             "colorbar": {
              "outlinewidth": 0,
              "ticks": ""
             }
            },
            "type": "scattercarpet"
           }
          ],
          "scattergeo": [
           {
            "marker": {
             "colorbar": {
              "outlinewidth": 0,
              "ticks": ""
             }
            },
            "type": "scattergeo"
           }
          ],
          "scattergl": [
           {
            "marker": {
             "colorbar": {
              "outlinewidth": 0,
              "ticks": ""
             }
            },
            "type": "scattergl"
           }
          ],
          "scattermapbox": [
           {
            "marker": {
             "colorbar": {
              "outlinewidth": 0,
              "ticks": ""
             }
            },
            "type": "scattermapbox"
           }
          ],
          "scatterpolar": [
           {
            "marker": {
             "colorbar": {
              "outlinewidth": 0,
              "ticks": ""
             }
            },
            "type": "scatterpolar"
           }
          ],
          "scatterpolargl": [
           {
            "marker": {
             "colorbar": {
              "outlinewidth": 0,
              "ticks": ""
             }
            },
            "type": "scatterpolargl"
           }
          ],
          "scatterternary": [
           {
            "marker": {
             "colorbar": {
              "outlinewidth": 0,
              "ticks": ""
             }
            },
            "type": "scatterternary"
           }
          ],
          "surface": [
           {
            "colorbar": {
             "outlinewidth": 0,
             "ticks": ""
            },
            "colorscale": [
             [
              0,
              "#0d0887"
             ],
             [
              0.1111111111111111,
              "#46039f"
             ],
             [
              0.2222222222222222,
              "#7201a8"
             ],
             [
              0.3333333333333333,
              "#9c179e"
             ],
             [
              0.4444444444444444,
              "#bd3786"
             ],
             [
              0.5555555555555556,
              "#d8576b"
             ],
             [
              0.6666666666666666,
              "#ed7953"
             ],
             [
              0.7777777777777778,
              "#fb9f3a"
             ],
             [
              0.8888888888888888,
              "#fdca26"
             ],
             [
              1,
              "#f0f921"
             ]
            ],
            "type": "surface"
           }
          ],
          "table": [
           {
            "cells": {
             "fill": {
              "color": "#EBF0F8"
             },
             "line": {
              "color": "white"
             }
            },
            "header": {
             "fill": {
              "color": "#C8D4E3"
             },
             "line": {
              "color": "white"
             }
            },
            "type": "table"
           }
          ]
         },
         "layout": {
          "annotationdefaults": {
           "arrowcolor": "#2a3f5f",
           "arrowhead": 0,
           "arrowwidth": 1
          },
          "coloraxis": {
           "colorbar": {
            "outlinewidth": 0,
            "ticks": ""
           }
          },
          "colorscale": {
           "diverging": [
            [
             0,
             "#8e0152"
            ],
            [
             0.1,
             "#c51b7d"
            ],
            [
             0.2,
             "#de77ae"
            ],
            [
             0.3,
             "#f1b6da"
            ],
            [
             0.4,
             "#fde0ef"
            ],
            [
             0.5,
             "#f7f7f7"
            ],
            [
             0.6,
             "#e6f5d0"
            ],
            [
             0.7,
             "#b8e186"
            ],
            [
             0.8,
             "#7fbc41"
            ],
            [
             0.9,
             "#4d9221"
            ],
            [
             1,
             "#276419"
            ]
           ],
           "sequential": [
            [
             0,
             "#0d0887"
            ],
            [
             0.1111111111111111,
             "#46039f"
            ],
            [
             0.2222222222222222,
             "#7201a8"
            ],
            [
             0.3333333333333333,
             "#9c179e"
            ],
            [
             0.4444444444444444,
             "#bd3786"
            ],
            [
             0.5555555555555556,
             "#d8576b"
            ],
            [
             0.6666666666666666,
             "#ed7953"
            ],
            [
             0.7777777777777778,
             "#fb9f3a"
            ],
            [
             0.8888888888888888,
             "#fdca26"
            ],
            [
             1,
             "#f0f921"
            ]
           ],
           "sequentialminus": [
            [
             0,
             "#0d0887"
            ],
            [
             0.1111111111111111,
             "#46039f"
            ],
            [
             0.2222222222222222,
             "#7201a8"
            ],
            [
             0.3333333333333333,
             "#9c179e"
            ],
            [
             0.4444444444444444,
             "#bd3786"
            ],
            [
             0.5555555555555556,
             "#d8576b"
            ],
            [
             0.6666666666666666,
             "#ed7953"
            ],
            [
             0.7777777777777778,
             "#fb9f3a"
            ],
            [
             0.8888888888888888,
             "#fdca26"
            ],
            [
             1,
             "#f0f921"
            ]
           ]
          },
          "colorway": [
           "#636efa",
           "#EF553B",
           "#00cc96",
           "#ab63fa",
           "#FFA15A",
           "#19d3f3",
           "#FF6692",
           "#B6E880",
           "#FF97FF",
           "#FECB52"
          ],
          "font": {
           "color": "#2a3f5f"
          },
          "geo": {
           "bgcolor": "white",
           "lakecolor": "white",
           "landcolor": "#E5ECF6",
           "showlakes": true,
           "showland": true,
           "subunitcolor": "white"
          },
          "hoverlabel": {
           "align": "left"
          },
          "hovermode": "closest",
          "mapbox": {
           "style": "light"
          },
          "paper_bgcolor": "white",
          "plot_bgcolor": "#E5ECF6",
          "polar": {
           "angularaxis": {
            "gridcolor": "white",
            "linecolor": "white",
            "ticks": ""
           },
           "bgcolor": "#E5ECF6",
           "radialaxis": {
            "gridcolor": "white",
            "linecolor": "white",
            "ticks": ""
           }
          },
          "scene": {
           "xaxis": {
            "backgroundcolor": "#E5ECF6",
            "gridcolor": "white",
            "gridwidth": 2,
            "linecolor": "white",
            "showbackground": true,
            "ticks": "",
            "zerolinecolor": "white"
           },
           "yaxis": {
            "backgroundcolor": "#E5ECF6",
            "gridcolor": "white",
            "gridwidth": 2,
            "linecolor": "white",
            "showbackground": true,
            "ticks": "",
            "zerolinecolor": "white"
           },
           "zaxis": {
            "backgroundcolor": "#E5ECF6",
            "gridcolor": "white",
            "gridwidth": 2,
            "linecolor": "white",
            "showbackground": true,
            "ticks": "",
            "zerolinecolor": "white"
           }
          },
          "shapedefaults": {
           "line": {
            "color": "#2a3f5f"
           }
          },
          "ternary": {
           "aaxis": {
            "gridcolor": "white",
            "linecolor": "white",
            "ticks": ""
           },
           "baxis": {
            "gridcolor": "white",
            "linecolor": "white",
            "ticks": ""
           },
           "bgcolor": "#E5ECF6",
           "caxis": {
            "gridcolor": "white",
            "linecolor": "white",
            "ticks": ""
           }
          },
          "title": {
           "x": 0.05
          },
          "xaxis": {
           "automargin": true,
           "gridcolor": "white",
           "linecolor": "white",
           "ticks": "",
           "title": {
            "standoff": 15
           },
           "zerolinecolor": "white",
           "zerolinewidth": 2
          },
          "yaxis": {
           "automargin": true,
           "gridcolor": "white",
           "linecolor": "white",
           "ticks": "",
           "title": {
            "standoff": 15
           },
           "zerolinecolor": "white",
           "zerolinewidth": 2
          }
         }
        },
        "title": {
         "font": {
          "color": "#4D5663"
         }
        },
        "xaxis": {
         "gridcolor": "#E1E5ED",
         "showgrid": true,
         "tickfont": {
          "color": "#4D5663"
         },
         "title": {
          "font": {
           "color": "#4D5663"
          },
          "text": ""
         },
         "zerolinecolor": "#E1E5ED"
        },
        "yaxis": {
         "gridcolor": "#E1E5ED",
         "showgrid": true,
         "tickfont": {
          "color": "#4D5663"
         },
         "title": {
          "font": {
           "color": "#4D5663"
          },
          "text": ""
         },
         "zerolinecolor": "#E1E5ED"
        }
       }
      },
      "text/html": [
       "<div>\n",
       "        \n",
       "        \n",
       "            <div id=\"fae1965c-5de7-41aa-bd33-5921d0f6b26e\" class=\"plotly-graph-div\" style=\"height:525px; width:100%;\"></div>\n",
       "            <script type=\"text/javascript\">\n",
       "                require([\"plotly\"], function(Plotly) {\n",
       "                    window.PLOTLYENV=window.PLOTLYENV || {};\n",
       "                    window.PLOTLYENV.BASE_URL='https://plot.ly';\n",
       "                    \n",
       "                if (document.getElementById(\"fae1965c-5de7-41aa-bd33-5921d0f6b26e\")) {\n",
       "                    Plotly.newPlot(\n",
       "                        'fae1965c-5de7-41aa-bd33-5921d0f6b26e',\n",
       "                        [{\"marker\": {\"color\": \"rgba(255, 153, 51, 0.6)\", \"line\": {\"color\": \"rgba(255, 153, 51, 1.0)\", \"width\": 1}}, \"name\": \"None\", \"orientation\": \"v\", \"text\": \"\", \"type\": \"bar\", \"x\": [\"A\", \"B\", \"C\", \"D\"], \"y\": [11.01723871964252, -8.16780013678699, -7.845324062199017, -0.8906167434422119]}],\n",
       "                        {\"legend\": {\"bgcolor\": \"#F5F6F9\", \"font\": {\"color\": \"#4D5663\"}}, \"paper_bgcolor\": \"#F5F6F9\", \"plot_bgcolor\": \"#F5F6F9\", \"template\": {\"data\": {\"bar\": [{\"error_x\": {\"color\": \"#2a3f5f\"}, \"error_y\": {\"color\": \"#2a3f5f\"}, \"marker\": {\"line\": {\"color\": \"#E5ECF6\", \"width\": 0.5}}, \"type\": \"bar\"}], \"barpolar\": [{\"marker\": {\"line\": {\"color\": \"#E5ECF6\", \"width\": 0.5}}, \"type\": \"barpolar\"}], \"carpet\": [{\"aaxis\": {\"endlinecolor\": \"#2a3f5f\", \"gridcolor\": \"white\", \"linecolor\": \"white\", \"minorgridcolor\": \"white\", \"startlinecolor\": \"#2a3f5f\"}, \"baxis\": {\"endlinecolor\": \"#2a3f5f\", \"gridcolor\": \"white\", \"linecolor\": \"white\", \"minorgridcolor\": \"white\", \"startlinecolor\": \"#2a3f5f\"}, \"type\": \"carpet\"}], \"choropleth\": [{\"colorbar\": {\"outlinewidth\": 0, \"ticks\": \"\"}, \"type\": \"choropleth\"}], \"contour\": [{\"colorbar\": {\"outlinewidth\": 0, \"ticks\": \"\"}, \"colorscale\": [[0.0, \"#0d0887\"], [0.1111111111111111, \"#46039f\"], [0.2222222222222222, \"#7201a8\"], [0.3333333333333333, \"#9c179e\"], [0.4444444444444444, \"#bd3786\"], [0.5555555555555556, \"#d8576b\"], [0.6666666666666666, \"#ed7953\"], [0.7777777777777778, \"#fb9f3a\"], [0.8888888888888888, \"#fdca26\"], [1.0, \"#f0f921\"]], \"type\": \"contour\"}], \"contourcarpet\": [{\"colorbar\": {\"outlinewidth\": 0, \"ticks\": \"\"}, \"type\": \"contourcarpet\"}], \"heatmap\": [{\"colorbar\": {\"outlinewidth\": 0, \"ticks\": \"\"}, \"colorscale\": [[0.0, \"#0d0887\"], [0.1111111111111111, \"#46039f\"], [0.2222222222222222, \"#7201a8\"], [0.3333333333333333, \"#9c179e\"], [0.4444444444444444, \"#bd3786\"], [0.5555555555555556, \"#d8576b\"], [0.6666666666666666, \"#ed7953\"], [0.7777777777777778, \"#fb9f3a\"], [0.8888888888888888, \"#fdca26\"], [1.0, \"#f0f921\"]], \"type\": \"heatmap\"}], \"heatmapgl\": [{\"colorbar\": {\"outlinewidth\": 0, \"ticks\": \"\"}, \"colorscale\": [[0.0, \"#0d0887\"], [0.1111111111111111, \"#46039f\"], [0.2222222222222222, \"#7201a8\"], [0.3333333333333333, \"#9c179e\"], [0.4444444444444444, \"#bd3786\"], [0.5555555555555556, \"#d8576b\"], [0.6666666666666666, \"#ed7953\"], [0.7777777777777778, \"#fb9f3a\"], [0.8888888888888888, \"#fdca26\"], [1.0, \"#f0f921\"]], \"type\": \"heatmapgl\"}], \"histogram\": [{\"marker\": {\"colorbar\": {\"outlinewidth\": 0, \"ticks\": \"\"}}, \"type\": \"histogram\"}], \"histogram2d\": [{\"colorbar\": {\"outlinewidth\": 0, \"ticks\": \"\"}, \"colorscale\": [[0.0, \"#0d0887\"], [0.1111111111111111, \"#46039f\"], [0.2222222222222222, \"#7201a8\"], [0.3333333333333333, \"#9c179e\"], [0.4444444444444444, \"#bd3786\"], [0.5555555555555556, \"#d8576b\"], [0.6666666666666666, \"#ed7953\"], [0.7777777777777778, \"#fb9f3a\"], [0.8888888888888888, \"#fdca26\"], [1.0, \"#f0f921\"]], \"type\": \"histogram2d\"}], \"histogram2dcontour\": [{\"colorbar\": {\"outlinewidth\": 0, \"ticks\": \"\"}, \"colorscale\": [[0.0, \"#0d0887\"], [0.1111111111111111, \"#46039f\"], [0.2222222222222222, \"#7201a8\"], [0.3333333333333333, \"#9c179e\"], [0.4444444444444444, \"#bd3786\"], [0.5555555555555556, \"#d8576b\"], [0.6666666666666666, \"#ed7953\"], [0.7777777777777778, \"#fb9f3a\"], [0.8888888888888888, \"#fdca26\"], [1.0, \"#f0f921\"]], \"type\": \"histogram2dcontour\"}], \"mesh3d\": [{\"colorbar\": {\"outlinewidth\": 0, \"ticks\": \"\"}, \"type\": \"mesh3d\"}], \"parcoords\": [{\"line\": {\"colorbar\": {\"outlinewidth\": 0, \"ticks\": \"\"}}, \"type\": \"parcoords\"}], \"pie\": [{\"automargin\": true, \"type\": \"pie\"}], \"scatter\": [{\"marker\": {\"colorbar\": {\"outlinewidth\": 0, \"ticks\": \"\"}}, \"type\": \"scatter\"}], \"scatter3d\": [{\"line\": {\"colorbar\": {\"outlinewidth\": 0, \"ticks\": \"\"}}, \"marker\": {\"colorbar\": {\"outlinewidth\": 0, \"ticks\": \"\"}}, \"type\": \"scatter3d\"}], \"scattercarpet\": [{\"marker\": {\"colorbar\": {\"outlinewidth\": 0, \"ticks\": \"\"}}, \"type\": \"scattercarpet\"}], \"scattergeo\": [{\"marker\": {\"colorbar\": {\"outlinewidth\": 0, \"ticks\": \"\"}}, \"type\": \"scattergeo\"}], \"scattergl\": [{\"marker\": {\"colorbar\": {\"outlinewidth\": 0, \"ticks\": \"\"}}, \"type\": \"scattergl\"}], \"scattermapbox\": [{\"marker\": {\"colorbar\": {\"outlinewidth\": 0, \"ticks\": \"\"}}, \"type\": \"scattermapbox\"}], \"scatterpolar\": [{\"marker\": {\"colorbar\": {\"outlinewidth\": 0, \"ticks\": \"\"}}, \"type\": \"scatterpolar\"}], \"scatterpolargl\": [{\"marker\": {\"colorbar\": {\"outlinewidth\": 0, \"ticks\": \"\"}}, \"type\": \"scatterpolargl\"}], \"scatterternary\": [{\"marker\": {\"colorbar\": {\"outlinewidth\": 0, \"ticks\": \"\"}}, \"type\": \"scatterternary\"}], \"surface\": [{\"colorbar\": {\"outlinewidth\": 0, \"ticks\": \"\"}, \"colorscale\": [[0.0, \"#0d0887\"], [0.1111111111111111, \"#46039f\"], [0.2222222222222222, \"#7201a8\"], [0.3333333333333333, \"#9c179e\"], [0.4444444444444444, \"#bd3786\"], [0.5555555555555556, \"#d8576b\"], [0.6666666666666666, \"#ed7953\"], [0.7777777777777778, \"#fb9f3a\"], [0.8888888888888888, \"#fdca26\"], [1.0, \"#f0f921\"]], \"type\": \"surface\"}], \"table\": [{\"cells\": {\"fill\": {\"color\": \"#EBF0F8\"}, \"line\": {\"color\": \"white\"}}, \"header\": {\"fill\": {\"color\": \"#C8D4E3\"}, \"line\": {\"color\": \"white\"}}, \"type\": \"table\"}]}, \"layout\": {\"annotationdefaults\": {\"arrowcolor\": \"#2a3f5f\", \"arrowhead\": 0, \"arrowwidth\": 1}, \"coloraxis\": {\"colorbar\": {\"outlinewidth\": 0, \"ticks\": \"\"}}, \"colorscale\": {\"diverging\": [[0, \"#8e0152\"], [0.1, \"#c51b7d\"], [0.2, \"#de77ae\"], [0.3, \"#f1b6da\"], [0.4, \"#fde0ef\"], [0.5, \"#f7f7f7\"], [0.6, \"#e6f5d0\"], [0.7, \"#b8e186\"], [0.8, \"#7fbc41\"], [0.9, \"#4d9221\"], [1, \"#276419\"]], \"sequential\": [[0.0, \"#0d0887\"], [0.1111111111111111, \"#46039f\"], [0.2222222222222222, \"#7201a8\"], [0.3333333333333333, \"#9c179e\"], [0.4444444444444444, \"#bd3786\"], [0.5555555555555556, \"#d8576b\"], [0.6666666666666666, \"#ed7953\"], [0.7777777777777778, \"#fb9f3a\"], [0.8888888888888888, \"#fdca26\"], [1.0, \"#f0f921\"]], \"sequentialminus\": [[0.0, \"#0d0887\"], [0.1111111111111111, \"#46039f\"], [0.2222222222222222, \"#7201a8\"], [0.3333333333333333, \"#9c179e\"], [0.4444444444444444, \"#bd3786\"], [0.5555555555555556, \"#d8576b\"], [0.6666666666666666, \"#ed7953\"], [0.7777777777777778, \"#fb9f3a\"], [0.8888888888888888, \"#fdca26\"], [1.0, \"#f0f921\"]]}, \"colorway\": [\"#636efa\", \"#EF553B\", \"#00cc96\", \"#ab63fa\", \"#FFA15A\", \"#19d3f3\", \"#FF6692\", \"#B6E880\", \"#FF97FF\", \"#FECB52\"], \"font\": {\"color\": \"#2a3f5f\"}, \"geo\": {\"bgcolor\": \"white\", \"lakecolor\": \"white\", \"landcolor\": \"#E5ECF6\", \"showlakes\": true, \"showland\": true, \"subunitcolor\": \"white\"}, \"hoverlabel\": {\"align\": \"left\"}, \"hovermode\": \"closest\", \"mapbox\": {\"style\": \"light\"}, \"paper_bgcolor\": \"white\", \"plot_bgcolor\": \"#E5ECF6\", \"polar\": {\"angularaxis\": {\"gridcolor\": \"white\", \"linecolor\": \"white\", \"ticks\": \"\"}, \"bgcolor\": \"#E5ECF6\", \"radialaxis\": {\"gridcolor\": \"white\", \"linecolor\": \"white\", \"ticks\": \"\"}}, \"scene\": {\"xaxis\": {\"backgroundcolor\": \"#E5ECF6\", \"gridcolor\": \"white\", \"gridwidth\": 2, \"linecolor\": \"white\", \"showbackground\": true, \"ticks\": \"\", \"zerolinecolor\": \"white\"}, \"yaxis\": {\"backgroundcolor\": \"#E5ECF6\", \"gridcolor\": \"white\", \"gridwidth\": 2, \"linecolor\": \"white\", \"showbackground\": true, \"ticks\": \"\", \"zerolinecolor\": \"white\"}, \"zaxis\": {\"backgroundcolor\": \"#E5ECF6\", \"gridcolor\": \"white\", \"gridwidth\": 2, \"linecolor\": \"white\", \"showbackground\": true, \"ticks\": \"\", \"zerolinecolor\": \"white\"}}, \"shapedefaults\": {\"line\": {\"color\": \"#2a3f5f\"}}, \"ternary\": {\"aaxis\": {\"gridcolor\": \"white\", \"linecolor\": \"white\", \"ticks\": \"\"}, \"baxis\": {\"gridcolor\": \"white\", \"linecolor\": \"white\", \"ticks\": \"\"}, \"bgcolor\": \"#E5ECF6\", \"caxis\": {\"gridcolor\": \"white\", \"linecolor\": \"white\", \"ticks\": \"\"}}, \"title\": {\"x\": 0.05}, \"xaxis\": {\"automargin\": true, \"gridcolor\": \"white\", \"linecolor\": \"white\", \"ticks\": \"\", \"title\": {\"standoff\": 15}, \"zerolinecolor\": \"white\", \"zerolinewidth\": 2}, \"yaxis\": {\"automargin\": true, \"gridcolor\": \"white\", \"linecolor\": \"white\", \"ticks\": \"\", \"title\": {\"standoff\": 15}, \"zerolinecolor\": \"white\", \"zerolinewidth\": 2}}}, \"title\": {\"font\": {\"color\": \"#4D5663\"}}, \"xaxis\": {\"gridcolor\": \"#E1E5ED\", \"showgrid\": true, \"tickfont\": {\"color\": \"#4D5663\"}, \"title\": {\"font\": {\"color\": \"#4D5663\"}, \"text\": \"\"}, \"zerolinecolor\": \"#E1E5ED\"}, \"yaxis\": {\"gridcolor\": \"#E1E5ED\", \"showgrid\": true, \"tickfont\": {\"color\": \"#4D5663\"}, \"title\": {\"font\": {\"color\": \"#4D5663\"}, \"text\": \"\"}, \"zerolinecolor\": \"#E1E5ED\"}},\n",
       "                        {\"showLink\": true, \"linkText\": \"Export to plot.ly\", \"plotlyServerURL\": \"https://plot.ly\", \"responsive\": true}\n",
       "                    ).then(function(){\n",
       "                            \n",
       "var gd = document.getElementById('fae1965c-5de7-41aa-bd33-5921d0f6b26e');\n",
       "var x = new MutationObserver(function (mutations, observer) {{\n",
       "        var display = window.getComputedStyle(gd).display;\n",
       "        if (!display || display === 'none') {{\n",
       "            console.log([gd, 'removed!']);\n",
       "            Plotly.purge(gd);\n",
       "            observer.disconnect();\n",
       "        }}\n",
       "}});\n",
       "\n",
       "// Listen for the removal of the full notebook cells\n",
       "var notebookContainer = gd.closest('#notebook-container');\n",
       "if (notebookContainer) {{\n",
       "    x.observe(notebookContainer, {childList: true});\n",
       "}}\n",
       "\n",
       "// Listen for the clearing of the current output cell\n",
       "var outputEl = gd.closest('.output');\n",
       "if (outputEl) {{\n",
       "    x.observe(outputEl, {childList: true});\n",
       "}}\n",
       "\n",
       "                        })\n",
       "                };\n",
       "                });\n",
       "            </script>\n",
       "        </div>"
      ]
     },
     "metadata": {},
     "output_type": "display_data"
    }
   ],
   "source": [
    "df.sum().iplot(kind='bar')"
   ]
  },
  {
   "cell_type": "code",
   "execution_count": 55,
   "metadata": {},
   "outputs": [
    {
     "data": {
      "application/vnd.plotly.v1+json": {
       "config": {
        "linkText": "Export to plot.ly",
        "plotlyServerURL": "https://plot.ly",
        "showLink": true
       },
       "data": [
        {
         "boxpoints": false,
         "line": {
          "width": 1.3
         },
         "marker": {
          "color": "rgba(255, 153, 51, 1.0)"
         },
         "name": "A",
         "orientation": "v",
         "type": "box",
         "y": [
          2.4749962936946055,
          -0.9007990275507158,
          -0.9805747297855275,
          0.8591241423923144,
          -0.23513612993279762,
          -1.4871885942258938,
          0.1509626101323387,
          0.3710990855337078,
          -0.0783348441645605,
          2.26380966222816,
          0.208228005383773,
          0.3526292310156882,
          1.1125779531924598,
          -0.9777079006710802,
          1.2013899556079988,
          0.07237738940168735,
          -1.3345991474970709,
          -2.017283621905848,
          -0.6549271175784173,
          -1.8897303970589032,
          -0.05019611399214896,
          0.2680783170338222,
          0.8959378751017952,
          1.9759406303102243,
          0.6701199636150814,
          0.9306138813501291,
          -2.581350212978,
          1.2019358187360194,
          0.5962268260509613,
          0.043399436853583974,
          -0.7034736013426729,
          -0.5870817705680396,
          0.26132864277511264,
          1.0026011168534013,
          0.5024826385176249,
          -1.3709098720171886,
          1.6010990955566187,
          -1.1866188378116598,
          -0.0851183518897504,
          2.6578337032405006,
          1.6498431342132363,
          0.01577419471099402,
          0.18660345295126896,
          -1.6380810984694385,
          -0.6920612579214326,
          -0.5481117511795,
          -0.8393828604315164,
          0.6545901837953004,
          0.6793888900506158,
          0.5868162253947056,
          0.7373061487047904,
          0.4104583260324701,
          1.512028590184469,
          2.234848174397926,
          -1.206697874221941,
          1.5386372375224369,
          0.4589019331759673,
          -0.2677178684218074,
          -0.5165748852689157,
          2.097914912767957,
          1.1046891478459746,
          -1.0127769075344921,
          -0.9275024218807334,
          0.46254807937094916,
          -2.581572057555803,
          -0.5177589481227729,
          0.4316554621434871,
          0.6954811231387482,
          0.0300098483416636,
          0.6539900009746611,
          -0.4449879580630433,
          -0.999503090467957,
          1.0362026545443144,
          0.9136741620871076,
          -0.5439968151535551,
          -0.8107903439717139,
          -1.9019102452016945,
          0.7119532518308098,
          -0.5667692810338499,
          1.0639290359748934,
          -0.6453104900764639,
          0.26835233269243897,
          -0.7968176977559296,
          -0.7527220997163271,
          -1.5516630981944994,
          0.5303143093757477,
          1.0840453642416785,
          1.4896418973352272,
          1.2220370054697876,
          -0.16792657416935036,
          -0.2308432545947218,
          -0.29786350107739773,
          0.12177245408476088,
          1.3631037691423746,
          0.6384473313553243,
          -0.7283898466255497,
          0.2516740646126679,
          -0.8870567793418102,
          0.5163456231504208,
          1.1852874008722312
         ]
        },
        {
         "boxpoints": false,
         "line": {
          "width": 1.3
         },
         "marker": {
          "color": "rgba(55, 128, 191, 1.0)"
         },
         "name": "B",
         "orientation": "v",
         "type": "box",
         "y": [
          0.3134686022095278,
          0.9167330694085948,
          1.8358559878457181,
          0.2834426630393991,
          0.22899753551591995,
          1.2214721753208433,
          0.2910640003360314,
          0.44389793149791734,
          1.2162009677053427,
          -0.9619002047119665,
          -1.2784583359551878,
          -0.37144603885723965,
          0.8800661016792073,
          -0.6763563018495778,
          -2.2277493627980003,
          0.6930676738162171,
          -1.1683340478867852,
          -0.15790090640505508,
          -0.6826931554912031,
          0.05049038923586889,
          0.4869377860093024,
          -0.8835410697700743,
          0.24868435409408757,
          -1.056969392655306,
          0.6233496437331075,
          0.9046922325586537,
          0.2818495405726576,
          0.14967640219134654,
          -0.6091488927991449,
          0.2123086378874707,
          0.45743817850369867,
          -0.9658200412921484,
          -0.00865557348175014,
          0.4291721685534401,
          -0.22006799285765793,
          2.488597634675389,
          -0.6061303020257509,
          1.6102658234045657,
          -1.000863701554238,
          -0.534256527143899,
          -0.4621570121146412,
          -1.9759816278599311,
          -0.7760690578252674,
          -0.18467394830622197,
          -1.1458391575252205,
          1.7555670562803594,
          -0.26250474351571285,
          0.5464460246470153,
          0.30987674584616987,
          0.3520151819035632,
          0.9958399353993154,
          -0.5214726384988668,
          0.07222055358695231,
          0.46791079579358846,
          -0.33047997165882564,
          0.9192388020854462,
          -0.3256795536945822,
          -1.8653337188608055,
          0.5962235529452432,
          -0.4240408936804001,
          1.8384924861277794,
          -1.1038965745155283,
          -0.8519275517835061,
          0.7141618825240307,
          0.8285710482210474,
          -0.42276652716172586,
          -1.1587737795342765,
          0.9809709177500708,
          -0.12667495781204194,
          -2.5319609816814572,
          1.432198698417712,
          -1.0622603426980124,
          -0.6234638991651306,
          -1.2776077551390106,
          0.028895853903978024,
          1.644544932190103,
          -0.6163351737696124,
          -0.041946278013372994,
          1.07876840216128,
          0.4241597671285785,
          -2.2076469021892127,
          -0.6868007293609565,
          -0.7430886502094988,
          -0.33242320190080693,
          -0.7943984962651276,
          -2.4226861547474168,
          1.5447323436514886,
          -0.5894859162554954,
          -0.5022088401908156,
          -1.5308674143676129,
          -1.1681670620058908,
          1.3748345847740826,
          0.28388738456361123,
          -0.37374003079645696,
          2.9489109452284934,
          0.38147384481885627,
          -0.6351765194539595,
          0.08824145484231279,
          -0.811892307602746,
          -1.742992613677244
         ]
        },
        {
         "boxpoints": false,
         "line": {
          "width": 1.3
         },
         "marker": {
          "color": "rgba(50, 171, 96, 1.0)"
         },
         "name": "C",
         "orientation": "v",
         "type": "box",
         "y": [
          1.231070159811716,
          -0.03117281649129617,
          -0.6162773756384039,
          -1.6376008743252277,
          -0.08241446653137414,
          -1.1857410285737386,
          1.5025063017476732,
          -0.05133227922674751,
          1.2644556879951765,
          -0.05964774681572033,
          -2.297403684005262,
          -0.9868119640856649,
          0.05675988924076596,
          1.185951066101353,
          -1.373095549551666,
          -0.20562601185759508,
          1.9428309188887116,
          -0.18927683502183562,
          0.9825093159521757,
          -1.2263415995284603,
          -0.6298439802477139,
          0.6068580870279782,
          -0.890636392495951,
          0.631918047414181,
          -0.7720379065528462,
          -0.29593149001966135,
          -1.1226904422118051,
          0.23629800314365096,
          -0.4741276194468566,
          2.1717181443789344,
          -1.4806895991854223,
          -0.4955021094440134,
          0.032117081646470994,
          0.25701142893123874,
          -0.23713230266729876,
          0.9695332751815351,
          0.2716319732427874,
          -0.20824851930974994,
          -1.0475258685794056,
          0.56838672084109,
          -0.14802383067475433,
          -0.2626985118025356,
          -0.485172385498463,
          0.40027566985106316,
          -0.4421940311637228,
          -1.2083996634068965,
          -1.5985316077391072,
          0.5640687204376864,
          -0.37255174684050163,
          1.9573057613355627,
          -0.08203264742974938,
          -0.6363424018323703,
          0.47124001588370756,
          -0.9974260837891378,
          0.561213886768126,
          -0.2517931486910543,
          -1.0726006338905476,
          1.895293220583968,
          -0.5735772528649017,
          -1.0961897880553446,
          -1.2473194715544305,
          -1.9395128963440484,
          -0.8011034626807447,
          -0.8729632839115978,
          0.9718542651123409,
          0.9880918794379198,
          -0.3539421511355455,
          -0.7872073680358485,
          -0.014673280228460442,
          0.0719656927583585,
          0.22437507299150267,
          1.238024342372839,
          0.3609958413639249,
          0.31562209670153074,
          0.660784086125347,
          1.0264393713595676,
          -1.2501039657721695,
          0.7398172427970308,
          -1.379883171220064,
          -0.2789847177401478,
          0.402043007570006,
          0.14469232460479514,
          -0.08498934486439978,
          1.7134644085780146,
          -1.4468169895356162,
          0.715895965943651,
          -0.1544878290689414,
          -0.19537887570599272,
          -0.5316531629843192,
          -0.44306354202850134,
          0.42475780202125824,
          -0.585282832765401,
          2.0077890009820103,
          -0.00392265960940687,
          -0.7012580198585556,
          3.2492551217480696,
          -1.0309968186486267,
          -1.8420028443536924,
          -0.4099855734921172,
          0.31802949595869745
         ]
        },
        {
         "boxpoints": false,
         "line": {
          "width": 1.3
         },
         "marker": {
          "color": "rgba(128, 0, 128, 1.0)"
         },
         "name": "D",
         "orientation": "v",
         "type": "box",
         "y": [
          -0.38885819895232676,
          -0.9717472290895455,
          -0.9139514439533044,
          -0.12082311181586085,
          0.3330149406569263,
          -0.9799049992518911,
          -1.67111919752334,
          0.15162770083347216,
          2.1445059748730726,
          0.6058900549623925,
          1.0630011917635849,
          -0.24644562811864812,
          -1.5325621975142605,
          -0.6469666724377413,
          -0.9616193205511907,
          0.41800907429574874,
          1.0397811292984618,
          -0.31541696072229847,
          -1.4049094608966841,
          -0.0884161044520405,
          0.21495690415865082,
          0.7272029791670528,
          -0.36171724757592705,
          -1.8843190236447718,
          -2.601906771859556,
          0.9330016216922752,
          -1.0913660590152312,
          -0.4987963991281909,
          1.7963669173505645,
          -0.020190081183019428,
          -0.08012435469167206,
          1.0110582736533014,
          -1.1176034224498308,
          0.669714490474785,
          1.4345482061991972,
          0.9899681205051231,
          -1.0361872742541638,
          0.9543542851066912,
          0.6886393863606326,
          0.19966677361934768,
          0.2248252323826824,
          1.266659711726156,
          -1.1336143637616543,
          -1.9569188197769551,
          -0.6045250312730492,
          1.008230391710319,
          -0.7398823275817051,
          -1.086953738335082,
          1.9542880196409105,
          -1.941804377383334,
          -1.4808022512692627,
          -0.14015683186366015,
          0.7626198660784957,
          -0.27479444953159154,
          0.34448358744396157,
          0.20148077743096154,
          0.5811986146711187,
          0.19960282050885136,
          0.7739569815639976,
          -1.1573437069405694,
          0.4521186470452195,
          0.11990670910695764,
          1.4924315665692511,
          1.4175810663481372,
          0.6183128660677296,
          1.6061354947982638,
          1.1996224140964713,
          -0.20863814845378764,
          -0.7959340245341419,
          1.6055454796693986,
          0.3345272122695861,
          -1.3223424522812381,
          0.4077645278070668,
          -2.063164604706958,
          -0.06691844889513632,
          0.5828815572503655,
          -0.3128476641027049,
          -1.1638349708744584,
          0.41722706491806855,
          -0.18316239793324637,
          -0.930424708885888,
          -1.902918235853356,
          0.8041526601231147,
          0.10882810639113567,
          0.2644282211852591,
          2.310789453105758,
          -0.16812597599819737,
          -0.558078628026835,
          0.11279638166561838,
          -0.5792231817795479,
          0.09869825075713468,
          0.5882162052004194,
          -0.792805396195245,
          1.2161537394731101,
          -0.31067260416757025,
          -0.1178432631562213,
          0.025596138383547126,
          1.1510116422285448,
          1.1275767421761456,
          -0.7168911555643587
         ]
        }
       ],
       "layout": {
        "legend": {
         "bgcolor": "#F5F6F9",
         "font": {
          "color": "#4D5663"
         }
        },
        "paper_bgcolor": "#F5F6F9",
        "plot_bgcolor": "#F5F6F9",
        "template": {
         "data": {
          "bar": [
           {
            "error_x": {
             "color": "#2a3f5f"
            },
            "error_y": {
             "color": "#2a3f5f"
            },
            "marker": {
             "line": {
              "color": "#E5ECF6",
              "width": 0.5
             }
            },
            "type": "bar"
           }
          ],
          "barpolar": [
           {
            "marker": {
             "line": {
              "color": "#E5ECF6",
              "width": 0.5
             }
            },
            "type": "barpolar"
           }
          ],
          "carpet": [
           {
            "aaxis": {
             "endlinecolor": "#2a3f5f",
             "gridcolor": "white",
             "linecolor": "white",
             "minorgridcolor": "white",
             "startlinecolor": "#2a3f5f"
            },
            "baxis": {
             "endlinecolor": "#2a3f5f",
             "gridcolor": "white",
             "linecolor": "white",
             "minorgridcolor": "white",
             "startlinecolor": "#2a3f5f"
            },
            "type": "carpet"
           }
          ],
          "choropleth": [
           {
            "colorbar": {
             "outlinewidth": 0,
             "ticks": ""
            },
            "type": "choropleth"
           }
          ],
          "contour": [
           {
            "colorbar": {
             "outlinewidth": 0,
             "ticks": ""
            },
            "colorscale": [
             [
              0,
              "#0d0887"
             ],
             [
              0.1111111111111111,
              "#46039f"
             ],
             [
              0.2222222222222222,
              "#7201a8"
             ],
             [
              0.3333333333333333,
              "#9c179e"
             ],
             [
              0.4444444444444444,
              "#bd3786"
             ],
             [
              0.5555555555555556,
              "#d8576b"
             ],
             [
              0.6666666666666666,
              "#ed7953"
             ],
             [
              0.7777777777777778,
              "#fb9f3a"
             ],
             [
              0.8888888888888888,
              "#fdca26"
             ],
             [
              1,
              "#f0f921"
             ]
            ],
            "type": "contour"
           }
          ],
          "contourcarpet": [
           {
            "colorbar": {
             "outlinewidth": 0,
             "ticks": ""
            },
            "type": "contourcarpet"
           }
          ],
          "heatmap": [
           {
            "colorbar": {
             "outlinewidth": 0,
             "ticks": ""
            },
            "colorscale": [
             [
              0,
              "#0d0887"
             ],
             [
              0.1111111111111111,
              "#46039f"
             ],
             [
              0.2222222222222222,
              "#7201a8"
             ],
             [
              0.3333333333333333,
              "#9c179e"
             ],
             [
              0.4444444444444444,
              "#bd3786"
             ],
             [
              0.5555555555555556,
              "#d8576b"
             ],
             [
              0.6666666666666666,
              "#ed7953"
             ],
             [
              0.7777777777777778,
              "#fb9f3a"
             ],
             [
              0.8888888888888888,
              "#fdca26"
             ],
             [
              1,
              "#f0f921"
             ]
            ],
            "type": "heatmap"
           }
          ],
          "heatmapgl": [
           {
            "colorbar": {
             "outlinewidth": 0,
             "ticks": ""
            },
            "colorscale": [
             [
              0,
              "#0d0887"
             ],
             [
              0.1111111111111111,
              "#46039f"
             ],
             [
              0.2222222222222222,
              "#7201a8"
             ],
             [
              0.3333333333333333,
              "#9c179e"
             ],
             [
              0.4444444444444444,
              "#bd3786"
             ],
             [
              0.5555555555555556,
              "#d8576b"
             ],
             [
              0.6666666666666666,
              "#ed7953"
             ],
             [
              0.7777777777777778,
              "#fb9f3a"
             ],
             [
              0.8888888888888888,
              "#fdca26"
             ],
             [
              1,
              "#f0f921"
             ]
            ],
            "type": "heatmapgl"
           }
          ],
          "histogram": [
           {
            "marker": {
             "colorbar": {
              "outlinewidth": 0,
              "ticks": ""
             }
            },
            "type": "histogram"
           }
          ],
          "histogram2d": [
           {
            "colorbar": {
             "outlinewidth": 0,
             "ticks": ""
            },
            "colorscale": [
             [
              0,
              "#0d0887"
             ],
             [
              0.1111111111111111,
              "#46039f"
             ],
             [
              0.2222222222222222,
              "#7201a8"
             ],
             [
              0.3333333333333333,
              "#9c179e"
             ],
             [
              0.4444444444444444,
              "#bd3786"
             ],
             [
              0.5555555555555556,
              "#d8576b"
             ],
             [
              0.6666666666666666,
              "#ed7953"
             ],
             [
              0.7777777777777778,
              "#fb9f3a"
             ],
             [
              0.8888888888888888,
              "#fdca26"
             ],
             [
              1,
              "#f0f921"
             ]
            ],
            "type": "histogram2d"
           }
          ],
          "histogram2dcontour": [
           {
            "colorbar": {
             "outlinewidth": 0,
             "ticks": ""
            },
            "colorscale": [
             [
              0,
              "#0d0887"
             ],
             [
              0.1111111111111111,
              "#46039f"
             ],
             [
              0.2222222222222222,
              "#7201a8"
             ],
             [
              0.3333333333333333,
              "#9c179e"
             ],
             [
              0.4444444444444444,
              "#bd3786"
             ],
             [
              0.5555555555555556,
              "#d8576b"
             ],
             [
              0.6666666666666666,
              "#ed7953"
             ],
             [
              0.7777777777777778,
              "#fb9f3a"
             ],
             [
              0.8888888888888888,
              "#fdca26"
             ],
             [
              1,
              "#f0f921"
             ]
            ],
            "type": "histogram2dcontour"
           }
          ],
          "mesh3d": [
           {
            "colorbar": {
             "outlinewidth": 0,
             "ticks": ""
            },
            "type": "mesh3d"
           }
          ],
          "parcoords": [
           {
            "line": {
             "colorbar": {
              "outlinewidth": 0,
              "ticks": ""
             }
            },
            "type": "parcoords"
           }
          ],
          "pie": [
           {
            "automargin": true,
            "type": "pie"
           }
          ],
          "scatter": [
           {
            "marker": {
             "colorbar": {
              "outlinewidth": 0,
              "ticks": ""
             }
            },
            "type": "scatter"
           }
          ],
          "scatter3d": [
           {
            "line": {
             "colorbar": {
              "outlinewidth": 0,
              "ticks": ""
             }
            },
            "marker": {
             "colorbar": {
              "outlinewidth": 0,
              "ticks": ""
             }
            },
            "type": "scatter3d"
           }
          ],
          "scattercarpet": [
           {
            "marker": {
             "colorbar": {
              "outlinewidth": 0,
              "ticks": ""
             }
            },
            "type": "scattercarpet"
           }
          ],
          "scattergeo": [
           {
            "marker": {
             "colorbar": {
              "outlinewidth": 0,
              "ticks": ""
             }
            },
            "type": "scattergeo"
           }
          ],
          "scattergl": [
           {
            "marker": {
             "colorbar": {
              "outlinewidth": 0,
              "ticks": ""
             }
            },
            "type": "scattergl"
           }
          ],
          "scattermapbox": [
           {
            "marker": {
             "colorbar": {
              "outlinewidth": 0,
              "ticks": ""
             }
            },
            "type": "scattermapbox"
           }
          ],
          "scatterpolar": [
           {
            "marker": {
             "colorbar": {
              "outlinewidth": 0,
              "ticks": ""
             }
            },
            "type": "scatterpolar"
           }
          ],
          "scatterpolargl": [
           {
            "marker": {
             "colorbar": {
              "outlinewidth": 0,
              "ticks": ""
             }
            },
            "type": "scatterpolargl"
           }
          ],
          "scatterternary": [
           {
            "marker": {
             "colorbar": {
              "outlinewidth": 0,
              "ticks": ""
             }
            },
            "type": "scatterternary"
           }
          ],
          "surface": [
           {
            "colorbar": {
             "outlinewidth": 0,
             "ticks": ""
            },
            "colorscale": [
             [
              0,
              "#0d0887"
             ],
             [
              0.1111111111111111,
              "#46039f"
             ],
             [
              0.2222222222222222,
              "#7201a8"
             ],
             [
              0.3333333333333333,
              "#9c179e"
             ],
             [
              0.4444444444444444,
              "#bd3786"
             ],
             [
              0.5555555555555556,
              "#d8576b"
             ],
             [
              0.6666666666666666,
              "#ed7953"
             ],
             [
              0.7777777777777778,
              "#fb9f3a"
             ],
             [
              0.8888888888888888,
              "#fdca26"
             ],
             [
              1,
              "#f0f921"
             ]
            ],
            "type": "surface"
           }
          ],
          "table": [
           {
            "cells": {
             "fill": {
              "color": "#EBF0F8"
             },
             "line": {
              "color": "white"
             }
            },
            "header": {
             "fill": {
              "color": "#C8D4E3"
             },
             "line": {
              "color": "white"
             }
            },
            "type": "table"
           }
          ]
         },
         "layout": {
          "annotationdefaults": {
           "arrowcolor": "#2a3f5f",
           "arrowhead": 0,
           "arrowwidth": 1
          },
          "coloraxis": {
           "colorbar": {
            "outlinewidth": 0,
            "ticks": ""
           }
          },
          "colorscale": {
           "diverging": [
            [
             0,
             "#8e0152"
            ],
            [
             0.1,
             "#c51b7d"
            ],
            [
             0.2,
             "#de77ae"
            ],
            [
             0.3,
             "#f1b6da"
            ],
            [
             0.4,
             "#fde0ef"
            ],
            [
             0.5,
             "#f7f7f7"
            ],
            [
             0.6,
             "#e6f5d0"
            ],
            [
             0.7,
             "#b8e186"
            ],
            [
             0.8,
             "#7fbc41"
            ],
            [
             0.9,
             "#4d9221"
            ],
            [
             1,
             "#276419"
            ]
           ],
           "sequential": [
            [
             0,
             "#0d0887"
            ],
            [
             0.1111111111111111,
             "#46039f"
            ],
            [
             0.2222222222222222,
             "#7201a8"
            ],
            [
             0.3333333333333333,
             "#9c179e"
            ],
            [
             0.4444444444444444,
             "#bd3786"
            ],
            [
             0.5555555555555556,
             "#d8576b"
            ],
            [
             0.6666666666666666,
             "#ed7953"
            ],
            [
             0.7777777777777778,
             "#fb9f3a"
            ],
            [
             0.8888888888888888,
             "#fdca26"
            ],
            [
             1,
             "#f0f921"
            ]
           ],
           "sequentialminus": [
            [
             0,
             "#0d0887"
            ],
            [
             0.1111111111111111,
             "#46039f"
            ],
            [
             0.2222222222222222,
             "#7201a8"
            ],
            [
             0.3333333333333333,
             "#9c179e"
            ],
            [
             0.4444444444444444,
             "#bd3786"
            ],
            [
             0.5555555555555556,
             "#d8576b"
            ],
            [
             0.6666666666666666,
             "#ed7953"
            ],
            [
             0.7777777777777778,
             "#fb9f3a"
            ],
            [
             0.8888888888888888,
             "#fdca26"
            ],
            [
             1,
             "#f0f921"
            ]
           ]
          },
          "colorway": [
           "#636efa",
           "#EF553B",
           "#00cc96",
           "#ab63fa",
           "#FFA15A",
           "#19d3f3",
           "#FF6692",
           "#B6E880",
           "#FF97FF",
           "#FECB52"
          ],
          "font": {
           "color": "#2a3f5f"
          },
          "geo": {
           "bgcolor": "white",
           "lakecolor": "white",
           "landcolor": "#E5ECF6",
           "showlakes": true,
           "showland": true,
           "subunitcolor": "white"
          },
          "hoverlabel": {
           "align": "left"
          },
          "hovermode": "closest",
          "mapbox": {
           "style": "light"
          },
          "paper_bgcolor": "white",
          "plot_bgcolor": "#E5ECF6",
          "polar": {
           "angularaxis": {
            "gridcolor": "white",
            "linecolor": "white",
            "ticks": ""
           },
           "bgcolor": "#E5ECF6",
           "radialaxis": {
            "gridcolor": "white",
            "linecolor": "white",
            "ticks": ""
           }
          },
          "scene": {
           "xaxis": {
            "backgroundcolor": "#E5ECF6",
            "gridcolor": "white",
            "gridwidth": 2,
            "linecolor": "white",
            "showbackground": true,
            "ticks": "",
            "zerolinecolor": "white"
           },
           "yaxis": {
            "backgroundcolor": "#E5ECF6",
            "gridcolor": "white",
            "gridwidth": 2,
            "linecolor": "white",
            "showbackground": true,
            "ticks": "",
            "zerolinecolor": "white"
           },
           "zaxis": {
            "backgroundcolor": "#E5ECF6",
            "gridcolor": "white",
            "gridwidth": 2,
            "linecolor": "white",
            "showbackground": true,
            "ticks": "",
            "zerolinecolor": "white"
           }
          },
          "shapedefaults": {
           "line": {
            "color": "#2a3f5f"
           }
          },
          "ternary": {
           "aaxis": {
            "gridcolor": "white",
            "linecolor": "white",
            "ticks": ""
           },
           "baxis": {
            "gridcolor": "white",
            "linecolor": "white",
            "ticks": ""
           },
           "bgcolor": "#E5ECF6",
           "caxis": {
            "gridcolor": "white",
            "linecolor": "white",
            "ticks": ""
           }
          },
          "title": {
           "x": 0.05
          },
          "xaxis": {
           "automargin": true,
           "gridcolor": "white",
           "linecolor": "white",
           "ticks": "",
           "title": {
            "standoff": 15
           },
           "zerolinecolor": "white",
           "zerolinewidth": 2
          },
          "yaxis": {
           "automargin": true,
           "gridcolor": "white",
           "linecolor": "white",
           "ticks": "",
           "title": {
            "standoff": 15
           },
           "zerolinecolor": "white",
           "zerolinewidth": 2
          }
         }
        },
        "title": {
         "font": {
          "color": "#4D5663"
         }
        },
        "xaxis": {
         "gridcolor": "#E1E5ED",
         "showgrid": true,
         "tickfont": {
          "color": "#4D5663"
         },
         "title": {
          "font": {
           "color": "#4D5663"
          },
          "text": ""
         },
         "zerolinecolor": "#E1E5ED"
        },
        "yaxis": {
         "gridcolor": "#E1E5ED",
         "showgrid": true,
         "tickfont": {
          "color": "#4D5663"
         },
         "title": {
          "font": {
           "color": "#4D5663"
          },
          "text": ""
         },
         "zerolinecolor": "#E1E5ED"
        }
       }
      },
      "text/html": [
       "<div>\n",
       "        \n",
       "        \n",
       "            <div id=\"c1fa5fbb-9e07-4827-8385-dbd7956b0c6d\" class=\"plotly-graph-div\" style=\"height:525px; width:100%;\"></div>\n",
       "            <script type=\"text/javascript\">\n",
       "                require([\"plotly\"], function(Plotly) {\n",
       "                    window.PLOTLYENV=window.PLOTLYENV || {};\n",
       "                    window.PLOTLYENV.BASE_URL='https://plot.ly';\n",
       "                    \n",
       "                if (document.getElementById(\"c1fa5fbb-9e07-4827-8385-dbd7956b0c6d\")) {\n",
       "                    Plotly.newPlot(\n",
       "                        'c1fa5fbb-9e07-4827-8385-dbd7956b0c6d',\n",
       "                        [{\"boxpoints\": false, \"line\": {\"width\": 1.3}, \"marker\": {\"color\": \"rgba(255, 153, 51, 1.0)\"}, \"name\": \"A\", \"orientation\": \"v\", \"type\": \"box\", \"y\": [2.4749962936946055, -0.9007990275507158, -0.9805747297855275, 0.8591241423923144, -0.23513612993279762, -1.4871885942258938, 0.1509626101323387, 0.3710990855337078, -0.0783348441645605, 2.26380966222816, 0.208228005383773, 0.3526292310156882, 1.1125779531924598, -0.9777079006710802, 1.2013899556079988, 0.07237738940168735, -1.3345991474970709, -2.017283621905848, -0.6549271175784173, -1.8897303970589032, -0.05019611399214896, 0.2680783170338222, 0.8959378751017952, 1.9759406303102243, 0.6701199636150814, 0.9306138813501291, -2.581350212978, 1.2019358187360194, 0.5962268260509613, 0.043399436853583974, -0.7034736013426729, -0.5870817705680396, 0.26132864277511264, 1.0026011168534013, 0.5024826385176249, -1.3709098720171886, 1.6010990955566187, -1.1866188378116598, -0.0851183518897504, 2.6578337032405006, 1.6498431342132363, 0.01577419471099402, 0.18660345295126896, -1.6380810984694385, -0.6920612579214326, -0.5481117511795, -0.8393828604315164, 0.6545901837953004, 0.6793888900506158, 0.5868162253947056, 0.7373061487047904, 0.4104583260324701, 1.512028590184469, 2.234848174397926, -1.206697874221941, 1.5386372375224369, 0.4589019331759673, -0.2677178684218074, -0.5165748852689157, 2.097914912767957, 1.1046891478459746, -1.0127769075344921, -0.9275024218807334, 0.46254807937094916, -2.581572057555803, -0.5177589481227729, 0.4316554621434871, 0.6954811231387482, 0.0300098483416636, 0.6539900009746611, -0.4449879580630433, -0.999503090467957, 1.0362026545443144, 0.9136741620871076, -0.5439968151535551, -0.8107903439717139, -1.9019102452016945, 0.7119532518308098, -0.5667692810338499, 1.0639290359748934, -0.6453104900764639, 0.26835233269243897, -0.7968176977559296, -0.7527220997163271, -1.5516630981944994, 0.5303143093757477, 1.0840453642416785, 1.4896418973352272, 1.2220370054697876, -0.16792657416935036, -0.2308432545947218, -0.29786350107739773, 0.12177245408476088, 1.3631037691423746, 0.6384473313553243, -0.7283898466255497, 0.2516740646126679, -0.8870567793418102, 0.5163456231504208, 1.1852874008722312]}, {\"boxpoints\": false, \"line\": {\"width\": 1.3}, \"marker\": {\"color\": \"rgba(55, 128, 191, 1.0)\"}, \"name\": \"B\", \"orientation\": \"v\", \"type\": \"box\", \"y\": [0.3134686022095278, 0.9167330694085948, 1.8358559878457181, 0.2834426630393991, 0.22899753551591995, 1.2214721753208433, 0.2910640003360314, 0.44389793149791734, 1.2162009677053427, -0.9619002047119665, -1.2784583359551878, -0.37144603885723965, 0.8800661016792073, -0.6763563018495778, -2.2277493627980003, 0.6930676738162171, -1.1683340478867852, -0.15790090640505508, -0.6826931554912031, 0.05049038923586889, 0.4869377860093024, -0.8835410697700743, 0.24868435409408757, -1.056969392655306, 0.6233496437331075, 0.9046922325586537, 0.2818495405726576, 0.14967640219134654, -0.6091488927991449, 0.2123086378874707, 0.45743817850369867, -0.9658200412921484, -0.00865557348175014, 0.4291721685534401, -0.22006799285765793, 2.488597634675389, -0.6061303020257509, 1.6102658234045657, -1.000863701554238, -0.534256527143899, -0.4621570121146412, -1.9759816278599311, -0.7760690578252674, -0.18467394830622197, -1.1458391575252205, 1.7555670562803594, -0.26250474351571285, 0.5464460246470153, 0.30987674584616987, 0.3520151819035632, 0.9958399353993154, -0.5214726384988668, 0.07222055358695231, 0.46791079579358846, -0.33047997165882564, 0.9192388020854462, -0.3256795536945822, -1.8653337188608055, 0.5962235529452432, -0.4240408936804001, 1.8384924861277794, -1.1038965745155283, -0.8519275517835061, 0.7141618825240307, 0.8285710482210474, -0.42276652716172586, -1.1587737795342765, 0.9809709177500708, -0.12667495781204194, -2.5319609816814572, 1.432198698417712, -1.0622603426980124, -0.6234638991651306, -1.2776077551390106, 0.028895853903978024, 1.644544932190103, -0.6163351737696124, -0.041946278013372994, 1.07876840216128, 0.4241597671285785, -2.2076469021892127, -0.6868007293609565, -0.7430886502094988, -0.33242320190080693, -0.7943984962651276, -2.4226861547474168, 1.5447323436514886, -0.5894859162554954, -0.5022088401908156, -1.5308674143676129, -1.1681670620058908, 1.3748345847740826, 0.28388738456361123, -0.37374003079645696, 2.9489109452284934, 0.38147384481885627, -0.6351765194539595, 0.08824145484231279, -0.811892307602746, -1.742992613677244]}, {\"boxpoints\": false, \"line\": {\"width\": 1.3}, \"marker\": {\"color\": \"rgba(50, 171, 96, 1.0)\"}, \"name\": \"C\", \"orientation\": \"v\", \"type\": \"box\", \"y\": [1.231070159811716, -0.03117281649129617, -0.6162773756384039, -1.6376008743252277, -0.08241446653137414, -1.1857410285737386, 1.5025063017476732, -0.05133227922674751, 1.2644556879951765, -0.05964774681572033, -2.297403684005262, -0.9868119640856649, 0.05675988924076596, 1.185951066101353, -1.373095549551666, -0.20562601185759508, 1.9428309188887116, -0.18927683502183562, 0.9825093159521757, -1.2263415995284603, -0.6298439802477139, 0.6068580870279782, -0.890636392495951, 0.631918047414181, -0.7720379065528462, -0.29593149001966135, -1.1226904422118051, 0.23629800314365096, -0.4741276194468566, 2.1717181443789344, -1.4806895991854223, -0.4955021094440134, 0.032117081646470994, 0.25701142893123874, -0.23713230266729876, 0.9695332751815351, 0.2716319732427874, -0.20824851930974994, -1.0475258685794056, 0.56838672084109, -0.14802383067475433, -0.2626985118025356, -0.485172385498463, 0.40027566985106316, -0.4421940311637228, -1.2083996634068965, -1.5985316077391072, 0.5640687204376864, -0.37255174684050163, 1.9573057613355627, -0.08203264742974938, -0.6363424018323703, 0.47124001588370756, -0.9974260837891378, 0.561213886768126, -0.2517931486910543, -1.0726006338905476, 1.895293220583968, -0.5735772528649017, -1.0961897880553446, -1.2473194715544305, -1.9395128963440484, -0.8011034626807447, -0.8729632839115978, 0.9718542651123409, 0.9880918794379198, -0.3539421511355455, -0.7872073680358485, -0.014673280228460442, 0.0719656927583585, 0.22437507299150267, 1.238024342372839, 0.3609958413639249, 0.31562209670153074, 0.660784086125347, 1.0264393713595676, -1.2501039657721695, 0.7398172427970308, -1.379883171220064, -0.2789847177401478, 0.402043007570006, 0.14469232460479514, -0.08498934486439978, 1.7134644085780146, -1.4468169895356162, 0.715895965943651, -0.1544878290689414, -0.19537887570599272, -0.5316531629843192, -0.44306354202850134, 0.42475780202125824, -0.585282832765401, 2.0077890009820103, -0.00392265960940687, -0.7012580198585556, 3.2492551217480696, -1.0309968186486267, -1.8420028443536924, -0.4099855734921172, 0.31802949595869745]}, {\"boxpoints\": false, \"line\": {\"width\": 1.3}, \"marker\": {\"color\": \"rgba(128, 0, 128, 1.0)\"}, \"name\": \"D\", \"orientation\": \"v\", \"type\": \"box\", \"y\": [-0.38885819895232676, -0.9717472290895455, -0.9139514439533044, -0.12082311181586085, 0.3330149406569263, -0.9799049992518911, -1.67111919752334, 0.15162770083347216, 2.1445059748730726, 0.6058900549623925, 1.0630011917635849, -0.24644562811864812, -1.5325621975142605, -0.6469666724377413, -0.9616193205511907, 0.41800907429574874, 1.0397811292984618, -0.31541696072229847, -1.4049094608966841, -0.0884161044520405, 0.21495690415865082, 0.7272029791670528, -0.36171724757592705, -1.8843190236447718, -2.601906771859556, 0.9330016216922752, -1.0913660590152312, -0.4987963991281909, 1.7963669173505645, -0.020190081183019428, -0.08012435469167206, 1.0110582736533014, -1.1176034224498308, 0.669714490474785, 1.4345482061991972, 0.9899681205051231, -1.0361872742541638, 0.9543542851066912, 0.6886393863606326, 0.19966677361934768, 0.2248252323826824, 1.266659711726156, -1.1336143637616543, -1.9569188197769551, -0.6045250312730492, 1.008230391710319, -0.7398823275817051, -1.086953738335082, 1.9542880196409105, -1.941804377383334, -1.4808022512692627, -0.14015683186366015, 0.7626198660784957, -0.27479444953159154, 0.34448358744396157, 0.20148077743096154, 0.5811986146711187, 0.19960282050885136, 0.7739569815639976, -1.1573437069405694, 0.4521186470452195, 0.11990670910695764, 1.4924315665692511, 1.4175810663481372, 0.6183128660677296, 1.6061354947982638, 1.1996224140964713, -0.20863814845378764, -0.7959340245341419, 1.6055454796693986, 0.3345272122695861, -1.3223424522812381, 0.4077645278070668, -2.063164604706958, -0.06691844889513632, 0.5828815572503655, -0.3128476641027049, -1.1638349708744584, 0.41722706491806855, -0.18316239793324637, -0.930424708885888, -1.902918235853356, 0.8041526601231147, 0.10882810639113567, 0.2644282211852591, 2.310789453105758, -0.16812597599819737, -0.558078628026835, 0.11279638166561838, -0.5792231817795479, 0.09869825075713468, 0.5882162052004194, -0.792805396195245, 1.2161537394731101, -0.31067260416757025, -0.1178432631562213, 0.025596138383547126, 1.1510116422285448, 1.1275767421761456, -0.7168911555643587]}],\n",
       "                        {\"legend\": {\"bgcolor\": \"#F5F6F9\", \"font\": {\"color\": \"#4D5663\"}}, \"paper_bgcolor\": \"#F5F6F9\", \"plot_bgcolor\": \"#F5F6F9\", \"template\": {\"data\": {\"bar\": [{\"error_x\": {\"color\": \"#2a3f5f\"}, \"error_y\": {\"color\": \"#2a3f5f\"}, \"marker\": {\"line\": {\"color\": \"#E5ECF6\", \"width\": 0.5}}, \"type\": \"bar\"}], \"barpolar\": [{\"marker\": {\"line\": {\"color\": \"#E5ECF6\", \"width\": 0.5}}, \"type\": \"barpolar\"}], \"carpet\": [{\"aaxis\": {\"endlinecolor\": \"#2a3f5f\", \"gridcolor\": \"white\", \"linecolor\": \"white\", \"minorgridcolor\": \"white\", \"startlinecolor\": \"#2a3f5f\"}, \"baxis\": {\"endlinecolor\": \"#2a3f5f\", \"gridcolor\": \"white\", \"linecolor\": \"white\", \"minorgridcolor\": \"white\", \"startlinecolor\": \"#2a3f5f\"}, \"type\": \"carpet\"}], \"choropleth\": [{\"colorbar\": {\"outlinewidth\": 0, \"ticks\": \"\"}, \"type\": \"choropleth\"}], \"contour\": [{\"colorbar\": {\"outlinewidth\": 0, \"ticks\": \"\"}, \"colorscale\": [[0.0, \"#0d0887\"], [0.1111111111111111, \"#46039f\"], [0.2222222222222222, \"#7201a8\"], [0.3333333333333333, \"#9c179e\"], [0.4444444444444444, \"#bd3786\"], [0.5555555555555556, \"#d8576b\"], [0.6666666666666666, \"#ed7953\"], [0.7777777777777778, \"#fb9f3a\"], [0.8888888888888888, \"#fdca26\"], [1.0, \"#f0f921\"]], \"type\": \"contour\"}], \"contourcarpet\": [{\"colorbar\": {\"outlinewidth\": 0, \"ticks\": \"\"}, \"type\": \"contourcarpet\"}], \"heatmap\": [{\"colorbar\": {\"outlinewidth\": 0, \"ticks\": \"\"}, \"colorscale\": [[0.0, \"#0d0887\"], [0.1111111111111111, \"#46039f\"], [0.2222222222222222, \"#7201a8\"], [0.3333333333333333, \"#9c179e\"], [0.4444444444444444, \"#bd3786\"], [0.5555555555555556, \"#d8576b\"], [0.6666666666666666, \"#ed7953\"], [0.7777777777777778, \"#fb9f3a\"], [0.8888888888888888, \"#fdca26\"], [1.0, \"#f0f921\"]], \"type\": \"heatmap\"}], \"heatmapgl\": [{\"colorbar\": {\"outlinewidth\": 0, \"ticks\": \"\"}, \"colorscale\": [[0.0, \"#0d0887\"], [0.1111111111111111, \"#46039f\"], [0.2222222222222222, \"#7201a8\"], [0.3333333333333333, \"#9c179e\"], [0.4444444444444444, \"#bd3786\"], [0.5555555555555556, \"#d8576b\"], [0.6666666666666666, \"#ed7953\"], [0.7777777777777778, \"#fb9f3a\"], [0.8888888888888888, \"#fdca26\"], [1.0, \"#f0f921\"]], \"type\": \"heatmapgl\"}], \"histogram\": [{\"marker\": {\"colorbar\": {\"outlinewidth\": 0, \"ticks\": \"\"}}, \"type\": \"histogram\"}], \"histogram2d\": [{\"colorbar\": {\"outlinewidth\": 0, \"ticks\": \"\"}, \"colorscale\": [[0.0, \"#0d0887\"], [0.1111111111111111, \"#46039f\"], [0.2222222222222222, \"#7201a8\"], [0.3333333333333333, \"#9c179e\"], [0.4444444444444444, \"#bd3786\"], [0.5555555555555556, \"#d8576b\"], [0.6666666666666666, \"#ed7953\"], [0.7777777777777778, \"#fb9f3a\"], [0.8888888888888888, \"#fdca26\"], [1.0, \"#f0f921\"]], \"type\": \"histogram2d\"}], \"histogram2dcontour\": [{\"colorbar\": {\"outlinewidth\": 0, \"ticks\": \"\"}, \"colorscale\": [[0.0, \"#0d0887\"], [0.1111111111111111, \"#46039f\"], [0.2222222222222222, \"#7201a8\"], [0.3333333333333333, \"#9c179e\"], [0.4444444444444444, \"#bd3786\"], [0.5555555555555556, \"#d8576b\"], [0.6666666666666666, \"#ed7953\"], [0.7777777777777778, \"#fb9f3a\"], [0.8888888888888888, \"#fdca26\"], [1.0, \"#f0f921\"]], \"type\": \"histogram2dcontour\"}], \"mesh3d\": [{\"colorbar\": {\"outlinewidth\": 0, \"ticks\": \"\"}, \"type\": \"mesh3d\"}], \"parcoords\": [{\"line\": {\"colorbar\": {\"outlinewidth\": 0, \"ticks\": \"\"}}, \"type\": \"parcoords\"}], \"pie\": [{\"automargin\": true, \"type\": \"pie\"}], \"scatter\": [{\"marker\": {\"colorbar\": {\"outlinewidth\": 0, \"ticks\": \"\"}}, \"type\": \"scatter\"}], \"scatter3d\": [{\"line\": {\"colorbar\": {\"outlinewidth\": 0, \"ticks\": \"\"}}, \"marker\": {\"colorbar\": {\"outlinewidth\": 0, \"ticks\": \"\"}}, \"type\": \"scatter3d\"}], \"scattercarpet\": [{\"marker\": {\"colorbar\": {\"outlinewidth\": 0, \"ticks\": \"\"}}, \"type\": \"scattercarpet\"}], \"scattergeo\": [{\"marker\": {\"colorbar\": {\"outlinewidth\": 0, \"ticks\": \"\"}}, \"type\": \"scattergeo\"}], \"scattergl\": [{\"marker\": {\"colorbar\": {\"outlinewidth\": 0, \"ticks\": \"\"}}, \"type\": \"scattergl\"}], \"scattermapbox\": [{\"marker\": {\"colorbar\": {\"outlinewidth\": 0, \"ticks\": \"\"}}, \"type\": \"scattermapbox\"}], \"scatterpolar\": [{\"marker\": {\"colorbar\": {\"outlinewidth\": 0, \"ticks\": \"\"}}, \"type\": \"scatterpolar\"}], \"scatterpolargl\": [{\"marker\": {\"colorbar\": {\"outlinewidth\": 0, \"ticks\": \"\"}}, \"type\": \"scatterpolargl\"}], \"scatterternary\": [{\"marker\": {\"colorbar\": {\"outlinewidth\": 0, \"ticks\": \"\"}}, \"type\": \"scatterternary\"}], \"surface\": [{\"colorbar\": {\"outlinewidth\": 0, \"ticks\": \"\"}, \"colorscale\": [[0.0, \"#0d0887\"], [0.1111111111111111, \"#46039f\"], [0.2222222222222222, \"#7201a8\"], [0.3333333333333333, \"#9c179e\"], [0.4444444444444444, \"#bd3786\"], [0.5555555555555556, \"#d8576b\"], [0.6666666666666666, \"#ed7953\"], [0.7777777777777778, \"#fb9f3a\"], [0.8888888888888888, \"#fdca26\"], [1.0, \"#f0f921\"]], \"type\": \"surface\"}], \"table\": [{\"cells\": {\"fill\": {\"color\": \"#EBF0F8\"}, \"line\": {\"color\": \"white\"}}, \"header\": {\"fill\": {\"color\": \"#C8D4E3\"}, \"line\": {\"color\": \"white\"}}, \"type\": \"table\"}]}, \"layout\": {\"annotationdefaults\": {\"arrowcolor\": \"#2a3f5f\", \"arrowhead\": 0, \"arrowwidth\": 1}, \"coloraxis\": {\"colorbar\": {\"outlinewidth\": 0, \"ticks\": \"\"}}, \"colorscale\": {\"diverging\": [[0, \"#8e0152\"], [0.1, \"#c51b7d\"], [0.2, \"#de77ae\"], [0.3, \"#f1b6da\"], [0.4, \"#fde0ef\"], [0.5, \"#f7f7f7\"], [0.6, \"#e6f5d0\"], [0.7, \"#b8e186\"], [0.8, \"#7fbc41\"], [0.9, \"#4d9221\"], [1, \"#276419\"]], \"sequential\": [[0.0, \"#0d0887\"], [0.1111111111111111, \"#46039f\"], [0.2222222222222222, \"#7201a8\"], [0.3333333333333333, \"#9c179e\"], [0.4444444444444444, \"#bd3786\"], [0.5555555555555556, \"#d8576b\"], [0.6666666666666666, \"#ed7953\"], [0.7777777777777778, \"#fb9f3a\"], [0.8888888888888888, \"#fdca26\"], [1.0, \"#f0f921\"]], \"sequentialminus\": [[0.0, \"#0d0887\"], [0.1111111111111111, \"#46039f\"], [0.2222222222222222, \"#7201a8\"], [0.3333333333333333, \"#9c179e\"], [0.4444444444444444, \"#bd3786\"], [0.5555555555555556, \"#d8576b\"], [0.6666666666666666, \"#ed7953\"], [0.7777777777777778, \"#fb9f3a\"], [0.8888888888888888, \"#fdca26\"], [1.0, \"#f0f921\"]]}, \"colorway\": [\"#636efa\", \"#EF553B\", \"#00cc96\", \"#ab63fa\", \"#FFA15A\", \"#19d3f3\", \"#FF6692\", \"#B6E880\", \"#FF97FF\", \"#FECB52\"], \"font\": {\"color\": \"#2a3f5f\"}, \"geo\": {\"bgcolor\": \"white\", \"lakecolor\": \"white\", \"landcolor\": \"#E5ECF6\", \"showlakes\": true, \"showland\": true, \"subunitcolor\": \"white\"}, \"hoverlabel\": {\"align\": \"left\"}, \"hovermode\": \"closest\", \"mapbox\": {\"style\": \"light\"}, \"paper_bgcolor\": \"white\", \"plot_bgcolor\": \"#E5ECF6\", \"polar\": {\"angularaxis\": {\"gridcolor\": \"white\", \"linecolor\": \"white\", \"ticks\": \"\"}, \"bgcolor\": \"#E5ECF6\", \"radialaxis\": {\"gridcolor\": \"white\", \"linecolor\": \"white\", \"ticks\": \"\"}}, \"scene\": {\"xaxis\": {\"backgroundcolor\": \"#E5ECF6\", \"gridcolor\": \"white\", \"gridwidth\": 2, \"linecolor\": \"white\", \"showbackground\": true, \"ticks\": \"\", \"zerolinecolor\": \"white\"}, \"yaxis\": {\"backgroundcolor\": \"#E5ECF6\", \"gridcolor\": \"white\", \"gridwidth\": 2, \"linecolor\": \"white\", \"showbackground\": true, \"ticks\": \"\", \"zerolinecolor\": \"white\"}, \"zaxis\": {\"backgroundcolor\": \"#E5ECF6\", \"gridcolor\": \"white\", \"gridwidth\": 2, \"linecolor\": \"white\", \"showbackground\": true, \"ticks\": \"\", \"zerolinecolor\": \"white\"}}, \"shapedefaults\": {\"line\": {\"color\": \"#2a3f5f\"}}, \"ternary\": {\"aaxis\": {\"gridcolor\": \"white\", \"linecolor\": \"white\", \"ticks\": \"\"}, \"baxis\": {\"gridcolor\": \"white\", \"linecolor\": \"white\", \"ticks\": \"\"}, \"bgcolor\": \"#E5ECF6\", \"caxis\": {\"gridcolor\": \"white\", \"linecolor\": \"white\", \"ticks\": \"\"}}, \"title\": {\"x\": 0.05}, \"xaxis\": {\"automargin\": true, \"gridcolor\": \"white\", \"linecolor\": \"white\", \"ticks\": \"\", \"title\": {\"standoff\": 15}, \"zerolinecolor\": \"white\", \"zerolinewidth\": 2}, \"yaxis\": {\"automargin\": true, \"gridcolor\": \"white\", \"linecolor\": \"white\", \"ticks\": \"\", \"title\": {\"standoff\": 15}, \"zerolinecolor\": \"white\", \"zerolinewidth\": 2}}}, \"title\": {\"font\": {\"color\": \"#4D5663\"}}, \"xaxis\": {\"gridcolor\": \"#E1E5ED\", \"showgrid\": true, \"tickfont\": {\"color\": \"#4D5663\"}, \"title\": {\"font\": {\"color\": \"#4D5663\"}, \"text\": \"\"}, \"zerolinecolor\": \"#E1E5ED\"}, \"yaxis\": {\"gridcolor\": \"#E1E5ED\", \"showgrid\": true, \"tickfont\": {\"color\": \"#4D5663\"}, \"title\": {\"font\": {\"color\": \"#4D5663\"}, \"text\": \"\"}, \"zerolinecolor\": \"#E1E5ED\"}},\n",
       "                        {\"showLink\": true, \"linkText\": \"Export to plot.ly\", \"plotlyServerURL\": \"https://plot.ly\", \"responsive\": true}\n",
       "                    ).then(function(){\n",
       "                            \n",
       "var gd = document.getElementById('c1fa5fbb-9e07-4827-8385-dbd7956b0c6d');\n",
       "var x = new MutationObserver(function (mutations, observer) {{\n",
       "        var display = window.getComputedStyle(gd).display;\n",
       "        if (!display || display === 'none') {{\n",
       "            console.log([gd, 'removed!']);\n",
       "            Plotly.purge(gd);\n",
       "            observer.disconnect();\n",
       "        }}\n",
       "}});\n",
       "\n",
       "// Listen for the removal of the full notebook cells\n",
       "var notebookContainer = gd.closest('#notebook-container');\n",
       "if (notebookContainer) {{\n",
       "    x.observe(notebookContainer, {childList: true});\n",
       "}}\n",
       "\n",
       "// Listen for the clearing of the current output cell\n",
       "var outputEl = gd.closest('.output');\n",
       "if (outputEl) {{\n",
       "    x.observe(outputEl, {childList: true});\n",
       "}}\n",
       "\n",
       "                        })\n",
       "                };\n",
       "                });\n",
       "            </script>\n",
       "        </div>"
      ]
     },
     "metadata": {},
     "output_type": "display_data"
    }
   ],
   "source": [
    "# Box plot\n",
    "df.iplot(kind='box')"
   ]
  },
  {
   "cell_type": "code",
   "execution_count": 60,
   "metadata": {},
   "outputs": [],
   "source": [
    "df3 = pd.DataFrame({'x':[1,2,3,4,5], 'y':[55,89,11,34,63], 'z':[5,4,3,2,1]})"
   ]
  },
  {
   "cell_type": "code",
   "execution_count": 61,
   "metadata": {},
   "outputs": [
    {
     "data": {
      "text/html": [
       "<div>\n",
       "<style scoped>\n",
       "    .dataframe tbody tr th:only-of-type {\n",
       "        vertical-align: middle;\n",
       "    }\n",
       "\n",
       "    .dataframe tbody tr th {\n",
       "        vertical-align: top;\n",
       "    }\n",
       "\n",
       "    .dataframe thead th {\n",
       "        text-align: right;\n",
       "    }\n",
       "</style>\n",
       "<table border=\"1\" class=\"dataframe\">\n",
       "  <thead>\n",
       "    <tr style=\"text-align: right;\">\n",
       "      <th></th>\n",
       "      <th>x</th>\n",
       "      <th>y</th>\n",
       "      <th>z</th>\n",
       "    </tr>\n",
       "  </thead>\n",
       "  <tbody>\n",
       "    <tr>\n",
       "      <th>0</th>\n",
       "      <td>1</td>\n",
       "      <td>55</td>\n",
       "      <td>5</td>\n",
       "    </tr>\n",
       "    <tr>\n",
       "      <th>1</th>\n",
       "      <td>2</td>\n",
       "      <td>89</td>\n",
       "      <td>4</td>\n",
       "    </tr>\n",
       "    <tr>\n",
       "      <th>2</th>\n",
       "      <td>3</td>\n",
       "      <td>11</td>\n",
       "      <td>3</td>\n",
       "    </tr>\n",
       "    <tr>\n",
       "      <th>3</th>\n",
       "      <td>4</td>\n",
       "      <td>34</td>\n",
       "      <td>2</td>\n",
       "    </tr>\n",
       "    <tr>\n",
       "      <th>4</th>\n",
       "      <td>5</td>\n",
       "      <td>63</td>\n",
       "      <td>1</td>\n",
       "    </tr>\n",
       "  </tbody>\n",
       "</table>\n",
       "</div>"
      ],
      "text/plain": [
       "   x   y  z\n",
       "0  1  55  5\n",
       "1  2  89  4\n",
       "2  3  11  3\n",
       "3  4  34  2\n",
       "4  5  63  1"
      ]
     },
     "execution_count": 61,
     "metadata": {},
     "output_type": "execute_result"
    }
   ],
   "source": [
    "df3"
   ]
  },
  {
   "cell_type": "code",
   "execution_count": 64,
   "metadata": {},
   "outputs": [
    {
     "data": {
      "application/vnd.plotly.v1+json": {
       "config": {
        "linkText": "Export to plot.ly",
        "plotlyServerURL": "https://plot.ly",
        "showLink": true
       },
       "data": [
        {
         "colorscale": [
          [
           0,
           "rgb(165,0,38)"
          ],
          [
           0.1,
           "rgb(215,48,39)"
          ],
          [
           0.2,
           "rgb(244,109,67)"
          ],
          [
           0.3,
           "rgb(253,174,97)"
          ],
          [
           0.4,
           "rgb(254,224,144)"
          ],
          [
           0.5,
           "rgb(255,255,191)"
          ],
          [
           0.6,
           "rgb(224,243,248)"
          ],
          [
           0.7,
           "rgb(171,217,233)"
          ],
          [
           0.8,
           "rgb(116,173,209)"
          ],
          [
           0.9,
           "rgb(69,117,180)"
          ],
          [
           1,
           "rgb(49,54,149)"
          ]
         ],
         "type": "surface",
         "x": [
          0,
          1,
          2,
          3,
          4
         ],
         "y": [
          "x",
          "y",
          "z"
         ],
         "z": [
          [
           1,
           2,
           3,
           4,
           5
          ],
          [
           55,
           89,
           11,
           34,
           63
          ],
          [
           5,
           4,
           3,
           2,
           1
          ]
         ]
        }
       ],
       "layout": {
        "legend": {
         "bgcolor": "#F5F6F9",
         "font": {
          "color": "#4D5663"
         }
        },
        "paper_bgcolor": "#F5F6F9",
        "plot_bgcolor": "#F5F6F9",
        "template": {
         "data": {
          "bar": [
           {
            "error_x": {
             "color": "#2a3f5f"
            },
            "error_y": {
             "color": "#2a3f5f"
            },
            "marker": {
             "line": {
              "color": "#E5ECF6",
              "width": 0.5
             }
            },
            "type": "bar"
           }
          ],
          "barpolar": [
           {
            "marker": {
             "line": {
              "color": "#E5ECF6",
              "width": 0.5
             }
            },
            "type": "barpolar"
           }
          ],
          "carpet": [
           {
            "aaxis": {
             "endlinecolor": "#2a3f5f",
             "gridcolor": "white",
             "linecolor": "white",
             "minorgridcolor": "white",
             "startlinecolor": "#2a3f5f"
            },
            "baxis": {
             "endlinecolor": "#2a3f5f",
             "gridcolor": "white",
             "linecolor": "white",
             "minorgridcolor": "white",
             "startlinecolor": "#2a3f5f"
            },
            "type": "carpet"
           }
          ],
          "choropleth": [
           {
            "colorbar": {
             "outlinewidth": 0,
             "ticks": ""
            },
            "type": "choropleth"
           }
          ],
          "contour": [
           {
            "colorbar": {
             "outlinewidth": 0,
             "ticks": ""
            },
            "colorscale": [
             [
              0,
              "#0d0887"
             ],
             [
              0.1111111111111111,
              "#46039f"
             ],
             [
              0.2222222222222222,
              "#7201a8"
             ],
             [
              0.3333333333333333,
              "#9c179e"
             ],
             [
              0.4444444444444444,
              "#bd3786"
             ],
             [
              0.5555555555555556,
              "#d8576b"
             ],
             [
              0.6666666666666666,
              "#ed7953"
             ],
             [
              0.7777777777777778,
              "#fb9f3a"
             ],
             [
              0.8888888888888888,
              "#fdca26"
             ],
             [
              1,
              "#f0f921"
             ]
            ],
            "type": "contour"
           }
          ],
          "contourcarpet": [
           {
            "colorbar": {
             "outlinewidth": 0,
             "ticks": ""
            },
            "type": "contourcarpet"
           }
          ],
          "heatmap": [
           {
            "colorbar": {
             "outlinewidth": 0,
             "ticks": ""
            },
            "colorscale": [
             [
              0,
              "#0d0887"
             ],
             [
              0.1111111111111111,
              "#46039f"
             ],
             [
              0.2222222222222222,
              "#7201a8"
             ],
             [
              0.3333333333333333,
              "#9c179e"
             ],
             [
              0.4444444444444444,
              "#bd3786"
             ],
             [
              0.5555555555555556,
              "#d8576b"
             ],
             [
              0.6666666666666666,
              "#ed7953"
             ],
             [
              0.7777777777777778,
              "#fb9f3a"
             ],
             [
              0.8888888888888888,
              "#fdca26"
             ],
             [
              1,
              "#f0f921"
             ]
            ],
            "type": "heatmap"
           }
          ],
          "heatmapgl": [
           {
            "colorbar": {
             "outlinewidth": 0,
             "ticks": ""
            },
            "colorscale": [
             [
              0,
              "#0d0887"
             ],
             [
              0.1111111111111111,
              "#46039f"
             ],
             [
              0.2222222222222222,
              "#7201a8"
             ],
             [
              0.3333333333333333,
              "#9c179e"
             ],
             [
              0.4444444444444444,
              "#bd3786"
             ],
             [
              0.5555555555555556,
              "#d8576b"
             ],
             [
              0.6666666666666666,
              "#ed7953"
             ],
             [
              0.7777777777777778,
              "#fb9f3a"
             ],
             [
              0.8888888888888888,
              "#fdca26"
             ],
             [
              1,
              "#f0f921"
             ]
            ],
            "type": "heatmapgl"
           }
          ],
          "histogram": [
           {
            "marker": {
             "colorbar": {
              "outlinewidth": 0,
              "ticks": ""
             }
            },
            "type": "histogram"
           }
          ],
          "histogram2d": [
           {
            "colorbar": {
             "outlinewidth": 0,
             "ticks": ""
            },
            "colorscale": [
             [
              0,
              "#0d0887"
             ],
             [
              0.1111111111111111,
              "#46039f"
             ],
             [
              0.2222222222222222,
              "#7201a8"
             ],
             [
              0.3333333333333333,
              "#9c179e"
             ],
             [
              0.4444444444444444,
              "#bd3786"
             ],
             [
              0.5555555555555556,
              "#d8576b"
             ],
             [
              0.6666666666666666,
              "#ed7953"
             ],
             [
              0.7777777777777778,
              "#fb9f3a"
             ],
             [
              0.8888888888888888,
              "#fdca26"
             ],
             [
              1,
              "#f0f921"
             ]
            ],
            "type": "histogram2d"
           }
          ],
          "histogram2dcontour": [
           {
            "colorbar": {
             "outlinewidth": 0,
             "ticks": ""
            },
            "colorscale": [
             [
              0,
              "#0d0887"
             ],
             [
              0.1111111111111111,
              "#46039f"
             ],
             [
              0.2222222222222222,
              "#7201a8"
             ],
             [
              0.3333333333333333,
              "#9c179e"
             ],
             [
              0.4444444444444444,
              "#bd3786"
             ],
             [
              0.5555555555555556,
              "#d8576b"
             ],
             [
              0.6666666666666666,
              "#ed7953"
             ],
             [
              0.7777777777777778,
              "#fb9f3a"
             ],
             [
              0.8888888888888888,
              "#fdca26"
             ],
             [
              1,
              "#f0f921"
             ]
            ],
            "type": "histogram2dcontour"
           }
          ],
          "mesh3d": [
           {
            "colorbar": {
             "outlinewidth": 0,
             "ticks": ""
            },
            "type": "mesh3d"
           }
          ],
          "parcoords": [
           {
            "line": {
             "colorbar": {
              "outlinewidth": 0,
              "ticks": ""
             }
            },
            "type": "parcoords"
           }
          ],
          "pie": [
           {
            "automargin": true,
            "type": "pie"
           }
          ],
          "scatter": [
           {
            "marker": {
             "colorbar": {
              "outlinewidth": 0,
              "ticks": ""
             }
            },
            "type": "scatter"
           }
          ],
          "scatter3d": [
           {
            "line": {
             "colorbar": {
              "outlinewidth": 0,
              "ticks": ""
             }
            },
            "marker": {
             "colorbar": {
              "outlinewidth": 0,
              "ticks": ""
             }
            },
            "type": "scatter3d"
           }
          ],
          "scattercarpet": [
           {
            "marker": {
             "colorbar": {
              "outlinewidth": 0,
              "ticks": ""
             }
            },
            "type": "scattercarpet"
           }
          ],
          "scattergeo": [
           {
            "marker": {
             "colorbar": {
              "outlinewidth": 0,
              "ticks": ""
             }
            },
            "type": "scattergeo"
           }
          ],
          "scattergl": [
           {
            "marker": {
             "colorbar": {
              "outlinewidth": 0,
              "ticks": ""
             }
            },
            "type": "scattergl"
           }
          ],
          "scattermapbox": [
           {
            "marker": {
             "colorbar": {
              "outlinewidth": 0,
              "ticks": ""
             }
            },
            "type": "scattermapbox"
           }
          ],
          "scatterpolar": [
           {
            "marker": {
             "colorbar": {
              "outlinewidth": 0,
              "ticks": ""
             }
            },
            "type": "scatterpolar"
           }
          ],
          "scatterpolargl": [
           {
            "marker": {
             "colorbar": {
              "outlinewidth": 0,
              "ticks": ""
             }
            },
            "type": "scatterpolargl"
           }
          ],
          "scatterternary": [
           {
            "marker": {
             "colorbar": {
              "outlinewidth": 0,
              "ticks": ""
             }
            },
            "type": "scatterternary"
           }
          ],
          "surface": [
           {
            "colorbar": {
             "outlinewidth": 0,
             "ticks": ""
            },
            "colorscale": [
             [
              0,
              "#0d0887"
             ],
             [
              0.1111111111111111,
              "#46039f"
             ],
             [
              0.2222222222222222,
              "#7201a8"
             ],
             [
              0.3333333333333333,
              "#9c179e"
             ],
             [
              0.4444444444444444,
              "#bd3786"
             ],
             [
              0.5555555555555556,
              "#d8576b"
             ],
             [
              0.6666666666666666,
              "#ed7953"
             ],
             [
              0.7777777777777778,
              "#fb9f3a"
             ],
             [
              0.8888888888888888,
              "#fdca26"
             ],
             [
              1,
              "#f0f921"
             ]
            ],
            "type": "surface"
           }
          ],
          "table": [
           {
            "cells": {
             "fill": {
              "color": "#EBF0F8"
             },
             "line": {
              "color": "white"
             }
            },
            "header": {
             "fill": {
              "color": "#C8D4E3"
             },
             "line": {
              "color": "white"
             }
            },
            "type": "table"
           }
          ]
         },
         "layout": {
          "annotationdefaults": {
           "arrowcolor": "#2a3f5f",
           "arrowhead": 0,
           "arrowwidth": 1
          },
          "coloraxis": {
           "colorbar": {
            "outlinewidth": 0,
            "ticks": ""
           }
          },
          "colorscale": {
           "diverging": [
            [
             0,
             "#8e0152"
            ],
            [
             0.1,
             "#c51b7d"
            ],
            [
             0.2,
             "#de77ae"
            ],
            [
             0.3,
             "#f1b6da"
            ],
            [
             0.4,
             "#fde0ef"
            ],
            [
             0.5,
             "#f7f7f7"
            ],
            [
             0.6,
             "#e6f5d0"
            ],
            [
             0.7,
             "#b8e186"
            ],
            [
             0.8,
             "#7fbc41"
            ],
            [
             0.9,
             "#4d9221"
            ],
            [
             1,
             "#276419"
            ]
           ],
           "sequential": [
            [
             0,
             "#0d0887"
            ],
            [
             0.1111111111111111,
             "#46039f"
            ],
            [
             0.2222222222222222,
             "#7201a8"
            ],
            [
             0.3333333333333333,
             "#9c179e"
            ],
            [
             0.4444444444444444,
             "#bd3786"
            ],
            [
             0.5555555555555556,
             "#d8576b"
            ],
            [
             0.6666666666666666,
             "#ed7953"
            ],
            [
             0.7777777777777778,
             "#fb9f3a"
            ],
            [
             0.8888888888888888,
             "#fdca26"
            ],
            [
             1,
             "#f0f921"
            ]
           ],
           "sequentialminus": [
            [
             0,
             "#0d0887"
            ],
            [
             0.1111111111111111,
             "#46039f"
            ],
            [
             0.2222222222222222,
             "#7201a8"
            ],
            [
             0.3333333333333333,
             "#9c179e"
            ],
            [
             0.4444444444444444,
             "#bd3786"
            ],
            [
             0.5555555555555556,
             "#d8576b"
            ],
            [
             0.6666666666666666,
             "#ed7953"
            ],
            [
             0.7777777777777778,
             "#fb9f3a"
            ],
            [
             0.8888888888888888,
             "#fdca26"
            ],
            [
             1,
             "#f0f921"
            ]
           ]
          },
          "colorway": [
           "#636efa",
           "#EF553B",
           "#00cc96",
           "#ab63fa",
           "#FFA15A",
           "#19d3f3",
           "#FF6692",
           "#B6E880",
           "#FF97FF",
           "#FECB52"
          ],
          "font": {
           "color": "#2a3f5f"
          },
          "geo": {
           "bgcolor": "white",
           "lakecolor": "white",
           "landcolor": "#E5ECF6",
           "showlakes": true,
           "showland": true,
           "subunitcolor": "white"
          },
          "hoverlabel": {
           "align": "left"
          },
          "hovermode": "closest",
          "mapbox": {
           "style": "light"
          },
          "paper_bgcolor": "white",
          "plot_bgcolor": "#E5ECF6",
          "polar": {
           "angularaxis": {
            "gridcolor": "white",
            "linecolor": "white",
            "ticks": ""
           },
           "bgcolor": "#E5ECF6",
           "radialaxis": {
            "gridcolor": "white",
            "linecolor": "white",
            "ticks": ""
           }
          },
          "scene": {
           "xaxis": {
            "backgroundcolor": "#E5ECF6",
            "gridcolor": "white",
            "gridwidth": 2,
            "linecolor": "white",
            "showbackground": true,
            "ticks": "",
            "zerolinecolor": "white"
           },
           "yaxis": {
            "backgroundcolor": "#E5ECF6",
            "gridcolor": "white",
            "gridwidth": 2,
            "linecolor": "white",
            "showbackground": true,
            "ticks": "",
            "zerolinecolor": "white"
           },
           "zaxis": {
            "backgroundcolor": "#E5ECF6",
            "gridcolor": "white",
            "gridwidth": 2,
            "linecolor": "white",
            "showbackground": true,
            "ticks": "",
            "zerolinecolor": "white"
           }
          },
          "shapedefaults": {
           "line": {
            "color": "#2a3f5f"
           }
          },
          "ternary": {
           "aaxis": {
            "gridcolor": "white",
            "linecolor": "white",
            "ticks": ""
           },
           "baxis": {
            "gridcolor": "white",
            "linecolor": "white",
            "ticks": ""
           },
           "bgcolor": "#E5ECF6",
           "caxis": {
            "gridcolor": "white",
            "linecolor": "white",
            "ticks": ""
           }
          },
          "title": {
           "x": 0.05
          },
          "xaxis": {
           "automargin": true,
           "gridcolor": "white",
           "linecolor": "white",
           "ticks": "",
           "title": {
            "standoff": 15
           },
           "zerolinecolor": "white",
           "zerolinewidth": 2
          },
          "yaxis": {
           "automargin": true,
           "gridcolor": "white",
           "linecolor": "white",
           "ticks": "",
           "title": {
            "standoff": 15
           },
           "zerolinecolor": "white",
           "zerolinewidth": 2
          }
         }
        },
        "title": {
         "font": {
          "color": "#4D5663"
         }
        },
        "xaxis": {
         "gridcolor": "#E1E5ED",
         "showgrid": true,
         "tickfont": {
          "color": "#4D5663"
         },
         "title": {
          "font": {
           "color": "#4D5663"
          },
          "text": ""
         },
         "zerolinecolor": "#E1E5ED"
        },
        "yaxis": {
         "gridcolor": "#E1E5ED",
         "showgrid": true,
         "tickfont": {
          "color": "#4D5663"
         },
         "title": {
          "font": {
           "color": "#4D5663"
          },
          "text": ""
         },
         "zerolinecolor": "#E1E5ED"
        }
       }
      },
      "text/html": [
       "<div>\n",
       "        \n",
       "        \n",
       "            <div id=\"df17a519-d48b-4b9e-a376-c0104e45baa9\" class=\"plotly-graph-div\" style=\"height:525px; width:100%;\"></div>\n",
       "            <script type=\"text/javascript\">\n",
       "                require([\"plotly\"], function(Plotly) {\n",
       "                    window.PLOTLYENV=window.PLOTLYENV || {};\n",
       "                    window.PLOTLYENV.BASE_URL='https://plot.ly';\n",
       "                    \n",
       "                if (document.getElementById(\"df17a519-d48b-4b9e-a376-c0104e45baa9\")) {\n",
       "                    Plotly.newPlot(\n",
       "                        'df17a519-d48b-4b9e-a376-c0104e45baa9',\n",
       "                        [{\"colorscale\": [[0.0, \"rgb(165,0,38)\"], [0.1, \"rgb(215,48,39)\"], [0.2, \"rgb(244,109,67)\"], [0.3, \"rgb(253,174,97)\"], [0.4, \"rgb(254,224,144)\"], [0.5, \"rgb(255,255,191)\"], [0.6, \"rgb(224,243,248)\"], [0.7, \"rgb(171,217,233)\"], [0.8, \"rgb(116,173,209)\"], [0.9, \"rgb(69,117,180)\"], [1.0, \"rgb(49,54,149)\"]], \"type\": \"surface\", \"x\": [0, 1, 2, 3, 4], \"y\": [\"x\", \"y\", \"z\"], \"z\": [[1, 2, 3, 4, 5], [55, 89, 11, 34, 63], [5, 4, 3, 2, 1]]}],\n",
       "                        {\"legend\": {\"bgcolor\": \"#F5F6F9\", \"font\": {\"color\": \"#4D5663\"}}, \"paper_bgcolor\": \"#F5F6F9\", \"plot_bgcolor\": \"#F5F6F9\", \"template\": {\"data\": {\"bar\": [{\"error_x\": {\"color\": \"#2a3f5f\"}, \"error_y\": {\"color\": \"#2a3f5f\"}, \"marker\": {\"line\": {\"color\": \"#E5ECF6\", \"width\": 0.5}}, \"type\": \"bar\"}], \"barpolar\": [{\"marker\": {\"line\": {\"color\": \"#E5ECF6\", \"width\": 0.5}}, \"type\": \"barpolar\"}], \"carpet\": [{\"aaxis\": {\"endlinecolor\": \"#2a3f5f\", \"gridcolor\": \"white\", \"linecolor\": \"white\", \"minorgridcolor\": \"white\", \"startlinecolor\": \"#2a3f5f\"}, \"baxis\": {\"endlinecolor\": \"#2a3f5f\", \"gridcolor\": \"white\", \"linecolor\": \"white\", \"minorgridcolor\": \"white\", \"startlinecolor\": \"#2a3f5f\"}, \"type\": \"carpet\"}], \"choropleth\": [{\"colorbar\": {\"outlinewidth\": 0, \"ticks\": \"\"}, \"type\": \"choropleth\"}], \"contour\": [{\"colorbar\": {\"outlinewidth\": 0, \"ticks\": \"\"}, \"colorscale\": [[0.0, \"#0d0887\"], [0.1111111111111111, \"#46039f\"], [0.2222222222222222, \"#7201a8\"], [0.3333333333333333, \"#9c179e\"], [0.4444444444444444, \"#bd3786\"], [0.5555555555555556, \"#d8576b\"], [0.6666666666666666, \"#ed7953\"], [0.7777777777777778, \"#fb9f3a\"], [0.8888888888888888, \"#fdca26\"], [1.0, \"#f0f921\"]], \"type\": \"contour\"}], \"contourcarpet\": [{\"colorbar\": {\"outlinewidth\": 0, \"ticks\": \"\"}, \"type\": \"contourcarpet\"}], \"heatmap\": [{\"colorbar\": {\"outlinewidth\": 0, \"ticks\": \"\"}, \"colorscale\": [[0.0, \"#0d0887\"], [0.1111111111111111, \"#46039f\"], [0.2222222222222222, \"#7201a8\"], [0.3333333333333333, \"#9c179e\"], [0.4444444444444444, \"#bd3786\"], [0.5555555555555556, \"#d8576b\"], [0.6666666666666666, \"#ed7953\"], [0.7777777777777778, \"#fb9f3a\"], [0.8888888888888888, \"#fdca26\"], [1.0, \"#f0f921\"]], \"type\": \"heatmap\"}], \"heatmapgl\": [{\"colorbar\": {\"outlinewidth\": 0, \"ticks\": \"\"}, \"colorscale\": [[0.0, \"#0d0887\"], [0.1111111111111111, \"#46039f\"], [0.2222222222222222, \"#7201a8\"], [0.3333333333333333, \"#9c179e\"], [0.4444444444444444, \"#bd3786\"], [0.5555555555555556, \"#d8576b\"], [0.6666666666666666, \"#ed7953\"], [0.7777777777777778, \"#fb9f3a\"], [0.8888888888888888, \"#fdca26\"], [1.0, \"#f0f921\"]], \"type\": \"heatmapgl\"}], \"histogram\": [{\"marker\": {\"colorbar\": {\"outlinewidth\": 0, \"ticks\": \"\"}}, \"type\": \"histogram\"}], \"histogram2d\": [{\"colorbar\": {\"outlinewidth\": 0, \"ticks\": \"\"}, \"colorscale\": [[0.0, \"#0d0887\"], [0.1111111111111111, \"#46039f\"], [0.2222222222222222, \"#7201a8\"], [0.3333333333333333, \"#9c179e\"], [0.4444444444444444, \"#bd3786\"], [0.5555555555555556, \"#d8576b\"], [0.6666666666666666, \"#ed7953\"], [0.7777777777777778, \"#fb9f3a\"], [0.8888888888888888, \"#fdca26\"], [1.0, \"#f0f921\"]], \"type\": \"histogram2d\"}], \"histogram2dcontour\": [{\"colorbar\": {\"outlinewidth\": 0, \"ticks\": \"\"}, \"colorscale\": [[0.0, \"#0d0887\"], [0.1111111111111111, \"#46039f\"], [0.2222222222222222, \"#7201a8\"], [0.3333333333333333, \"#9c179e\"], [0.4444444444444444, \"#bd3786\"], [0.5555555555555556, \"#d8576b\"], [0.6666666666666666, \"#ed7953\"], [0.7777777777777778, \"#fb9f3a\"], [0.8888888888888888, \"#fdca26\"], [1.0, \"#f0f921\"]], \"type\": \"histogram2dcontour\"}], \"mesh3d\": [{\"colorbar\": {\"outlinewidth\": 0, \"ticks\": \"\"}, \"type\": \"mesh3d\"}], \"parcoords\": [{\"line\": {\"colorbar\": {\"outlinewidth\": 0, \"ticks\": \"\"}}, \"type\": \"parcoords\"}], \"pie\": [{\"automargin\": true, \"type\": \"pie\"}], \"scatter\": [{\"marker\": {\"colorbar\": {\"outlinewidth\": 0, \"ticks\": \"\"}}, \"type\": \"scatter\"}], \"scatter3d\": [{\"line\": {\"colorbar\": {\"outlinewidth\": 0, \"ticks\": \"\"}}, \"marker\": {\"colorbar\": {\"outlinewidth\": 0, \"ticks\": \"\"}}, \"type\": \"scatter3d\"}], \"scattercarpet\": [{\"marker\": {\"colorbar\": {\"outlinewidth\": 0, \"ticks\": \"\"}}, \"type\": \"scattercarpet\"}], \"scattergeo\": [{\"marker\": {\"colorbar\": {\"outlinewidth\": 0, \"ticks\": \"\"}}, \"type\": \"scattergeo\"}], \"scattergl\": [{\"marker\": {\"colorbar\": {\"outlinewidth\": 0, \"ticks\": \"\"}}, \"type\": \"scattergl\"}], \"scattermapbox\": [{\"marker\": {\"colorbar\": {\"outlinewidth\": 0, \"ticks\": \"\"}}, \"type\": \"scattermapbox\"}], \"scatterpolar\": [{\"marker\": {\"colorbar\": {\"outlinewidth\": 0, \"ticks\": \"\"}}, \"type\": \"scatterpolar\"}], \"scatterpolargl\": [{\"marker\": {\"colorbar\": {\"outlinewidth\": 0, \"ticks\": \"\"}}, \"type\": \"scatterpolargl\"}], \"scatterternary\": [{\"marker\": {\"colorbar\": {\"outlinewidth\": 0, \"ticks\": \"\"}}, \"type\": \"scatterternary\"}], \"surface\": [{\"colorbar\": {\"outlinewidth\": 0, \"ticks\": \"\"}, \"colorscale\": [[0.0, \"#0d0887\"], [0.1111111111111111, \"#46039f\"], [0.2222222222222222, \"#7201a8\"], [0.3333333333333333, \"#9c179e\"], [0.4444444444444444, \"#bd3786\"], [0.5555555555555556, \"#d8576b\"], [0.6666666666666666, \"#ed7953\"], [0.7777777777777778, \"#fb9f3a\"], [0.8888888888888888, \"#fdca26\"], [1.0, \"#f0f921\"]], \"type\": \"surface\"}], \"table\": [{\"cells\": {\"fill\": {\"color\": \"#EBF0F8\"}, \"line\": {\"color\": \"white\"}}, \"header\": {\"fill\": {\"color\": \"#C8D4E3\"}, \"line\": {\"color\": \"white\"}}, \"type\": \"table\"}]}, \"layout\": {\"annotationdefaults\": {\"arrowcolor\": \"#2a3f5f\", \"arrowhead\": 0, \"arrowwidth\": 1}, \"coloraxis\": {\"colorbar\": {\"outlinewidth\": 0, \"ticks\": \"\"}}, \"colorscale\": {\"diverging\": [[0, \"#8e0152\"], [0.1, \"#c51b7d\"], [0.2, \"#de77ae\"], [0.3, \"#f1b6da\"], [0.4, \"#fde0ef\"], [0.5, \"#f7f7f7\"], [0.6, \"#e6f5d0\"], [0.7, \"#b8e186\"], [0.8, \"#7fbc41\"], [0.9, \"#4d9221\"], [1, \"#276419\"]], \"sequential\": [[0.0, \"#0d0887\"], [0.1111111111111111, \"#46039f\"], [0.2222222222222222, \"#7201a8\"], [0.3333333333333333, \"#9c179e\"], [0.4444444444444444, \"#bd3786\"], [0.5555555555555556, \"#d8576b\"], [0.6666666666666666, \"#ed7953\"], [0.7777777777777778, \"#fb9f3a\"], [0.8888888888888888, \"#fdca26\"], [1.0, \"#f0f921\"]], \"sequentialminus\": [[0.0, \"#0d0887\"], [0.1111111111111111, \"#46039f\"], [0.2222222222222222, \"#7201a8\"], [0.3333333333333333, \"#9c179e\"], [0.4444444444444444, \"#bd3786\"], [0.5555555555555556, \"#d8576b\"], [0.6666666666666666, \"#ed7953\"], [0.7777777777777778, \"#fb9f3a\"], [0.8888888888888888, \"#fdca26\"], [1.0, \"#f0f921\"]]}, \"colorway\": [\"#636efa\", \"#EF553B\", \"#00cc96\", \"#ab63fa\", \"#FFA15A\", \"#19d3f3\", \"#FF6692\", \"#B6E880\", \"#FF97FF\", \"#FECB52\"], \"font\": {\"color\": \"#2a3f5f\"}, \"geo\": {\"bgcolor\": \"white\", \"lakecolor\": \"white\", \"landcolor\": \"#E5ECF6\", \"showlakes\": true, \"showland\": true, \"subunitcolor\": \"white\"}, \"hoverlabel\": {\"align\": \"left\"}, \"hovermode\": \"closest\", \"mapbox\": {\"style\": \"light\"}, \"paper_bgcolor\": \"white\", \"plot_bgcolor\": \"#E5ECF6\", \"polar\": {\"angularaxis\": {\"gridcolor\": \"white\", \"linecolor\": \"white\", \"ticks\": \"\"}, \"bgcolor\": \"#E5ECF6\", \"radialaxis\": {\"gridcolor\": \"white\", \"linecolor\": \"white\", \"ticks\": \"\"}}, \"scene\": {\"xaxis\": {\"backgroundcolor\": \"#E5ECF6\", \"gridcolor\": \"white\", \"gridwidth\": 2, \"linecolor\": \"white\", \"showbackground\": true, \"ticks\": \"\", \"zerolinecolor\": \"white\"}, \"yaxis\": {\"backgroundcolor\": \"#E5ECF6\", \"gridcolor\": \"white\", \"gridwidth\": 2, \"linecolor\": \"white\", \"showbackground\": true, \"ticks\": \"\", \"zerolinecolor\": \"white\"}, \"zaxis\": {\"backgroundcolor\": \"#E5ECF6\", \"gridcolor\": \"white\", \"gridwidth\": 2, \"linecolor\": \"white\", \"showbackground\": true, \"ticks\": \"\", \"zerolinecolor\": \"white\"}}, \"shapedefaults\": {\"line\": {\"color\": \"#2a3f5f\"}}, \"ternary\": {\"aaxis\": {\"gridcolor\": \"white\", \"linecolor\": \"white\", \"ticks\": \"\"}, \"baxis\": {\"gridcolor\": \"white\", \"linecolor\": \"white\", \"ticks\": \"\"}, \"bgcolor\": \"#E5ECF6\", \"caxis\": {\"gridcolor\": \"white\", \"linecolor\": \"white\", \"ticks\": \"\"}}, \"title\": {\"x\": 0.05}, \"xaxis\": {\"automargin\": true, \"gridcolor\": \"white\", \"linecolor\": \"white\", \"ticks\": \"\", \"title\": {\"standoff\": 15}, \"zerolinecolor\": \"white\", \"zerolinewidth\": 2}, \"yaxis\": {\"automargin\": true, \"gridcolor\": \"white\", \"linecolor\": \"white\", \"ticks\": \"\", \"title\": {\"standoff\": 15}, \"zerolinecolor\": \"white\", \"zerolinewidth\": 2}}}, \"title\": {\"font\": {\"color\": \"#4D5663\"}}, \"xaxis\": {\"gridcolor\": \"#E1E5ED\", \"showgrid\": true, \"tickfont\": {\"color\": \"#4D5663\"}, \"title\": {\"font\": {\"color\": \"#4D5663\"}, \"text\": \"\"}, \"zerolinecolor\": \"#E1E5ED\"}, \"yaxis\": {\"gridcolor\": \"#E1E5ED\", \"showgrid\": true, \"tickfont\": {\"color\": \"#4D5663\"}, \"title\": {\"font\": {\"color\": \"#4D5663\"}, \"text\": \"\"}, \"zerolinecolor\": \"#E1E5ED\"}},\n",
       "                        {\"showLink\": true, \"linkText\": \"Export to plot.ly\", \"plotlyServerURL\": \"https://plot.ly\", \"responsive\": true}\n",
       "                    ).then(function(){\n",
       "                            \n",
       "var gd = document.getElementById('df17a519-d48b-4b9e-a376-c0104e45baa9');\n",
       "var x = new MutationObserver(function (mutations, observer) {{\n",
       "        var display = window.getComputedStyle(gd).display;\n",
       "        if (!display || display === 'none') {{\n",
       "            console.log([gd, 'removed!']);\n",
       "            Plotly.purge(gd);\n",
       "            observer.disconnect();\n",
       "        }}\n",
       "}});\n",
       "\n",
       "// Listen for the removal of the full notebook cells\n",
       "var notebookContainer = gd.closest('#notebook-container');\n",
       "if (notebookContainer) {{\n",
       "    x.observe(notebookContainer, {childList: true});\n",
       "}}\n",
       "\n",
       "// Listen for the clearing of the current output cell\n",
       "var outputEl = gd.closest('.output');\n",
       "if (outputEl) {{\n",
       "    x.observe(outputEl, {childList: true});\n",
       "}}\n",
       "\n",
       "                        })\n",
       "                };\n",
       "                });\n",
       "            </script>\n",
       "        </div>"
      ]
     },
     "metadata": {},
     "output_type": "display_data"
    }
   ],
   "source": [
    "# Surface plot\n",
    "df3.iplot(kind='surface',colorscale='rdylbu')"
   ]
  },
  {
   "cell_type": "code",
   "execution_count": 67,
   "metadata": {},
   "outputs": [
    {
     "data": {
      "application/vnd.plotly.v1+json": {
       "config": {
        "linkText": "Export to plot.ly",
        "plotlyServerURL": "https://plot.ly",
        "showLink": true
       },
       "data": [
        {
         "histfunc": "count",
         "histnorm": "",
         "marker": {
          "color": "rgba(255, 153, 51, 1.0)",
          "line": {
           "color": "#4D5663",
           "width": 1.3
          }
         },
         "name": "A",
         "nbinsx": 50,
         "opacity": 0.8,
         "orientation": "v",
         "type": "histogram",
         "x": [
          2.4749962936946055,
          -0.9007990275507158,
          -0.9805747297855275,
          0.8591241423923144,
          -0.23513612993279762,
          -1.4871885942258938,
          0.1509626101323387,
          0.3710990855337078,
          -0.0783348441645605,
          2.26380966222816,
          0.208228005383773,
          0.3526292310156882,
          1.1125779531924598,
          -0.9777079006710802,
          1.2013899556079988,
          0.07237738940168735,
          -1.3345991474970709,
          -2.017283621905848,
          -0.6549271175784173,
          -1.8897303970589032,
          -0.05019611399214896,
          0.2680783170338222,
          0.8959378751017952,
          1.9759406303102243,
          0.6701199636150814,
          0.9306138813501291,
          -2.581350212978,
          1.2019358187360194,
          0.5962268260509613,
          0.043399436853583974,
          -0.7034736013426729,
          -0.5870817705680396,
          0.26132864277511264,
          1.0026011168534013,
          0.5024826385176249,
          -1.3709098720171886,
          1.6010990955566187,
          -1.1866188378116598,
          -0.0851183518897504,
          2.6578337032405006,
          1.6498431342132363,
          0.01577419471099402,
          0.18660345295126896,
          -1.6380810984694385,
          -0.6920612579214326,
          -0.5481117511795,
          -0.8393828604315164,
          0.6545901837953004,
          0.6793888900506158,
          0.5868162253947056,
          0.7373061487047904,
          0.4104583260324701,
          1.512028590184469,
          2.234848174397926,
          -1.206697874221941,
          1.5386372375224369,
          0.4589019331759673,
          -0.2677178684218074,
          -0.5165748852689157,
          2.097914912767957,
          1.1046891478459746,
          -1.0127769075344921,
          -0.9275024218807334,
          0.46254807937094916,
          -2.581572057555803,
          -0.5177589481227729,
          0.4316554621434871,
          0.6954811231387482,
          0.0300098483416636,
          0.6539900009746611,
          -0.4449879580630433,
          -0.999503090467957,
          1.0362026545443144,
          0.9136741620871076,
          -0.5439968151535551,
          -0.8107903439717139,
          -1.9019102452016945,
          0.7119532518308098,
          -0.5667692810338499,
          1.0639290359748934,
          -0.6453104900764639,
          0.26835233269243897,
          -0.7968176977559296,
          -0.7527220997163271,
          -1.5516630981944994,
          0.5303143093757477,
          1.0840453642416785,
          1.4896418973352272,
          1.2220370054697876,
          -0.16792657416935036,
          -0.2308432545947218,
          -0.29786350107739773,
          0.12177245408476088,
          1.3631037691423746,
          0.6384473313553243,
          -0.7283898466255497,
          0.2516740646126679,
          -0.8870567793418102,
          0.5163456231504208,
          1.1852874008722312
         ]
        }
       ],
       "layout": {
        "barmode": "overlay",
        "legend": {
         "bgcolor": "#F5F6F9",
         "font": {
          "color": "#4D5663"
         }
        },
        "paper_bgcolor": "#F5F6F9",
        "plot_bgcolor": "#F5F6F9",
        "template": {
         "data": {
          "bar": [
           {
            "error_x": {
             "color": "#2a3f5f"
            },
            "error_y": {
             "color": "#2a3f5f"
            },
            "marker": {
             "line": {
              "color": "#E5ECF6",
              "width": 0.5
             }
            },
            "type": "bar"
           }
          ],
          "barpolar": [
           {
            "marker": {
             "line": {
              "color": "#E5ECF6",
              "width": 0.5
             }
            },
            "type": "barpolar"
           }
          ],
          "carpet": [
           {
            "aaxis": {
             "endlinecolor": "#2a3f5f",
             "gridcolor": "white",
             "linecolor": "white",
             "minorgridcolor": "white",
             "startlinecolor": "#2a3f5f"
            },
            "baxis": {
             "endlinecolor": "#2a3f5f",
             "gridcolor": "white",
             "linecolor": "white",
             "minorgridcolor": "white",
             "startlinecolor": "#2a3f5f"
            },
            "type": "carpet"
           }
          ],
          "choropleth": [
           {
            "colorbar": {
             "outlinewidth": 0,
             "ticks": ""
            },
            "type": "choropleth"
           }
          ],
          "contour": [
           {
            "colorbar": {
             "outlinewidth": 0,
             "ticks": ""
            },
            "colorscale": [
             [
              0,
              "#0d0887"
             ],
             [
              0.1111111111111111,
              "#46039f"
             ],
             [
              0.2222222222222222,
              "#7201a8"
             ],
             [
              0.3333333333333333,
              "#9c179e"
             ],
             [
              0.4444444444444444,
              "#bd3786"
             ],
             [
              0.5555555555555556,
              "#d8576b"
             ],
             [
              0.6666666666666666,
              "#ed7953"
             ],
             [
              0.7777777777777778,
              "#fb9f3a"
             ],
             [
              0.8888888888888888,
              "#fdca26"
             ],
             [
              1,
              "#f0f921"
             ]
            ],
            "type": "contour"
           }
          ],
          "contourcarpet": [
           {
            "colorbar": {
             "outlinewidth": 0,
             "ticks": ""
            },
            "type": "contourcarpet"
           }
          ],
          "heatmap": [
           {
            "colorbar": {
             "outlinewidth": 0,
             "ticks": ""
            },
            "colorscale": [
             [
              0,
              "#0d0887"
             ],
             [
              0.1111111111111111,
              "#46039f"
             ],
             [
              0.2222222222222222,
              "#7201a8"
             ],
             [
              0.3333333333333333,
              "#9c179e"
             ],
             [
              0.4444444444444444,
              "#bd3786"
             ],
             [
              0.5555555555555556,
              "#d8576b"
             ],
             [
              0.6666666666666666,
              "#ed7953"
             ],
             [
              0.7777777777777778,
              "#fb9f3a"
             ],
             [
              0.8888888888888888,
              "#fdca26"
             ],
             [
              1,
              "#f0f921"
             ]
            ],
            "type": "heatmap"
           }
          ],
          "heatmapgl": [
           {
            "colorbar": {
             "outlinewidth": 0,
             "ticks": ""
            },
            "colorscale": [
             [
              0,
              "#0d0887"
             ],
             [
              0.1111111111111111,
              "#46039f"
             ],
             [
              0.2222222222222222,
              "#7201a8"
             ],
             [
              0.3333333333333333,
              "#9c179e"
             ],
             [
              0.4444444444444444,
              "#bd3786"
             ],
             [
              0.5555555555555556,
              "#d8576b"
             ],
             [
              0.6666666666666666,
              "#ed7953"
             ],
             [
              0.7777777777777778,
              "#fb9f3a"
             ],
             [
              0.8888888888888888,
              "#fdca26"
             ],
             [
              1,
              "#f0f921"
             ]
            ],
            "type": "heatmapgl"
           }
          ],
          "histogram": [
           {
            "marker": {
             "colorbar": {
              "outlinewidth": 0,
              "ticks": ""
             }
            },
            "type": "histogram"
           }
          ],
          "histogram2d": [
           {
            "colorbar": {
             "outlinewidth": 0,
             "ticks": ""
            },
            "colorscale": [
             [
              0,
              "#0d0887"
             ],
             [
              0.1111111111111111,
              "#46039f"
             ],
             [
              0.2222222222222222,
              "#7201a8"
             ],
             [
              0.3333333333333333,
              "#9c179e"
             ],
             [
              0.4444444444444444,
              "#bd3786"
             ],
             [
              0.5555555555555556,
              "#d8576b"
             ],
             [
              0.6666666666666666,
              "#ed7953"
             ],
             [
              0.7777777777777778,
              "#fb9f3a"
             ],
             [
              0.8888888888888888,
              "#fdca26"
             ],
             [
              1,
              "#f0f921"
             ]
            ],
            "type": "histogram2d"
           }
          ],
          "histogram2dcontour": [
           {
            "colorbar": {
             "outlinewidth": 0,
             "ticks": ""
            },
            "colorscale": [
             [
              0,
              "#0d0887"
             ],
             [
              0.1111111111111111,
              "#46039f"
             ],
             [
              0.2222222222222222,
              "#7201a8"
             ],
             [
              0.3333333333333333,
              "#9c179e"
             ],
             [
              0.4444444444444444,
              "#bd3786"
             ],
             [
              0.5555555555555556,
              "#d8576b"
             ],
             [
              0.6666666666666666,
              "#ed7953"
             ],
             [
              0.7777777777777778,
              "#fb9f3a"
             ],
             [
              0.8888888888888888,
              "#fdca26"
             ],
             [
              1,
              "#f0f921"
             ]
            ],
            "type": "histogram2dcontour"
           }
          ],
          "mesh3d": [
           {
            "colorbar": {
             "outlinewidth": 0,
             "ticks": ""
            },
            "type": "mesh3d"
           }
          ],
          "parcoords": [
           {
            "line": {
             "colorbar": {
              "outlinewidth": 0,
              "ticks": ""
             }
            },
            "type": "parcoords"
           }
          ],
          "pie": [
           {
            "automargin": true,
            "type": "pie"
           }
          ],
          "scatter": [
           {
            "marker": {
             "colorbar": {
              "outlinewidth": 0,
              "ticks": ""
             }
            },
            "type": "scatter"
           }
          ],
          "scatter3d": [
           {
            "line": {
             "colorbar": {
              "outlinewidth": 0,
              "ticks": ""
             }
            },
            "marker": {
             "colorbar": {
              "outlinewidth": 0,
              "ticks": ""
             }
            },
            "type": "scatter3d"
           }
          ],
          "scattercarpet": [
           {
            "marker": {
             "colorbar": {
              "outlinewidth": 0,
              "ticks": ""
             }
            },
            "type": "scattercarpet"
           }
          ],
          "scattergeo": [
           {
            "marker": {
             "colorbar": {
              "outlinewidth": 0,
              "ticks": ""
             }
            },
            "type": "scattergeo"
           }
          ],
          "scattergl": [
           {
            "marker": {
             "colorbar": {
              "outlinewidth": 0,
              "ticks": ""
             }
            },
            "type": "scattergl"
           }
          ],
          "scattermapbox": [
           {
            "marker": {
             "colorbar": {
              "outlinewidth": 0,
              "ticks": ""
             }
            },
            "type": "scattermapbox"
           }
          ],
          "scatterpolar": [
           {
            "marker": {
             "colorbar": {
              "outlinewidth": 0,
              "ticks": ""
             }
            },
            "type": "scatterpolar"
           }
          ],
          "scatterpolargl": [
           {
            "marker": {
             "colorbar": {
              "outlinewidth": 0,
              "ticks": ""
             }
            },
            "type": "scatterpolargl"
           }
          ],
          "scatterternary": [
           {
            "marker": {
             "colorbar": {
              "outlinewidth": 0,
              "ticks": ""
             }
            },
            "type": "scatterternary"
           }
          ],
          "surface": [
           {
            "colorbar": {
             "outlinewidth": 0,
             "ticks": ""
            },
            "colorscale": [
             [
              0,
              "#0d0887"
             ],
             [
              0.1111111111111111,
              "#46039f"
             ],
             [
              0.2222222222222222,
              "#7201a8"
             ],
             [
              0.3333333333333333,
              "#9c179e"
             ],
             [
              0.4444444444444444,
              "#bd3786"
             ],
             [
              0.5555555555555556,
              "#d8576b"
             ],
             [
              0.6666666666666666,
              "#ed7953"
             ],
             [
              0.7777777777777778,
              "#fb9f3a"
             ],
             [
              0.8888888888888888,
              "#fdca26"
             ],
             [
              1,
              "#f0f921"
             ]
            ],
            "type": "surface"
           }
          ],
          "table": [
           {
            "cells": {
             "fill": {
              "color": "#EBF0F8"
             },
             "line": {
              "color": "white"
             }
            },
            "header": {
             "fill": {
              "color": "#C8D4E3"
             },
             "line": {
              "color": "white"
             }
            },
            "type": "table"
           }
          ]
         },
         "layout": {
          "annotationdefaults": {
           "arrowcolor": "#2a3f5f",
           "arrowhead": 0,
           "arrowwidth": 1
          },
          "coloraxis": {
           "colorbar": {
            "outlinewidth": 0,
            "ticks": ""
           }
          },
          "colorscale": {
           "diverging": [
            [
             0,
             "#8e0152"
            ],
            [
             0.1,
             "#c51b7d"
            ],
            [
             0.2,
             "#de77ae"
            ],
            [
             0.3,
             "#f1b6da"
            ],
            [
             0.4,
             "#fde0ef"
            ],
            [
             0.5,
             "#f7f7f7"
            ],
            [
             0.6,
             "#e6f5d0"
            ],
            [
             0.7,
             "#b8e186"
            ],
            [
             0.8,
             "#7fbc41"
            ],
            [
             0.9,
             "#4d9221"
            ],
            [
             1,
             "#276419"
            ]
           ],
           "sequential": [
            [
             0,
             "#0d0887"
            ],
            [
             0.1111111111111111,
             "#46039f"
            ],
            [
             0.2222222222222222,
             "#7201a8"
            ],
            [
             0.3333333333333333,
             "#9c179e"
            ],
            [
             0.4444444444444444,
             "#bd3786"
            ],
            [
             0.5555555555555556,
             "#d8576b"
            ],
            [
             0.6666666666666666,
             "#ed7953"
            ],
            [
             0.7777777777777778,
             "#fb9f3a"
            ],
            [
             0.8888888888888888,
             "#fdca26"
            ],
            [
             1,
             "#f0f921"
            ]
           ],
           "sequentialminus": [
            [
             0,
             "#0d0887"
            ],
            [
             0.1111111111111111,
             "#46039f"
            ],
            [
             0.2222222222222222,
             "#7201a8"
            ],
            [
             0.3333333333333333,
             "#9c179e"
            ],
            [
             0.4444444444444444,
             "#bd3786"
            ],
            [
             0.5555555555555556,
             "#d8576b"
            ],
            [
             0.6666666666666666,
             "#ed7953"
            ],
            [
             0.7777777777777778,
             "#fb9f3a"
            ],
            [
             0.8888888888888888,
             "#fdca26"
            ],
            [
             1,
             "#f0f921"
            ]
           ]
          },
          "colorway": [
           "#636efa",
           "#EF553B",
           "#00cc96",
           "#ab63fa",
           "#FFA15A",
           "#19d3f3",
           "#FF6692",
           "#B6E880",
           "#FF97FF",
           "#FECB52"
          ],
          "font": {
           "color": "#2a3f5f"
          },
          "geo": {
           "bgcolor": "white",
           "lakecolor": "white",
           "landcolor": "#E5ECF6",
           "showlakes": true,
           "showland": true,
           "subunitcolor": "white"
          },
          "hoverlabel": {
           "align": "left"
          },
          "hovermode": "closest",
          "mapbox": {
           "style": "light"
          },
          "paper_bgcolor": "white",
          "plot_bgcolor": "#E5ECF6",
          "polar": {
           "angularaxis": {
            "gridcolor": "white",
            "linecolor": "white",
            "ticks": ""
           },
           "bgcolor": "#E5ECF6",
           "radialaxis": {
            "gridcolor": "white",
            "linecolor": "white",
            "ticks": ""
           }
          },
          "scene": {
           "xaxis": {
            "backgroundcolor": "#E5ECF6",
            "gridcolor": "white",
            "gridwidth": 2,
            "linecolor": "white",
            "showbackground": true,
            "ticks": "",
            "zerolinecolor": "white"
           },
           "yaxis": {
            "backgroundcolor": "#E5ECF6",
            "gridcolor": "white",
            "gridwidth": 2,
            "linecolor": "white",
            "showbackground": true,
            "ticks": "",
            "zerolinecolor": "white"
           },
           "zaxis": {
            "backgroundcolor": "#E5ECF6",
            "gridcolor": "white",
            "gridwidth": 2,
            "linecolor": "white",
            "showbackground": true,
            "ticks": "",
            "zerolinecolor": "white"
           }
          },
          "shapedefaults": {
           "line": {
            "color": "#2a3f5f"
           }
          },
          "ternary": {
           "aaxis": {
            "gridcolor": "white",
            "linecolor": "white",
            "ticks": ""
           },
           "baxis": {
            "gridcolor": "white",
            "linecolor": "white",
            "ticks": ""
           },
           "bgcolor": "#E5ECF6",
           "caxis": {
            "gridcolor": "white",
            "linecolor": "white",
            "ticks": ""
           }
          },
          "title": {
           "x": 0.05
          },
          "xaxis": {
           "automargin": true,
           "gridcolor": "white",
           "linecolor": "white",
           "ticks": "",
           "title": {
            "standoff": 15
           },
           "zerolinecolor": "white",
           "zerolinewidth": 2
          },
          "yaxis": {
           "automargin": true,
           "gridcolor": "white",
           "linecolor": "white",
           "ticks": "",
           "title": {
            "standoff": 15
           },
           "zerolinecolor": "white",
           "zerolinewidth": 2
          }
         }
        },
        "title": {
         "font": {
          "color": "#4D5663"
         }
        },
        "xaxis": {
         "gridcolor": "#E1E5ED",
         "showgrid": true,
         "tickfont": {
          "color": "#4D5663"
         },
         "title": {
          "font": {
           "color": "#4D5663"
          },
          "text": ""
         },
         "zerolinecolor": "#E1E5ED"
        },
        "yaxis": {
         "gridcolor": "#E1E5ED",
         "showgrid": true,
         "tickfont": {
          "color": "#4D5663"
         },
         "title": {
          "font": {
           "color": "#4D5663"
          },
          "text": ""
         },
         "zerolinecolor": "#E1E5ED"
        }
       }
      },
      "text/html": [
       "<div>\n",
       "        \n",
       "        \n",
       "            <div id=\"179163cc-eac0-4a70-9097-24ab906fdc76\" class=\"plotly-graph-div\" style=\"height:525px; width:100%;\"></div>\n",
       "            <script type=\"text/javascript\">\n",
       "                require([\"plotly\"], function(Plotly) {\n",
       "                    window.PLOTLYENV=window.PLOTLYENV || {};\n",
       "                    window.PLOTLYENV.BASE_URL='https://plot.ly';\n",
       "                    \n",
       "                if (document.getElementById(\"179163cc-eac0-4a70-9097-24ab906fdc76\")) {\n",
       "                    Plotly.newPlot(\n",
       "                        '179163cc-eac0-4a70-9097-24ab906fdc76',\n",
       "                        [{\"histfunc\": \"count\", \"histnorm\": \"\", \"marker\": {\"color\": \"rgba(255, 153, 51, 1.0)\", \"line\": {\"color\": \"#4D5663\", \"width\": 1.3}}, \"name\": \"A\", \"nbinsx\": 50, \"opacity\": 0.8, \"orientation\": \"v\", \"type\": \"histogram\", \"x\": [2.4749962936946055, -0.9007990275507158, -0.9805747297855275, 0.8591241423923144, -0.23513612993279762, -1.4871885942258938, 0.1509626101323387, 0.3710990855337078, -0.0783348441645605, 2.26380966222816, 0.208228005383773, 0.3526292310156882, 1.1125779531924598, -0.9777079006710802, 1.2013899556079988, 0.07237738940168735, -1.3345991474970709, -2.017283621905848, -0.6549271175784173, -1.8897303970589032, -0.05019611399214896, 0.2680783170338222, 0.8959378751017952, 1.9759406303102243, 0.6701199636150814, 0.9306138813501291, -2.581350212978, 1.2019358187360194, 0.5962268260509613, 0.043399436853583974, -0.7034736013426729, -0.5870817705680396, 0.26132864277511264, 1.0026011168534013, 0.5024826385176249, -1.3709098720171886, 1.6010990955566187, -1.1866188378116598, -0.0851183518897504, 2.6578337032405006, 1.6498431342132363, 0.01577419471099402, 0.18660345295126896, -1.6380810984694385, -0.6920612579214326, -0.5481117511795, -0.8393828604315164, 0.6545901837953004, 0.6793888900506158, 0.5868162253947056, 0.7373061487047904, 0.4104583260324701, 1.512028590184469, 2.234848174397926, -1.206697874221941, 1.5386372375224369, 0.4589019331759673, -0.2677178684218074, -0.5165748852689157, 2.097914912767957, 1.1046891478459746, -1.0127769075344921, -0.9275024218807334, 0.46254807937094916, -2.581572057555803, -0.5177589481227729, 0.4316554621434871, 0.6954811231387482, 0.0300098483416636, 0.6539900009746611, -0.4449879580630433, -0.999503090467957, 1.0362026545443144, 0.9136741620871076, -0.5439968151535551, -0.8107903439717139, -1.9019102452016945, 0.7119532518308098, -0.5667692810338499, 1.0639290359748934, -0.6453104900764639, 0.26835233269243897, -0.7968176977559296, -0.7527220997163271, -1.5516630981944994, 0.5303143093757477, 1.0840453642416785, 1.4896418973352272, 1.2220370054697876, -0.16792657416935036, -0.2308432545947218, -0.29786350107739773, 0.12177245408476088, 1.3631037691423746, 0.6384473313553243, -0.7283898466255497, 0.2516740646126679, -0.8870567793418102, 0.5163456231504208, 1.1852874008722312]}],\n",
       "                        {\"barmode\": \"overlay\", \"legend\": {\"bgcolor\": \"#F5F6F9\", \"font\": {\"color\": \"#4D5663\"}}, \"paper_bgcolor\": \"#F5F6F9\", \"plot_bgcolor\": \"#F5F6F9\", \"template\": {\"data\": {\"bar\": [{\"error_x\": {\"color\": \"#2a3f5f\"}, \"error_y\": {\"color\": \"#2a3f5f\"}, \"marker\": {\"line\": {\"color\": \"#E5ECF6\", \"width\": 0.5}}, \"type\": \"bar\"}], \"barpolar\": [{\"marker\": {\"line\": {\"color\": \"#E5ECF6\", \"width\": 0.5}}, \"type\": \"barpolar\"}], \"carpet\": [{\"aaxis\": {\"endlinecolor\": \"#2a3f5f\", \"gridcolor\": \"white\", \"linecolor\": \"white\", \"minorgridcolor\": \"white\", \"startlinecolor\": \"#2a3f5f\"}, \"baxis\": {\"endlinecolor\": \"#2a3f5f\", \"gridcolor\": \"white\", \"linecolor\": \"white\", \"minorgridcolor\": \"white\", \"startlinecolor\": \"#2a3f5f\"}, \"type\": \"carpet\"}], \"choropleth\": [{\"colorbar\": {\"outlinewidth\": 0, \"ticks\": \"\"}, \"type\": \"choropleth\"}], \"contour\": [{\"colorbar\": {\"outlinewidth\": 0, \"ticks\": \"\"}, \"colorscale\": [[0.0, \"#0d0887\"], [0.1111111111111111, \"#46039f\"], [0.2222222222222222, \"#7201a8\"], [0.3333333333333333, \"#9c179e\"], [0.4444444444444444, \"#bd3786\"], [0.5555555555555556, \"#d8576b\"], [0.6666666666666666, \"#ed7953\"], [0.7777777777777778, \"#fb9f3a\"], [0.8888888888888888, \"#fdca26\"], [1.0, \"#f0f921\"]], \"type\": \"contour\"}], \"contourcarpet\": [{\"colorbar\": {\"outlinewidth\": 0, \"ticks\": \"\"}, \"type\": \"contourcarpet\"}], \"heatmap\": [{\"colorbar\": {\"outlinewidth\": 0, \"ticks\": \"\"}, \"colorscale\": [[0.0, \"#0d0887\"], [0.1111111111111111, \"#46039f\"], [0.2222222222222222, \"#7201a8\"], [0.3333333333333333, \"#9c179e\"], [0.4444444444444444, \"#bd3786\"], [0.5555555555555556, \"#d8576b\"], [0.6666666666666666, \"#ed7953\"], [0.7777777777777778, \"#fb9f3a\"], [0.8888888888888888, \"#fdca26\"], [1.0, \"#f0f921\"]], \"type\": \"heatmap\"}], \"heatmapgl\": [{\"colorbar\": {\"outlinewidth\": 0, \"ticks\": \"\"}, \"colorscale\": [[0.0, \"#0d0887\"], [0.1111111111111111, \"#46039f\"], [0.2222222222222222, \"#7201a8\"], [0.3333333333333333, \"#9c179e\"], [0.4444444444444444, \"#bd3786\"], [0.5555555555555556, \"#d8576b\"], [0.6666666666666666, \"#ed7953\"], [0.7777777777777778, \"#fb9f3a\"], [0.8888888888888888, \"#fdca26\"], [1.0, \"#f0f921\"]], \"type\": \"heatmapgl\"}], \"histogram\": [{\"marker\": {\"colorbar\": {\"outlinewidth\": 0, \"ticks\": \"\"}}, \"type\": \"histogram\"}], \"histogram2d\": [{\"colorbar\": {\"outlinewidth\": 0, \"ticks\": \"\"}, \"colorscale\": [[0.0, \"#0d0887\"], [0.1111111111111111, \"#46039f\"], [0.2222222222222222, \"#7201a8\"], [0.3333333333333333, \"#9c179e\"], [0.4444444444444444, \"#bd3786\"], [0.5555555555555556, \"#d8576b\"], [0.6666666666666666, \"#ed7953\"], [0.7777777777777778, \"#fb9f3a\"], [0.8888888888888888, \"#fdca26\"], [1.0, \"#f0f921\"]], \"type\": \"histogram2d\"}], \"histogram2dcontour\": [{\"colorbar\": {\"outlinewidth\": 0, \"ticks\": \"\"}, \"colorscale\": [[0.0, \"#0d0887\"], [0.1111111111111111, \"#46039f\"], [0.2222222222222222, \"#7201a8\"], [0.3333333333333333, \"#9c179e\"], [0.4444444444444444, \"#bd3786\"], [0.5555555555555556, \"#d8576b\"], [0.6666666666666666, \"#ed7953\"], [0.7777777777777778, \"#fb9f3a\"], [0.8888888888888888, \"#fdca26\"], [1.0, \"#f0f921\"]], \"type\": \"histogram2dcontour\"}], \"mesh3d\": [{\"colorbar\": {\"outlinewidth\": 0, \"ticks\": \"\"}, \"type\": \"mesh3d\"}], \"parcoords\": [{\"line\": {\"colorbar\": {\"outlinewidth\": 0, \"ticks\": \"\"}}, \"type\": \"parcoords\"}], \"pie\": [{\"automargin\": true, \"type\": \"pie\"}], \"scatter\": [{\"marker\": {\"colorbar\": {\"outlinewidth\": 0, \"ticks\": \"\"}}, \"type\": \"scatter\"}], \"scatter3d\": [{\"line\": {\"colorbar\": {\"outlinewidth\": 0, \"ticks\": \"\"}}, \"marker\": {\"colorbar\": {\"outlinewidth\": 0, \"ticks\": \"\"}}, \"type\": \"scatter3d\"}], \"scattercarpet\": [{\"marker\": {\"colorbar\": {\"outlinewidth\": 0, \"ticks\": \"\"}}, \"type\": \"scattercarpet\"}], \"scattergeo\": [{\"marker\": {\"colorbar\": {\"outlinewidth\": 0, \"ticks\": \"\"}}, \"type\": \"scattergeo\"}], \"scattergl\": [{\"marker\": {\"colorbar\": {\"outlinewidth\": 0, \"ticks\": \"\"}}, \"type\": \"scattergl\"}], \"scattermapbox\": [{\"marker\": {\"colorbar\": {\"outlinewidth\": 0, \"ticks\": \"\"}}, \"type\": \"scattermapbox\"}], \"scatterpolar\": [{\"marker\": {\"colorbar\": {\"outlinewidth\": 0, \"ticks\": \"\"}}, \"type\": \"scatterpolar\"}], \"scatterpolargl\": [{\"marker\": {\"colorbar\": {\"outlinewidth\": 0, \"ticks\": \"\"}}, \"type\": \"scatterpolargl\"}], \"scatterternary\": [{\"marker\": {\"colorbar\": {\"outlinewidth\": 0, \"ticks\": \"\"}}, \"type\": \"scatterternary\"}], \"surface\": [{\"colorbar\": {\"outlinewidth\": 0, \"ticks\": \"\"}, \"colorscale\": [[0.0, \"#0d0887\"], [0.1111111111111111, \"#46039f\"], [0.2222222222222222, \"#7201a8\"], [0.3333333333333333, \"#9c179e\"], [0.4444444444444444, \"#bd3786\"], [0.5555555555555556, \"#d8576b\"], [0.6666666666666666, \"#ed7953\"], [0.7777777777777778, \"#fb9f3a\"], [0.8888888888888888, \"#fdca26\"], [1.0, \"#f0f921\"]], \"type\": \"surface\"}], \"table\": [{\"cells\": {\"fill\": {\"color\": \"#EBF0F8\"}, \"line\": {\"color\": \"white\"}}, \"header\": {\"fill\": {\"color\": \"#C8D4E3\"}, \"line\": {\"color\": \"white\"}}, \"type\": \"table\"}]}, \"layout\": {\"annotationdefaults\": {\"arrowcolor\": \"#2a3f5f\", \"arrowhead\": 0, \"arrowwidth\": 1}, \"coloraxis\": {\"colorbar\": {\"outlinewidth\": 0, \"ticks\": \"\"}}, \"colorscale\": {\"diverging\": [[0, \"#8e0152\"], [0.1, \"#c51b7d\"], [0.2, \"#de77ae\"], [0.3, \"#f1b6da\"], [0.4, \"#fde0ef\"], [0.5, \"#f7f7f7\"], [0.6, \"#e6f5d0\"], [0.7, \"#b8e186\"], [0.8, \"#7fbc41\"], [0.9, \"#4d9221\"], [1, \"#276419\"]], \"sequential\": [[0.0, \"#0d0887\"], [0.1111111111111111, \"#46039f\"], [0.2222222222222222, \"#7201a8\"], [0.3333333333333333, \"#9c179e\"], [0.4444444444444444, \"#bd3786\"], [0.5555555555555556, \"#d8576b\"], [0.6666666666666666, \"#ed7953\"], [0.7777777777777778, \"#fb9f3a\"], [0.8888888888888888, \"#fdca26\"], [1.0, \"#f0f921\"]], \"sequentialminus\": [[0.0, \"#0d0887\"], [0.1111111111111111, \"#46039f\"], [0.2222222222222222, \"#7201a8\"], [0.3333333333333333, \"#9c179e\"], [0.4444444444444444, \"#bd3786\"], [0.5555555555555556, \"#d8576b\"], [0.6666666666666666, \"#ed7953\"], [0.7777777777777778, \"#fb9f3a\"], [0.8888888888888888, \"#fdca26\"], [1.0, \"#f0f921\"]]}, \"colorway\": [\"#636efa\", \"#EF553B\", \"#00cc96\", \"#ab63fa\", \"#FFA15A\", \"#19d3f3\", \"#FF6692\", \"#B6E880\", \"#FF97FF\", \"#FECB52\"], \"font\": {\"color\": \"#2a3f5f\"}, \"geo\": {\"bgcolor\": \"white\", \"lakecolor\": \"white\", \"landcolor\": \"#E5ECF6\", \"showlakes\": true, \"showland\": true, \"subunitcolor\": \"white\"}, \"hoverlabel\": {\"align\": \"left\"}, \"hovermode\": \"closest\", \"mapbox\": {\"style\": \"light\"}, \"paper_bgcolor\": \"white\", \"plot_bgcolor\": \"#E5ECF6\", \"polar\": {\"angularaxis\": {\"gridcolor\": \"white\", \"linecolor\": \"white\", \"ticks\": \"\"}, \"bgcolor\": \"#E5ECF6\", \"radialaxis\": {\"gridcolor\": \"white\", \"linecolor\": \"white\", \"ticks\": \"\"}}, \"scene\": {\"xaxis\": {\"backgroundcolor\": \"#E5ECF6\", \"gridcolor\": \"white\", \"gridwidth\": 2, \"linecolor\": \"white\", \"showbackground\": true, \"ticks\": \"\", \"zerolinecolor\": \"white\"}, \"yaxis\": {\"backgroundcolor\": \"#E5ECF6\", \"gridcolor\": \"white\", \"gridwidth\": 2, \"linecolor\": \"white\", \"showbackground\": true, \"ticks\": \"\", \"zerolinecolor\": \"white\"}, \"zaxis\": {\"backgroundcolor\": \"#E5ECF6\", \"gridcolor\": \"white\", \"gridwidth\": 2, \"linecolor\": \"white\", \"showbackground\": true, \"ticks\": \"\", \"zerolinecolor\": \"white\"}}, \"shapedefaults\": {\"line\": {\"color\": \"#2a3f5f\"}}, \"ternary\": {\"aaxis\": {\"gridcolor\": \"white\", \"linecolor\": \"white\", \"ticks\": \"\"}, \"baxis\": {\"gridcolor\": \"white\", \"linecolor\": \"white\", \"ticks\": \"\"}, \"bgcolor\": \"#E5ECF6\", \"caxis\": {\"gridcolor\": \"white\", \"linecolor\": \"white\", \"ticks\": \"\"}}, \"title\": {\"x\": 0.05}, \"xaxis\": {\"automargin\": true, \"gridcolor\": \"white\", \"linecolor\": \"white\", \"ticks\": \"\", \"title\": {\"standoff\": 15}, \"zerolinecolor\": \"white\", \"zerolinewidth\": 2}, \"yaxis\": {\"automargin\": true, \"gridcolor\": \"white\", \"linecolor\": \"white\", \"ticks\": \"\", \"title\": {\"standoff\": 15}, \"zerolinecolor\": \"white\", \"zerolinewidth\": 2}}}, \"title\": {\"font\": {\"color\": \"#4D5663\"}}, \"xaxis\": {\"gridcolor\": \"#E1E5ED\", \"showgrid\": true, \"tickfont\": {\"color\": \"#4D5663\"}, \"title\": {\"font\": {\"color\": \"#4D5663\"}, \"text\": \"\"}, \"zerolinecolor\": \"#E1E5ED\"}, \"yaxis\": {\"gridcolor\": \"#E1E5ED\", \"showgrid\": true, \"tickfont\": {\"color\": \"#4D5663\"}, \"title\": {\"font\": {\"color\": \"#4D5663\"}, \"text\": \"\"}, \"zerolinecolor\": \"#E1E5ED\"}},\n",
       "                        {\"showLink\": true, \"linkText\": \"Export to plot.ly\", \"plotlyServerURL\": \"https://plot.ly\", \"responsive\": true}\n",
       "                    ).then(function(){\n",
       "                            \n",
       "var gd = document.getElementById('179163cc-eac0-4a70-9097-24ab906fdc76');\n",
       "var x = new MutationObserver(function (mutations, observer) {{\n",
       "        var display = window.getComputedStyle(gd).display;\n",
       "        if (!display || display === 'none') {{\n",
       "            console.log([gd, 'removed!']);\n",
       "            Plotly.purge(gd);\n",
       "            observer.disconnect();\n",
       "        }}\n",
       "}});\n",
       "\n",
       "// Listen for the removal of the full notebook cells\n",
       "var notebookContainer = gd.closest('#notebook-container');\n",
       "if (notebookContainer) {{\n",
       "    x.observe(notebookContainer, {childList: true});\n",
       "}}\n",
       "\n",
       "// Listen for the clearing of the current output cell\n",
       "var outputEl = gd.closest('.output');\n",
       "if (outputEl) {{\n",
       "    x.observe(outputEl, {childList: true});\n",
       "}}\n",
       "\n",
       "                        })\n",
       "                };\n",
       "                });\n",
       "            </script>\n",
       "        </div>"
      ]
     },
     "metadata": {},
     "output_type": "display_data"
    }
   ],
   "source": [
    "df['A'].iplot(kind='hist',bins=50)"
   ]
  },
  {
   "cell_type": "code",
   "execution_count": 68,
   "metadata": {},
   "outputs": [
    {
     "name": "stderr",
     "output_type": "stream",
     "text": [
      "/home/ai/anaconda3/lib/python3.7/site-packages/cufflinks/plotlytools.py:849: FutureWarning:\n",
      "\n",
      "The pandas.np module is deprecated and will be removed from pandas in a future version. Import numpy directly instead\n",
      "\n",
      "/home/ai/anaconda3/lib/python3.7/site-packages/cufflinks/plotlytools.py:850: FutureWarning:\n",
      "\n",
      "The pandas.np module is deprecated and will be removed from pandas in a future version. Import numpy directly instead\n",
      "\n"
     ]
    },
    {
     "data": {
      "application/vnd.plotly.v1+json": {
       "config": {
        "linkText": "Export to plot.ly",
        "plotlyServerURL": "https://plot.ly",
        "showLink": true
       },
       "data": [
        {
         "line": {
          "color": "rgba(255, 153, 51, 1.0)",
          "dash": "solid",
          "shape": "linear",
          "width": 1.3
         },
         "mode": "lines",
         "name": "A",
         "text": "",
         "type": "scatter",
         "x": [
          0,
          1,
          2,
          3,
          4,
          5,
          6,
          7,
          8,
          9,
          10,
          11,
          12,
          13,
          14,
          15,
          16,
          17,
          18,
          19,
          20,
          21,
          22,
          23,
          24,
          25,
          26,
          27,
          28,
          29,
          30,
          31,
          32,
          33,
          34,
          35,
          36,
          37,
          38,
          39,
          40,
          41,
          42,
          43,
          44,
          45,
          46,
          47,
          48,
          49,
          50,
          51,
          52,
          53,
          54,
          55,
          56,
          57,
          58,
          59,
          60,
          61,
          62,
          63,
          64,
          65,
          66,
          67,
          68,
          69,
          70,
          71,
          72,
          73,
          74,
          75,
          76,
          77,
          78,
          79,
          80,
          81,
          82,
          83,
          84,
          85,
          86,
          87,
          88,
          89,
          90,
          91,
          92,
          93,
          94,
          95,
          96,
          97,
          98,
          99
         ],
         "y": [
          2.4749962936946055,
          -0.9007990275507158,
          -0.9805747297855275,
          0.8591241423923144,
          -0.23513612993279762,
          -1.4871885942258938,
          0.1509626101323387,
          0.3710990855337078,
          -0.0783348441645605,
          2.26380966222816,
          0.208228005383773,
          0.3526292310156882,
          1.1125779531924598,
          -0.9777079006710802,
          1.2013899556079988,
          0.07237738940168735,
          -1.3345991474970709,
          -2.017283621905848,
          -0.6549271175784173,
          -1.8897303970589032,
          -0.05019611399214896,
          0.2680783170338222,
          0.8959378751017952,
          1.9759406303102243,
          0.6701199636150814,
          0.9306138813501291,
          -2.581350212978,
          1.2019358187360194,
          0.5962268260509613,
          0.043399436853583974,
          -0.7034736013426729,
          -0.5870817705680396,
          0.26132864277511264,
          1.0026011168534013,
          0.5024826385176249,
          -1.3709098720171886,
          1.6010990955566187,
          -1.1866188378116598,
          -0.0851183518897504,
          2.6578337032405006,
          1.6498431342132363,
          0.01577419471099402,
          0.18660345295126896,
          -1.6380810984694385,
          -0.6920612579214326,
          -0.5481117511795,
          -0.8393828604315164,
          0.6545901837953004,
          0.6793888900506158,
          0.5868162253947056,
          0.7373061487047904,
          0.4104583260324701,
          1.512028590184469,
          2.234848174397926,
          -1.206697874221941,
          1.5386372375224369,
          0.4589019331759673,
          -0.2677178684218074,
          -0.5165748852689157,
          2.097914912767957,
          1.1046891478459746,
          -1.0127769075344921,
          -0.9275024218807334,
          0.46254807937094916,
          -2.581572057555803,
          -0.5177589481227729,
          0.4316554621434871,
          0.6954811231387482,
          0.0300098483416636,
          0.6539900009746611,
          -0.4449879580630433,
          -0.999503090467957,
          1.0362026545443144,
          0.9136741620871076,
          -0.5439968151535551,
          -0.8107903439717139,
          -1.9019102452016945,
          0.7119532518308098,
          -0.5667692810338499,
          1.0639290359748934,
          -0.6453104900764639,
          0.26835233269243897,
          -0.7968176977559296,
          -0.7527220997163271,
          -1.5516630981944994,
          0.5303143093757477,
          1.0840453642416785,
          1.4896418973352272,
          1.2220370054697876,
          -0.16792657416935036,
          -0.2308432545947218,
          -0.29786350107739773,
          0.12177245408476088,
          1.3631037691423746,
          0.6384473313553243,
          -0.7283898466255497,
          0.2516740646126679,
          -0.8870567793418102,
          0.5163456231504208,
          1.1852874008722312
         ]
        },
        {
         "line": {
          "color": "rgba(55, 128, 191, 1.0)",
          "dash": "solid",
          "shape": "linear",
          "width": 1.3
         },
         "mode": "lines",
         "name": "B",
         "text": "",
         "type": "scatter",
         "x": [
          0,
          1,
          2,
          3,
          4,
          5,
          6,
          7,
          8,
          9,
          10,
          11,
          12,
          13,
          14,
          15,
          16,
          17,
          18,
          19,
          20,
          21,
          22,
          23,
          24,
          25,
          26,
          27,
          28,
          29,
          30,
          31,
          32,
          33,
          34,
          35,
          36,
          37,
          38,
          39,
          40,
          41,
          42,
          43,
          44,
          45,
          46,
          47,
          48,
          49,
          50,
          51,
          52,
          53,
          54,
          55,
          56,
          57,
          58,
          59,
          60,
          61,
          62,
          63,
          64,
          65,
          66,
          67,
          68,
          69,
          70,
          71,
          72,
          73,
          74,
          75,
          76,
          77,
          78,
          79,
          80,
          81,
          82,
          83,
          84,
          85,
          86,
          87,
          88,
          89,
          90,
          91,
          92,
          93,
          94,
          95,
          96,
          97,
          98,
          99
         ],
         "y": [
          0.3134686022095278,
          0.9167330694085948,
          1.8358559878457181,
          0.2834426630393991,
          0.22899753551591995,
          1.2214721753208433,
          0.2910640003360314,
          0.44389793149791734,
          1.2162009677053427,
          -0.9619002047119665,
          -1.2784583359551878,
          -0.37144603885723965,
          0.8800661016792073,
          -0.6763563018495778,
          -2.2277493627980003,
          0.6930676738162171,
          -1.1683340478867852,
          -0.15790090640505508,
          -0.6826931554912031,
          0.05049038923586889,
          0.4869377860093024,
          -0.8835410697700743,
          0.24868435409408757,
          -1.056969392655306,
          0.6233496437331075,
          0.9046922325586537,
          0.2818495405726576,
          0.14967640219134654,
          -0.6091488927991449,
          0.2123086378874707,
          0.45743817850369867,
          -0.9658200412921484,
          -0.00865557348175014,
          0.4291721685534401,
          -0.22006799285765793,
          2.488597634675389,
          -0.6061303020257509,
          1.6102658234045657,
          -1.000863701554238,
          -0.534256527143899,
          -0.4621570121146412,
          -1.9759816278599311,
          -0.7760690578252674,
          -0.18467394830622197,
          -1.1458391575252205,
          1.7555670562803594,
          -0.26250474351571285,
          0.5464460246470153,
          0.30987674584616987,
          0.3520151819035632,
          0.9958399353993154,
          -0.5214726384988668,
          0.07222055358695231,
          0.46791079579358846,
          -0.33047997165882564,
          0.9192388020854462,
          -0.3256795536945822,
          -1.8653337188608055,
          0.5962235529452432,
          -0.4240408936804001,
          1.8384924861277794,
          -1.1038965745155283,
          -0.8519275517835061,
          0.7141618825240307,
          0.8285710482210474,
          -0.42276652716172586,
          -1.1587737795342765,
          0.9809709177500708,
          -0.12667495781204194,
          -2.5319609816814572,
          1.432198698417712,
          -1.0622603426980124,
          -0.6234638991651306,
          -1.2776077551390106,
          0.028895853903978024,
          1.644544932190103,
          -0.6163351737696124,
          -0.041946278013372994,
          1.07876840216128,
          0.4241597671285785,
          -2.2076469021892127,
          -0.6868007293609565,
          -0.7430886502094988,
          -0.33242320190080693,
          -0.7943984962651276,
          -2.4226861547474168,
          1.5447323436514886,
          -0.5894859162554954,
          -0.5022088401908156,
          -1.5308674143676129,
          -1.1681670620058908,
          1.3748345847740826,
          0.28388738456361123,
          -0.37374003079645696,
          2.9489109452284934,
          0.38147384481885627,
          -0.6351765194539595,
          0.08824145484231279,
          -0.811892307602746,
          -1.742992613677244
         ]
        },
        {
         "connectgaps": false,
         "fill": "tozeroy",
         "line": {
          "color": "green",
          "dash": "solid",
          "shape": "linear",
          "width": 0.5
         },
         "mode": "lines",
         "name": "Spread",
         "showlegend": false,
         "type": "scatter",
         "x": [
          0,
          1,
          2,
          3,
          4,
          5,
          6,
          7,
          8,
          9,
          10,
          11,
          12,
          13,
          14,
          15,
          16,
          17,
          18,
          19,
          20,
          21,
          22,
          23,
          24,
          25,
          26,
          27,
          28,
          29,
          30,
          31,
          32,
          33,
          34,
          35,
          36,
          37,
          38,
          39,
          40,
          41,
          42,
          43,
          44,
          45,
          46,
          47,
          48,
          49,
          50,
          51,
          52,
          53,
          54,
          55,
          56,
          57,
          58,
          59,
          60,
          61,
          62,
          63,
          64,
          65,
          66,
          67,
          68,
          69,
          70,
          71,
          72,
          73,
          74,
          75,
          76,
          77,
          78,
          79,
          80,
          81,
          82,
          83,
          84,
          85,
          86,
          87,
          88,
          89,
          90,
          91,
          92,
          93,
          94,
          95,
          96,
          97,
          98,
          99
         ],
         "xaxis": "x2",
         "y": [
          2.1615276914850776,
          "",
          "",
          0.5756814793529152,
          "",
          "",
          "",
          "",
          "",
          3.2257098669401265,
          1.4866863413389608,
          0.7240752698729278,
          0.2325118515132525,
          "",
          3.429139318405999,
          "",
          "",
          "",
          0.027766037912785868,
          "",
          "",
          1.1516193868038964,
          0.6472535210077077,
          3.03291002296553,
          0.04677031988197389,
          0.025921648791475405,
          "",
          1.0522594165446728,
          1.2053757188501062,
          "",
          "",
          0.3787382707241088,
          0.26998421625686275,
          0.5734289482999612,
          0.7225506313752827,
          "",
          2.2072293975823696,
          "",
          0.9157453496644877,
          3.1920902303844,
          2.1120001463278775,
          1.991755822570925,
          0.9626725107765364,
          "",
          0.4537778996037879,
          "",
          "",
          0.10814415914828512,
          0.3695121442044459,
          0.2348010434911424,
          "",
          0.931930964531337,
          1.4398080365975168,
          1.7669373786043374,
          "",
          0.6193984354369907,
          0.7845814868705494,
          1.5976158504389981,
          "",
          2.521955806448357,
          "",
          0.09111966698103613,
          "",
          "",
          "",
          "",
          1.5904292416777637,
          "",
          0.15668480615370553,
          3.1859509826561183,
          "",
          0.06275725223005535,
          1.659666553709445,
          2.191281917226118,
          "",
          "",
          "",
          0.7538995298441828,
          "",
          0.6397692688463149,
          1.5623364121127488,
          0.9551530620533955,
          "",
          "",
          "",
          2.9530004641231646,
          "",
          2.0791278135907225,
          1.7242458456606031,
          1.3629408401982626,
          0.937323807411169,
          "",
          "",
          1.7368437999388315,
          "",
          "",
          0.8868505840666274,
          "",
          1.3282379307531667,
          2.9282800145494754
         ],
         "yaxis": "y2"
        },
        {
         "connectgaps": false,
         "fill": "tozeroy",
         "line": {
          "color": "red",
          "dash": "solid",
          "shape": "linear",
          "width": 0.5
         },
         "mode": "lines",
         "name": "Spread",
         "showlegend": false,
         "type": "scatter",
         "x": [
          0,
          1,
          2,
          3,
          4,
          5,
          6,
          7,
          8,
          9,
          10,
          11,
          12,
          13,
          14,
          15,
          16,
          17,
          18,
          19,
          20,
          21,
          22,
          23,
          24,
          25,
          26,
          27,
          28,
          29,
          30,
          31,
          32,
          33,
          34,
          35,
          36,
          37,
          38,
          39,
          40,
          41,
          42,
          43,
          44,
          45,
          46,
          47,
          48,
          49,
          50,
          51,
          52,
          53,
          54,
          55,
          56,
          57,
          58,
          59,
          60,
          61,
          62,
          63,
          64,
          65,
          66,
          67,
          68,
          69,
          70,
          71,
          72,
          73,
          74,
          75,
          76,
          77,
          78,
          79,
          80,
          81,
          82,
          83,
          84,
          85,
          86,
          87,
          88,
          89,
          90,
          91,
          92,
          93,
          94,
          95,
          96,
          97,
          98,
          99
         ],
         "xaxis": "x2",
         "y": [
          "",
          -1.8175320969593107,
          -2.8164307176312455,
          "",
          -0.4641336654487176,
          -2.708660769546737,
          -0.14010139020369272,
          -0.07279884596420955,
          -1.2945358118699033,
          "",
          "",
          "",
          "",
          -0.3013515988215023,
          "",
          -0.6206902844145298,
          -0.16626509961028568,
          -1.859382715500793,
          "",
          -1.940220786294772,
          -0.5371339000014513,
          "",
          "",
          "",
          "",
          "",
          -2.8631997535506577,
          "",
          "",
          -0.16890920103388674,
          -1.1609117798463715,
          "",
          "",
          "",
          "",
          -3.8595075066925775,
          "",
          -2.7968846612162253,
          "",
          "",
          "",
          "",
          "",
          -1.4534071501632164,
          "",
          -2.3036788074598595,
          -0.5768781169158036,
          "",
          "",
          "",
          -0.258533786694525,
          "",
          "",
          "",
          -0.8762179025631154,
          "",
          "",
          "",
          -1.112798438214159,
          "",
          -0.7338033382818048,
          "",
          -0.0755748700972273,
          -0.2516138031530815,
          -3.4101431057768505,
          -0.09499242096104704,
          "",
          -0.2854897946113226,
          "",
          "",
          -1.8771866564807553,
          "",
          "",
          "",
          -0.5728926690575331,
          -2.455335276161817,
          -1.2855750714320822,
          "",
          -1.6455376831951298,
          "",
          "",
          "",
          -0.05372904754643082,
          -0.42029889781552016,
          -0.7572646019293718,
          "",
          -0.46068697940981007,
          "",
          "",
          "",
          "",
          -1.6726980858514804,
          -0.16211493047885034,
          "",
          -2.310463613873169,
          -1.109863691444406,
          "",
          -0.975298234184123,
          "",
          ""
         ],
         "yaxis": "y2"
        }
       ],
       "layout": {
        "hovermode": "x",
        "legend": {
         "bgcolor": "#F5F6F9",
         "font": {
          "color": "#4D5663"
         }
        },
        "paper_bgcolor": "#F5F6F9",
        "plot_bgcolor": "#F5F6F9",
        "template": {
         "data": {
          "bar": [
           {
            "error_x": {
             "color": "#2a3f5f"
            },
            "error_y": {
             "color": "#2a3f5f"
            },
            "marker": {
             "line": {
              "color": "#E5ECF6",
              "width": 0.5
             }
            },
            "type": "bar"
           }
          ],
          "barpolar": [
           {
            "marker": {
             "line": {
              "color": "#E5ECF6",
              "width": 0.5
             }
            },
            "type": "barpolar"
           }
          ],
          "carpet": [
           {
            "aaxis": {
             "endlinecolor": "#2a3f5f",
             "gridcolor": "white",
             "linecolor": "white",
             "minorgridcolor": "white",
             "startlinecolor": "#2a3f5f"
            },
            "baxis": {
             "endlinecolor": "#2a3f5f",
             "gridcolor": "white",
             "linecolor": "white",
             "minorgridcolor": "white",
             "startlinecolor": "#2a3f5f"
            },
            "type": "carpet"
           }
          ],
          "choropleth": [
           {
            "colorbar": {
             "outlinewidth": 0,
             "ticks": ""
            },
            "type": "choropleth"
           }
          ],
          "contour": [
           {
            "colorbar": {
             "outlinewidth": 0,
             "ticks": ""
            },
            "colorscale": [
             [
              0,
              "#0d0887"
             ],
             [
              0.1111111111111111,
              "#46039f"
             ],
             [
              0.2222222222222222,
              "#7201a8"
             ],
             [
              0.3333333333333333,
              "#9c179e"
             ],
             [
              0.4444444444444444,
              "#bd3786"
             ],
             [
              0.5555555555555556,
              "#d8576b"
             ],
             [
              0.6666666666666666,
              "#ed7953"
             ],
             [
              0.7777777777777778,
              "#fb9f3a"
             ],
             [
              0.8888888888888888,
              "#fdca26"
             ],
             [
              1,
              "#f0f921"
             ]
            ],
            "type": "contour"
           }
          ],
          "contourcarpet": [
           {
            "colorbar": {
             "outlinewidth": 0,
             "ticks": ""
            },
            "type": "contourcarpet"
           }
          ],
          "heatmap": [
           {
            "colorbar": {
             "outlinewidth": 0,
             "ticks": ""
            },
            "colorscale": [
             [
              0,
              "#0d0887"
             ],
             [
              0.1111111111111111,
              "#46039f"
             ],
             [
              0.2222222222222222,
              "#7201a8"
             ],
             [
              0.3333333333333333,
              "#9c179e"
             ],
             [
              0.4444444444444444,
              "#bd3786"
             ],
             [
              0.5555555555555556,
              "#d8576b"
             ],
             [
              0.6666666666666666,
              "#ed7953"
             ],
             [
              0.7777777777777778,
              "#fb9f3a"
             ],
             [
              0.8888888888888888,
              "#fdca26"
             ],
             [
              1,
              "#f0f921"
             ]
            ],
            "type": "heatmap"
           }
          ],
          "heatmapgl": [
           {
            "colorbar": {
             "outlinewidth": 0,
             "ticks": ""
            },
            "colorscale": [
             [
              0,
              "#0d0887"
             ],
             [
              0.1111111111111111,
              "#46039f"
             ],
             [
              0.2222222222222222,
              "#7201a8"
             ],
             [
              0.3333333333333333,
              "#9c179e"
             ],
             [
              0.4444444444444444,
              "#bd3786"
             ],
             [
              0.5555555555555556,
              "#d8576b"
             ],
             [
              0.6666666666666666,
              "#ed7953"
             ],
             [
              0.7777777777777778,
              "#fb9f3a"
             ],
             [
              0.8888888888888888,
              "#fdca26"
             ],
             [
              1,
              "#f0f921"
             ]
            ],
            "type": "heatmapgl"
           }
          ],
          "histogram": [
           {
            "marker": {
             "colorbar": {
              "outlinewidth": 0,
              "ticks": ""
             }
            },
            "type": "histogram"
           }
          ],
          "histogram2d": [
           {
            "colorbar": {
             "outlinewidth": 0,
             "ticks": ""
            },
            "colorscale": [
             [
              0,
              "#0d0887"
             ],
             [
              0.1111111111111111,
              "#46039f"
             ],
             [
              0.2222222222222222,
              "#7201a8"
             ],
             [
              0.3333333333333333,
              "#9c179e"
             ],
             [
              0.4444444444444444,
              "#bd3786"
             ],
             [
              0.5555555555555556,
              "#d8576b"
             ],
             [
              0.6666666666666666,
              "#ed7953"
             ],
             [
              0.7777777777777778,
              "#fb9f3a"
             ],
             [
              0.8888888888888888,
              "#fdca26"
             ],
             [
              1,
              "#f0f921"
             ]
            ],
            "type": "histogram2d"
           }
          ],
          "histogram2dcontour": [
           {
            "colorbar": {
             "outlinewidth": 0,
             "ticks": ""
            },
            "colorscale": [
             [
              0,
              "#0d0887"
             ],
             [
              0.1111111111111111,
              "#46039f"
             ],
             [
              0.2222222222222222,
              "#7201a8"
             ],
             [
              0.3333333333333333,
              "#9c179e"
             ],
             [
              0.4444444444444444,
              "#bd3786"
             ],
             [
              0.5555555555555556,
              "#d8576b"
             ],
             [
              0.6666666666666666,
              "#ed7953"
             ],
             [
              0.7777777777777778,
              "#fb9f3a"
             ],
             [
              0.8888888888888888,
              "#fdca26"
             ],
             [
              1,
              "#f0f921"
             ]
            ],
            "type": "histogram2dcontour"
           }
          ],
          "mesh3d": [
           {
            "colorbar": {
             "outlinewidth": 0,
             "ticks": ""
            },
            "type": "mesh3d"
           }
          ],
          "parcoords": [
           {
            "line": {
             "colorbar": {
              "outlinewidth": 0,
              "ticks": ""
             }
            },
            "type": "parcoords"
           }
          ],
          "pie": [
           {
            "automargin": true,
            "type": "pie"
           }
          ],
          "scatter": [
           {
            "marker": {
             "colorbar": {
              "outlinewidth": 0,
              "ticks": ""
             }
            },
            "type": "scatter"
           }
          ],
          "scatter3d": [
           {
            "line": {
             "colorbar": {
              "outlinewidth": 0,
              "ticks": ""
             }
            },
            "marker": {
             "colorbar": {
              "outlinewidth": 0,
              "ticks": ""
             }
            },
            "type": "scatter3d"
           }
          ],
          "scattercarpet": [
           {
            "marker": {
             "colorbar": {
              "outlinewidth": 0,
              "ticks": ""
             }
            },
            "type": "scattercarpet"
           }
          ],
          "scattergeo": [
           {
            "marker": {
             "colorbar": {
              "outlinewidth": 0,
              "ticks": ""
             }
            },
            "type": "scattergeo"
           }
          ],
          "scattergl": [
           {
            "marker": {
             "colorbar": {
              "outlinewidth": 0,
              "ticks": ""
             }
            },
            "type": "scattergl"
           }
          ],
          "scattermapbox": [
           {
            "marker": {
             "colorbar": {
              "outlinewidth": 0,
              "ticks": ""
             }
            },
            "type": "scattermapbox"
           }
          ],
          "scatterpolar": [
           {
            "marker": {
             "colorbar": {
              "outlinewidth": 0,
              "ticks": ""
             }
            },
            "type": "scatterpolar"
           }
          ],
          "scatterpolargl": [
           {
            "marker": {
             "colorbar": {
              "outlinewidth": 0,
              "ticks": ""
             }
            },
            "type": "scatterpolargl"
           }
          ],
          "scatterternary": [
           {
            "marker": {
             "colorbar": {
              "outlinewidth": 0,
              "ticks": ""
             }
            },
            "type": "scatterternary"
           }
          ],
          "surface": [
           {
            "colorbar": {
             "outlinewidth": 0,
             "ticks": ""
            },
            "colorscale": [
             [
              0,
              "#0d0887"
             ],
             [
              0.1111111111111111,
              "#46039f"
             ],
             [
              0.2222222222222222,
              "#7201a8"
             ],
             [
              0.3333333333333333,
              "#9c179e"
             ],
             [
              0.4444444444444444,
              "#bd3786"
             ],
             [
              0.5555555555555556,
              "#d8576b"
             ],
             [
              0.6666666666666666,
              "#ed7953"
             ],
             [
              0.7777777777777778,
              "#fb9f3a"
             ],
             [
              0.8888888888888888,
              "#fdca26"
             ],
             [
              1,
              "#f0f921"
             ]
            ],
            "type": "surface"
           }
          ],
          "table": [
           {
            "cells": {
             "fill": {
              "color": "#EBF0F8"
             },
             "line": {
              "color": "white"
             }
            },
            "header": {
             "fill": {
              "color": "#C8D4E3"
             },
             "line": {
              "color": "white"
             }
            },
            "type": "table"
           }
          ]
         },
         "layout": {
          "annotationdefaults": {
           "arrowcolor": "#2a3f5f",
           "arrowhead": 0,
           "arrowwidth": 1
          },
          "coloraxis": {
           "colorbar": {
            "outlinewidth": 0,
            "ticks": ""
           }
          },
          "colorscale": {
           "diverging": [
            [
             0,
             "#8e0152"
            ],
            [
             0.1,
             "#c51b7d"
            ],
            [
             0.2,
             "#de77ae"
            ],
            [
             0.3,
             "#f1b6da"
            ],
            [
             0.4,
             "#fde0ef"
            ],
            [
             0.5,
             "#f7f7f7"
            ],
            [
             0.6,
             "#e6f5d0"
            ],
            [
             0.7,
             "#b8e186"
            ],
            [
             0.8,
             "#7fbc41"
            ],
            [
             0.9,
             "#4d9221"
            ],
            [
             1,
             "#276419"
            ]
           ],
           "sequential": [
            [
             0,
             "#0d0887"
            ],
            [
             0.1111111111111111,
             "#46039f"
            ],
            [
             0.2222222222222222,
             "#7201a8"
            ],
            [
             0.3333333333333333,
             "#9c179e"
            ],
            [
             0.4444444444444444,
             "#bd3786"
            ],
            [
             0.5555555555555556,
             "#d8576b"
            ],
            [
             0.6666666666666666,
             "#ed7953"
            ],
            [
             0.7777777777777778,
             "#fb9f3a"
            ],
            [
             0.8888888888888888,
             "#fdca26"
            ],
            [
             1,
             "#f0f921"
            ]
           ],
           "sequentialminus": [
            [
             0,
             "#0d0887"
            ],
            [
             0.1111111111111111,
             "#46039f"
            ],
            [
             0.2222222222222222,
             "#7201a8"
            ],
            [
             0.3333333333333333,
             "#9c179e"
            ],
            [
             0.4444444444444444,
             "#bd3786"
            ],
            [
             0.5555555555555556,
             "#d8576b"
            ],
            [
             0.6666666666666666,
             "#ed7953"
            ],
            [
             0.7777777777777778,
             "#fb9f3a"
            ],
            [
             0.8888888888888888,
             "#fdca26"
            ],
            [
             1,
             "#f0f921"
            ]
           ]
          },
          "colorway": [
           "#636efa",
           "#EF553B",
           "#00cc96",
           "#ab63fa",
           "#FFA15A",
           "#19d3f3",
           "#FF6692",
           "#B6E880",
           "#FF97FF",
           "#FECB52"
          ],
          "font": {
           "color": "#2a3f5f"
          },
          "geo": {
           "bgcolor": "white",
           "lakecolor": "white",
           "landcolor": "#E5ECF6",
           "showlakes": true,
           "showland": true,
           "subunitcolor": "white"
          },
          "hoverlabel": {
           "align": "left"
          },
          "hovermode": "closest",
          "mapbox": {
           "style": "light"
          },
          "paper_bgcolor": "white",
          "plot_bgcolor": "#E5ECF6",
          "polar": {
           "angularaxis": {
            "gridcolor": "white",
            "linecolor": "white",
            "ticks": ""
           },
           "bgcolor": "#E5ECF6",
           "radialaxis": {
            "gridcolor": "white",
            "linecolor": "white",
            "ticks": ""
           }
          },
          "scene": {
           "xaxis": {
            "backgroundcolor": "#E5ECF6",
            "gridcolor": "white",
            "gridwidth": 2,
            "linecolor": "white",
            "showbackground": true,
            "ticks": "",
            "zerolinecolor": "white"
           },
           "yaxis": {
            "backgroundcolor": "#E5ECF6",
            "gridcolor": "white",
            "gridwidth": 2,
            "linecolor": "white",
            "showbackground": true,
            "ticks": "",
            "zerolinecolor": "white"
           },
           "zaxis": {
            "backgroundcolor": "#E5ECF6",
            "gridcolor": "white",
            "gridwidth": 2,
            "linecolor": "white",
            "showbackground": true,
            "ticks": "",
            "zerolinecolor": "white"
           }
          },
          "shapedefaults": {
           "line": {
            "color": "#2a3f5f"
           }
          },
          "ternary": {
           "aaxis": {
            "gridcolor": "white",
            "linecolor": "white",
            "ticks": ""
           },
           "baxis": {
            "gridcolor": "white",
            "linecolor": "white",
            "ticks": ""
           },
           "bgcolor": "#E5ECF6",
           "caxis": {
            "gridcolor": "white",
            "linecolor": "white",
            "ticks": ""
           }
          },
          "title": {
           "x": 0.05
          },
          "xaxis": {
           "automargin": true,
           "gridcolor": "white",
           "linecolor": "white",
           "ticks": "",
           "title": {
            "standoff": 15
           },
           "zerolinecolor": "white",
           "zerolinewidth": 2
          },
          "yaxis": {
           "automargin": true,
           "gridcolor": "white",
           "linecolor": "white",
           "ticks": "",
           "title": {
            "standoff": 15
           },
           "zerolinecolor": "white",
           "zerolinewidth": 2
          }
         }
        },
        "title": {
         "font": {
          "color": "#4D5663"
         }
        },
        "xaxis": {
         "gridcolor": "#E1E5ED",
         "showgrid": true,
         "tickfont": {
          "color": "#4D5663"
         },
         "title": {
          "font": {
           "color": "#4D5663"
          },
          "text": ""
         },
         "zerolinecolor": "#E1E5ED"
        },
        "xaxis2": {
         "anchor": "y2",
         "gridcolor": "#E1E5ED",
         "showgrid": true,
         "showticklabels": false,
         "tickfont": {
          "color": "#4D5663"
         },
         "title": {
          "font": {
           "color": "#4D5663"
          },
          "text": ""
         },
         "zerolinecolor": "#E1E5ED"
        },
        "yaxis": {
         "domain": [
          0.3,
          1
         ],
         "gridcolor": "#E1E5ED",
         "showgrid": true,
         "tickfont": {
          "color": "#4D5663"
         },
         "title": {
          "font": {
           "color": "#4D5663"
          },
          "text": ""
         },
         "zerolinecolor": "#E1E5ED"
        },
        "yaxis2": {
         "domain": [
          0,
          0.25
         ],
         "gridcolor": "#E1E5ED",
         "showgrid": true,
         "tickfont": {
          "color": "#4D5663"
         },
         "title": {
          "font": {
           "color": "#4D5663"
          },
          "text": "Spread"
         },
         "zerolinecolor": "#E1E5ED"
        }
       }
      },
      "text/html": [
       "<div>\n",
       "        \n",
       "        \n",
       "            <div id=\"0b806399-0229-40d5-b999-1a0330725657\" class=\"plotly-graph-div\" style=\"height:525px; width:100%;\"></div>\n",
       "            <script type=\"text/javascript\">\n",
       "                require([\"plotly\"], function(Plotly) {\n",
       "                    window.PLOTLYENV=window.PLOTLYENV || {};\n",
       "                    window.PLOTLYENV.BASE_URL='https://plot.ly';\n",
       "                    \n",
       "                if (document.getElementById(\"0b806399-0229-40d5-b999-1a0330725657\")) {\n",
       "                    Plotly.newPlot(\n",
       "                        '0b806399-0229-40d5-b999-1a0330725657',\n",
       "                        [{\"line\": {\"color\": \"rgba(255, 153, 51, 1.0)\", \"dash\": \"solid\", \"shape\": \"linear\", \"width\": 1.3}, \"mode\": \"lines\", \"name\": \"A\", \"text\": \"\", \"type\": \"scatter\", \"x\": [0, 1, 2, 3, 4, 5, 6, 7, 8, 9, 10, 11, 12, 13, 14, 15, 16, 17, 18, 19, 20, 21, 22, 23, 24, 25, 26, 27, 28, 29, 30, 31, 32, 33, 34, 35, 36, 37, 38, 39, 40, 41, 42, 43, 44, 45, 46, 47, 48, 49, 50, 51, 52, 53, 54, 55, 56, 57, 58, 59, 60, 61, 62, 63, 64, 65, 66, 67, 68, 69, 70, 71, 72, 73, 74, 75, 76, 77, 78, 79, 80, 81, 82, 83, 84, 85, 86, 87, 88, 89, 90, 91, 92, 93, 94, 95, 96, 97, 98, 99], \"y\": [2.4749962936946055, -0.9007990275507158, -0.9805747297855275, 0.8591241423923144, -0.23513612993279762, -1.4871885942258938, 0.1509626101323387, 0.3710990855337078, -0.0783348441645605, 2.26380966222816, 0.208228005383773, 0.3526292310156882, 1.1125779531924598, -0.9777079006710802, 1.2013899556079988, 0.07237738940168735, -1.3345991474970709, -2.017283621905848, -0.6549271175784173, -1.8897303970589032, -0.05019611399214896, 0.2680783170338222, 0.8959378751017952, 1.9759406303102243, 0.6701199636150814, 0.9306138813501291, -2.581350212978, 1.2019358187360194, 0.5962268260509613, 0.043399436853583974, -0.7034736013426729, -0.5870817705680396, 0.26132864277511264, 1.0026011168534013, 0.5024826385176249, -1.3709098720171886, 1.6010990955566187, -1.1866188378116598, -0.0851183518897504, 2.6578337032405006, 1.6498431342132363, 0.01577419471099402, 0.18660345295126896, -1.6380810984694385, -0.6920612579214326, -0.5481117511795, -0.8393828604315164, 0.6545901837953004, 0.6793888900506158, 0.5868162253947056, 0.7373061487047904, 0.4104583260324701, 1.512028590184469, 2.234848174397926, -1.206697874221941, 1.5386372375224369, 0.4589019331759673, -0.2677178684218074, -0.5165748852689157, 2.097914912767957, 1.1046891478459746, -1.0127769075344921, -0.9275024218807334, 0.46254807937094916, -2.581572057555803, -0.5177589481227729, 0.4316554621434871, 0.6954811231387482, 0.0300098483416636, 0.6539900009746611, -0.4449879580630433, -0.999503090467957, 1.0362026545443144, 0.9136741620871076, -0.5439968151535551, -0.8107903439717139, -1.9019102452016945, 0.7119532518308098, -0.5667692810338499, 1.0639290359748934, -0.6453104900764639, 0.26835233269243897, -0.7968176977559296, -0.7527220997163271, -1.5516630981944994, 0.5303143093757477, 1.0840453642416785, 1.4896418973352272, 1.2220370054697876, -0.16792657416935036, -0.2308432545947218, -0.29786350107739773, 0.12177245408476088, 1.3631037691423746, 0.6384473313553243, -0.7283898466255497, 0.2516740646126679, -0.8870567793418102, 0.5163456231504208, 1.1852874008722312]}, {\"line\": {\"color\": \"rgba(55, 128, 191, 1.0)\", \"dash\": \"solid\", \"shape\": \"linear\", \"width\": 1.3}, \"mode\": \"lines\", \"name\": \"B\", \"text\": \"\", \"type\": \"scatter\", \"x\": [0, 1, 2, 3, 4, 5, 6, 7, 8, 9, 10, 11, 12, 13, 14, 15, 16, 17, 18, 19, 20, 21, 22, 23, 24, 25, 26, 27, 28, 29, 30, 31, 32, 33, 34, 35, 36, 37, 38, 39, 40, 41, 42, 43, 44, 45, 46, 47, 48, 49, 50, 51, 52, 53, 54, 55, 56, 57, 58, 59, 60, 61, 62, 63, 64, 65, 66, 67, 68, 69, 70, 71, 72, 73, 74, 75, 76, 77, 78, 79, 80, 81, 82, 83, 84, 85, 86, 87, 88, 89, 90, 91, 92, 93, 94, 95, 96, 97, 98, 99], \"y\": [0.3134686022095278, 0.9167330694085948, 1.8358559878457181, 0.2834426630393991, 0.22899753551591995, 1.2214721753208433, 0.2910640003360314, 0.44389793149791734, 1.2162009677053427, -0.9619002047119665, -1.2784583359551878, -0.37144603885723965, 0.8800661016792073, -0.6763563018495778, -2.2277493627980003, 0.6930676738162171, -1.1683340478867852, -0.15790090640505508, -0.6826931554912031, 0.05049038923586889, 0.4869377860093024, -0.8835410697700743, 0.24868435409408757, -1.056969392655306, 0.6233496437331075, 0.9046922325586537, 0.2818495405726576, 0.14967640219134654, -0.6091488927991449, 0.2123086378874707, 0.45743817850369867, -0.9658200412921484, -0.00865557348175014, 0.4291721685534401, -0.22006799285765793, 2.488597634675389, -0.6061303020257509, 1.6102658234045657, -1.000863701554238, -0.534256527143899, -0.4621570121146412, -1.9759816278599311, -0.7760690578252674, -0.18467394830622197, -1.1458391575252205, 1.7555670562803594, -0.26250474351571285, 0.5464460246470153, 0.30987674584616987, 0.3520151819035632, 0.9958399353993154, -0.5214726384988668, 0.07222055358695231, 0.46791079579358846, -0.33047997165882564, 0.9192388020854462, -0.3256795536945822, -1.8653337188608055, 0.5962235529452432, -0.4240408936804001, 1.8384924861277794, -1.1038965745155283, -0.8519275517835061, 0.7141618825240307, 0.8285710482210474, -0.42276652716172586, -1.1587737795342765, 0.9809709177500708, -0.12667495781204194, -2.5319609816814572, 1.432198698417712, -1.0622603426980124, -0.6234638991651306, -1.2776077551390106, 0.028895853903978024, 1.644544932190103, -0.6163351737696124, -0.041946278013372994, 1.07876840216128, 0.4241597671285785, -2.2076469021892127, -0.6868007293609565, -0.7430886502094988, -0.33242320190080693, -0.7943984962651276, -2.4226861547474168, 1.5447323436514886, -0.5894859162554954, -0.5022088401908156, -1.5308674143676129, -1.1681670620058908, 1.3748345847740826, 0.28388738456361123, -0.37374003079645696, 2.9489109452284934, 0.38147384481885627, -0.6351765194539595, 0.08824145484231279, -0.811892307602746, -1.742992613677244]}, {\"connectgaps\": false, \"fill\": \"tozeroy\", \"line\": {\"color\": \"green\", \"dash\": \"solid\", \"shape\": \"linear\", \"width\": 0.5}, \"mode\": \"lines\", \"name\": \"Spread\", \"showlegend\": false, \"type\": \"scatter\", \"x\": [0, 1, 2, 3, 4, 5, 6, 7, 8, 9, 10, 11, 12, 13, 14, 15, 16, 17, 18, 19, 20, 21, 22, 23, 24, 25, 26, 27, 28, 29, 30, 31, 32, 33, 34, 35, 36, 37, 38, 39, 40, 41, 42, 43, 44, 45, 46, 47, 48, 49, 50, 51, 52, 53, 54, 55, 56, 57, 58, 59, 60, 61, 62, 63, 64, 65, 66, 67, 68, 69, 70, 71, 72, 73, 74, 75, 76, 77, 78, 79, 80, 81, 82, 83, 84, 85, 86, 87, 88, 89, 90, 91, 92, 93, 94, 95, 96, 97, 98, 99], \"xaxis\": \"x2\", \"y\": [2.1615276914850776, \"\", \"\", 0.5756814793529152, \"\", \"\", \"\", \"\", \"\", 3.2257098669401265, 1.4866863413389608, 0.7240752698729278, 0.2325118515132525, \"\", 3.429139318405999, \"\", \"\", \"\", 0.027766037912785868, \"\", \"\", 1.1516193868038964, 0.6472535210077077, 3.03291002296553, 0.04677031988197389, 0.025921648791475405, \"\", 1.0522594165446728, 1.2053757188501062, \"\", \"\", 0.3787382707241088, 0.26998421625686275, 0.5734289482999612, 0.7225506313752827, \"\", 2.2072293975823696, \"\", 0.9157453496644877, 3.1920902303844, 2.1120001463278775, 1.991755822570925, 0.9626725107765364, \"\", 0.4537778996037879, \"\", \"\", 0.10814415914828512, 0.3695121442044459, 0.2348010434911424, \"\", 0.931930964531337, 1.4398080365975168, 1.7669373786043374, \"\", 0.6193984354369907, 0.7845814868705494, 1.5976158504389981, \"\", 2.521955806448357, \"\", 0.09111966698103613, \"\", \"\", \"\", \"\", 1.5904292416777637, \"\", 0.15668480615370553, 3.1859509826561183, \"\", 0.06275725223005535, 1.659666553709445, 2.191281917226118, \"\", \"\", \"\", 0.7538995298441828, \"\", 0.6397692688463149, 1.5623364121127488, 0.9551530620533955, \"\", \"\", \"\", 2.9530004641231646, \"\", 2.0791278135907225, 1.7242458456606031, 1.3629408401982626, 0.937323807411169, \"\", \"\", 1.7368437999388315, \"\", \"\", 0.8868505840666274, \"\", 1.3282379307531667, 2.9282800145494754], \"yaxis\": \"y2\"}, {\"connectgaps\": false, \"fill\": \"tozeroy\", \"line\": {\"color\": \"red\", \"dash\": \"solid\", \"shape\": \"linear\", \"width\": 0.5}, \"mode\": \"lines\", \"name\": \"Spread\", \"showlegend\": false, \"type\": \"scatter\", \"x\": [0, 1, 2, 3, 4, 5, 6, 7, 8, 9, 10, 11, 12, 13, 14, 15, 16, 17, 18, 19, 20, 21, 22, 23, 24, 25, 26, 27, 28, 29, 30, 31, 32, 33, 34, 35, 36, 37, 38, 39, 40, 41, 42, 43, 44, 45, 46, 47, 48, 49, 50, 51, 52, 53, 54, 55, 56, 57, 58, 59, 60, 61, 62, 63, 64, 65, 66, 67, 68, 69, 70, 71, 72, 73, 74, 75, 76, 77, 78, 79, 80, 81, 82, 83, 84, 85, 86, 87, 88, 89, 90, 91, 92, 93, 94, 95, 96, 97, 98, 99], \"xaxis\": \"x2\", \"y\": [\"\", -1.8175320969593107, -2.8164307176312455, \"\", -0.4641336654487176, -2.708660769546737, -0.14010139020369272, -0.07279884596420955, -1.2945358118699033, \"\", \"\", \"\", \"\", -0.3013515988215023, \"\", -0.6206902844145298, -0.16626509961028568, -1.859382715500793, \"\", -1.940220786294772, -0.5371339000014513, \"\", \"\", \"\", \"\", \"\", -2.8631997535506577, \"\", \"\", -0.16890920103388674, -1.1609117798463715, \"\", \"\", \"\", \"\", -3.8595075066925775, \"\", -2.7968846612162253, \"\", \"\", \"\", \"\", \"\", -1.4534071501632164, \"\", -2.3036788074598595, -0.5768781169158036, \"\", \"\", \"\", -0.258533786694525, \"\", \"\", \"\", -0.8762179025631154, \"\", \"\", \"\", -1.112798438214159, \"\", -0.7338033382818048, \"\", -0.0755748700972273, -0.2516138031530815, -3.4101431057768505, -0.09499242096104704, \"\", -0.2854897946113226, \"\", \"\", -1.8771866564807553, \"\", \"\", \"\", -0.5728926690575331, -2.455335276161817, -1.2855750714320822, \"\", -1.6455376831951298, \"\", \"\", \"\", -0.05372904754643082, -0.42029889781552016, -0.7572646019293718, \"\", -0.46068697940981007, \"\", \"\", \"\", \"\", -1.6726980858514804, -0.16211493047885034, \"\", -2.310463613873169, -1.109863691444406, \"\", -0.975298234184123, \"\", \"\"], \"yaxis\": \"y2\"}],\n",
       "                        {\"hovermode\": \"x\", \"legend\": {\"bgcolor\": \"#F5F6F9\", \"font\": {\"color\": \"#4D5663\"}}, \"paper_bgcolor\": \"#F5F6F9\", \"plot_bgcolor\": \"#F5F6F9\", \"template\": {\"data\": {\"bar\": [{\"error_x\": {\"color\": \"#2a3f5f\"}, \"error_y\": {\"color\": \"#2a3f5f\"}, \"marker\": {\"line\": {\"color\": \"#E5ECF6\", \"width\": 0.5}}, \"type\": \"bar\"}], \"barpolar\": [{\"marker\": {\"line\": {\"color\": \"#E5ECF6\", \"width\": 0.5}}, \"type\": \"barpolar\"}], \"carpet\": [{\"aaxis\": {\"endlinecolor\": \"#2a3f5f\", \"gridcolor\": \"white\", \"linecolor\": \"white\", \"minorgridcolor\": \"white\", \"startlinecolor\": \"#2a3f5f\"}, \"baxis\": {\"endlinecolor\": \"#2a3f5f\", \"gridcolor\": \"white\", \"linecolor\": \"white\", \"minorgridcolor\": \"white\", \"startlinecolor\": \"#2a3f5f\"}, \"type\": \"carpet\"}], \"choropleth\": [{\"colorbar\": {\"outlinewidth\": 0, \"ticks\": \"\"}, \"type\": \"choropleth\"}], \"contour\": [{\"colorbar\": {\"outlinewidth\": 0, \"ticks\": \"\"}, \"colorscale\": [[0.0, \"#0d0887\"], [0.1111111111111111, \"#46039f\"], [0.2222222222222222, \"#7201a8\"], [0.3333333333333333, \"#9c179e\"], [0.4444444444444444, \"#bd3786\"], [0.5555555555555556, \"#d8576b\"], [0.6666666666666666, \"#ed7953\"], [0.7777777777777778, \"#fb9f3a\"], [0.8888888888888888, \"#fdca26\"], [1.0, \"#f0f921\"]], \"type\": \"contour\"}], \"contourcarpet\": [{\"colorbar\": {\"outlinewidth\": 0, \"ticks\": \"\"}, \"type\": \"contourcarpet\"}], \"heatmap\": [{\"colorbar\": {\"outlinewidth\": 0, \"ticks\": \"\"}, \"colorscale\": [[0.0, \"#0d0887\"], [0.1111111111111111, \"#46039f\"], [0.2222222222222222, \"#7201a8\"], [0.3333333333333333, \"#9c179e\"], [0.4444444444444444, \"#bd3786\"], [0.5555555555555556, \"#d8576b\"], [0.6666666666666666, \"#ed7953\"], [0.7777777777777778, \"#fb9f3a\"], [0.8888888888888888, \"#fdca26\"], [1.0, \"#f0f921\"]], \"type\": \"heatmap\"}], \"heatmapgl\": [{\"colorbar\": {\"outlinewidth\": 0, \"ticks\": \"\"}, \"colorscale\": [[0.0, \"#0d0887\"], [0.1111111111111111, \"#46039f\"], [0.2222222222222222, \"#7201a8\"], [0.3333333333333333, \"#9c179e\"], [0.4444444444444444, \"#bd3786\"], [0.5555555555555556, \"#d8576b\"], [0.6666666666666666, \"#ed7953\"], [0.7777777777777778, \"#fb9f3a\"], [0.8888888888888888, \"#fdca26\"], [1.0, \"#f0f921\"]], \"type\": \"heatmapgl\"}], \"histogram\": [{\"marker\": {\"colorbar\": {\"outlinewidth\": 0, \"ticks\": \"\"}}, \"type\": \"histogram\"}], \"histogram2d\": [{\"colorbar\": {\"outlinewidth\": 0, \"ticks\": \"\"}, \"colorscale\": [[0.0, \"#0d0887\"], [0.1111111111111111, \"#46039f\"], [0.2222222222222222, \"#7201a8\"], [0.3333333333333333, \"#9c179e\"], [0.4444444444444444, \"#bd3786\"], [0.5555555555555556, \"#d8576b\"], [0.6666666666666666, \"#ed7953\"], [0.7777777777777778, \"#fb9f3a\"], [0.8888888888888888, \"#fdca26\"], [1.0, \"#f0f921\"]], \"type\": \"histogram2d\"}], \"histogram2dcontour\": [{\"colorbar\": {\"outlinewidth\": 0, \"ticks\": \"\"}, \"colorscale\": [[0.0, \"#0d0887\"], [0.1111111111111111, \"#46039f\"], [0.2222222222222222, \"#7201a8\"], [0.3333333333333333, \"#9c179e\"], [0.4444444444444444, \"#bd3786\"], [0.5555555555555556, \"#d8576b\"], [0.6666666666666666, \"#ed7953\"], [0.7777777777777778, \"#fb9f3a\"], [0.8888888888888888, \"#fdca26\"], [1.0, \"#f0f921\"]], \"type\": \"histogram2dcontour\"}], \"mesh3d\": [{\"colorbar\": {\"outlinewidth\": 0, \"ticks\": \"\"}, \"type\": \"mesh3d\"}], \"parcoords\": [{\"line\": {\"colorbar\": {\"outlinewidth\": 0, \"ticks\": \"\"}}, \"type\": \"parcoords\"}], \"pie\": [{\"automargin\": true, \"type\": \"pie\"}], \"scatter\": [{\"marker\": {\"colorbar\": {\"outlinewidth\": 0, \"ticks\": \"\"}}, \"type\": \"scatter\"}], \"scatter3d\": [{\"line\": {\"colorbar\": {\"outlinewidth\": 0, \"ticks\": \"\"}}, \"marker\": {\"colorbar\": {\"outlinewidth\": 0, \"ticks\": \"\"}}, \"type\": \"scatter3d\"}], \"scattercarpet\": [{\"marker\": {\"colorbar\": {\"outlinewidth\": 0, \"ticks\": \"\"}}, \"type\": \"scattercarpet\"}], \"scattergeo\": [{\"marker\": {\"colorbar\": {\"outlinewidth\": 0, \"ticks\": \"\"}}, \"type\": \"scattergeo\"}], \"scattergl\": [{\"marker\": {\"colorbar\": {\"outlinewidth\": 0, \"ticks\": \"\"}}, \"type\": \"scattergl\"}], \"scattermapbox\": [{\"marker\": {\"colorbar\": {\"outlinewidth\": 0, \"ticks\": \"\"}}, \"type\": \"scattermapbox\"}], \"scatterpolar\": [{\"marker\": {\"colorbar\": {\"outlinewidth\": 0, \"ticks\": \"\"}}, \"type\": \"scatterpolar\"}], \"scatterpolargl\": [{\"marker\": {\"colorbar\": {\"outlinewidth\": 0, \"ticks\": \"\"}}, \"type\": \"scatterpolargl\"}], \"scatterternary\": [{\"marker\": {\"colorbar\": {\"outlinewidth\": 0, \"ticks\": \"\"}}, \"type\": \"scatterternary\"}], \"surface\": [{\"colorbar\": {\"outlinewidth\": 0, \"ticks\": \"\"}, \"colorscale\": [[0.0, \"#0d0887\"], [0.1111111111111111, \"#46039f\"], [0.2222222222222222, \"#7201a8\"], [0.3333333333333333, \"#9c179e\"], [0.4444444444444444, \"#bd3786\"], [0.5555555555555556, \"#d8576b\"], [0.6666666666666666, \"#ed7953\"], [0.7777777777777778, \"#fb9f3a\"], [0.8888888888888888, \"#fdca26\"], [1.0, \"#f0f921\"]], \"type\": \"surface\"}], \"table\": [{\"cells\": {\"fill\": {\"color\": \"#EBF0F8\"}, \"line\": {\"color\": \"white\"}}, \"header\": {\"fill\": {\"color\": \"#C8D4E3\"}, \"line\": {\"color\": \"white\"}}, \"type\": \"table\"}]}, \"layout\": {\"annotationdefaults\": {\"arrowcolor\": \"#2a3f5f\", \"arrowhead\": 0, \"arrowwidth\": 1}, \"coloraxis\": {\"colorbar\": {\"outlinewidth\": 0, \"ticks\": \"\"}}, \"colorscale\": {\"diverging\": [[0, \"#8e0152\"], [0.1, \"#c51b7d\"], [0.2, \"#de77ae\"], [0.3, \"#f1b6da\"], [0.4, \"#fde0ef\"], [0.5, \"#f7f7f7\"], [0.6, \"#e6f5d0\"], [0.7, \"#b8e186\"], [0.8, \"#7fbc41\"], [0.9, \"#4d9221\"], [1, \"#276419\"]], \"sequential\": [[0.0, \"#0d0887\"], [0.1111111111111111, \"#46039f\"], [0.2222222222222222, \"#7201a8\"], [0.3333333333333333, \"#9c179e\"], [0.4444444444444444, \"#bd3786\"], [0.5555555555555556, \"#d8576b\"], [0.6666666666666666, \"#ed7953\"], [0.7777777777777778, \"#fb9f3a\"], [0.8888888888888888, \"#fdca26\"], [1.0, \"#f0f921\"]], \"sequentialminus\": [[0.0, \"#0d0887\"], [0.1111111111111111, \"#46039f\"], [0.2222222222222222, \"#7201a8\"], [0.3333333333333333, \"#9c179e\"], [0.4444444444444444, \"#bd3786\"], [0.5555555555555556, \"#d8576b\"], [0.6666666666666666, \"#ed7953\"], [0.7777777777777778, \"#fb9f3a\"], [0.8888888888888888, \"#fdca26\"], [1.0, \"#f0f921\"]]}, \"colorway\": [\"#636efa\", \"#EF553B\", \"#00cc96\", \"#ab63fa\", \"#FFA15A\", \"#19d3f3\", \"#FF6692\", \"#B6E880\", \"#FF97FF\", \"#FECB52\"], \"font\": {\"color\": \"#2a3f5f\"}, \"geo\": {\"bgcolor\": \"white\", \"lakecolor\": \"white\", \"landcolor\": \"#E5ECF6\", \"showlakes\": true, \"showland\": true, \"subunitcolor\": \"white\"}, \"hoverlabel\": {\"align\": \"left\"}, \"hovermode\": \"closest\", \"mapbox\": {\"style\": \"light\"}, \"paper_bgcolor\": \"white\", \"plot_bgcolor\": \"#E5ECF6\", \"polar\": {\"angularaxis\": {\"gridcolor\": \"white\", \"linecolor\": \"white\", \"ticks\": \"\"}, \"bgcolor\": \"#E5ECF6\", \"radialaxis\": {\"gridcolor\": \"white\", \"linecolor\": \"white\", \"ticks\": \"\"}}, \"scene\": {\"xaxis\": {\"backgroundcolor\": \"#E5ECF6\", \"gridcolor\": \"white\", \"gridwidth\": 2, \"linecolor\": \"white\", \"showbackground\": true, \"ticks\": \"\", \"zerolinecolor\": \"white\"}, \"yaxis\": {\"backgroundcolor\": \"#E5ECF6\", \"gridcolor\": \"white\", \"gridwidth\": 2, \"linecolor\": \"white\", \"showbackground\": true, \"ticks\": \"\", \"zerolinecolor\": \"white\"}, \"zaxis\": {\"backgroundcolor\": \"#E5ECF6\", \"gridcolor\": \"white\", \"gridwidth\": 2, \"linecolor\": \"white\", \"showbackground\": true, \"ticks\": \"\", \"zerolinecolor\": \"white\"}}, \"shapedefaults\": {\"line\": {\"color\": \"#2a3f5f\"}}, \"ternary\": {\"aaxis\": {\"gridcolor\": \"white\", \"linecolor\": \"white\", \"ticks\": \"\"}, \"baxis\": {\"gridcolor\": \"white\", \"linecolor\": \"white\", \"ticks\": \"\"}, \"bgcolor\": \"#E5ECF6\", \"caxis\": {\"gridcolor\": \"white\", \"linecolor\": \"white\", \"ticks\": \"\"}}, \"title\": {\"x\": 0.05}, \"xaxis\": {\"automargin\": true, \"gridcolor\": \"white\", \"linecolor\": \"white\", \"ticks\": \"\", \"title\": {\"standoff\": 15}, \"zerolinecolor\": \"white\", \"zerolinewidth\": 2}, \"yaxis\": {\"automargin\": true, \"gridcolor\": \"white\", \"linecolor\": \"white\", \"ticks\": \"\", \"title\": {\"standoff\": 15}, \"zerolinecolor\": \"white\", \"zerolinewidth\": 2}}}, \"title\": {\"font\": {\"color\": \"#4D5663\"}}, \"xaxis\": {\"gridcolor\": \"#E1E5ED\", \"showgrid\": true, \"tickfont\": {\"color\": \"#4D5663\"}, \"title\": {\"font\": {\"color\": \"#4D5663\"}, \"text\": \"\"}, \"zerolinecolor\": \"#E1E5ED\"}, \"xaxis2\": {\"anchor\": \"y2\", \"gridcolor\": \"#E1E5ED\", \"showgrid\": true, \"showticklabels\": false, \"tickfont\": {\"color\": \"#4D5663\"}, \"title\": {\"font\": {\"color\": \"#4D5663\"}, \"text\": \"\"}, \"zerolinecolor\": \"#E1E5ED\"}, \"yaxis\": {\"domain\": [0.3, 1], \"gridcolor\": \"#E1E5ED\", \"showgrid\": true, \"tickfont\": {\"color\": \"#4D5663\"}, \"title\": {\"font\": {\"color\": \"#4D5663\"}, \"text\": \"\"}, \"zerolinecolor\": \"#E1E5ED\"}, \"yaxis2\": {\"domain\": [0, 0.25], \"gridcolor\": \"#E1E5ED\", \"showgrid\": true, \"tickfont\": {\"color\": \"#4D5663\"}, \"title\": {\"font\": {\"color\": \"#4D5663\"}, \"text\": \"Spread\"}, \"zerolinecolor\": \"#E1E5ED\"}},\n",
       "                        {\"showLink\": true, \"linkText\": \"Export to plot.ly\", \"plotlyServerURL\": \"https://plot.ly\", \"responsive\": true}\n",
       "                    ).then(function(){\n",
       "                            \n",
       "var gd = document.getElementById('0b806399-0229-40d5-b999-1a0330725657');\n",
       "var x = new MutationObserver(function (mutations, observer) {{\n",
       "        var display = window.getComputedStyle(gd).display;\n",
       "        if (!display || display === 'none') {{\n",
       "            console.log([gd, 'removed!']);\n",
       "            Plotly.purge(gd);\n",
       "            observer.disconnect();\n",
       "        }}\n",
       "}});\n",
       "\n",
       "// Listen for the removal of the full notebook cells\n",
       "var notebookContainer = gd.closest('#notebook-container');\n",
       "if (notebookContainer) {{\n",
       "    x.observe(notebookContainer, {childList: true});\n",
       "}}\n",
       "\n",
       "// Listen for the clearing of the current output cell\n",
       "var outputEl = gd.closest('.output');\n",
       "if (outputEl) {{\n",
       "    x.observe(outputEl, {childList: true});\n",
       "}}\n",
       "\n",
       "                        })\n",
       "                };\n",
       "                });\n",
       "            </script>\n",
       "        </div>"
      ]
     },
     "metadata": {},
     "output_type": "display_data"
    }
   ],
   "source": [
    "# For stacked data\n",
    "df[['A','B']].iplot(kind='spread')"
   ]
  },
  {
   "cell_type": "code",
   "execution_count": 69,
   "metadata": {},
   "outputs": [
    {
     "data": {
      "application/vnd.plotly.v1+json": {
       "config": {
        "linkText": "Export to plot.ly",
        "plotlyServerURL": "https://plot.ly",
        "showLink": true
       },
       "data": [
        {
         "marker": {
          "color": [
           "rgb(255, 153, 51)",
           "rgb(55, 128, 191)",
           "rgb(50, 171, 96)",
           "rgb(128, 0, 128)",
           "rgb(219, 64, 82)",
           "rgb(0, 128, 128)",
           "rgb(255, 255, 51)",
           "rgb(128, 128, 0)",
           "rgb(251, 128, 114)",
           "rgb(128, 177, 211)"
          ],
          "line": {
           "width": 1.3
          },
          "size": [
           75,
           52,
           42,
           23,
           51,
           32,
           80,
           52,
           76,
           52,
           12,
           35,
           54,
           74,
           28,
           49,
           88,
           50,
           71,
           31,
           42,
           64,
           37,
           64,
           39,
           48,
           33,
           57,
           44,
           92,
           26,
           44,
           53,
           58,
           49,
           70,
           58,
           49,
           34,
           63,
           50,
           48,
           44,
           60,
           45,
           31,
           24,
           63,
           46,
           88,
           51,
           41,
           61,
           35,
           63,
           48,
           34,
           87,
           43,
           33,
           30,
           18,
           38,
           37,
           70,
           71,
           47,
           39,
           53,
           54,
           57,
           75,
           59,
           59,
           65,
           71,
           30,
           66,
           28,
           48,
           60,
           56,
           51,
           84,
           27,
           66,
           50,
           49,
           43,
           45,
           61,
           42,
           89,
           53,
           40,
           112,
           34,
           20,
           46,
           59
          ],
          "symbol": "circle"
         },
         "mode": "markers",
         "text": "",
         "type": "scatter",
         "x": [
          2.4749962936946055,
          -0.9007990275507158,
          -0.9805747297855275,
          0.8591241423923144,
          -0.23513612993279762,
          -1.4871885942258938,
          0.1509626101323387,
          0.3710990855337078,
          -0.0783348441645605,
          2.26380966222816,
          0.208228005383773,
          0.3526292310156882,
          1.1125779531924598,
          -0.9777079006710802,
          1.2013899556079988,
          0.07237738940168735,
          -1.3345991474970709,
          -2.017283621905848,
          -0.6549271175784173,
          -1.8897303970589032,
          -0.05019611399214896,
          0.2680783170338222,
          0.8959378751017952,
          1.9759406303102243,
          0.6701199636150814,
          0.9306138813501291,
          -2.581350212978,
          1.2019358187360194,
          0.5962268260509613,
          0.043399436853583974,
          -0.7034736013426729,
          -0.5870817705680396,
          0.26132864277511264,
          1.0026011168534013,
          0.5024826385176249,
          -1.3709098720171886,
          1.6010990955566187,
          -1.1866188378116598,
          -0.0851183518897504,
          2.6578337032405006,
          1.6498431342132363,
          0.01577419471099402,
          0.18660345295126896,
          -1.6380810984694385,
          -0.6920612579214326,
          -0.5481117511795,
          -0.8393828604315164,
          0.6545901837953004,
          0.6793888900506158,
          0.5868162253947056,
          0.7373061487047904,
          0.4104583260324701,
          1.512028590184469,
          2.234848174397926,
          -1.206697874221941,
          1.5386372375224369,
          0.4589019331759673,
          -0.2677178684218074,
          -0.5165748852689157,
          2.097914912767957,
          1.1046891478459746,
          -1.0127769075344921,
          -0.9275024218807334,
          0.46254807937094916,
          -2.581572057555803,
          -0.5177589481227729,
          0.4316554621434871,
          0.6954811231387482,
          0.0300098483416636,
          0.6539900009746611,
          -0.4449879580630433,
          -0.999503090467957,
          1.0362026545443144,
          0.9136741620871076,
          -0.5439968151535551,
          -0.8107903439717139,
          -1.9019102452016945,
          0.7119532518308098,
          -0.5667692810338499,
          1.0639290359748934,
          -0.6453104900764639,
          0.26835233269243897,
          -0.7968176977559296,
          -0.7527220997163271,
          -1.5516630981944994,
          0.5303143093757477,
          1.0840453642416785,
          1.4896418973352272,
          1.2220370054697876,
          -0.16792657416935036,
          -0.2308432545947218,
          -0.29786350107739773,
          0.12177245408476088,
          1.3631037691423746,
          0.6384473313553243,
          -0.7283898466255497,
          0.2516740646126679,
          -0.8870567793418102,
          0.5163456231504208,
          1.1852874008722312
         ],
         "y": [
          0.3134686022095278,
          0.9167330694085948,
          1.8358559878457181,
          0.2834426630393991,
          0.22899753551591995,
          1.2214721753208433,
          0.2910640003360314,
          0.44389793149791734,
          1.2162009677053427,
          -0.9619002047119665,
          -1.2784583359551878,
          -0.37144603885723965,
          0.8800661016792073,
          -0.6763563018495778,
          -2.2277493627980003,
          0.6930676738162171,
          -1.1683340478867852,
          -0.15790090640505508,
          -0.6826931554912031,
          0.05049038923586889,
          0.4869377860093024,
          -0.8835410697700743,
          0.24868435409408757,
          -1.056969392655306,
          0.6233496437331075,
          0.9046922325586537,
          0.2818495405726576,
          0.14967640219134654,
          -0.6091488927991449,
          0.2123086378874707,
          0.45743817850369867,
          -0.9658200412921484,
          -0.00865557348175014,
          0.4291721685534401,
          -0.22006799285765793,
          2.488597634675389,
          -0.6061303020257509,
          1.6102658234045657,
          -1.000863701554238,
          -0.534256527143899,
          -0.4621570121146412,
          -1.9759816278599311,
          -0.7760690578252674,
          -0.18467394830622197,
          -1.1458391575252205,
          1.7555670562803594,
          -0.26250474351571285,
          0.5464460246470153,
          0.30987674584616987,
          0.3520151819035632,
          0.9958399353993154,
          -0.5214726384988668,
          0.07222055358695231,
          0.46791079579358846,
          -0.33047997165882564,
          0.9192388020854462,
          -0.3256795536945822,
          -1.8653337188608055,
          0.5962235529452432,
          -0.4240408936804001,
          1.8384924861277794,
          -1.1038965745155283,
          -0.8519275517835061,
          0.7141618825240307,
          0.8285710482210474,
          -0.42276652716172586,
          -1.1587737795342765,
          0.9809709177500708,
          -0.12667495781204194,
          -2.5319609816814572,
          1.432198698417712,
          -1.0622603426980124,
          -0.6234638991651306,
          -1.2776077551390106,
          0.028895853903978024,
          1.644544932190103,
          -0.6163351737696124,
          -0.041946278013372994,
          1.07876840216128,
          0.4241597671285785,
          -2.2076469021892127,
          -0.6868007293609565,
          -0.7430886502094988,
          -0.33242320190080693,
          -0.7943984962651276,
          -2.4226861547474168,
          1.5447323436514886,
          -0.5894859162554954,
          -0.5022088401908156,
          -1.5308674143676129,
          -1.1681670620058908,
          1.3748345847740826,
          0.28388738456361123,
          -0.37374003079645696,
          2.9489109452284934,
          0.38147384481885627,
          -0.6351765194539595,
          0.08824145484231279,
          -0.811892307602746,
          -1.742992613677244
         ]
        }
       ],
       "layout": {
        "legend": {
         "bgcolor": "#F5F6F9",
         "font": {
          "color": "#4D5663"
         }
        },
        "paper_bgcolor": "#F5F6F9",
        "plot_bgcolor": "#F5F6F9",
        "template": {
         "data": {
          "bar": [
           {
            "error_x": {
             "color": "#2a3f5f"
            },
            "error_y": {
             "color": "#2a3f5f"
            },
            "marker": {
             "line": {
              "color": "#E5ECF6",
              "width": 0.5
             }
            },
            "type": "bar"
           }
          ],
          "barpolar": [
           {
            "marker": {
             "line": {
              "color": "#E5ECF6",
              "width": 0.5
             }
            },
            "type": "barpolar"
           }
          ],
          "carpet": [
           {
            "aaxis": {
             "endlinecolor": "#2a3f5f",
             "gridcolor": "white",
             "linecolor": "white",
             "minorgridcolor": "white",
             "startlinecolor": "#2a3f5f"
            },
            "baxis": {
             "endlinecolor": "#2a3f5f",
             "gridcolor": "white",
             "linecolor": "white",
             "minorgridcolor": "white",
             "startlinecolor": "#2a3f5f"
            },
            "type": "carpet"
           }
          ],
          "choropleth": [
           {
            "colorbar": {
             "outlinewidth": 0,
             "ticks": ""
            },
            "type": "choropleth"
           }
          ],
          "contour": [
           {
            "colorbar": {
             "outlinewidth": 0,
             "ticks": ""
            },
            "colorscale": [
             [
              0,
              "#0d0887"
             ],
             [
              0.1111111111111111,
              "#46039f"
             ],
             [
              0.2222222222222222,
              "#7201a8"
             ],
             [
              0.3333333333333333,
              "#9c179e"
             ],
             [
              0.4444444444444444,
              "#bd3786"
             ],
             [
              0.5555555555555556,
              "#d8576b"
             ],
             [
              0.6666666666666666,
              "#ed7953"
             ],
             [
              0.7777777777777778,
              "#fb9f3a"
             ],
             [
              0.8888888888888888,
              "#fdca26"
             ],
             [
              1,
              "#f0f921"
             ]
            ],
            "type": "contour"
           }
          ],
          "contourcarpet": [
           {
            "colorbar": {
             "outlinewidth": 0,
             "ticks": ""
            },
            "type": "contourcarpet"
           }
          ],
          "heatmap": [
           {
            "colorbar": {
             "outlinewidth": 0,
             "ticks": ""
            },
            "colorscale": [
             [
              0,
              "#0d0887"
             ],
             [
              0.1111111111111111,
              "#46039f"
             ],
             [
              0.2222222222222222,
              "#7201a8"
             ],
             [
              0.3333333333333333,
              "#9c179e"
             ],
             [
              0.4444444444444444,
              "#bd3786"
             ],
             [
              0.5555555555555556,
              "#d8576b"
             ],
             [
              0.6666666666666666,
              "#ed7953"
             ],
             [
              0.7777777777777778,
              "#fb9f3a"
             ],
             [
              0.8888888888888888,
              "#fdca26"
             ],
             [
              1,
              "#f0f921"
             ]
            ],
            "type": "heatmap"
           }
          ],
          "heatmapgl": [
           {
            "colorbar": {
             "outlinewidth": 0,
             "ticks": ""
            },
            "colorscale": [
             [
              0,
              "#0d0887"
             ],
             [
              0.1111111111111111,
              "#46039f"
             ],
             [
              0.2222222222222222,
              "#7201a8"
             ],
             [
              0.3333333333333333,
              "#9c179e"
             ],
             [
              0.4444444444444444,
              "#bd3786"
             ],
             [
              0.5555555555555556,
              "#d8576b"
             ],
             [
              0.6666666666666666,
              "#ed7953"
             ],
             [
              0.7777777777777778,
              "#fb9f3a"
             ],
             [
              0.8888888888888888,
              "#fdca26"
             ],
             [
              1,
              "#f0f921"
             ]
            ],
            "type": "heatmapgl"
           }
          ],
          "histogram": [
           {
            "marker": {
             "colorbar": {
              "outlinewidth": 0,
              "ticks": ""
             }
            },
            "type": "histogram"
           }
          ],
          "histogram2d": [
           {
            "colorbar": {
             "outlinewidth": 0,
             "ticks": ""
            },
            "colorscale": [
             [
              0,
              "#0d0887"
             ],
             [
              0.1111111111111111,
              "#46039f"
             ],
             [
              0.2222222222222222,
              "#7201a8"
             ],
             [
              0.3333333333333333,
              "#9c179e"
             ],
             [
              0.4444444444444444,
              "#bd3786"
             ],
             [
              0.5555555555555556,
              "#d8576b"
             ],
             [
              0.6666666666666666,
              "#ed7953"
             ],
             [
              0.7777777777777778,
              "#fb9f3a"
             ],
             [
              0.8888888888888888,
              "#fdca26"
             ],
             [
              1,
              "#f0f921"
             ]
            ],
            "type": "histogram2d"
           }
          ],
          "histogram2dcontour": [
           {
            "colorbar": {
             "outlinewidth": 0,
             "ticks": ""
            },
            "colorscale": [
             [
              0,
              "#0d0887"
             ],
             [
              0.1111111111111111,
              "#46039f"
             ],
             [
              0.2222222222222222,
              "#7201a8"
             ],
             [
              0.3333333333333333,
              "#9c179e"
             ],
             [
              0.4444444444444444,
              "#bd3786"
             ],
             [
              0.5555555555555556,
              "#d8576b"
             ],
             [
              0.6666666666666666,
              "#ed7953"
             ],
             [
              0.7777777777777778,
              "#fb9f3a"
             ],
             [
              0.8888888888888888,
              "#fdca26"
             ],
             [
              1,
              "#f0f921"
             ]
            ],
            "type": "histogram2dcontour"
           }
          ],
          "mesh3d": [
           {
            "colorbar": {
             "outlinewidth": 0,
             "ticks": ""
            },
            "type": "mesh3d"
           }
          ],
          "parcoords": [
           {
            "line": {
             "colorbar": {
              "outlinewidth": 0,
              "ticks": ""
             }
            },
            "type": "parcoords"
           }
          ],
          "pie": [
           {
            "automargin": true,
            "type": "pie"
           }
          ],
          "scatter": [
           {
            "marker": {
             "colorbar": {
              "outlinewidth": 0,
              "ticks": ""
             }
            },
            "type": "scatter"
           }
          ],
          "scatter3d": [
           {
            "line": {
             "colorbar": {
              "outlinewidth": 0,
              "ticks": ""
             }
            },
            "marker": {
             "colorbar": {
              "outlinewidth": 0,
              "ticks": ""
             }
            },
            "type": "scatter3d"
           }
          ],
          "scattercarpet": [
           {
            "marker": {
             "colorbar": {
              "outlinewidth": 0,
              "ticks": ""
             }
            },
            "type": "scattercarpet"
           }
          ],
          "scattergeo": [
           {
            "marker": {
             "colorbar": {
              "outlinewidth": 0,
              "ticks": ""
             }
            },
            "type": "scattergeo"
           }
          ],
          "scattergl": [
           {
            "marker": {
             "colorbar": {
              "outlinewidth": 0,
              "ticks": ""
             }
            },
            "type": "scattergl"
           }
          ],
          "scattermapbox": [
           {
            "marker": {
             "colorbar": {
              "outlinewidth": 0,
              "ticks": ""
             }
            },
            "type": "scattermapbox"
           }
          ],
          "scatterpolar": [
           {
            "marker": {
             "colorbar": {
              "outlinewidth": 0,
              "ticks": ""
             }
            },
            "type": "scatterpolar"
           }
          ],
          "scatterpolargl": [
           {
            "marker": {
             "colorbar": {
              "outlinewidth": 0,
              "ticks": ""
             }
            },
            "type": "scatterpolargl"
           }
          ],
          "scatterternary": [
           {
            "marker": {
             "colorbar": {
              "outlinewidth": 0,
              "ticks": ""
             }
            },
            "type": "scatterternary"
           }
          ],
          "surface": [
           {
            "colorbar": {
             "outlinewidth": 0,
             "ticks": ""
            },
            "colorscale": [
             [
              0,
              "#0d0887"
             ],
             [
              0.1111111111111111,
              "#46039f"
             ],
             [
              0.2222222222222222,
              "#7201a8"
             ],
             [
              0.3333333333333333,
              "#9c179e"
             ],
             [
              0.4444444444444444,
              "#bd3786"
             ],
             [
              0.5555555555555556,
              "#d8576b"
             ],
             [
              0.6666666666666666,
              "#ed7953"
             ],
             [
              0.7777777777777778,
              "#fb9f3a"
             ],
             [
              0.8888888888888888,
              "#fdca26"
             ],
             [
              1,
              "#f0f921"
             ]
            ],
            "type": "surface"
           }
          ],
          "table": [
           {
            "cells": {
             "fill": {
              "color": "#EBF0F8"
             },
             "line": {
              "color": "white"
             }
            },
            "header": {
             "fill": {
              "color": "#C8D4E3"
             },
             "line": {
              "color": "white"
             }
            },
            "type": "table"
           }
          ]
         },
         "layout": {
          "annotationdefaults": {
           "arrowcolor": "#2a3f5f",
           "arrowhead": 0,
           "arrowwidth": 1
          },
          "coloraxis": {
           "colorbar": {
            "outlinewidth": 0,
            "ticks": ""
           }
          },
          "colorscale": {
           "diverging": [
            [
             0,
             "#8e0152"
            ],
            [
             0.1,
             "#c51b7d"
            ],
            [
             0.2,
             "#de77ae"
            ],
            [
             0.3,
             "#f1b6da"
            ],
            [
             0.4,
             "#fde0ef"
            ],
            [
             0.5,
             "#f7f7f7"
            ],
            [
             0.6,
             "#e6f5d0"
            ],
            [
             0.7,
             "#b8e186"
            ],
            [
             0.8,
             "#7fbc41"
            ],
            [
             0.9,
             "#4d9221"
            ],
            [
             1,
             "#276419"
            ]
           ],
           "sequential": [
            [
             0,
             "#0d0887"
            ],
            [
             0.1111111111111111,
             "#46039f"
            ],
            [
             0.2222222222222222,
             "#7201a8"
            ],
            [
             0.3333333333333333,
             "#9c179e"
            ],
            [
             0.4444444444444444,
             "#bd3786"
            ],
            [
             0.5555555555555556,
             "#d8576b"
            ],
            [
             0.6666666666666666,
             "#ed7953"
            ],
            [
             0.7777777777777778,
             "#fb9f3a"
            ],
            [
             0.8888888888888888,
             "#fdca26"
            ],
            [
             1,
             "#f0f921"
            ]
           ],
           "sequentialminus": [
            [
             0,
             "#0d0887"
            ],
            [
             0.1111111111111111,
             "#46039f"
            ],
            [
             0.2222222222222222,
             "#7201a8"
            ],
            [
             0.3333333333333333,
             "#9c179e"
            ],
            [
             0.4444444444444444,
             "#bd3786"
            ],
            [
             0.5555555555555556,
             "#d8576b"
            ],
            [
             0.6666666666666666,
             "#ed7953"
            ],
            [
             0.7777777777777778,
             "#fb9f3a"
            ],
            [
             0.8888888888888888,
             "#fdca26"
            ],
            [
             1,
             "#f0f921"
            ]
           ]
          },
          "colorway": [
           "#636efa",
           "#EF553B",
           "#00cc96",
           "#ab63fa",
           "#FFA15A",
           "#19d3f3",
           "#FF6692",
           "#B6E880",
           "#FF97FF",
           "#FECB52"
          ],
          "font": {
           "color": "#2a3f5f"
          },
          "geo": {
           "bgcolor": "white",
           "lakecolor": "white",
           "landcolor": "#E5ECF6",
           "showlakes": true,
           "showland": true,
           "subunitcolor": "white"
          },
          "hoverlabel": {
           "align": "left"
          },
          "hovermode": "closest",
          "mapbox": {
           "style": "light"
          },
          "paper_bgcolor": "white",
          "plot_bgcolor": "#E5ECF6",
          "polar": {
           "angularaxis": {
            "gridcolor": "white",
            "linecolor": "white",
            "ticks": ""
           },
           "bgcolor": "#E5ECF6",
           "radialaxis": {
            "gridcolor": "white",
            "linecolor": "white",
            "ticks": ""
           }
          },
          "scene": {
           "xaxis": {
            "backgroundcolor": "#E5ECF6",
            "gridcolor": "white",
            "gridwidth": 2,
            "linecolor": "white",
            "showbackground": true,
            "ticks": "",
            "zerolinecolor": "white"
           },
           "yaxis": {
            "backgroundcolor": "#E5ECF6",
            "gridcolor": "white",
            "gridwidth": 2,
            "linecolor": "white",
            "showbackground": true,
            "ticks": "",
            "zerolinecolor": "white"
           },
           "zaxis": {
            "backgroundcolor": "#E5ECF6",
            "gridcolor": "white",
            "gridwidth": 2,
            "linecolor": "white",
            "showbackground": true,
            "ticks": "",
            "zerolinecolor": "white"
           }
          },
          "shapedefaults": {
           "line": {
            "color": "#2a3f5f"
           }
          },
          "ternary": {
           "aaxis": {
            "gridcolor": "white",
            "linecolor": "white",
            "ticks": ""
           },
           "baxis": {
            "gridcolor": "white",
            "linecolor": "white",
            "ticks": ""
           },
           "bgcolor": "#E5ECF6",
           "caxis": {
            "gridcolor": "white",
            "linecolor": "white",
            "ticks": ""
           }
          },
          "title": {
           "x": 0.05
          },
          "xaxis": {
           "automargin": true,
           "gridcolor": "white",
           "linecolor": "white",
           "ticks": "",
           "title": {
            "standoff": 15
           },
           "zerolinecolor": "white",
           "zerolinewidth": 2
          },
          "yaxis": {
           "automargin": true,
           "gridcolor": "white",
           "linecolor": "white",
           "ticks": "",
           "title": {
            "standoff": 15
           },
           "zerolinecolor": "white",
           "zerolinewidth": 2
          }
         }
        },
        "title": {
         "font": {
          "color": "#4D5663"
         }
        },
        "xaxis": {
         "gridcolor": "#E1E5ED",
         "showgrid": true,
         "tickfont": {
          "color": "#4D5663"
         },
         "title": {
          "font": {
           "color": "#4D5663"
          },
          "text": ""
         },
         "zerolinecolor": "#E1E5ED"
        },
        "yaxis": {
         "gridcolor": "#E1E5ED",
         "showgrid": true,
         "tickfont": {
          "color": "#4D5663"
         },
         "title": {
          "font": {
           "color": "#4D5663"
          },
          "text": ""
         },
         "zerolinecolor": "#E1E5ED"
        }
       }
      },
      "text/html": [
       "<div>\n",
       "        \n",
       "        \n",
       "            <div id=\"033c0f7c-20b5-4ea5-907a-276fa259a26a\" class=\"plotly-graph-div\" style=\"height:525px; width:100%;\"></div>\n",
       "            <script type=\"text/javascript\">\n",
       "                require([\"plotly\"], function(Plotly) {\n",
       "                    window.PLOTLYENV=window.PLOTLYENV || {};\n",
       "                    window.PLOTLYENV.BASE_URL='https://plot.ly';\n",
       "                    \n",
       "                if (document.getElementById(\"033c0f7c-20b5-4ea5-907a-276fa259a26a\")) {\n",
       "                    Plotly.newPlot(\n",
       "                        '033c0f7c-20b5-4ea5-907a-276fa259a26a',\n",
       "                        [{\"marker\": {\"color\": [\"rgb(255, 153, 51)\", \"rgb(55, 128, 191)\", \"rgb(50, 171, 96)\", \"rgb(128, 0, 128)\", \"rgb(219, 64, 82)\", \"rgb(0, 128, 128)\", \"rgb(255, 255, 51)\", \"rgb(128, 128, 0)\", \"rgb(251, 128, 114)\", \"rgb(128, 177, 211)\"], \"line\": {\"width\": 1.3}, \"size\": [75, 52, 42, 23, 51, 32, 80, 52, 76, 52, 12, 35, 54, 74, 28, 49, 88, 50, 71, 31, 42, 64, 37, 64, 39, 48, 33, 57, 44, 92, 26, 44, 53, 58, 49, 70, 58, 49, 34, 63, 50, 48, 44, 60, 45, 31, 24, 63, 46, 88, 51, 41, 61, 35, 63, 48, 34, 87, 43, 33, 30, 18, 38, 37, 70, 71, 47, 39, 53, 54, 57, 75, 59, 59, 65, 71, 30, 66, 28, 48, 60, 56, 51, 84, 27, 66, 50, 49, 43, 45, 61, 42, 89, 53, 40, 112, 34, 20, 46, 59], \"symbol\": \"circle\"}, \"mode\": \"markers\", \"text\": \"\", \"type\": \"scatter\", \"x\": [2.4749962936946055, -0.9007990275507158, -0.9805747297855275, 0.8591241423923144, -0.23513612993279762, -1.4871885942258938, 0.1509626101323387, 0.3710990855337078, -0.0783348441645605, 2.26380966222816, 0.208228005383773, 0.3526292310156882, 1.1125779531924598, -0.9777079006710802, 1.2013899556079988, 0.07237738940168735, -1.3345991474970709, -2.017283621905848, -0.6549271175784173, -1.8897303970589032, -0.05019611399214896, 0.2680783170338222, 0.8959378751017952, 1.9759406303102243, 0.6701199636150814, 0.9306138813501291, -2.581350212978, 1.2019358187360194, 0.5962268260509613, 0.043399436853583974, -0.7034736013426729, -0.5870817705680396, 0.26132864277511264, 1.0026011168534013, 0.5024826385176249, -1.3709098720171886, 1.6010990955566187, -1.1866188378116598, -0.0851183518897504, 2.6578337032405006, 1.6498431342132363, 0.01577419471099402, 0.18660345295126896, -1.6380810984694385, -0.6920612579214326, -0.5481117511795, -0.8393828604315164, 0.6545901837953004, 0.6793888900506158, 0.5868162253947056, 0.7373061487047904, 0.4104583260324701, 1.512028590184469, 2.234848174397926, -1.206697874221941, 1.5386372375224369, 0.4589019331759673, -0.2677178684218074, -0.5165748852689157, 2.097914912767957, 1.1046891478459746, -1.0127769075344921, -0.9275024218807334, 0.46254807937094916, -2.581572057555803, -0.5177589481227729, 0.4316554621434871, 0.6954811231387482, 0.0300098483416636, 0.6539900009746611, -0.4449879580630433, -0.999503090467957, 1.0362026545443144, 0.9136741620871076, -0.5439968151535551, -0.8107903439717139, -1.9019102452016945, 0.7119532518308098, -0.5667692810338499, 1.0639290359748934, -0.6453104900764639, 0.26835233269243897, -0.7968176977559296, -0.7527220997163271, -1.5516630981944994, 0.5303143093757477, 1.0840453642416785, 1.4896418973352272, 1.2220370054697876, -0.16792657416935036, -0.2308432545947218, -0.29786350107739773, 0.12177245408476088, 1.3631037691423746, 0.6384473313553243, -0.7283898466255497, 0.2516740646126679, -0.8870567793418102, 0.5163456231504208, 1.1852874008722312], \"y\": [0.3134686022095278, 0.9167330694085948, 1.8358559878457181, 0.2834426630393991, 0.22899753551591995, 1.2214721753208433, 0.2910640003360314, 0.44389793149791734, 1.2162009677053427, -0.9619002047119665, -1.2784583359551878, -0.37144603885723965, 0.8800661016792073, -0.6763563018495778, -2.2277493627980003, 0.6930676738162171, -1.1683340478867852, -0.15790090640505508, -0.6826931554912031, 0.05049038923586889, 0.4869377860093024, -0.8835410697700743, 0.24868435409408757, -1.056969392655306, 0.6233496437331075, 0.9046922325586537, 0.2818495405726576, 0.14967640219134654, -0.6091488927991449, 0.2123086378874707, 0.45743817850369867, -0.9658200412921484, -0.00865557348175014, 0.4291721685534401, -0.22006799285765793, 2.488597634675389, -0.6061303020257509, 1.6102658234045657, -1.000863701554238, -0.534256527143899, -0.4621570121146412, -1.9759816278599311, -0.7760690578252674, -0.18467394830622197, -1.1458391575252205, 1.7555670562803594, -0.26250474351571285, 0.5464460246470153, 0.30987674584616987, 0.3520151819035632, 0.9958399353993154, -0.5214726384988668, 0.07222055358695231, 0.46791079579358846, -0.33047997165882564, 0.9192388020854462, -0.3256795536945822, -1.8653337188608055, 0.5962235529452432, -0.4240408936804001, 1.8384924861277794, -1.1038965745155283, -0.8519275517835061, 0.7141618825240307, 0.8285710482210474, -0.42276652716172586, -1.1587737795342765, 0.9809709177500708, -0.12667495781204194, -2.5319609816814572, 1.432198698417712, -1.0622603426980124, -0.6234638991651306, -1.2776077551390106, 0.028895853903978024, 1.644544932190103, -0.6163351737696124, -0.041946278013372994, 1.07876840216128, 0.4241597671285785, -2.2076469021892127, -0.6868007293609565, -0.7430886502094988, -0.33242320190080693, -0.7943984962651276, -2.4226861547474168, 1.5447323436514886, -0.5894859162554954, -0.5022088401908156, -1.5308674143676129, -1.1681670620058908, 1.3748345847740826, 0.28388738456361123, -0.37374003079645696, 2.9489109452284934, 0.38147384481885627, -0.6351765194539595, 0.08824145484231279, -0.811892307602746, -1.742992613677244]}],\n",
       "                        {\"legend\": {\"bgcolor\": \"#F5F6F9\", \"font\": {\"color\": \"#4D5663\"}}, \"paper_bgcolor\": \"#F5F6F9\", \"plot_bgcolor\": \"#F5F6F9\", \"template\": {\"data\": {\"bar\": [{\"error_x\": {\"color\": \"#2a3f5f\"}, \"error_y\": {\"color\": \"#2a3f5f\"}, \"marker\": {\"line\": {\"color\": \"#E5ECF6\", \"width\": 0.5}}, \"type\": \"bar\"}], \"barpolar\": [{\"marker\": {\"line\": {\"color\": \"#E5ECF6\", \"width\": 0.5}}, \"type\": \"barpolar\"}], \"carpet\": [{\"aaxis\": {\"endlinecolor\": \"#2a3f5f\", \"gridcolor\": \"white\", \"linecolor\": \"white\", \"minorgridcolor\": \"white\", \"startlinecolor\": \"#2a3f5f\"}, \"baxis\": {\"endlinecolor\": \"#2a3f5f\", \"gridcolor\": \"white\", \"linecolor\": \"white\", \"minorgridcolor\": \"white\", \"startlinecolor\": \"#2a3f5f\"}, \"type\": \"carpet\"}], \"choropleth\": [{\"colorbar\": {\"outlinewidth\": 0, \"ticks\": \"\"}, \"type\": \"choropleth\"}], \"contour\": [{\"colorbar\": {\"outlinewidth\": 0, \"ticks\": \"\"}, \"colorscale\": [[0.0, \"#0d0887\"], [0.1111111111111111, \"#46039f\"], [0.2222222222222222, \"#7201a8\"], [0.3333333333333333, \"#9c179e\"], [0.4444444444444444, \"#bd3786\"], [0.5555555555555556, \"#d8576b\"], [0.6666666666666666, \"#ed7953\"], [0.7777777777777778, \"#fb9f3a\"], [0.8888888888888888, \"#fdca26\"], [1.0, \"#f0f921\"]], \"type\": \"contour\"}], \"contourcarpet\": [{\"colorbar\": {\"outlinewidth\": 0, \"ticks\": \"\"}, \"type\": \"contourcarpet\"}], \"heatmap\": [{\"colorbar\": {\"outlinewidth\": 0, \"ticks\": \"\"}, \"colorscale\": [[0.0, \"#0d0887\"], [0.1111111111111111, \"#46039f\"], [0.2222222222222222, \"#7201a8\"], [0.3333333333333333, \"#9c179e\"], [0.4444444444444444, \"#bd3786\"], [0.5555555555555556, \"#d8576b\"], [0.6666666666666666, \"#ed7953\"], [0.7777777777777778, \"#fb9f3a\"], [0.8888888888888888, \"#fdca26\"], [1.0, \"#f0f921\"]], \"type\": \"heatmap\"}], \"heatmapgl\": [{\"colorbar\": {\"outlinewidth\": 0, \"ticks\": \"\"}, \"colorscale\": [[0.0, \"#0d0887\"], [0.1111111111111111, \"#46039f\"], [0.2222222222222222, \"#7201a8\"], [0.3333333333333333, \"#9c179e\"], [0.4444444444444444, \"#bd3786\"], [0.5555555555555556, \"#d8576b\"], [0.6666666666666666, \"#ed7953\"], [0.7777777777777778, \"#fb9f3a\"], [0.8888888888888888, \"#fdca26\"], [1.0, \"#f0f921\"]], \"type\": \"heatmapgl\"}], \"histogram\": [{\"marker\": {\"colorbar\": {\"outlinewidth\": 0, \"ticks\": \"\"}}, \"type\": \"histogram\"}], \"histogram2d\": [{\"colorbar\": {\"outlinewidth\": 0, \"ticks\": \"\"}, \"colorscale\": [[0.0, \"#0d0887\"], [0.1111111111111111, \"#46039f\"], [0.2222222222222222, \"#7201a8\"], [0.3333333333333333, \"#9c179e\"], [0.4444444444444444, \"#bd3786\"], [0.5555555555555556, \"#d8576b\"], [0.6666666666666666, \"#ed7953\"], [0.7777777777777778, \"#fb9f3a\"], [0.8888888888888888, \"#fdca26\"], [1.0, \"#f0f921\"]], \"type\": \"histogram2d\"}], \"histogram2dcontour\": [{\"colorbar\": {\"outlinewidth\": 0, \"ticks\": \"\"}, \"colorscale\": [[0.0, \"#0d0887\"], [0.1111111111111111, \"#46039f\"], [0.2222222222222222, \"#7201a8\"], [0.3333333333333333, \"#9c179e\"], [0.4444444444444444, \"#bd3786\"], [0.5555555555555556, \"#d8576b\"], [0.6666666666666666, \"#ed7953\"], [0.7777777777777778, \"#fb9f3a\"], [0.8888888888888888, \"#fdca26\"], [1.0, \"#f0f921\"]], \"type\": \"histogram2dcontour\"}], \"mesh3d\": [{\"colorbar\": {\"outlinewidth\": 0, \"ticks\": \"\"}, \"type\": \"mesh3d\"}], \"parcoords\": [{\"line\": {\"colorbar\": {\"outlinewidth\": 0, \"ticks\": \"\"}}, \"type\": \"parcoords\"}], \"pie\": [{\"automargin\": true, \"type\": \"pie\"}], \"scatter\": [{\"marker\": {\"colorbar\": {\"outlinewidth\": 0, \"ticks\": \"\"}}, \"type\": \"scatter\"}], \"scatter3d\": [{\"line\": {\"colorbar\": {\"outlinewidth\": 0, \"ticks\": \"\"}}, \"marker\": {\"colorbar\": {\"outlinewidth\": 0, \"ticks\": \"\"}}, \"type\": \"scatter3d\"}], \"scattercarpet\": [{\"marker\": {\"colorbar\": {\"outlinewidth\": 0, \"ticks\": \"\"}}, \"type\": \"scattercarpet\"}], \"scattergeo\": [{\"marker\": {\"colorbar\": {\"outlinewidth\": 0, \"ticks\": \"\"}}, \"type\": \"scattergeo\"}], \"scattergl\": [{\"marker\": {\"colorbar\": {\"outlinewidth\": 0, \"ticks\": \"\"}}, \"type\": \"scattergl\"}], \"scattermapbox\": [{\"marker\": {\"colorbar\": {\"outlinewidth\": 0, \"ticks\": \"\"}}, \"type\": \"scattermapbox\"}], \"scatterpolar\": [{\"marker\": {\"colorbar\": {\"outlinewidth\": 0, \"ticks\": \"\"}}, \"type\": \"scatterpolar\"}], \"scatterpolargl\": [{\"marker\": {\"colorbar\": {\"outlinewidth\": 0, \"ticks\": \"\"}}, \"type\": \"scatterpolargl\"}], \"scatterternary\": [{\"marker\": {\"colorbar\": {\"outlinewidth\": 0, \"ticks\": \"\"}}, \"type\": \"scatterternary\"}], \"surface\": [{\"colorbar\": {\"outlinewidth\": 0, \"ticks\": \"\"}, \"colorscale\": [[0.0, \"#0d0887\"], [0.1111111111111111, \"#46039f\"], [0.2222222222222222, \"#7201a8\"], [0.3333333333333333, \"#9c179e\"], [0.4444444444444444, \"#bd3786\"], [0.5555555555555556, \"#d8576b\"], [0.6666666666666666, \"#ed7953\"], [0.7777777777777778, \"#fb9f3a\"], [0.8888888888888888, \"#fdca26\"], [1.0, \"#f0f921\"]], \"type\": \"surface\"}], \"table\": [{\"cells\": {\"fill\": {\"color\": \"#EBF0F8\"}, \"line\": {\"color\": \"white\"}}, \"header\": {\"fill\": {\"color\": \"#C8D4E3\"}, \"line\": {\"color\": \"white\"}}, \"type\": \"table\"}]}, \"layout\": {\"annotationdefaults\": {\"arrowcolor\": \"#2a3f5f\", \"arrowhead\": 0, \"arrowwidth\": 1}, \"coloraxis\": {\"colorbar\": {\"outlinewidth\": 0, \"ticks\": \"\"}}, \"colorscale\": {\"diverging\": [[0, \"#8e0152\"], [0.1, \"#c51b7d\"], [0.2, \"#de77ae\"], [0.3, \"#f1b6da\"], [0.4, \"#fde0ef\"], [0.5, \"#f7f7f7\"], [0.6, \"#e6f5d0\"], [0.7, \"#b8e186\"], [0.8, \"#7fbc41\"], [0.9, \"#4d9221\"], [1, \"#276419\"]], \"sequential\": [[0.0, \"#0d0887\"], [0.1111111111111111, \"#46039f\"], [0.2222222222222222, \"#7201a8\"], [0.3333333333333333, \"#9c179e\"], [0.4444444444444444, \"#bd3786\"], [0.5555555555555556, \"#d8576b\"], [0.6666666666666666, \"#ed7953\"], [0.7777777777777778, \"#fb9f3a\"], [0.8888888888888888, \"#fdca26\"], [1.0, \"#f0f921\"]], \"sequentialminus\": [[0.0, \"#0d0887\"], [0.1111111111111111, \"#46039f\"], [0.2222222222222222, \"#7201a8\"], [0.3333333333333333, \"#9c179e\"], [0.4444444444444444, \"#bd3786\"], [0.5555555555555556, \"#d8576b\"], [0.6666666666666666, \"#ed7953\"], [0.7777777777777778, \"#fb9f3a\"], [0.8888888888888888, \"#fdca26\"], [1.0, \"#f0f921\"]]}, \"colorway\": [\"#636efa\", \"#EF553B\", \"#00cc96\", \"#ab63fa\", \"#FFA15A\", \"#19d3f3\", \"#FF6692\", \"#B6E880\", \"#FF97FF\", \"#FECB52\"], \"font\": {\"color\": \"#2a3f5f\"}, \"geo\": {\"bgcolor\": \"white\", \"lakecolor\": \"white\", \"landcolor\": \"#E5ECF6\", \"showlakes\": true, \"showland\": true, \"subunitcolor\": \"white\"}, \"hoverlabel\": {\"align\": \"left\"}, \"hovermode\": \"closest\", \"mapbox\": {\"style\": \"light\"}, \"paper_bgcolor\": \"white\", \"plot_bgcolor\": \"#E5ECF6\", \"polar\": {\"angularaxis\": {\"gridcolor\": \"white\", \"linecolor\": \"white\", \"ticks\": \"\"}, \"bgcolor\": \"#E5ECF6\", \"radialaxis\": {\"gridcolor\": \"white\", \"linecolor\": \"white\", \"ticks\": \"\"}}, \"scene\": {\"xaxis\": {\"backgroundcolor\": \"#E5ECF6\", \"gridcolor\": \"white\", \"gridwidth\": 2, \"linecolor\": \"white\", \"showbackground\": true, \"ticks\": \"\", \"zerolinecolor\": \"white\"}, \"yaxis\": {\"backgroundcolor\": \"#E5ECF6\", \"gridcolor\": \"white\", \"gridwidth\": 2, \"linecolor\": \"white\", \"showbackground\": true, \"ticks\": \"\", \"zerolinecolor\": \"white\"}, \"zaxis\": {\"backgroundcolor\": \"#E5ECF6\", \"gridcolor\": \"white\", \"gridwidth\": 2, \"linecolor\": \"white\", \"showbackground\": true, \"ticks\": \"\", \"zerolinecolor\": \"white\"}}, \"shapedefaults\": {\"line\": {\"color\": \"#2a3f5f\"}}, \"ternary\": {\"aaxis\": {\"gridcolor\": \"white\", \"linecolor\": \"white\", \"ticks\": \"\"}, \"baxis\": {\"gridcolor\": \"white\", \"linecolor\": \"white\", \"ticks\": \"\"}, \"bgcolor\": \"#E5ECF6\", \"caxis\": {\"gridcolor\": \"white\", \"linecolor\": \"white\", \"ticks\": \"\"}}, \"title\": {\"x\": 0.05}, \"xaxis\": {\"automargin\": true, \"gridcolor\": \"white\", \"linecolor\": \"white\", \"ticks\": \"\", \"title\": {\"standoff\": 15}, \"zerolinecolor\": \"white\", \"zerolinewidth\": 2}, \"yaxis\": {\"automargin\": true, \"gridcolor\": \"white\", \"linecolor\": \"white\", \"ticks\": \"\", \"title\": {\"standoff\": 15}, \"zerolinecolor\": \"white\", \"zerolinewidth\": 2}}}, \"title\": {\"font\": {\"color\": \"#4D5663\"}}, \"xaxis\": {\"gridcolor\": \"#E1E5ED\", \"showgrid\": true, \"tickfont\": {\"color\": \"#4D5663\"}, \"title\": {\"font\": {\"color\": \"#4D5663\"}, \"text\": \"\"}, \"zerolinecolor\": \"#E1E5ED\"}, \"yaxis\": {\"gridcolor\": \"#E1E5ED\", \"showgrid\": true, \"tickfont\": {\"color\": \"#4D5663\"}, \"title\": {\"font\": {\"color\": \"#4D5663\"}, \"text\": \"\"}, \"zerolinecolor\": \"#E1E5ED\"}},\n",
       "                        {\"showLink\": true, \"linkText\": \"Export to plot.ly\", \"plotlyServerURL\": \"https://plot.ly\", \"responsive\": true}\n",
       "                    ).then(function(){\n",
       "                            \n",
       "var gd = document.getElementById('033c0f7c-20b5-4ea5-907a-276fa259a26a');\n",
       "var x = new MutationObserver(function (mutations, observer) {{\n",
       "        var display = window.getComputedStyle(gd).display;\n",
       "        if (!display || display === 'none') {{\n",
       "            console.log([gd, 'removed!']);\n",
       "            Plotly.purge(gd);\n",
       "            observer.disconnect();\n",
       "        }}\n",
       "}});\n",
       "\n",
       "// Listen for the removal of the full notebook cells\n",
       "var notebookContainer = gd.closest('#notebook-container');\n",
       "if (notebookContainer) {{\n",
       "    x.observe(notebookContainer, {childList: true});\n",
       "}}\n",
       "\n",
       "// Listen for the clearing of the current output cell\n",
       "var outputEl = gd.closest('.output');\n",
       "if (outputEl) {{\n",
       "    x.observe(outputEl, {childList: true});\n",
       "}}\n",
       "\n",
       "                        })\n",
       "                };\n",
       "                });\n",
       "            </script>\n",
       "        </div>"
      ]
     },
     "metadata": {},
     "output_type": "display_data"
    }
   ],
   "source": [
    "# Bubble Plot\n",
    "df.iplot(kind='bubble',x='A',y='B',size='C')"
   ]
  },
  {
   "cell_type": "code",
   "execution_count": 70,
   "metadata": {},
   "outputs": [
    {
     "data": {
      "application/vnd.plotly.v1+json": {
       "config": {
        "linkText": "Export to plot.ly",
        "plotlyServerURL": "https://plot.ly",
        "showLink": true
       },
       "data": [
        {
         "histfunc": "count",
         "histnorm": "",
         "marker": {
          "color": "rgba(255, 153, 51, 1.0)",
          "line": {
           "color": "#4D5663",
           "width": 1.3
          }
         },
         "name": "A",
         "nbinsx": 10,
         "opacity": 0.8,
         "orientation": "v",
         "type": "histogram",
         "x": [
          2.4749962936946055,
          -0.9007990275507158,
          -0.9805747297855275,
          0.8591241423923144,
          -0.23513612993279762,
          -1.4871885942258938,
          0.1509626101323387,
          0.3710990855337078,
          -0.0783348441645605,
          2.26380966222816,
          0.208228005383773,
          0.3526292310156882,
          1.1125779531924598,
          -0.9777079006710802,
          1.2013899556079988,
          0.07237738940168735,
          -1.3345991474970709,
          -2.017283621905848,
          -0.6549271175784173,
          -1.8897303970589032,
          -0.05019611399214896,
          0.2680783170338222,
          0.8959378751017952,
          1.9759406303102243,
          0.6701199636150814,
          0.9306138813501291,
          -2.581350212978,
          1.2019358187360194,
          0.5962268260509613,
          0.043399436853583974,
          -0.7034736013426729,
          -0.5870817705680396,
          0.26132864277511264,
          1.0026011168534013,
          0.5024826385176249,
          -1.3709098720171886,
          1.6010990955566187,
          -1.1866188378116598,
          -0.0851183518897504,
          2.6578337032405006,
          1.6498431342132363,
          0.01577419471099402,
          0.18660345295126896,
          -1.6380810984694385,
          -0.6920612579214326,
          -0.5481117511795,
          -0.8393828604315164,
          0.6545901837953004,
          0.6793888900506158,
          0.5868162253947056,
          0.7373061487047904,
          0.4104583260324701,
          1.512028590184469,
          2.234848174397926,
          -1.206697874221941,
          1.5386372375224369,
          0.4589019331759673,
          -0.2677178684218074,
          -0.5165748852689157,
          2.097914912767957,
          1.1046891478459746,
          -1.0127769075344921,
          -0.9275024218807334,
          0.46254807937094916,
          -2.581572057555803,
          -0.5177589481227729,
          0.4316554621434871,
          0.6954811231387482,
          0.0300098483416636,
          0.6539900009746611,
          -0.4449879580630433,
          -0.999503090467957,
          1.0362026545443144,
          0.9136741620871076,
          -0.5439968151535551,
          -0.8107903439717139,
          -1.9019102452016945,
          0.7119532518308098,
          -0.5667692810338499,
          1.0639290359748934,
          -0.6453104900764639,
          0.26835233269243897,
          -0.7968176977559296,
          -0.7527220997163271,
          -1.5516630981944994,
          0.5303143093757477,
          1.0840453642416785,
          1.4896418973352272,
          1.2220370054697876,
          -0.16792657416935036,
          -0.2308432545947218,
          -0.29786350107739773,
          0.12177245408476088,
          1.3631037691423746,
          0.6384473313553243,
          -0.7283898466255497,
          0.2516740646126679,
          -0.8870567793418102,
          0.5163456231504208,
          1.1852874008722312
         ],
         "xaxis": "x",
         "yaxis": "y"
        },
        {
         "line": {
          "color": "rgba(128, 128, 128, 1.0)",
          "dash": "solid",
          "shape": "linear",
          "width": 1.3
         },
         "marker": {
          "size": 2,
          "symbol": "circle"
         },
         "mode": "markers",
         "name": "A",
         "text": "",
         "type": "scatter",
         "x": [
          0.3134686022095278,
          0.9167330694085948,
          1.8358559878457181,
          0.2834426630393991,
          0.22899753551591995,
          1.2214721753208433,
          0.2910640003360314,
          0.44389793149791734,
          1.2162009677053427,
          -0.9619002047119665,
          -1.2784583359551878,
          -0.37144603885723965,
          0.8800661016792073,
          -0.6763563018495778,
          -2.2277493627980003,
          0.6930676738162171,
          -1.1683340478867852,
          -0.15790090640505508,
          -0.6826931554912031,
          0.05049038923586889,
          0.4869377860093024,
          -0.8835410697700743,
          0.24868435409408757,
          -1.056969392655306,
          0.6233496437331075,
          0.9046922325586537,
          0.2818495405726576,
          0.14967640219134654,
          -0.6091488927991449,
          0.2123086378874707,
          0.45743817850369867,
          -0.9658200412921484,
          -0.00865557348175014,
          0.4291721685534401,
          -0.22006799285765793,
          2.488597634675389,
          -0.6061303020257509,
          1.6102658234045657,
          -1.000863701554238,
          -0.534256527143899,
          -0.4621570121146412,
          -1.9759816278599311,
          -0.7760690578252674,
          -0.18467394830622197,
          -1.1458391575252205,
          1.7555670562803594,
          -0.26250474351571285,
          0.5464460246470153,
          0.30987674584616987,
          0.3520151819035632,
          0.9958399353993154,
          -0.5214726384988668,
          0.07222055358695231,
          0.46791079579358846,
          -0.33047997165882564,
          0.9192388020854462,
          -0.3256795536945822,
          -1.8653337188608055,
          0.5962235529452432,
          -0.4240408936804001,
          1.8384924861277794,
          -1.1038965745155283,
          -0.8519275517835061,
          0.7141618825240307,
          0.8285710482210474,
          -0.42276652716172586,
          -1.1587737795342765,
          0.9809709177500708,
          -0.12667495781204194,
          -2.5319609816814572,
          1.432198698417712,
          -1.0622603426980124,
          -0.6234638991651306,
          -1.2776077551390106,
          0.028895853903978024,
          1.644544932190103,
          -0.6163351737696124,
          -0.041946278013372994,
          1.07876840216128,
          0.4241597671285785,
          -2.2076469021892127,
          -0.6868007293609565,
          -0.7430886502094988,
          -0.33242320190080693,
          -0.7943984962651276,
          -2.4226861547474168,
          1.5447323436514886,
          -0.5894859162554954,
          -0.5022088401908156,
          -1.5308674143676129,
          -1.1681670620058908,
          1.3748345847740826,
          0.28388738456361123,
          -0.37374003079645696,
          2.9489109452284934,
          0.38147384481885627,
          -0.6351765194539595,
          0.08824145484231279,
          -0.811892307602746,
          -1.742992613677244
         ],
         "xaxis": "x2",
         "y": [
          2.4749962936946055,
          -0.9007990275507158,
          -0.9805747297855275,
          0.8591241423923144,
          -0.23513612993279762,
          -1.4871885942258938,
          0.1509626101323387,
          0.3710990855337078,
          -0.0783348441645605,
          2.26380966222816,
          0.208228005383773,
          0.3526292310156882,
          1.1125779531924598,
          -0.9777079006710802,
          1.2013899556079988,
          0.07237738940168735,
          -1.3345991474970709,
          -2.017283621905848,
          -0.6549271175784173,
          -1.8897303970589032,
          -0.05019611399214896,
          0.2680783170338222,
          0.8959378751017952,
          1.9759406303102243,
          0.6701199636150814,
          0.9306138813501291,
          -2.581350212978,
          1.2019358187360194,
          0.5962268260509613,
          0.043399436853583974,
          -0.7034736013426729,
          -0.5870817705680396,
          0.26132864277511264,
          1.0026011168534013,
          0.5024826385176249,
          -1.3709098720171886,
          1.6010990955566187,
          -1.1866188378116598,
          -0.0851183518897504,
          2.6578337032405006,
          1.6498431342132363,
          0.01577419471099402,
          0.18660345295126896,
          -1.6380810984694385,
          -0.6920612579214326,
          -0.5481117511795,
          -0.8393828604315164,
          0.6545901837953004,
          0.6793888900506158,
          0.5868162253947056,
          0.7373061487047904,
          0.4104583260324701,
          1.512028590184469,
          2.234848174397926,
          -1.206697874221941,
          1.5386372375224369,
          0.4589019331759673,
          -0.2677178684218074,
          -0.5165748852689157,
          2.097914912767957,
          1.1046891478459746,
          -1.0127769075344921,
          -0.9275024218807334,
          0.46254807937094916,
          -2.581572057555803,
          -0.5177589481227729,
          0.4316554621434871,
          0.6954811231387482,
          0.0300098483416636,
          0.6539900009746611,
          -0.4449879580630433,
          -0.999503090467957,
          1.0362026545443144,
          0.9136741620871076,
          -0.5439968151535551,
          -0.8107903439717139,
          -1.9019102452016945,
          0.7119532518308098,
          -0.5667692810338499,
          1.0639290359748934,
          -0.6453104900764639,
          0.26835233269243897,
          -0.7968176977559296,
          -0.7527220997163271,
          -1.5516630981944994,
          0.5303143093757477,
          1.0840453642416785,
          1.4896418973352272,
          1.2220370054697876,
          -0.16792657416935036,
          -0.2308432545947218,
          -0.29786350107739773,
          0.12177245408476088,
          1.3631037691423746,
          0.6384473313553243,
          -0.7283898466255497,
          0.2516740646126679,
          -0.8870567793418102,
          0.5163456231504208,
          1.1852874008722312
         ],
         "yaxis": "y2"
        },
        {
         "line": {
          "color": "rgba(128, 128, 128, 1.0)",
          "dash": "solid",
          "shape": "linear",
          "width": 1.3
         },
         "marker": {
          "size": 2,
          "symbol": "circle"
         },
         "mode": "markers",
         "name": "A",
         "text": "",
         "type": "scatter",
         "x": [
          1.231070159811716,
          -0.03117281649129617,
          -0.6162773756384039,
          -1.6376008743252277,
          -0.08241446653137414,
          -1.1857410285737386,
          1.5025063017476732,
          -0.05133227922674751,
          1.2644556879951765,
          -0.05964774681572033,
          -2.297403684005262,
          -0.9868119640856649,
          0.05675988924076596,
          1.185951066101353,
          -1.373095549551666,
          -0.20562601185759508,
          1.9428309188887116,
          -0.18927683502183562,
          0.9825093159521757,
          -1.2263415995284603,
          -0.6298439802477139,
          0.6068580870279782,
          -0.890636392495951,
          0.631918047414181,
          -0.7720379065528462,
          -0.29593149001966135,
          -1.1226904422118051,
          0.23629800314365096,
          -0.4741276194468566,
          2.1717181443789344,
          -1.4806895991854223,
          -0.4955021094440134,
          0.032117081646470994,
          0.25701142893123874,
          -0.23713230266729876,
          0.9695332751815351,
          0.2716319732427874,
          -0.20824851930974994,
          -1.0475258685794056,
          0.56838672084109,
          -0.14802383067475433,
          -0.2626985118025356,
          -0.485172385498463,
          0.40027566985106316,
          -0.4421940311637228,
          -1.2083996634068965,
          -1.5985316077391072,
          0.5640687204376864,
          -0.37255174684050163,
          1.9573057613355627,
          -0.08203264742974938,
          -0.6363424018323703,
          0.47124001588370756,
          -0.9974260837891378,
          0.561213886768126,
          -0.2517931486910543,
          -1.0726006338905476,
          1.895293220583968,
          -0.5735772528649017,
          -1.0961897880553446,
          -1.2473194715544305,
          -1.9395128963440484,
          -0.8011034626807447,
          -0.8729632839115978,
          0.9718542651123409,
          0.9880918794379198,
          -0.3539421511355455,
          -0.7872073680358485,
          -0.014673280228460442,
          0.0719656927583585,
          0.22437507299150267,
          1.238024342372839,
          0.3609958413639249,
          0.31562209670153074,
          0.660784086125347,
          1.0264393713595676,
          -1.2501039657721695,
          0.7398172427970308,
          -1.379883171220064,
          -0.2789847177401478,
          0.402043007570006,
          0.14469232460479514,
          -0.08498934486439978,
          1.7134644085780146,
          -1.4468169895356162,
          0.715895965943651,
          -0.1544878290689414,
          -0.19537887570599272,
          -0.5316531629843192,
          -0.44306354202850134,
          0.42475780202125824,
          -0.585282832765401,
          2.0077890009820103,
          -0.00392265960940687,
          -0.7012580198585556,
          3.2492551217480696,
          -1.0309968186486267,
          -1.8420028443536924,
          -0.4099855734921172,
          0.31802949595869745
         ],
         "xaxis": "x3",
         "y": [
          2.4749962936946055,
          -0.9007990275507158,
          -0.9805747297855275,
          0.8591241423923144,
          -0.23513612993279762,
          -1.4871885942258938,
          0.1509626101323387,
          0.3710990855337078,
          -0.0783348441645605,
          2.26380966222816,
          0.208228005383773,
          0.3526292310156882,
          1.1125779531924598,
          -0.9777079006710802,
          1.2013899556079988,
          0.07237738940168735,
          -1.3345991474970709,
          -2.017283621905848,
          -0.6549271175784173,
          -1.8897303970589032,
          -0.05019611399214896,
          0.2680783170338222,
          0.8959378751017952,
          1.9759406303102243,
          0.6701199636150814,
          0.9306138813501291,
          -2.581350212978,
          1.2019358187360194,
          0.5962268260509613,
          0.043399436853583974,
          -0.7034736013426729,
          -0.5870817705680396,
          0.26132864277511264,
          1.0026011168534013,
          0.5024826385176249,
          -1.3709098720171886,
          1.6010990955566187,
          -1.1866188378116598,
          -0.0851183518897504,
          2.6578337032405006,
          1.6498431342132363,
          0.01577419471099402,
          0.18660345295126896,
          -1.6380810984694385,
          -0.6920612579214326,
          -0.5481117511795,
          -0.8393828604315164,
          0.6545901837953004,
          0.6793888900506158,
          0.5868162253947056,
          0.7373061487047904,
          0.4104583260324701,
          1.512028590184469,
          2.234848174397926,
          -1.206697874221941,
          1.5386372375224369,
          0.4589019331759673,
          -0.2677178684218074,
          -0.5165748852689157,
          2.097914912767957,
          1.1046891478459746,
          -1.0127769075344921,
          -0.9275024218807334,
          0.46254807937094916,
          -2.581572057555803,
          -0.5177589481227729,
          0.4316554621434871,
          0.6954811231387482,
          0.0300098483416636,
          0.6539900009746611,
          -0.4449879580630433,
          -0.999503090467957,
          1.0362026545443144,
          0.9136741620871076,
          -0.5439968151535551,
          -0.8107903439717139,
          -1.9019102452016945,
          0.7119532518308098,
          -0.5667692810338499,
          1.0639290359748934,
          -0.6453104900764639,
          0.26835233269243897,
          -0.7968176977559296,
          -0.7527220997163271,
          -1.5516630981944994,
          0.5303143093757477,
          1.0840453642416785,
          1.4896418973352272,
          1.2220370054697876,
          -0.16792657416935036,
          -0.2308432545947218,
          -0.29786350107739773,
          0.12177245408476088,
          1.3631037691423746,
          0.6384473313553243,
          -0.7283898466255497,
          0.2516740646126679,
          -0.8870567793418102,
          0.5163456231504208,
          1.1852874008722312
         ],
         "yaxis": "y3"
        },
        {
         "line": {
          "color": "rgba(128, 128, 128, 1.0)",
          "dash": "solid",
          "shape": "linear",
          "width": 1.3
         },
         "marker": {
          "size": 2,
          "symbol": "circle"
         },
         "mode": "markers",
         "name": "A",
         "text": "",
         "type": "scatter",
         "x": [
          -0.38885819895232676,
          -0.9717472290895455,
          -0.9139514439533044,
          -0.12082311181586085,
          0.3330149406569263,
          -0.9799049992518911,
          -1.67111919752334,
          0.15162770083347216,
          2.1445059748730726,
          0.6058900549623925,
          1.0630011917635849,
          -0.24644562811864812,
          -1.5325621975142605,
          -0.6469666724377413,
          -0.9616193205511907,
          0.41800907429574874,
          1.0397811292984618,
          -0.31541696072229847,
          -1.4049094608966841,
          -0.0884161044520405,
          0.21495690415865082,
          0.7272029791670528,
          -0.36171724757592705,
          -1.8843190236447718,
          -2.601906771859556,
          0.9330016216922752,
          -1.0913660590152312,
          -0.4987963991281909,
          1.7963669173505645,
          -0.020190081183019428,
          -0.08012435469167206,
          1.0110582736533014,
          -1.1176034224498308,
          0.669714490474785,
          1.4345482061991972,
          0.9899681205051231,
          -1.0361872742541638,
          0.9543542851066912,
          0.6886393863606326,
          0.19966677361934768,
          0.2248252323826824,
          1.266659711726156,
          -1.1336143637616543,
          -1.9569188197769551,
          -0.6045250312730492,
          1.008230391710319,
          -0.7398823275817051,
          -1.086953738335082,
          1.9542880196409105,
          -1.941804377383334,
          -1.4808022512692627,
          -0.14015683186366015,
          0.7626198660784957,
          -0.27479444953159154,
          0.34448358744396157,
          0.20148077743096154,
          0.5811986146711187,
          0.19960282050885136,
          0.7739569815639976,
          -1.1573437069405694,
          0.4521186470452195,
          0.11990670910695764,
          1.4924315665692511,
          1.4175810663481372,
          0.6183128660677296,
          1.6061354947982638,
          1.1996224140964713,
          -0.20863814845378764,
          -0.7959340245341419,
          1.6055454796693986,
          0.3345272122695861,
          -1.3223424522812381,
          0.4077645278070668,
          -2.063164604706958,
          -0.06691844889513632,
          0.5828815572503655,
          -0.3128476641027049,
          -1.1638349708744584,
          0.41722706491806855,
          -0.18316239793324637,
          -0.930424708885888,
          -1.902918235853356,
          0.8041526601231147,
          0.10882810639113567,
          0.2644282211852591,
          2.310789453105758,
          -0.16812597599819737,
          -0.558078628026835,
          0.11279638166561838,
          -0.5792231817795479,
          0.09869825075713468,
          0.5882162052004194,
          -0.792805396195245,
          1.2161537394731101,
          -0.31067260416757025,
          -0.1178432631562213,
          0.025596138383547126,
          1.1510116422285448,
          1.1275767421761456,
          -0.7168911555643587
         ],
         "xaxis": "x4",
         "y": [
          2.4749962936946055,
          -0.9007990275507158,
          -0.9805747297855275,
          0.8591241423923144,
          -0.23513612993279762,
          -1.4871885942258938,
          0.1509626101323387,
          0.3710990855337078,
          -0.0783348441645605,
          2.26380966222816,
          0.208228005383773,
          0.3526292310156882,
          1.1125779531924598,
          -0.9777079006710802,
          1.2013899556079988,
          0.07237738940168735,
          -1.3345991474970709,
          -2.017283621905848,
          -0.6549271175784173,
          -1.8897303970589032,
          -0.05019611399214896,
          0.2680783170338222,
          0.8959378751017952,
          1.9759406303102243,
          0.6701199636150814,
          0.9306138813501291,
          -2.581350212978,
          1.2019358187360194,
          0.5962268260509613,
          0.043399436853583974,
          -0.7034736013426729,
          -0.5870817705680396,
          0.26132864277511264,
          1.0026011168534013,
          0.5024826385176249,
          -1.3709098720171886,
          1.6010990955566187,
          -1.1866188378116598,
          -0.0851183518897504,
          2.6578337032405006,
          1.6498431342132363,
          0.01577419471099402,
          0.18660345295126896,
          -1.6380810984694385,
          -0.6920612579214326,
          -0.5481117511795,
          -0.8393828604315164,
          0.6545901837953004,
          0.6793888900506158,
          0.5868162253947056,
          0.7373061487047904,
          0.4104583260324701,
          1.512028590184469,
          2.234848174397926,
          -1.206697874221941,
          1.5386372375224369,
          0.4589019331759673,
          -0.2677178684218074,
          -0.5165748852689157,
          2.097914912767957,
          1.1046891478459746,
          -1.0127769075344921,
          -0.9275024218807334,
          0.46254807937094916,
          -2.581572057555803,
          -0.5177589481227729,
          0.4316554621434871,
          0.6954811231387482,
          0.0300098483416636,
          0.6539900009746611,
          -0.4449879580630433,
          -0.999503090467957,
          1.0362026545443144,
          0.9136741620871076,
          -0.5439968151535551,
          -0.8107903439717139,
          -1.9019102452016945,
          0.7119532518308098,
          -0.5667692810338499,
          1.0639290359748934,
          -0.6453104900764639,
          0.26835233269243897,
          -0.7968176977559296,
          -0.7527220997163271,
          -1.5516630981944994,
          0.5303143093757477,
          1.0840453642416785,
          1.4896418973352272,
          1.2220370054697876,
          -0.16792657416935036,
          -0.2308432545947218,
          -0.29786350107739773,
          0.12177245408476088,
          1.3631037691423746,
          0.6384473313553243,
          -0.7283898466255497,
          0.2516740646126679,
          -0.8870567793418102,
          0.5163456231504208,
          1.1852874008722312
         ],
         "yaxis": "y4"
        },
        {
         "line": {
          "color": "rgba(128, 128, 128, 1.0)",
          "dash": "solid",
          "shape": "linear",
          "width": 1.3
         },
         "marker": {
          "size": 2,
          "symbol": "circle"
         },
         "mode": "markers",
         "name": "B",
         "text": "",
         "type": "scatter",
         "x": [
          2.4749962936946055,
          -0.9007990275507158,
          -0.9805747297855275,
          0.8591241423923144,
          -0.23513612993279762,
          -1.4871885942258938,
          0.1509626101323387,
          0.3710990855337078,
          -0.0783348441645605,
          2.26380966222816,
          0.208228005383773,
          0.3526292310156882,
          1.1125779531924598,
          -0.9777079006710802,
          1.2013899556079988,
          0.07237738940168735,
          -1.3345991474970709,
          -2.017283621905848,
          -0.6549271175784173,
          -1.8897303970589032,
          -0.05019611399214896,
          0.2680783170338222,
          0.8959378751017952,
          1.9759406303102243,
          0.6701199636150814,
          0.9306138813501291,
          -2.581350212978,
          1.2019358187360194,
          0.5962268260509613,
          0.043399436853583974,
          -0.7034736013426729,
          -0.5870817705680396,
          0.26132864277511264,
          1.0026011168534013,
          0.5024826385176249,
          -1.3709098720171886,
          1.6010990955566187,
          -1.1866188378116598,
          -0.0851183518897504,
          2.6578337032405006,
          1.6498431342132363,
          0.01577419471099402,
          0.18660345295126896,
          -1.6380810984694385,
          -0.6920612579214326,
          -0.5481117511795,
          -0.8393828604315164,
          0.6545901837953004,
          0.6793888900506158,
          0.5868162253947056,
          0.7373061487047904,
          0.4104583260324701,
          1.512028590184469,
          2.234848174397926,
          -1.206697874221941,
          1.5386372375224369,
          0.4589019331759673,
          -0.2677178684218074,
          -0.5165748852689157,
          2.097914912767957,
          1.1046891478459746,
          -1.0127769075344921,
          -0.9275024218807334,
          0.46254807937094916,
          -2.581572057555803,
          -0.5177589481227729,
          0.4316554621434871,
          0.6954811231387482,
          0.0300098483416636,
          0.6539900009746611,
          -0.4449879580630433,
          -0.999503090467957,
          1.0362026545443144,
          0.9136741620871076,
          -0.5439968151535551,
          -0.8107903439717139,
          -1.9019102452016945,
          0.7119532518308098,
          -0.5667692810338499,
          1.0639290359748934,
          -0.6453104900764639,
          0.26835233269243897,
          -0.7968176977559296,
          -0.7527220997163271,
          -1.5516630981944994,
          0.5303143093757477,
          1.0840453642416785,
          1.4896418973352272,
          1.2220370054697876,
          -0.16792657416935036,
          -0.2308432545947218,
          -0.29786350107739773,
          0.12177245408476088,
          1.3631037691423746,
          0.6384473313553243,
          -0.7283898466255497,
          0.2516740646126679,
          -0.8870567793418102,
          0.5163456231504208,
          1.1852874008722312
         ],
         "xaxis": "x5",
         "y": [
          0.3134686022095278,
          0.9167330694085948,
          1.8358559878457181,
          0.2834426630393991,
          0.22899753551591995,
          1.2214721753208433,
          0.2910640003360314,
          0.44389793149791734,
          1.2162009677053427,
          -0.9619002047119665,
          -1.2784583359551878,
          -0.37144603885723965,
          0.8800661016792073,
          -0.6763563018495778,
          -2.2277493627980003,
          0.6930676738162171,
          -1.1683340478867852,
          -0.15790090640505508,
          -0.6826931554912031,
          0.05049038923586889,
          0.4869377860093024,
          -0.8835410697700743,
          0.24868435409408757,
          -1.056969392655306,
          0.6233496437331075,
          0.9046922325586537,
          0.2818495405726576,
          0.14967640219134654,
          -0.6091488927991449,
          0.2123086378874707,
          0.45743817850369867,
          -0.9658200412921484,
          -0.00865557348175014,
          0.4291721685534401,
          -0.22006799285765793,
          2.488597634675389,
          -0.6061303020257509,
          1.6102658234045657,
          -1.000863701554238,
          -0.534256527143899,
          -0.4621570121146412,
          -1.9759816278599311,
          -0.7760690578252674,
          -0.18467394830622197,
          -1.1458391575252205,
          1.7555670562803594,
          -0.26250474351571285,
          0.5464460246470153,
          0.30987674584616987,
          0.3520151819035632,
          0.9958399353993154,
          -0.5214726384988668,
          0.07222055358695231,
          0.46791079579358846,
          -0.33047997165882564,
          0.9192388020854462,
          -0.3256795536945822,
          -1.8653337188608055,
          0.5962235529452432,
          -0.4240408936804001,
          1.8384924861277794,
          -1.1038965745155283,
          -0.8519275517835061,
          0.7141618825240307,
          0.8285710482210474,
          -0.42276652716172586,
          -1.1587737795342765,
          0.9809709177500708,
          -0.12667495781204194,
          -2.5319609816814572,
          1.432198698417712,
          -1.0622603426980124,
          -0.6234638991651306,
          -1.2776077551390106,
          0.028895853903978024,
          1.644544932190103,
          -0.6163351737696124,
          -0.041946278013372994,
          1.07876840216128,
          0.4241597671285785,
          -2.2076469021892127,
          -0.6868007293609565,
          -0.7430886502094988,
          -0.33242320190080693,
          -0.7943984962651276,
          -2.4226861547474168,
          1.5447323436514886,
          -0.5894859162554954,
          -0.5022088401908156,
          -1.5308674143676129,
          -1.1681670620058908,
          1.3748345847740826,
          0.28388738456361123,
          -0.37374003079645696,
          2.9489109452284934,
          0.38147384481885627,
          -0.6351765194539595,
          0.08824145484231279,
          -0.811892307602746,
          -1.742992613677244
         ],
         "yaxis": "y5"
        },
        {
         "histfunc": "count",
         "histnorm": "",
         "marker": {
          "color": "rgba(55, 128, 191, 1.0)",
          "line": {
           "color": "#4D5663",
           "width": 1.3
          }
         },
         "name": "B",
         "nbinsx": 10,
         "opacity": 0.8,
         "orientation": "v",
         "type": "histogram",
         "x": [
          0.3134686022095278,
          0.9167330694085948,
          1.8358559878457181,
          0.2834426630393991,
          0.22899753551591995,
          1.2214721753208433,
          0.2910640003360314,
          0.44389793149791734,
          1.2162009677053427,
          -0.9619002047119665,
          -1.2784583359551878,
          -0.37144603885723965,
          0.8800661016792073,
          -0.6763563018495778,
          -2.2277493627980003,
          0.6930676738162171,
          -1.1683340478867852,
          -0.15790090640505508,
          -0.6826931554912031,
          0.05049038923586889,
          0.4869377860093024,
          -0.8835410697700743,
          0.24868435409408757,
          -1.056969392655306,
          0.6233496437331075,
          0.9046922325586537,
          0.2818495405726576,
          0.14967640219134654,
          -0.6091488927991449,
          0.2123086378874707,
          0.45743817850369867,
          -0.9658200412921484,
          -0.00865557348175014,
          0.4291721685534401,
          -0.22006799285765793,
          2.488597634675389,
          -0.6061303020257509,
          1.6102658234045657,
          -1.000863701554238,
          -0.534256527143899,
          -0.4621570121146412,
          -1.9759816278599311,
          -0.7760690578252674,
          -0.18467394830622197,
          -1.1458391575252205,
          1.7555670562803594,
          -0.26250474351571285,
          0.5464460246470153,
          0.30987674584616987,
          0.3520151819035632,
          0.9958399353993154,
          -0.5214726384988668,
          0.07222055358695231,
          0.46791079579358846,
          -0.33047997165882564,
          0.9192388020854462,
          -0.3256795536945822,
          -1.8653337188608055,
          0.5962235529452432,
          -0.4240408936804001,
          1.8384924861277794,
          -1.1038965745155283,
          -0.8519275517835061,
          0.7141618825240307,
          0.8285710482210474,
          -0.42276652716172586,
          -1.1587737795342765,
          0.9809709177500708,
          -0.12667495781204194,
          -2.5319609816814572,
          1.432198698417712,
          -1.0622603426980124,
          -0.6234638991651306,
          -1.2776077551390106,
          0.028895853903978024,
          1.644544932190103,
          -0.6163351737696124,
          -0.041946278013372994,
          1.07876840216128,
          0.4241597671285785,
          -2.2076469021892127,
          -0.6868007293609565,
          -0.7430886502094988,
          -0.33242320190080693,
          -0.7943984962651276,
          -2.4226861547474168,
          1.5447323436514886,
          -0.5894859162554954,
          -0.5022088401908156,
          -1.5308674143676129,
          -1.1681670620058908,
          1.3748345847740826,
          0.28388738456361123,
          -0.37374003079645696,
          2.9489109452284934,
          0.38147384481885627,
          -0.6351765194539595,
          0.08824145484231279,
          -0.811892307602746,
          -1.742992613677244
         ],
         "xaxis": "x6",
         "yaxis": "y6"
        },
        {
         "line": {
          "color": "rgba(128, 128, 128, 1.0)",
          "dash": "solid",
          "shape": "linear",
          "width": 1.3
         },
         "marker": {
          "size": 2,
          "symbol": "circle"
         },
         "mode": "markers",
         "name": "B",
         "text": "",
         "type": "scatter",
         "x": [
          1.231070159811716,
          -0.03117281649129617,
          -0.6162773756384039,
          -1.6376008743252277,
          -0.08241446653137414,
          -1.1857410285737386,
          1.5025063017476732,
          -0.05133227922674751,
          1.2644556879951765,
          -0.05964774681572033,
          -2.297403684005262,
          -0.9868119640856649,
          0.05675988924076596,
          1.185951066101353,
          -1.373095549551666,
          -0.20562601185759508,
          1.9428309188887116,
          -0.18927683502183562,
          0.9825093159521757,
          -1.2263415995284603,
          -0.6298439802477139,
          0.6068580870279782,
          -0.890636392495951,
          0.631918047414181,
          -0.7720379065528462,
          -0.29593149001966135,
          -1.1226904422118051,
          0.23629800314365096,
          -0.4741276194468566,
          2.1717181443789344,
          -1.4806895991854223,
          -0.4955021094440134,
          0.032117081646470994,
          0.25701142893123874,
          -0.23713230266729876,
          0.9695332751815351,
          0.2716319732427874,
          -0.20824851930974994,
          -1.0475258685794056,
          0.56838672084109,
          -0.14802383067475433,
          -0.2626985118025356,
          -0.485172385498463,
          0.40027566985106316,
          -0.4421940311637228,
          -1.2083996634068965,
          -1.5985316077391072,
          0.5640687204376864,
          -0.37255174684050163,
          1.9573057613355627,
          -0.08203264742974938,
          -0.6363424018323703,
          0.47124001588370756,
          -0.9974260837891378,
          0.561213886768126,
          -0.2517931486910543,
          -1.0726006338905476,
          1.895293220583968,
          -0.5735772528649017,
          -1.0961897880553446,
          -1.2473194715544305,
          -1.9395128963440484,
          -0.8011034626807447,
          -0.8729632839115978,
          0.9718542651123409,
          0.9880918794379198,
          -0.3539421511355455,
          -0.7872073680358485,
          -0.014673280228460442,
          0.0719656927583585,
          0.22437507299150267,
          1.238024342372839,
          0.3609958413639249,
          0.31562209670153074,
          0.660784086125347,
          1.0264393713595676,
          -1.2501039657721695,
          0.7398172427970308,
          -1.379883171220064,
          -0.2789847177401478,
          0.402043007570006,
          0.14469232460479514,
          -0.08498934486439978,
          1.7134644085780146,
          -1.4468169895356162,
          0.715895965943651,
          -0.1544878290689414,
          -0.19537887570599272,
          -0.5316531629843192,
          -0.44306354202850134,
          0.42475780202125824,
          -0.585282832765401,
          2.0077890009820103,
          -0.00392265960940687,
          -0.7012580198585556,
          3.2492551217480696,
          -1.0309968186486267,
          -1.8420028443536924,
          -0.4099855734921172,
          0.31802949595869745
         ],
         "xaxis": "x7",
         "y": [
          0.3134686022095278,
          0.9167330694085948,
          1.8358559878457181,
          0.2834426630393991,
          0.22899753551591995,
          1.2214721753208433,
          0.2910640003360314,
          0.44389793149791734,
          1.2162009677053427,
          -0.9619002047119665,
          -1.2784583359551878,
          -0.37144603885723965,
          0.8800661016792073,
          -0.6763563018495778,
          -2.2277493627980003,
          0.6930676738162171,
          -1.1683340478867852,
          -0.15790090640505508,
          -0.6826931554912031,
          0.05049038923586889,
          0.4869377860093024,
          -0.8835410697700743,
          0.24868435409408757,
          -1.056969392655306,
          0.6233496437331075,
          0.9046922325586537,
          0.2818495405726576,
          0.14967640219134654,
          -0.6091488927991449,
          0.2123086378874707,
          0.45743817850369867,
          -0.9658200412921484,
          -0.00865557348175014,
          0.4291721685534401,
          -0.22006799285765793,
          2.488597634675389,
          -0.6061303020257509,
          1.6102658234045657,
          -1.000863701554238,
          -0.534256527143899,
          -0.4621570121146412,
          -1.9759816278599311,
          -0.7760690578252674,
          -0.18467394830622197,
          -1.1458391575252205,
          1.7555670562803594,
          -0.26250474351571285,
          0.5464460246470153,
          0.30987674584616987,
          0.3520151819035632,
          0.9958399353993154,
          -0.5214726384988668,
          0.07222055358695231,
          0.46791079579358846,
          -0.33047997165882564,
          0.9192388020854462,
          -0.3256795536945822,
          -1.8653337188608055,
          0.5962235529452432,
          -0.4240408936804001,
          1.8384924861277794,
          -1.1038965745155283,
          -0.8519275517835061,
          0.7141618825240307,
          0.8285710482210474,
          -0.42276652716172586,
          -1.1587737795342765,
          0.9809709177500708,
          -0.12667495781204194,
          -2.5319609816814572,
          1.432198698417712,
          -1.0622603426980124,
          -0.6234638991651306,
          -1.2776077551390106,
          0.028895853903978024,
          1.644544932190103,
          -0.6163351737696124,
          -0.041946278013372994,
          1.07876840216128,
          0.4241597671285785,
          -2.2076469021892127,
          -0.6868007293609565,
          -0.7430886502094988,
          -0.33242320190080693,
          -0.7943984962651276,
          -2.4226861547474168,
          1.5447323436514886,
          -0.5894859162554954,
          -0.5022088401908156,
          -1.5308674143676129,
          -1.1681670620058908,
          1.3748345847740826,
          0.28388738456361123,
          -0.37374003079645696,
          2.9489109452284934,
          0.38147384481885627,
          -0.6351765194539595,
          0.08824145484231279,
          -0.811892307602746,
          -1.742992613677244
         ],
         "yaxis": "y7"
        },
        {
         "line": {
          "color": "rgba(128, 128, 128, 1.0)",
          "dash": "solid",
          "shape": "linear",
          "width": 1.3
         },
         "marker": {
          "size": 2,
          "symbol": "circle"
         },
         "mode": "markers",
         "name": "B",
         "text": "",
         "type": "scatter",
         "x": [
          -0.38885819895232676,
          -0.9717472290895455,
          -0.9139514439533044,
          -0.12082311181586085,
          0.3330149406569263,
          -0.9799049992518911,
          -1.67111919752334,
          0.15162770083347216,
          2.1445059748730726,
          0.6058900549623925,
          1.0630011917635849,
          -0.24644562811864812,
          -1.5325621975142605,
          -0.6469666724377413,
          -0.9616193205511907,
          0.41800907429574874,
          1.0397811292984618,
          -0.31541696072229847,
          -1.4049094608966841,
          -0.0884161044520405,
          0.21495690415865082,
          0.7272029791670528,
          -0.36171724757592705,
          -1.8843190236447718,
          -2.601906771859556,
          0.9330016216922752,
          -1.0913660590152312,
          -0.4987963991281909,
          1.7963669173505645,
          -0.020190081183019428,
          -0.08012435469167206,
          1.0110582736533014,
          -1.1176034224498308,
          0.669714490474785,
          1.4345482061991972,
          0.9899681205051231,
          -1.0361872742541638,
          0.9543542851066912,
          0.6886393863606326,
          0.19966677361934768,
          0.2248252323826824,
          1.266659711726156,
          -1.1336143637616543,
          -1.9569188197769551,
          -0.6045250312730492,
          1.008230391710319,
          -0.7398823275817051,
          -1.086953738335082,
          1.9542880196409105,
          -1.941804377383334,
          -1.4808022512692627,
          -0.14015683186366015,
          0.7626198660784957,
          -0.27479444953159154,
          0.34448358744396157,
          0.20148077743096154,
          0.5811986146711187,
          0.19960282050885136,
          0.7739569815639976,
          -1.1573437069405694,
          0.4521186470452195,
          0.11990670910695764,
          1.4924315665692511,
          1.4175810663481372,
          0.6183128660677296,
          1.6061354947982638,
          1.1996224140964713,
          -0.20863814845378764,
          -0.7959340245341419,
          1.6055454796693986,
          0.3345272122695861,
          -1.3223424522812381,
          0.4077645278070668,
          -2.063164604706958,
          -0.06691844889513632,
          0.5828815572503655,
          -0.3128476641027049,
          -1.1638349708744584,
          0.41722706491806855,
          -0.18316239793324637,
          -0.930424708885888,
          -1.902918235853356,
          0.8041526601231147,
          0.10882810639113567,
          0.2644282211852591,
          2.310789453105758,
          -0.16812597599819737,
          -0.558078628026835,
          0.11279638166561838,
          -0.5792231817795479,
          0.09869825075713468,
          0.5882162052004194,
          -0.792805396195245,
          1.2161537394731101,
          -0.31067260416757025,
          -0.1178432631562213,
          0.025596138383547126,
          1.1510116422285448,
          1.1275767421761456,
          -0.7168911555643587
         ],
         "xaxis": "x8",
         "y": [
          0.3134686022095278,
          0.9167330694085948,
          1.8358559878457181,
          0.2834426630393991,
          0.22899753551591995,
          1.2214721753208433,
          0.2910640003360314,
          0.44389793149791734,
          1.2162009677053427,
          -0.9619002047119665,
          -1.2784583359551878,
          -0.37144603885723965,
          0.8800661016792073,
          -0.6763563018495778,
          -2.2277493627980003,
          0.6930676738162171,
          -1.1683340478867852,
          -0.15790090640505508,
          -0.6826931554912031,
          0.05049038923586889,
          0.4869377860093024,
          -0.8835410697700743,
          0.24868435409408757,
          -1.056969392655306,
          0.6233496437331075,
          0.9046922325586537,
          0.2818495405726576,
          0.14967640219134654,
          -0.6091488927991449,
          0.2123086378874707,
          0.45743817850369867,
          -0.9658200412921484,
          -0.00865557348175014,
          0.4291721685534401,
          -0.22006799285765793,
          2.488597634675389,
          -0.6061303020257509,
          1.6102658234045657,
          -1.000863701554238,
          -0.534256527143899,
          -0.4621570121146412,
          -1.9759816278599311,
          -0.7760690578252674,
          -0.18467394830622197,
          -1.1458391575252205,
          1.7555670562803594,
          -0.26250474351571285,
          0.5464460246470153,
          0.30987674584616987,
          0.3520151819035632,
          0.9958399353993154,
          -0.5214726384988668,
          0.07222055358695231,
          0.46791079579358846,
          -0.33047997165882564,
          0.9192388020854462,
          -0.3256795536945822,
          -1.8653337188608055,
          0.5962235529452432,
          -0.4240408936804001,
          1.8384924861277794,
          -1.1038965745155283,
          -0.8519275517835061,
          0.7141618825240307,
          0.8285710482210474,
          -0.42276652716172586,
          -1.1587737795342765,
          0.9809709177500708,
          -0.12667495781204194,
          -2.5319609816814572,
          1.432198698417712,
          -1.0622603426980124,
          -0.6234638991651306,
          -1.2776077551390106,
          0.028895853903978024,
          1.644544932190103,
          -0.6163351737696124,
          -0.041946278013372994,
          1.07876840216128,
          0.4241597671285785,
          -2.2076469021892127,
          -0.6868007293609565,
          -0.7430886502094988,
          -0.33242320190080693,
          -0.7943984962651276,
          -2.4226861547474168,
          1.5447323436514886,
          -0.5894859162554954,
          -0.5022088401908156,
          -1.5308674143676129,
          -1.1681670620058908,
          1.3748345847740826,
          0.28388738456361123,
          -0.37374003079645696,
          2.9489109452284934,
          0.38147384481885627,
          -0.6351765194539595,
          0.08824145484231279,
          -0.811892307602746,
          -1.742992613677244
         ],
         "yaxis": "y8"
        },
        {
         "line": {
          "color": "rgba(128, 128, 128, 1.0)",
          "dash": "solid",
          "shape": "linear",
          "width": 1.3
         },
         "marker": {
          "size": 2,
          "symbol": "circle"
         },
         "mode": "markers",
         "name": "C",
         "text": "",
         "type": "scatter",
         "x": [
          2.4749962936946055,
          -0.9007990275507158,
          -0.9805747297855275,
          0.8591241423923144,
          -0.23513612993279762,
          -1.4871885942258938,
          0.1509626101323387,
          0.3710990855337078,
          -0.0783348441645605,
          2.26380966222816,
          0.208228005383773,
          0.3526292310156882,
          1.1125779531924598,
          -0.9777079006710802,
          1.2013899556079988,
          0.07237738940168735,
          -1.3345991474970709,
          -2.017283621905848,
          -0.6549271175784173,
          -1.8897303970589032,
          -0.05019611399214896,
          0.2680783170338222,
          0.8959378751017952,
          1.9759406303102243,
          0.6701199636150814,
          0.9306138813501291,
          -2.581350212978,
          1.2019358187360194,
          0.5962268260509613,
          0.043399436853583974,
          -0.7034736013426729,
          -0.5870817705680396,
          0.26132864277511264,
          1.0026011168534013,
          0.5024826385176249,
          -1.3709098720171886,
          1.6010990955566187,
          -1.1866188378116598,
          -0.0851183518897504,
          2.6578337032405006,
          1.6498431342132363,
          0.01577419471099402,
          0.18660345295126896,
          -1.6380810984694385,
          -0.6920612579214326,
          -0.5481117511795,
          -0.8393828604315164,
          0.6545901837953004,
          0.6793888900506158,
          0.5868162253947056,
          0.7373061487047904,
          0.4104583260324701,
          1.512028590184469,
          2.234848174397926,
          -1.206697874221941,
          1.5386372375224369,
          0.4589019331759673,
          -0.2677178684218074,
          -0.5165748852689157,
          2.097914912767957,
          1.1046891478459746,
          -1.0127769075344921,
          -0.9275024218807334,
          0.46254807937094916,
          -2.581572057555803,
          -0.5177589481227729,
          0.4316554621434871,
          0.6954811231387482,
          0.0300098483416636,
          0.6539900009746611,
          -0.4449879580630433,
          -0.999503090467957,
          1.0362026545443144,
          0.9136741620871076,
          -0.5439968151535551,
          -0.8107903439717139,
          -1.9019102452016945,
          0.7119532518308098,
          -0.5667692810338499,
          1.0639290359748934,
          -0.6453104900764639,
          0.26835233269243897,
          -0.7968176977559296,
          -0.7527220997163271,
          -1.5516630981944994,
          0.5303143093757477,
          1.0840453642416785,
          1.4896418973352272,
          1.2220370054697876,
          -0.16792657416935036,
          -0.2308432545947218,
          -0.29786350107739773,
          0.12177245408476088,
          1.3631037691423746,
          0.6384473313553243,
          -0.7283898466255497,
          0.2516740646126679,
          -0.8870567793418102,
          0.5163456231504208,
          1.1852874008722312
         ],
         "xaxis": "x9",
         "y": [
          1.231070159811716,
          -0.03117281649129617,
          -0.6162773756384039,
          -1.6376008743252277,
          -0.08241446653137414,
          -1.1857410285737386,
          1.5025063017476732,
          -0.05133227922674751,
          1.2644556879951765,
          -0.05964774681572033,
          -2.297403684005262,
          -0.9868119640856649,
          0.05675988924076596,
          1.185951066101353,
          -1.373095549551666,
          -0.20562601185759508,
          1.9428309188887116,
          -0.18927683502183562,
          0.9825093159521757,
          -1.2263415995284603,
          -0.6298439802477139,
          0.6068580870279782,
          -0.890636392495951,
          0.631918047414181,
          -0.7720379065528462,
          -0.29593149001966135,
          -1.1226904422118051,
          0.23629800314365096,
          -0.4741276194468566,
          2.1717181443789344,
          -1.4806895991854223,
          -0.4955021094440134,
          0.032117081646470994,
          0.25701142893123874,
          -0.23713230266729876,
          0.9695332751815351,
          0.2716319732427874,
          -0.20824851930974994,
          -1.0475258685794056,
          0.56838672084109,
          -0.14802383067475433,
          -0.2626985118025356,
          -0.485172385498463,
          0.40027566985106316,
          -0.4421940311637228,
          -1.2083996634068965,
          -1.5985316077391072,
          0.5640687204376864,
          -0.37255174684050163,
          1.9573057613355627,
          -0.08203264742974938,
          -0.6363424018323703,
          0.47124001588370756,
          -0.9974260837891378,
          0.561213886768126,
          -0.2517931486910543,
          -1.0726006338905476,
          1.895293220583968,
          -0.5735772528649017,
          -1.0961897880553446,
          -1.2473194715544305,
          -1.9395128963440484,
          -0.8011034626807447,
          -0.8729632839115978,
          0.9718542651123409,
          0.9880918794379198,
          -0.3539421511355455,
          -0.7872073680358485,
          -0.014673280228460442,
          0.0719656927583585,
          0.22437507299150267,
          1.238024342372839,
          0.3609958413639249,
          0.31562209670153074,
          0.660784086125347,
          1.0264393713595676,
          -1.2501039657721695,
          0.7398172427970308,
          -1.379883171220064,
          -0.2789847177401478,
          0.402043007570006,
          0.14469232460479514,
          -0.08498934486439978,
          1.7134644085780146,
          -1.4468169895356162,
          0.715895965943651,
          -0.1544878290689414,
          -0.19537887570599272,
          -0.5316531629843192,
          -0.44306354202850134,
          0.42475780202125824,
          -0.585282832765401,
          2.0077890009820103,
          -0.00392265960940687,
          -0.7012580198585556,
          3.2492551217480696,
          -1.0309968186486267,
          -1.8420028443536924,
          -0.4099855734921172,
          0.31802949595869745
         ],
         "yaxis": "y9"
        },
        {
         "line": {
          "color": "rgba(128, 128, 128, 1.0)",
          "dash": "solid",
          "shape": "linear",
          "width": 1.3
         },
         "marker": {
          "size": 2,
          "symbol": "circle"
         },
         "mode": "markers",
         "name": "C",
         "text": "",
         "type": "scatter",
         "x": [
          0.3134686022095278,
          0.9167330694085948,
          1.8358559878457181,
          0.2834426630393991,
          0.22899753551591995,
          1.2214721753208433,
          0.2910640003360314,
          0.44389793149791734,
          1.2162009677053427,
          -0.9619002047119665,
          -1.2784583359551878,
          -0.37144603885723965,
          0.8800661016792073,
          -0.6763563018495778,
          -2.2277493627980003,
          0.6930676738162171,
          -1.1683340478867852,
          -0.15790090640505508,
          -0.6826931554912031,
          0.05049038923586889,
          0.4869377860093024,
          -0.8835410697700743,
          0.24868435409408757,
          -1.056969392655306,
          0.6233496437331075,
          0.9046922325586537,
          0.2818495405726576,
          0.14967640219134654,
          -0.6091488927991449,
          0.2123086378874707,
          0.45743817850369867,
          -0.9658200412921484,
          -0.00865557348175014,
          0.4291721685534401,
          -0.22006799285765793,
          2.488597634675389,
          -0.6061303020257509,
          1.6102658234045657,
          -1.000863701554238,
          -0.534256527143899,
          -0.4621570121146412,
          -1.9759816278599311,
          -0.7760690578252674,
          -0.18467394830622197,
          -1.1458391575252205,
          1.7555670562803594,
          -0.26250474351571285,
          0.5464460246470153,
          0.30987674584616987,
          0.3520151819035632,
          0.9958399353993154,
          -0.5214726384988668,
          0.07222055358695231,
          0.46791079579358846,
          -0.33047997165882564,
          0.9192388020854462,
          -0.3256795536945822,
          -1.8653337188608055,
          0.5962235529452432,
          -0.4240408936804001,
          1.8384924861277794,
          -1.1038965745155283,
          -0.8519275517835061,
          0.7141618825240307,
          0.8285710482210474,
          -0.42276652716172586,
          -1.1587737795342765,
          0.9809709177500708,
          -0.12667495781204194,
          -2.5319609816814572,
          1.432198698417712,
          -1.0622603426980124,
          -0.6234638991651306,
          -1.2776077551390106,
          0.028895853903978024,
          1.644544932190103,
          -0.6163351737696124,
          -0.041946278013372994,
          1.07876840216128,
          0.4241597671285785,
          -2.2076469021892127,
          -0.6868007293609565,
          -0.7430886502094988,
          -0.33242320190080693,
          -0.7943984962651276,
          -2.4226861547474168,
          1.5447323436514886,
          -0.5894859162554954,
          -0.5022088401908156,
          -1.5308674143676129,
          -1.1681670620058908,
          1.3748345847740826,
          0.28388738456361123,
          -0.37374003079645696,
          2.9489109452284934,
          0.38147384481885627,
          -0.6351765194539595,
          0.08824145484231279,
          -0.811892307602746,
          -1.742992613677244
         ],
         "xaxis": "x10",
         "y": [
          1.231070159811716,
          -0.03117281649129617,
          -0.6162773756384039,
          -1.6376008743252277,
          -0.08241446653137414,
          -1.1857410285737386,
          1.5025063017476732,
          -0.05133227922674751,
          1.2644556879951765,
          -0.05964774681572033,
          -2.297403684005262,
          -0.9868119640856649,
          0.05675988924076596,
          1.185951066101353,
          -1.373095549551666,
          -0.20562601185759508,
          1.9428309188887116,
          -0.18927683502183562,
          0.9825093159521757,
          -1.2263415995284603,
          -0.6298439802477139,
          0.6068580870279782,
          -0.890636392495951,
          0.631918047414181,
          -0.7720379065528462,
          -0.29593149001966135,
          -1.1226904422118051,
          0.23629800314365096,
          -0.4741276194468566,
          2.1717181443789344,
          -1.4806895991854223,
          -0.4955021094440134,
          0.032117081646470994,
          0.25701142893123874,
          -0.23713230266729876,
          0.9695332751815351,
          0.2716319732427874,
          -0.20824851930974994,
          -1.0475258685794056,
          0.56838672084109,
          -0.14802383067475433,
          -0.2626985118025356,
          -0.485172385498463,
          0.40027566985106316,
          -0.4421940311637228,
          -1.2083996634068965,
          -1.5985316077391072,
          0.5640687204376864,
          -0.37255174684050163,
          1.9573057613355627,
          -0.08203264742974938,
          -0.6363424018323703,
          0.47124001588370756,
          -0.9974260837891378,
          0.561213886768126,
          -0.2517931486910543,
          -1.0726006338905476,
          1.895293220583968,
          -0.5735772528649017,
          -1.0961897880553446,
          -1.2473194715544305,
          -1.9395128963440484,
          -0.8011034626807447,
          -0.8729632839115978,
          0.9718542651123409,
          0.9880918794379198,
          -0.3539421511355455,
          -0.7872073680358485,
          -0.014673280228460442,
          0.0719656927583585,
          0.22437507299150267,
          1.238024342372839,
          0.3609958413639249,
          0.31562209670153074,
          0.660784086125347,
          1.0264393713595676,
          -1.2501039657721695,
          0.7398172427970308,
          -1.379883171220064,
          -0.2789847177401478,
          0.402043007570006,
          0.14469232460479514,
          -0.08498934486439978,
          1.7134644085780146,
          -1.4468169895356162,
          0.715895965943651,
          -0.1544878290689414,
          -0.19537887570599272,
          -0.5316531629843192,
          -0.44306354202850134,
          0.42475780202125824,
          -0.585282832765401,
          2.0077890009820103,
          -0.00392265960940687,
          -0.7012580198585556,
          3.2492551217480696,
          -1.0309968186486267,
          -1.8420028443536924,
          -0.4099855734921172,
          0.31802949595869745
         ],
         "yaxis": "y10"
        },
        {
         "histfunc": "count",
         "histnorm": "",
         "marker": {
          "color": "rgba(50, 171, 96, 1.0)",
          "line": {
           "color": "#4D5663",
           "width": 1.3
          }
         },
         "name": "C",
         "nbinsx": 10,
         "opacity": 0.8,
         "orientation": "v",
         "type": "histogram",
         "x": [
          1.231070159811716,
          -0.03117281649129617,
          -0.6162773756384039,
          -1.6376008743252277,
          -0.08241446653137414,
          -1.1857410285737386,
          1.5025063017476732,
          -0.05133227922674751,
          1.2644556879951765,
          -0.05964774681572033,
          -2.297403684005262,
          -0.9868119640856649,
          0.05675988924076596,
          1.185951066101353,
          -1.373095549551666,
          -0.20562601185759508,
          1.9428309188887116,
          -0.18927683502183562,
          0.9825093159521757,
          -1.2263415995284603,
          -0.6298439802477139,
          0.6068580870279782,
          -0.890636392495951,
          0.631918047414181,
          -0.7720379065528462,
          -0.29593149001966135,
          -1.1226904422118051,
          0.23629800314365096,
          -0.4741276194468566,
          2.1717181443789344,
          -1.4806895991854223,
          -0.4955021094440134,
          0.032117081646470994,
          0.25701142893123874,
          -0.23713230266729876,
          0.9695332751815351,
          0.2716319732427874,
          -0.20824851930974994,
          -1.0475258685794056,
          0.56838672084109,
          -0.14802383067475433,
          -0.2626985118025356,
          -0.485172385498463,
          0.40027566985106316,
          -0.4421940311637228,
          -1.2083996634068965,
          -1.5985316077391072,
          0.5640687204376864,
          -0.37255174684050163,
          1.9573057613355627,
          -0.08203264742974938,
          -0.6363424018323703,
          0.47124001588370756,
          -0.9974260837891378,
          0.561213886768126,
          -0.2517931486910543,
          -1.0726006338905476,
          1.895293220583968,
          -0.5735772528649017,
          -1.0961897880553446,
          -1.2473194715544305,
          -1.9395128963440484,
          -0.8011034626807447,
          -0.8729632839115978,
          0.9718542651123409,
          0.9880918794379198,
          -0.3539421511355455,
          -0.7872073680358485,
          -0.014673280228460442,
          0.0719656927583585,
          0.22437507299150267,
          1.238024342372839,
          0.3609958413639249,
          0.31562209670153074,
          0.660784086125347,
          1.0264393713595676,
          -1.2501039657721695,
          0.7398172427970308,
          -1.379883171220064,
          -0.2789847177401478,
          0.402043007570006,
          0.14469232460479514,
          -0.08498934486439978,
          1.7134644085780146,
          -1.4468169895356162,
          0.715895965943651,
          -0.1544878290689414,
          -0.19537887570599272,
          -0.5316531629843192,
          -0.44306354202850134,
          0.42475780202125824,
          -0.585282832765401,
          2.0077890009820103,
          -0.00392265960940687,
          -0.7012580198585556,
          3.2492551217480696,
          -1.0309968186486267,
          -1.8420028443536924,
          -0.4099855734921172,
          0.31802949595869745
         ],
         "xaxis": "x11",
         "yaxis": "y11"
        },
        {
         "line": {
          "color": "rgba(128, 128, 128, 1.0)",
          "dash": "solid",
          "shape": "linear",
          "width": 1.3
         },
         "marker": {
          "size": 2,
          "symbol": "circle"
         },
         "mode": "markers",
         "name": "C",
         "text": "",
         "type": "scatter",
         "x": [
          -0.38885819895232676,
          -0.9717472290895455,
          -0.9139514439533044,
          -0.12082311181586085,
          0.3330149406569263,
          -0.9799049992518911,
          -1.67111919752334,
          0.15162770083347216,
          2.1445059748730726,
          0.6058900549623925,
          1.0630011917635849,
          -0.24644562811864812,
          -1.5325621975142605,
          -0.6469666724377413,
          -0.9616193205511907,
          0.41800907429574874,
          1.0397811292984618,
          -0.31541696072229847,
          -1.4049094608966841,
          -0.0884161044520405,
          0.21495690415865082,
          0.7272029791670528,
          -0.36171724757592705,
          -1.8843190236447718,
          -2.601906771859556,
          0.9330016216922752,
          -1.0913660590152312,
          -0.4987963991281909,
          1.7963669173505645,
          -0.020190081183019428,
          -0.08012435469167206,
          1.0110582736533014,
          -1.1176034224498308,
          0.669714490474785,
          1.4345482061991972,
          0.9899681205051231,
          -1.0361872742541638,
          0.9543542851066912,
          0.6886393863606326,
          0.19966677361934768,
          0.2248252323826824,
          1.266659711726156,
          -1.1336143637616543,
          -1.9569188197769551,
          -0.6045250312730492,
          1.008230391710319,
          -0.7398823275817051,
          -1.086953738335082,
          1.9542880196409105,
          -1.941804377383334,
          -1.4808022512692627,
          -0.14015683186366015,
          0.7626198660784957,
          -0.27479444953159154,
          0.34448358744396157,
          0.20148077743096154,
          0.5811986146711187,
          0.19960282050885136,
          0.7739569815639976,
          -1.1573437069405694,
          0.4521186470452195,
          0.11990670910695764,
          1.4924315665692511,
          1.4175810663481372,
          0.6183128660677296,
          1.6061354947982638,
          1.1996224140964713,
          -0.20863814845378764,
          -0.7959340245341419,
          1.6055454796693986,
          0.3345272122695861,
          -1.3223424522812381,
          0.4077645278070668,
          -2.063164604706958,
          -0.06691844889513632,
          0.5828815572503655,
          -0.3128476641027049,
          -1.1638349708744584,
          0.41722706491806855,
          -0.18316239793324637,
          -0.930424708885888,
          -1.902918235853356,
          0.8041526601231147,
          0.10882810639113567,
          0.2644282211852591,
          2.310789453105758,
          -0.16812597599819737,
          -0.558078628026835,
          0.11279638166561838,
          -0.5792231817795479,
          0.09869825075713468,
          0.5882162052004194,
          -0.792805396195245,
          1.2161537394731101,
          -0.31067260416757025,
          -0.1178432631562213,
          0.025596138383547126,
          1.1510116422285448,
          1.1275767421761456,
          -0.7168911555643587
         ],
         "xaxis": "x12",
         "y": [
          1.231070159811716,
          -0.03117281649129617,
          -0.6162773756384039,
          -1.6376008743252277,
          -0.08241446653137414,
          -1.1857410285737386,
          1.5025063017476732,
          -0.05133227922674751,
          1.2644556879951765,
          -0.05964774681572033,
          -2.297403684005262,
          -0.9868119640856649,
          0.05675988924076596,
          1.185951066101353,
          -1.373095549551666,
          -0.20562601185759508,
          1.9428309188887116,
          -0.18927683502183562,
          0.9825093159521757,
          -1.2263415995284603,
          -0.6298439802477139,
          0.6068580870279782,
          -0.890636392495951,
          0.631918047414181,
          -0.7720379065528462,
          -0.29593149001966135,
          -1.1226904422118051,
          0.23629800314365096,
          -0.4741276194468566,
          2.1717181443789344,
          -1.4806895991854223,
          -0.4955021094440134,
          0.032117081646470994,
          0.25701142893123874,
          -0.23713230266729876,
          0.9695332751815351,
          0.2716319732427874,
          -0.20824851930974994,
          -1.0475258685794056,
          0.56838672084109,
          -0.14802383067475433,
          -0.2626985118025356,
          -0.485172385498463,
          0.40027566985106316,
          -0.4421940311637228,
          -1.2083996634068965,
          -1.5985316077391072,
          0.5640687204376864,
          -0.37255174684050163,
          1.9573057613355627,
          -0.08203264742974938,
          -0.6363424018323703,
          0.47124001588370756,
          -0.9974260837891378,
          0.561213886768126,
          -0.2517931486910543,
          -1.0726006338905476,
          1.895293220583968,
          -0.5735772528649017,
          -1.0961897880553446,
          -1.2473194715544305,
          -1.9395128963440484,
          -0.8011034626807447,
          -0.8729632839115978,
          0.9718542651123409,
          0.9880918794379198,
          -0.3539421511355455,
          -0.7872073680358485,
          -0.014673280228460442,
          0.0719656927583585,
          0.22437507299150267,
          1.238024342372839,
          0.3609958413639249,
          0.31562209670153074,
          0.660784086125347,
          1.0264393713595676,
          -1.2501039657721695,
          0.7398172427970308,
          -1.379883171220064,
          -0.2789847177401478,
          0.402043007570006,
          0.14469232460479514,
          -0.08498934486439978,
          1.7134644085780146,
          -1.4468169895356162,
          0.715895965943651,
          -0.1544878290689414,
          -0.19537887570599272,
          -0.5316531629843192,
          -0.44306354202850134,
          0.42475780202125824,
          -0.585282832765401,
          2.0077890009820103,
          -0.00392265960940687,
          -0.7012580198585556,
          3.2492551217480696,
          -1.0309968186486267,
          -1.8420028443536924,
          -0.4099855734921172,
          0.31802949595869745
         ],
         "yaxis": "y12"
        },
        {
         "line": {
          "color": "rgba(128, 128, 128, 1.0)",
          "dash": "solid",
          "shape": "linear",
          "width": 1.3
         },
         "marker": {
          "size": 2,
          "symbol": "circle"
         },
         "mode": "markers",
         "name": "D",
         "text": "",
         "type": "scatter",
         "x": [
          2.4749962936946055,
          -0.9007990275507158,
          -0.9805747297855275,
          0.8591241423923144,
          -0.23513612993279762,
          -1.4871885942258938,
          0.1509626101323387,
          0.3710990855337078,
          -0.0783348441645605,
          2.26380966222816,
          0.208228005383773,
          0.3526292310156882,
          1.1125779531924598,
          -0.9777079006710802,
          1.2013899556079988,
          0.07237738940168735,
          -1.3345991474970709,
          -2.017283621905848,
          -0.6549271175784173,
          -1.8897303970589032,
          -0.05019611399214896,
          0.2680783170338222,
          0.8959378751017952,
          1.9759406303102243,
          0.6701199636150814,
          0.9306138813501291,
          -2.581350212978,
          1.2019358187360194,
          0.5962268260509613,
          0.043399436853583974,
          -0.7034736013426729,
          -0.5870817705680396,
          0.26132864277511264,
          1.0026011168534013,
          0.5024826385176249,
          -1.3709098720171886,
          1.6010990955566187,
          -1.1866188378116598,
          -0.0851183518897504,
          2.6578337032405006,
          1.6498431342132363,
          0.01577419471099402,
          0.18660345295126896,
          -1.6380810984694385,
          -0.6920612579214326,
          -0.5481117511795,
          -0.8393828604315164,
          0.6545901837953004,
          0.6793888900506158,
          0.5868162253947056,
          0.7373061487047904,
          0.4104583260324701,
          1.512028590184469,
          2.234848174397926,
          -1.206697874221941,
          1.5386372375224369,
          0.4589019331759673,
          -0.2677178684218074,
          -0.5165748852689157,
          2.097914912767957,
          1.1046891478459746,
          -1.0127769075344921,
          -0.9275024218807334,
          0.46254807937094916,
          -2.581572057555803,
          -0.5177589481227729,
          0.4316554621434871,
          0.6954811231387482,
          0.0300098483416636,
          0.6539900009746611,
          -0.4449879580630433,
          -0.999503090467957,
          1.0362026545443144,
          0.9136741620871076,
          -0.5439968151535551,
          -0.8107903439717139,
          -1.9019102452016945,
          0.7119532518308098,
          -0.5667692810338499,
          1.0639290359748934,
          -0.6453104900764639,
          0.26835233269243897,
          -0.7968176977559296,
          -0.7527220997163271,
          -1.5516630981944994,
          0.5303143093757477,
          1.0840453642416785,
          1.4896418973352272,
          1.2220370054697876,
          -0.16792657416935036,
          -0.2308432545947218,
          -0.29786350107739773,
          0.12177245408476088,
          1.3631037691423746,
          0.6384473313553243,
          -0.7283898466255497,
          0.2516740646126679,
          -0.8870567793418102,
          0.5163456231504208,
          1.1852874008722312
         ],
         "xaxis": "x13",
         "y": [
          -0.38885819895232676,
          -0.9717472290895455,
          -0.9139514439533044,
          -0.12082311181586085,
          0.3330149406569263,
          -0.9799049992518911,
          -1.67111919752334,
          0.15162770083347216,
          2.1445059748730726,
          0.6058900549623925,
          1.0630011917635849,
          -0.24644562811864812,
          -1.5325621975142605,
          -0.6469666724377413,
          -0.9616193205511907,
          0.41800907429574874,
          1.0397811292984618,
          -0.31541696072229847,
          -1.4049094608966841,
          -0.0884161044520405,
          0.21495690415865082,
          0.7272029791670528,
          -0.36171724757592705,
          -1.8843190236447718,
          -2.601906771859556,
          0.9330016216922752,
          -1.0913660590152312,
          -0.4987963991281909,
          1.7963669173505645,
          -0.020190081183019428,
          -0.08012435469167206,
          1.0110582736533014,
          -1.1176034224498308,
          0.669714490474785,
          1.4345482061991972,
          0.9899681205051231,
          -1.0361872742541638,
          0.9543542851066912,
          0.6886393863606326,
          0.19966677361934768,
          0.2248252323826824,
          1.266659711726156,
          -1.1336143637616543,
          -1.9569188197769551,
          -0.6045250312730492,
          1.008230391710319,
          -0.7398823275817051,
          -1.086953738335082,
          1.9542880196409105,
          -1.941804377383334,
          -1.4808022512692627,
          -0.14015683186366015,
          0.7626198660784957,
          -0.27479444953159154,
          0.34448358744396157,
          0.20148077743096154,
          0.5811986146711187,
          0.19960282050885136,
          0.7739569815639976,
          -1.1573437069405694,
          0.4521186470452195,
          0.11990670910695764,
          1.4924315665692511,
          1.4175810663481372,
          0.6183128660677296,
          1.6061354947982638,
          1.1996224140964713,
          -0.20863814845378764,
          -0.7959340245341419,
          1.6055454796693986,
          0.3345272122695861,
          -1.3223424522812381,
          0.4077645278070668,
          -2.063164604706958,
          -0.06691844889513632,
          0.5828815572503655,
          -0.3128476641027049,
          -1.1638349708744584,
          0.41722706491806855,
          -0.18316239793324637,
          -0.930424708885888,
          -1.902918235853356,
          0.8041526601231147,
          0.10882810639113567,
          0.2644282211852591,
          2.310789453105758,
          -0.16812597599819737,
          -0.558078628026835,
          0.11279638166561838,
          -0.5792231817795479,
          0.09869825075713468,
          0.5882162052004194,
          -0.792805396195245,
          1.2161537394731101,
          -0.31067260416757025,
          -0.1178432631562213,
          0.025596138383547126,
          1.1510116422285448,
          1.1275767421761456,
          -0.7168911555643587
         ],
         "yaxis": "y13"
        },
        {
         "line": {
          "color": "rgba(128, 128, 128, 1.0)",
          "dash": "solid",
          "shape": "linear",
          "width": 1.3
         },
         "marker": {
          "size": 2,
          "symbol": "circle"
         },
         "mode": "markers",
         "name": "D",
         "text": "",
         "type": "scatter",
         "x": [
          0.3134686022095278,
          0.9167330694085948,
          1.8358559878457181,
          0.2834426630393991,
          0.22899753551591995,
          1.2214721753208433,
          0.2910640003360314,
          0.44389793149791734,
          1.2162009677053427,
          -0.9619002047119665,
          -1.2784583359551878,
          -0.37144603885723965,
          0.8800661016792073,
          -0.6763563018495778,
          -2.2277493627980003,
          0.6930676738162171,
          -1.1683340478867852,
          -0.15790090640505508,
          -0.6826931554912031,
          0.05049038923586889,
          0.4869377860093024,
          -0.8835410697700743,
          0.24868435409408757,
          -1.056969392655306,
          0.6233496437331075,
          0.9046922325586537,
          0.2818495405726576,
          0.14967640219134654,
          -0.6091488927991449,
          0.2123086378874707,
          0.45743817850369867,
          -0.9658200412921484,
          -0.00865557348175014,
          0.4291721685534401,
          -0.22006799285765793,
          2.488597634675389,
          -0.6061303020257509,
          1.6102658234045657,
          -1.000863701554238,
          -0.534256527143899,
          -0.4621570121146412,
          -1.9759816278599311,
          -0.7760690578252674,
          -0.18467394830622197,
          -1.1458391575252205,
          1.7555670562803594,
          -0.26250474351571285,
          0.5464460246470153,
          0.30987674584616987,
          0.3520151819035632,
          0.9958399353993154,
          -0.5214726384988668,
          0.07222055358695231,
          0.46791079579358846,
          -0.33047997165882564,
          0.9192388020854462,
          -0.3256795536945822,
          -1.8653337188608055,
          0.5962235529452432,
          -0.4240408936804001,
          1.8384924861277794,
          -1.1038965745155283,
          -0.8519275517835061,
          0.7141618825240307,
          0.8285710482210474,
          -0.42276652716172586,
          -1.1587737795342765,
          0.9809709177500708,
          -0.12667495781204194,
          -2.5319609816814572,
          1.432198698417712,
          -1.0622603426980124,
          -0.6234638991651306,
          -1.2776077551390106,
          0.028895853903978024,
          1.644544932190103,
          -0.6163351737696124,
          -0.041946278013372994,
          1.07876840216128,
          0.4241597671285785,
          -2.2076469021892127,
          -0.6868007293609565,
          -0.7430886502094988,
          -0.33242320190080693,
          -0.7943984962651276,
          -2.4226861547474168,
          1.5447323436514886,
          -0.5894859162554954,
          -0.5022088401908156,
          -1.5308674143676129,
          -1.1681670620058908,
          1.3748345847740826,
          0.28388738456361123,
          -0.37374003079645696,
          2.9489109452284934,
          0.38147384481885627,
          -0.6351765194539595,
          0.08824145484231279,
          -0.811892307602746,
          -1.742992613677244
         ],
         "xaxis": "x14",
         "y": [
          -0.38885819895232676,
          -0.9717472290895455,
          -0.9139514439533044,
          -0.12082311181586085,
          0.3330149406569263,
          -0.9799049992518911,
          -1.67111919752334,
          0.15162770083347216,
          2.1445059748730726,
          0.6058900549623925,
          1.0630011917635849,
          -0.24644562811864812,
          -1.5325621975142605,
          -0.6469666724377413,
          -0.9616193205511907,
          0.41800907429574874,
          1.0397811292984618,
          -0.31541696072229847,
          -1.4049094608966841,
          -0.0884161044520405,
          0.21495690415865082,
          0.7272029791670528,
          -0.36171724757592705,
          -1.8843190236447718,
          -2.601906771859556,
          0.9330016216922752,
          -1.0913660590152312,
          -0.4987963991281909,
          1.7963669173505645,
          -0.020190081183019428,
          -0.08012435469167206,
          1.0110582736533014,
          -1.1176034224498308,
          0.669714490474785,
          1.4345482061991972,
          0.9899681205051231,
          -1.0361872742541638,
          0.9543542851066912,
          0.6886393863606326,
          0.19966677361934768,
          0.2248252323826824,
          1.266659711726156,
          -1.1336143637616543,
          -1.9569188197769551,
          -0.6045250312730492,
          1.008230391710319,
          -0.7398823275817051,
          -1.086953738335082,
          1.9542880196409105,
          -1.941804377383334,
          -1.4808022512692627,
          -0.14015683186366015,
          0.7626198660784957,
          -0.27479444953159154,
          0.34448358744396157,
          0.20148077743096154,
          0.5811986146711187,
          0.19960282050885136,
          0.7739569815639976,
          -1.1573437069405694,
          0.4521186470452195,
          0.11990670910695764,
          1.4924315665692511,
          1.4175810663481372,
          0.6183128660677296,
          1.6061354947982638,
          1.1996224140964713,
          -0.20863814845378764,
          -0.7959340245341419,
          1.6055454796693986,
          0.3345272122695861,
          -1.3223424522812381,
          0.4077645278070668,
          -2.063164604706958,
          -0.06691844889513632,
          0.5828815572503655,
          -0.3128476641027049,
          -1.1638349708744584,
          0.41722706491806855,
          -0.18316239793324637,
          -0.930424708885888,
          -1.902918235853356,
          0.8041526601231147,
          0.10882810639113567,
          0.2644282211852591,
          2.310789453105758,
          -0.16812597599819737,
          -0.558078628026835,
          0.11279638166561838,
          -0.5792231817795479,
          0.09869825075713468,
          0.5882162052004194,
          -0.792805396195245,
          1.2161537394731101,
          -0.31067260416757025,
          -0.1178432631562213,
          0.025596138383547126,
          1.1510116422285448,
          1.1275767421761456,
          -0.7168911555643587
         ],
         "yaxis": "y14"
        },
        {
         "line": {
          "color": "rgba(128, 128, 128, 1.0)",
          "dash": "solid",
          "shape": "linear",
          "width": 1.3
         },
         "marker": {
          "size": 2,
          "symbol": "circle"
         },
         "mode": "markers",
         "name": "D",
         "text": "",
         "type": "scatter",
         "x": [
          1.231070159811716,
          -0.03117281649129617,
          -0.6162773756384039,
          -1.6376008743252277,
          -0.08241446653137414,
          -1.1857410285737386,
          1.5025063017476732,
          -0.05133227922674751,
          1.2644556879951765,
          -0.05964774681572033,
          -2.297403684005262,
          -0.9868119640856649,
          0.05675988924076596,
          1.185951066101353,
          -1.373095549551666,
          -0.20562601185759508,
          1.9428309188887116,
          -0.18927683502183562,
          0.9825093159521757,
          -1.2263415995284603,
          -0.6298439802477139,
          0.6068580870279782,
          -0.890636392495951,
          0.631918047414181,
          -0.7720379065528462,
          -0.29593149001966135,
          -1.1226904422118051,
          0.23629800314365096,
          -0.4741276194468566,
          2.1717181443789344,
          -1.4806895991854223,
          -0.4955021094440134,
          0.032117081646470994,
          0.25701142893123874,
          -0.23713230266729876,
          0.9695332751815351,
          0.2716319732427874,
          -0.20824851930974994,
          -1.0475258685794056,
          0.56838672084109,
          -0.14802383067475433,
          -0.2626985118025356,
          -0.485172385498463,
          0.40027566985106316,
          -0.4421940311637228,
          -1.2083996634068965,
          -1.5985316077391072,
          0.5640687204376864,
          -0.37255174684050163,
          1.9573057613355627,
          -0.08203264742974938,
          -0.6363424018323703,
          0.47124001588370756,
          -0.9974260837891378,
          0.561213886768126,
          -0.2517931486910543,
          -1.0726006338905476,
          1.895293220583968,
          -0.5735772528649017,
          -1.0961897880553446,
          -1.2473194715544305,
          -1.9395128963440484,
          -0.8011034626807447,
          -0.8729632839115978,
          0.9718542651123409,
          0.9880918794379198,
          -0.3539421511355455,
          -0.7872073680358485,
          -0.014673280228460442,
          0.0719656927583585,
          0.22437507299150267,
          1.238024342372839,
          0.3609958413639249,
          0.31562209670153074,
          0.660784086125347,
          1.0264393713595676,
          -1.2501039657721695,
          0.7398172427970308,
          -1.379883171220064,
          -0.2789847177401478,
          0.402043007570006,
          0.14469232460479514,
          -0.08498934486439978,
          1.7134644085780146,
          -1.4468169895356162,
          0.715895965943651,
          -0.1544878290689414,
          -0.19537887570599272,
          -0.5316531629843192,
          -0.44306354202850134,
          0.42475780202125824,
          -0.585282832765401,
          2.0077890009820103,
          -0.00392265960940687,
          -0.7012580198585556,
          3.2492551217480696,
          -1.0309968186486267,
          -1.8420028443536924,
          -0.4099855734921172,
          0.31802949595869745
         ],
         "xaxis": "x15",
         "y": [
          -0.38885819895232676,
          -0.9717472290895455,
          -0.9139514439533044,
          -0.12082311181586085,
          0.3330149406569263,
          -0.9799049992518911,
          -1.67111919752334,
          0.15162770083347216,
          2.1445059748730726,
          0.6058900549623925,
          1.0630011917635849,
          -0.24644562811864812,
          -1.5325621975142605,
          -0.6469666724377413,
          -0.9616193205511907,
          0.41800907429574874,
          1.0397811292984618,
          -0.31541696072229847,
          -1.4049094608966841,
          -0.0884161044520405,
          0.21495690415865082,
          0.7272029791670528,
          -0.36171724757592705,
          -1.8843190236447718,
          -2.601906771859556,
          0.9330016216922752,
          -1.0913660590152312,
          -0.4987963991281909,
          1.7963669173505645,
          -0.020190081183019428,
          -0.08012435469167206,
          1.0110582736533014,
          -1.1176034224498308,
          0.669714490474785,
          1.4345482061991972,
          0.9899681205051231,
          -1.0361872742541638,
          0.9543542851066912,
          0.6886393863606326,
          0.19966677361934768,
          0.2248252323826824,
          1.266659711726156,
          -1.1336143637616543,
          -1.9569188197769551,
          -0.6045250312730492,
          1.008230391710319,
          -0.7398823275817051,
          -1.086953738335082,
          1.9542880196409105,
          -1.941804377383334,
          -1.4808022512692627,
          -0.14015683186366015,
          0.7626198660784957,
          -0.27479444953159154,
          0.34448358744396157,
          0.20148077743096154,
          0.5811986146711187,
          0.19960282050885136,
          0.7739569815639976,
          -1.1573437069405694,
          0.4521186470452195,
          0.11990670910695764,
          1.4924315665692511,
          1.4175810663481372,
          0.6183128660677296,
          1.6061354947982638,
          1.1996224140964713,
          -0.20863814845378764,
          -0.7959340245341419,
          1.6055454796693986,
          0.3345272122695861,
          -1.3223424522812381,
          0.4077645278070668,
          -2.063164604706958,
          -0.06691844889513632,
          0.5828815572503655,
          -0.3128476641027049,
          -1.1638349708744584,
          0.41722706491806855,
          -0.18316239793324637,
          -0.930424708885888,
          -1.902918235853356,
          0.8041526601231147,
          0.10882810639113567,
          0.2644282211852591,
          2.310789453105758,
          -0.16812597599819737,
          -0.558078628026835,
          0.11279638166561838,
          -0.5792231817795479,
          0.09869825075713468,
          0.5882162052004194,
          -0.792805396195245,
          1.2161537394731101,
          -0.31067260416757025,
          -0.1178432631562213,
          0.025596138383547126,
          1.1510116422285448,
          1.1275767421761456,
          -0.7168911555643587
         ],
         "yaxis": "y15"
        },
        {
         "histfunc": "count",
         "histnorm": "",
         "marker": {
          "color": "rgba(128, 0, 128, 1.0)",
          "line": {
           "color": "#4D5663",
           "width": 1.3
          }
         },
         "name": "D",
         "nbinsx": 10,
         "opacity": 0.8,
         "orientation": "v",
         "type": "histogram",
         "x": [
          -0.38885819895232676,
          -0.9717472290895455,
          -0.9139514439533044,
          -0.12082311181586085,
          0.3330149406569263,
          -0.9799049992518911,
          -1.67111919752334,
          0.15162770083347216,
          2.1445059748730726,
          0.6058900549623925,
          1.0630011917635849,
          -0.24644562811864812,
          -1.5325621975142605,
          -0.6469666724377413,
          -0.9616193205511907,
          0.41800907429574874,
          1.0397811292984618,
          -0.31541696072229847,
          -1.4049094608966841,
          -0.0884161044520405,
          0.21495690415865082,
          0.7272029791670528,
          -0.36171724757592705,
          -1.8843190236447718,
          -2.601906771859556,
          0.9330016216922752,
          -1.0913660590152312,
          -0.4987963991281909,
          1.7963669173505645,
          -0.020190081183019428,
          -0.08012435469167206,
          1.0110582736533014,
          -1.1176034224498308,
          0.669714490474785,
          1.4345482061991972,
          0.9899681205051231,
          -1.0361872742541638,
          0.9543542851066912,
          0.6886393863606326,
          0.19966677361934768,
          0.2248252323826824,
          1.266659711726156,
          -1.1336143637616543,
          -1.9569188197769551,
          -0.6045250312730492,
          1.008230391710319,
          -0.7398823275817051,
          -1.086953738335082,
          1.9542880196409105,
          -1.941804377383334,
          -1.4808022512692627,
          -0.14015683186366015,
          0.7626198660784957,
          -0.27479444953159154,
          0.34448358744396157,
          0.20148077743096154,
          0.5811986146711187,
          0.19960282050885136,
          0.7739569815639976,
          -1.1573437069405694,
          0.4521186470452195,
          0.11990670910695764,
          1.4924315665692511,
          1.4175810663481372,
          0.6183128660677296,
          1.6061354947982638,
          1.1996224140964713,
          -0.20863814845378764,
          -0.7959340245341419,
          1.6055454796693986,
          0.3345272122695861,
          -1.3223424522812381,
          0.4077645278070668,
          -2.063164604706958,
          -0.06691844889513632,
          0.5828815572503655,
          -0.3128476641027049,
          -1.1638349708744584,
          0.41722706491806855,
          -0.18316239793324637,
          -0.930424708885888,
          -1.902918235853356,
          0.8041526601231147,
          0.10882810639113567,
          0.2644282211852591,
          2.310789453105758,
          -0.16812597599819737,
          -0.558078628026835,
          0.11279638166561838,
          -0.5792231817795479,
          0.09869825075713468,
          0.5882162052004194,
          -0.792805396195245,
          1.2161537394731101,
          -0.31067260416757025,
          -0.1178432631562213,
          0.025596138383547126,
          1.1510116422285448,
          1.1275767421761456,
          -0.7168911555643587
         ],
         "xaxis": "x16",
         "yaxis": "y16"
        }
       ],
       "layout": {
        "bargap": 0.02,
        "legend": {
         "bgcolor": "#F5F6F9",
         "font": {
          "color": "#4D5663"
         }
        },
        "paper_bgcolor": "#F5F6F9",
        "plot_bgcolor": "#F5F6F9",
        "showlegend": false,
        "template": {
         "data": {
          "bar": [
           {
            "error_x": {
             "color": "#2a3f5f"
            },
            "error_y": {
             "color": "#2a3f5f"
            },
            "marker": {
             "line": {
              "color": "#E5ECF6",
              "width": 0.5
             }
            },
            "type": "bar"
           }
          ],
          "barpolar": [
           {
            "marker": {
             "line": {
              "color": "#E5ECF6",
              "width": 0.5
             }
            },
            "type": "barpolar"
           }
          ],
          "carpet": [
           {
            "aaxis": {
             "endlinecolor": "#2a3f5f",
             "gridcolor": "white",
             "linecolor": "white",
             "minorgridcolor": "white",
             "startlinecolor": "#2a3f5f"
            },
            "baxis": {
             "endlinecolor": "#2a3f5f",
             "gridcolor": "white",
             "linecolor": "white",
             "minorgridcolor": "white",
             "startlinecolor": "#2a3f5f"
            },
            "type": "carpet"
           }
          ],
          "choropleth": [
           {
            "colorbar": {
             "outlinewidth": 0,
             "ticks": ""
            },
            "type": "choropleth"
           }
          ],
          "contour": [
           {
            "colorbar": {
             "outlinewidth": 0,
             "ticks": ""
            },
            "colorscale": [
             [
              0,
              "#0d0887"
             ],
             [
              0.1111111111111111,
              "#46039f"
             ],
             [
              0.2222222222222222,
              "#7201a8"
             ],
             [
              0.3333333333333333,
              "#9c179e"
             ],
             [
              0.4444444444444444,
              "#bd3786"
             ],
             [
              0.5555555555555556,
              "#d8576b"
             ],
             [
              0.6666666666666666,
              "#ed7953"
             ],
             [
              0.7777777777777778,
              "#fb9f3a"
             ],
             [
              0.8888888888888888,
              "#fdca26"
             ],
             [
              1,
              "#f0f921"
             ]
            ],
            "type": "contour"
           }
          ],
          "contourcarpet": [
           {
            "colorbar": {
             "outlinewidth": 0,
             "ticks": ""
            },
            "type": "contourcarpet"
           }
          ],
          "heatmap": [
           {
            "colorbar": {
             "outlinewidth": 0,
             "ticks": ""
            },
            "colorscale": [
             [
              0,
              "#0d0887"
             ],
             [
              0.1111111111111111,
              "#46039f"
             ],
             [
              0.2222222222222222,
              "#7201a8"
             ],
             [
              0.3333333333333333,
              "#9c179e"
             ],
             [
              0.4444444444444444,
              "#bd3786"
             ],
             [
              0.5555555555555556,
              "#d8576b"
             ],
             [
              0.6666666666666666,
              "#ed7953"
             ],
             [
              0.7777777777777778,
              "#fb9f3a"
             ],
             [
              0.8888888888888888,
              "#fdca26"
             ],
             [
              1,
              "#f0f921"
             ]
            ],
            "type": "heatmap"
           }
          ],
          "heatmapgl": [
           {
            "colorbar": {
             "outlinewidth": 0,
             "ticks": ""
            },
            "colorscale": [
             [
              0,
              "#0d0887"
             ],
             [
              0.1111111111111111,
              "#46039f"
             ],
             [
              0.2222222222222222,
              "#7201a8"
             ],
             [
              0.3333333333333333,
              "#9c179e"
             ],
             [
              0.4444444444444444,
              "#bd3786"
             ],
             [
              0.5555555555555556,
              "#d8576b"
             ],
             [
              0.6666666666666666,
              "#ed7953"
             ],
             [
              0.7777777777777778,
              "#fb9f3a"
             ],
             [
              0.8888888888888888,
              "#fdca26"
             ],
             [
              1,
              "#f0f921"
             ]
            ],
            "type": "heatmapgl"
           }
          ],
          "histogram": [
           {
            "marker": {
             "colorbar": {
              "outlinewidth": 0,
              "ticks": ""
             }
            },
            "type": "histogram"
           }
          ],
          "histogram2d": [
           {
            "colorbar": {
             "outlinewidth": 0,
             "ticks": ""
            },
            "colorscale": [
             [
              0,
              "#0d0887"
             ],
             [
              0.1111111111111111,
              "#46039f"
             ],
             [
              0.2222222222222222,
              "#7201a8"
             ],
             [
              0.3333333333333333,
              "#9c179e"
             ],
             [
              0.4444444444444444,
              "#bd3786"
             ],
             [
              0.5555555555555556,
              "#d8576b"
             ],
             [
              0.6666666666666666,
              "#ed7953"
             ],
             [
              0.7777777777777778,
              "#fb9f3a"
             ],
             [
              0.8888888888888888,
              "#fdca26"
             ],
             [
              1,
              "#f0f921"
             ]
            ],
            "type": "histogram2d"
           }
          ],
          "histogram2dcontour": [
           {
            "colorbar": {
             "outlinewidth": 0,
             "ticks": ""
            },
            "colorscale": [
             [
              0,
              "#0d0887"
             ],
             [
              0.1111111111111111,
              "#46039f"
             ],
             [
              0.2222222222222222,
              "#7201a8"
             ],
             [
              0.3333333333333333,
              "#9c179e"
             ],
             [
              0.4444444444444444,
              "#bd3786"
             ],
             [
              0.5555555555555556,
              "#d8576b"
             ],
             [
              0.6666666666666666,
              "#ed7953"
             ],
             [
              0.7777777777777778,
              "#fb9f3a"
             ],
             [
              0.8888888888888888,
              "#fdca26"
             ],
             [
              1,
              "#f0f921"
             ]
            ],
            "type": "histogram2dcontour"
           }
          ],
          "mesh3d": [
           {
            "colorbar": {
             "outlinewidth": 0,
             "ticks": ""
            },
            "type": "mesh3d"
           }
          ],
          "parcoords": [
           {
            "line": {
             "colorbar": {
              "outlinewidth": 0,
              "ticks": ""
             }
            },
            "type": "parcoords"
           }
          ],
          "pie": [
           {
            "automargin": true,
            "type": "pie"
           }
          ],
          "scatter": [
           {
            "marker": {
             "colorbar": {
              "outlinewidth": 0,
              "ticks": ""
             }
            },
            "type": "scatter"
           }
          ],
          "scatter3d": [
           {
            "line": {
             "colorbar": {
              "outlinewidth": 0,
              "ticks": ""
             }
            },
            "marker": {
             "colorbar": {
              "outlinewidth": 0,
              "ticks": ""
             }
            },
            "type": "scatter3d"
           }
          ],
          "scattercarpet": [
           {
            "marker": {
             "colorbar": {
              "outlinewidth": 0,
              "ticks": ""
             }
            },
            "type": "scattercarpet"
           }
          ],
          "scattergeo": [
           {
            "marker": {
             "colorbar": {
              "outlinewidth": 0,
              "ticks": ""
             }
            },
            "type": "scattergeo"
           }
          ],
          "scattergl": [
           {
            "marker": {
             "colorbar": {
              "outlinewidth": 0,
              "ticks": ""
             }
            },
            "type": "scattergl"
           }
          ],
          "scattermapbox": [
           {
            "marker": {
             "colorbar": {
              "outlinewidth": 0,
              "ticks": ""
             }
            },
            "type": "scattermapbox"
           }
          ],
          "scatterpolar": [
           {
            "marker": {
             "colorbar": {
              "outlinewidth": 0,
              "ticks": ""
             }
            },
            "type": "scatterpolar"
           }
          ],
          "scatterpolargl": [
           {
            "marker": {
             "colorbar": {
              "outlinewidth": 0,
              "ticks": ""
             }
            },
            "type": "scatterpolargl"
           }
          ],
          "scatterternary": [
           {
            "marker": {
             "colorbar": {
              "outlinewidth": 0,
              "ticks": ""
             }
            },
            "type": "scatterternary"
           }
          ],
          "surface": [
           {
            "colorbar": {
             "outlinewidth": 0,
             "ticks": ""
            },
            "colorscale": [
             [
              0,
              "#0d0887"
             ],
             [
              0.1111111111111111,
              "#46039f"
             ],
             [
              0.2222222222222222,
              "#7201a8"
             ],
             [
              0.3333333333333333,
              "#9c179e"
             ],
             [
              0.4444444444444444,
              "#bd3786"
             ],
             [
              0.5555555555555556,
              "#d8576b"
             ],
             [
              0.6666666666666666,
              "#ed7953"
             ],
             [
              0.7777777777777778,
              "#fb9f3a"
             ],
             [
              0.8888888888888888,
              "#fdca26"
             ],
             [
              1,
              "#f0f921"
             ]
            ],
            "type": "surface"
           }
          ],
          "table": [
           {
            "cells": {
             "fill": {
              "color": "#EBF0F8"
             },
             "line": {
              "color": "white"
             }
            },
            "header": {
             "fill": {
              "color": "#C8D4E3"
             },
             "line": {
              "color": "white"
             }
            },
            "type": "table"
           }
          ]
         },
         "layout": {
          "annotationdefaults": {
           "arrowcolor": "#2a3f5f",
           "arrowhead": 0,
           "arrowwidth": 1
          },
          "coloraxis": {
           "colorbar": {
            "outlinewidth": 0,
            "ticks": ""
           }
          },
          "colorscale": {
           "diverging": [
            [
             0,
             "#8e0152"
            ],
            [
             0.1,
             "#c51b7d"
            ],
            [
             0.2,
             "#de77ae"
            ],
            [
             0.3,
             "#f1b6da"
            ],
            [
             0.4,
             "#fde0ef"
            ],
            [
             0.5,
             "#f7f7f7"
            ],
            [
             0.6,
             "#e6f5d0"
            ],
            [
             0.7,
             "#b8e186"
            ],
            [
             0.8,
             "#7fbc41"
            ],
            [
             0.9,
             "#4d9221"
            ],
            [
             1,
             "#276419"
            ]
           ],
           "sequential": [
            [
             0,
             "#0d0887"
            ],
            [
             0.1111111111111111,
             "#46039f"
            ],
            [
             0.2222222222222222,
             "#7201a8"
            ],
            [
             0.3333333333333333,
             "#9c179e"
            ],
            [
             0.4444444444444444,
             "#bd3786"
            ],
            [
             0.5555555555555556,
             "#d8576b"
            ],
            [
             0.6666666666666666,
             "#ed7953"
            ],
            [
             0.7777777777777778,
             "#fb9f3a"
            ],
            [
             0.8888888888888888,
             "#fdca26"
            ],
            [
             1,
             "#f0f921"
            ]
           ],
           "sequentialminus": [
            [
             0,
             "#0d0887"
            ],
            [
             0.1111111111111111,
             "#46039f"
            ],
            [
             0.2222222222222222,
             "#7201a8"
            ],
            [
             0.3333333333333333,
             "#9c179e"
            ],
            [
             0.4444444444444444,
             "#bd3786"
            ],
            [
             0.5555555555555556,
             "#d8576b"
            ],
            [
             0.6666666666666666,
             "#ed7953"
            ],
            [
             0.7777777777777778,
             "#fb9f3a"
            ],
            [
             0.8888888888888888,
             "#fdca26"
            ],
            [
             1,
             "#f0f921"
            ]
           ]
          },
          "colorway": [
           "#636efa",
           "#EF553B",
           "#00cc96",
           "#ab63fa",
           "#FFA15A",
           "#19d3f3",
           "#FF6692",
           "#B6E880",
           "#FF97FF",
           "#FECB52"
          ],
          "font": {
           "color": "#2a3f5f"
          },
          "geo": {
           "bgcolor": "white",
           "lakecolor": "white",
           "landcolor": "#E5ECF6",
           "showlakes": true,
           "showland": true,
           "subunitcolor": "white"
          },
          "hoverlabel": {
           "align": "left"
          },
          "hovermode": "closest",
          "mapbox": {
           "style": "light"
          },
          "paper_bgcolor": "white",
          "plot_bgcolor": "#E5ECF6",
          "polar": {
           "angularaxis": {
            "gridcolor": "white",
            "linecolor": "white",
            "ticks": ""
           },
           "bgcolor": "#E5ECF6",
           "radialaxis": {
            "gridcolor": "white",
            "linecolor": "white",
            "ticks": ""
           }
          },
          "scene": {
           "xaxis": {
            "backgroundcolor": "#E5ECF6",
            "gridcolor": "white",
            "gridwidth": 2,
            "linecolor": "white",
            "showbackground": true,
            "ticks": "",
            "zerolinecolor": "white"
           },
           "yaxis": {
            "backgroundcolor": "#E5ECF6",
            "gridcolor": "white",
            "gridwidth": 2,
            "linecolor": "white",
            "showbackground": true,
            "ticks": "",
            "zerolinecolor": "white"
           },
           "zaxis": {
            "backgroundcolor": "#E5ECF6",
            "gridcolor": "white",
            "gridwidth": 2,
            "linecolor": "white",
            "showbackground": true,
            "ticks": "",
            "zerolinecolor": "white"
           }
          },
          "shapedefaults": {
           "line": {
            "color": "#2a3f5f"
           }
          },
          "ternary": {
           "aaxis": {
            "gridcolor": "white",
            "linecolor": "white",
            "ticks": ""
           },
           "baxis": {
            "gridcolor": "white",
            "linecolor": "white",
            "ticks": ""
           },
           "bgcolor": "#E5ECF6",
           "caxis": {
            "gridcolor": "white",
            "linecolor": "white",
            "ticks": ""
           }
          },
          "title": {
           "x": 0.05
          },
          "xaxis": {
           "automargin": true,
           "gridcolor": "white",
           "linecolor": "white",
           "ticks": "",
           "title": {
            "standoff": 15
           },
           "zerolinecolor": "white",
           "zerolinewidth": 2
          },
          "yaxis": {
           "automargin": true,
           "gridcolor": "white",
           "linecolor": "white",
           "ticks": "",
           "title": {
            "standoff": 15
           },
           "zerolinecolor": "white",
           "zerolinewidth": 2
          }
         }
        },
        "title": {
         "font": {
          "color": "#4D5663"
         }
        },
        "xaxis": {
         "anchor": "y",
         "domain": [
          0,
          0.2125
         ],
         "gridcolor": "#E1E5ED",
         "showgrid": false,
         "tickfont": {
          "color": "#4D5663"
         },
         "title": {
          "font": {
           "color": "#4D5663"
          },
          "text": ""
         },
         "zerolinecolor": "#E1E5ED"
        },
        "xaxis10": {
         "anchor": "y10",
         "domain": [
          0.2625,
          0.475
         ],
         "gridcolor": "#E1E5ED",
         "showgrid": false,
         "tickfont": {
          "color": "#4D5663"
         },
         "title": {
          "font": {
           "color": "#4D5663"
          },
          "text": ""
         },
         "zerolinecolor": "#E1E5ED"
        },
        "xaxis11": {
         "anchor": "y11",
         "domain": [
          0.525,
          0.7375
         ],
         "gridcolor": "#E1E5ED",
         "showgrid": false,
         "tickfont": {
          "color": "#4D5663"
         },
         "title": {
          "font": {
           "color": "#4D5663"
          },
          "text": ""
         },
         "zerolinecolor": "#E1E5ED"
        },
        "xaxis12": {
         "anchor": "y12",
         "domain": [
          0.7875,
          1
         ],
         "gridcolor": "#E1E5ED",
         "showgrid": false,
         "tickfont": {
          "color": "#4D5663"
         },
         "title": {
          "font": {
           "color": "#4D5663"
          },
          "text": ""
         },
         "zerolinecolor": "#E1E5ED"
        },
        "xaxis13": {
         "anchor": "y13",
         "domain": [
          0,
          0.2125
         ],
         "gridcolor": "#E1E5ED",
         "showgrid": false,
         "tickfont": {
          "color": "#4D5663"
         },
         "title": {
          "font": {
           "color": "#4D5663"
          },
          "text": ""
         },
         "zerolinecolor": "#E1E5ED"
        },
        "xaxis14": {
         "anchor": "y14",
         "domain": [
          0.2625,
          0.475
         ],
         "gridcolor": "#E1E5ED",
         "showgrid": false,
         "tickfont": {
          "color": "#4D5663"
         },
         "title": {
          "font": {
           "color": "#4D5663"
          },
          "text": ""
         },
         "zerolinecolor": "#E1E5ED"
        },
        "xaxis15": {
         "anchor": "y15",
         "domain": [
          0.525,
          0.7375
         ],
         "gridcolor": "#E1E5ED",
         "showgrid": false,
         "tickfont": {
          "color": "#4D5663"
         },
         "title": {
          "font": {
           "color": "#4D5663"
          },
          "text": ""
         },
         "zerolinecolor": "#E1E5ED"
        },
        "xaxis16": {
         "anchor": "y16",
         "domain": [
          0.7875,
          1
         ],
         "gridcolor": "#E1E5ED",
         "showgrid": false,
         "tickfont": {
          "color": "#4D5663"
         },
         "title": {
          "font": {
           "color": "#4D5663"
          },
          "text": ""
         },
         "zerolinecolor": "#E1E5ED"
        },
        "xaxis2": {
         "anchor": "y2",
         "domain": [
          0.2625,
          0.475
         ],
         "gridcolor": "#E1E5ED",
         "showgrid": false,
         "tickfont": {
          "color": "#4D5663"
         },
         "title": {
          "font": {
           "color": "#4D5663"
          },
          "text": ""
         },
         "zerolinecolor": "#E1E5ED"
        },
        "xaxis3": {
         "anchor": "y3",
         "domain": [
          0.525,
          0.7375
         ],
         "gridcolor": "#E1E5ED",
         "showgrid": false,
         "tickfont": {
          "color": "#4D5663"
         },
         "title": {
          "font": {
           "color": "#4D5663"
          },
          "text": ""
         },
         "zerolinecolor": "#E1E5ED"
        },
        "xaxis4": {
         "anchor": "y4",
         "domain": [
          0.7875,
          1
         ],
         "gridcolor": "#E1E5ED",
         "showgrid": false,
         "tickfont": {
          "color": "#4D5663"
         },
         "title": {
          "font": {
           "color": "#4D5663"
          },
          "text": ""
         },
         "zerolinecolor": "#E1E5ED"
        },
        "xaxis5": {
         "anchor": "y5",
         "domain": [
          0,
          0.2125
         ],
         "gridcolor": "#E1E5ED",
         "showgrid": false,
         "tickfont": {
          "color": "#4D5663"
         },
         "title": {
          "font": {
           "color": "#4D5663"
          },
          "text": ""
         },
         "zerolinecolor": "#E1E5ED"
        },
        "xaxis6": {
         "anchor": "y6",
         "domain": [
          0.2625,
          0.475
         ],
         "gridcolor": "#E1E5ED",
         "showgrid": false,
         "tickfont": {
          "color": "#4D5663"
         },
         "title": {
          "font": {
           "color": "#4D5663"
          },
          "text": ""
         },
         "zerolinecolor": "#E1E5ED"
        },
        "xaxis7": {
         "anchor": "y7",
         "domain": [
          0.525,
          0.7375
         ],
         "gridcolor": "#E1E5ED",
         "showgrid": false,
         "tickfont": {
          "color": "#4D5663"
         },
         "title": {
          "font": {
           "color": "#4D5663"
          },
          "text": ""
         },
         "zerolinecolor": "#E1E5ED"
        },
        "xaxis8": {
         "anchor": "y8",
         "domain": [
          0.7875,
          1
         ],
         "gridcolor": "#E1E5ED",
         "showgrid": false,
         "tickfont": {
          "color": "#4D5663"
         },
         "title": {
          "font": {
           "color": "#4D5663"
          },
          "text": ""
         },
         "zerolinecolor": "#E1E5ED"
        },
        "xaxis9": {
         "anchor": "y9",
         "domain": [
          0,
          0.2125
         ],
         "gridcolor": "#E1E5ED",
         "showgrid": false,
         "tickfont": {
          "color": "#4D5663"
         },
         "title": {
          "font": {
           "color": "#4D5663"
          },
          "text": ""
         },
         "zerolinecolor": "#E1E5ED"
        },
        "yaxis": {
         "anchor": "x",
         "domain": [
          0.8025,
          1
         ],
         "gridcolor": "#E1E5ED",
         "showgrid": false,
         "tickfont": {
          "color": "#4D5663"
         },
         "title": {
          "font": {
           "color": "#4D5663"
          },
          "text": ""
         },
         "zerolinecolor": "#E1E5ED"
        },
        "yaxis10": {
         "anchor": "x10",
         "domain": [
          0.2675,
          0.465
         ],
         "gridcolor": "#E1E5ED",
         "showgrid": false,
         "tickfont": {
          "color": "#4D5663"
         },
         "title": {
          "font": {
           "color": "#4D5663"
          },
          "text": ""
         },
         "zerolinecolor": "#E1E5ED"
        },
        "yaxis11": {
         "anchor": "x11",
         "domain": [
          0.2675,
          0.465
         ],
         "gridcolor": "#E1E5ED",
         "showgrid": false,
         "tickfont": {
          "color": "#4D5663"
         },
         "title": {
          "font": {
           "color": "#4D5663"
          },
          "text": ""
         },
         "zerolinecolor": "#E1E5ED"
        },
        "yaxis12": {
         "anchor": "x12",
         "domain": [
          0.2675,
          0.465
         ],
         "gridcolor": "#E1E5ED",
         "showgrid": false,
         "tickfont": {
          "color": "#4D5663"
         },
         "title": {
          "font": {
           "color": "#4D5663"
          },
          "text": ""
         },
         "zerolinecolor": "#E1E5ED"
        },
        "yaxis13": {
         "anchor": "x13",
         "domain": [
          0,
          0.1975
         ],
         "gridcolor": "#E1E5ED",
         "showgrid": false,
         "tickfont": {
          "color": "#4D5663"
         },
         "title": {
          "font": {
           "color": "#4D5663"
          },
          "text": ""
         },
         "zerolinecolor": "#E1E5ED"
        },
        "yaxis14": {
         "anchor": "x14",
         "domain": [
          0,
          0.1975
         ],
         "gridcolor": "#E1E5ED",
         "showgrid": false,
         "tickfont": {
          "color": "#4D5663"
         },
         "title": {
          "font": {
           "color": "#4D5663"
          },
          "text": ""
         },
         "zerolinecolor": "#E1E5ED"
        },
        "yaxis15": {
         "anchor": "x15",
         "domain": [
          0,
          0.1975
         ],
         "gridcolor": "#E1E5ED",
         "showgrid": false,
         "tickfont": {
          "color": "#4D5663"
         },
         "title": {
          "font": {
           "color": "#4D5663"
          },
          "text": ""
         },
         "zerolinecolor": "#E1E5ED"
        },
        "yaxis16": {
         "anchor": "x16",
         "domain": [
          0,
          0.1975
         ],
         "gridcolor": "#E1E5ED",
         "showgrid": false,
         "tickfont": {
          "color": "#4D5663"
         },
         "title": {
          "font": {
           "color": "#4D5663"
          },
          "text": ""
         },
         "zerolinecolor": "#E1E5ED"
        },
        "yaxis2": {
         "anchor": "x2",
         "domain": [
          0.8025,
          1
         ],
         "gridcolor": "#E1E5ED",
         "showgrid": false,
         "tickfont": {
          "color": "#4D5663"
         },
         "title": {
          "font": {
           "color": "#4D5663"
          },
          "text": ""
         },
         "zerolinecolor": "#E1E5ED"
        },
        "yaxis3": {
         "anchor": "x3",
         "domain": [
          0.8025,
          1
         ],
         "gridcolor": "#E1E5ED",
         "showgrid": false,
         "tickfont": {
          "color": "#4D5663"
         },
         "title": {
          "font": {
           "color": "#4D5663"
          },
          "text": ""
         },
         "zerolinecolor": "#E1E5ED"
        },
        "yaxis4": {
         "anchor": "x4",
         "domain": [
          0.8025,
          1
         ],
         "gridcolor": "#E1E5ED",
         "showgrid": false,
         "tickfont": {
          "color": "#4D5663"
         },
         "title": {
          "font": {
           "color": "#4D5663"
          },
          "text": ""
         },
         "zerolinecolor": "#E1E5ED"
        },
        "yaxis5": {
         "anchor": "x5",
         "domain": [
          0.535,
          0.7325
         ],
         "gridcolor": "#E1E5ED",
         "showgrid": false,
         "tickfont": {
          "color": "#4D5663"
         },
         "title": {
          "font": {
           "color": "#4D5663"
          },
          "text": ""
         },
         "zerolinecolor": "#E1E5ED"
        },
        "yaxis6": {
         "anchor": "x6",
         "domain": [
          0.535,
          0.7325
         ],
         "gridcolor": "#E1E5ED",
         "showgrid": false,
         "tickfont": {
          "color": "#4D5663"
         },
         "title": {
          "font": {
           "color": "#4D5663"
          },
          "text": ""
         },
         "zerolinecolor": "#E1E5ED"
        },
        "yaxis7": {
         "anchor": "x7",
         "domain": [
          0.535,
          0.7325
         ],
         "gridcolor": "#E1E5ED",
         "showgrid": false,
         "tickfont": {
          "color": "#4D5663"
         },
         "title": {
          "font": {
           "color": "#4D5663"
          },
          "text": ""
         },
         "zerolinecolor": "#E1E5ED"
        },
        "yaxis8": {
         "anchor": "x8",
         "domain": [
          0.535,
          0.7325
         ],
         "gridcolor": "#E1E5ED",
         "showgrid": false,
         "tickfont": {
          "color": "#4D5663"
         },
         "title": {
          "font": {
           "color": "#4D5663"
          },
          "text": ""
         },
         "zerolinecolor": "#E1E5ED"
        },
        "yaxis9": {
         "anchor": "x9",
         "domain": [
          0.2675,
          0.465
         ],
         "gridcolor": "#E1E5ED",
         "showgrid": false,
         "tickfont": {
          "color": "#4D5663"
         },
         "title": {
          "font": {
           "color": "#4D5663"
          },
          "text": ""
         },
         "zerolinecolor": "#E1E5ED"
        }
       }
      },
      "text/html": [
       "<div>\n",
       "        \n",
       "        \n",
       "            <div id=\"79798d73-7040-48ba-b197-792b015f1d6f\" class=\"plotly-graph-div\" style=\"height:525px; width:100%;\"></div>\n",
       "            <script type=\"text/javascript\">\n",
       "                require([\"plotly\"], function(Plotly) {\n",
       "                    window.PLOTLYENV=window.PLOTLYENV || {};\n",
       "                    window.PLOTLYENV.BASE_URL='https://plot.ly';\n",
       "                    \n",
       "                if (document.getElementById(\"79798d73-7040-48ba-b197-792b015f1d6f\")) {\n",
       "                    Plotly.newPlot(\n",
       "                        '79798d73-7040-48ba-b197-792b015f1d6f',\n",
       "                        [{\"histfunc\": \"count\", \"histnorm\": \"\", \"marker\": {\"color\": \"rgba(255, 153, 51, 1.0)\", \"line\": {\"color\": \"#4D5663\", \"width\": 1.3}}, \"name\": \"A\", \"nbinsx\": 10, \"opacity\": 0.8, \"orientation\": \"v\", \"type\": \"histogram\", \"x\": [2.4749962936946055, -0.9007990275507158, -0.9805747297855275, 0.8591241423923144, -0.23513612993279762, -1.4871885942258938, 0.1509626101323387, 0.3710990855337078, -0.0783348441645605, 2.26380966222816, 0.208228005383773, 0.3526292310156882, 1.1125779531924598, -0.9777079006710802, 1.2013899556079988, 0.07237738940168735, -1.3345991474970709, -2.017283621905848, -0.6549271175784173, -1.8897303970589032, -0.05019611399214896, 0.2680783170338222, 0.8959378751017952, 1.9759406303102243, 0.6701199636150814, 0.9306138813501291, -2.581350212978, 1.2019358187360194, 0.5962268260509613, 0.043399436853583974, -0.7034736013426729, -0.5870817705680396, 0.26132864277511264, 1.0026011168534013, 0.5024826385176249, -1.3709098720171886, 1.6010990955566187, -1.1866188378116598, -0.0851183518897504, 2.6578337032405006, 1.6498431342132363, 0.01577419471099402, 0.18660345295126896, -1.6380810984694385, -0.6920612579214326, -0.5481117511795, -0.8393828604315164, 0.6545901837953004, 0.6793888900506158, 0.5868162253947056, 0.7373061487047904, 0.4104583260324701, 1.512028590184469, 2.234848174397926, -1.206697874221941, 1.5386372375224369, 0.4589019331759673, -0.2677178684218074, -0.5165748852689157, 2.097914912767957, 1.1046891478459746, -1.0127769075344921, -0.9275024218807334, 0.46254807937094916, -2.581572057555803, -0.5177589481227729, 0.4316554621434871, 0.6954811231387482, 0.0300098483416636, 0.6539900009746611, -0.4449879580630433, -0.999503090467957, 1.0362026545443144, 0.9136741620871076, -0.5439968151535551, -0.8107903439717139, -1.9019102452016945, 0.7119532518308098, -0.5667692810338499, 1.0639290359748934, -0.6453104900764639, 0.26835233269243897, -0.7968176977559296, -0.7527220997163271, -1.5516630981944994, 0.5303143093757477, 1.0840453642416785, 1.4896418973352272, 1.2220370054697876, -0.16792657416935036, -0.2308432545947218, -0.29786350107739773, 0.12177245408476088, 1.3631037691423746, 0.6384473313553243, -0.7283898466255497, 0.2516740646126679, -0.8870567793418102, 0.5163456231504208, 1.1852874008722312], \"xaxis\": \"x\", \"yaxis\": \"y\"}, {\"line\": {\"color\": \"rgba(128, 128, 128, 1.0)\", \"dash\": \"solid\", \"shape\": \"linear\", \"width\": 1.3}, \"marker\": {\"size\": 2, \"symbol\": \"circle\"}, \"mode\": \"markers\", \"name\": \"A\", \"text\": \"\", \"type\": \"scatter\", \"x\": [0.3134686022095278, 0.9167330694085948, 1.8358559878457181, 0.2834426630393991, 0.22899753551591995, 1.2214721753208433, 0.2910640003360314, 0.44389793149791734, 1.2162009677053427, -0.9619002047119665, -1.2784583359551878, -0.37144603885723965, 0.8800661016792073, -0.6763563018495778, -2.2277493627980003, 0.6930676738162171, -1.1683340478867852, -0.15790090640505508, -0.6826931554912031, 0.05049038923586889, 0.4869377860093024, -0.8835410697700743, 0.24868435409408757, -1.056969392655306, 0.6233496437331075, 0.9046922325586537, 0.2818495405726576, 0.14967640219134654, -0.6091488927991449, 0.2123086378874707, 0.45743817850369867, -0.9658200412921484, -0.00865557348175014, 0.4291721685534401, -0.22006799285765793, 2.488597634675389, -0.6061303020257509, 1.6102658234045657, -1.000863701554238, -0.534256527143899, -0.4621570121146412, -1.9759816278599311, -0.7760690578252674, -0.18467394830622197, -1.1458391575252205, 1.7555670562803594, -0.26250474351571285, 0.5464460246470153, 0.30987674584616987, 0.3520151819035632, 0.9958399353993154, -0.5214726384988668, 0.07222055358695231, 0.46791079579358846, -0.33047997165882564, 0.9192388020854462, -0.3256795536945822, -1.8653337188608055, 0.5962235529452432, -0.4240408936804001, 1.8384924861277794, -1.1038965745155283, -0.8519275517835061, 0.7141618825240307, 0.8285710482210474, -0.42276652716172586, -1.1587737795342765, 0.9809709177500708, -0.12667495781204194, -2.5319609816814572, 1.432198698417712, -1.0622603426980124, -0.6234638991651306, -1.2776077551390106, 0.028895853903978024, 1.644544932190103, -0.6163351737696124, -0.041946278013372994, 1.07876840216128, 0.4241597671285785, -2.2076469021892127, -0.6868007293609565, -0.7430886502094988, -0.33242320190080693, -0.7943984962651276, -2.4226861547474168, 1.5447323436514886, -0.5894859162554954, -0.5022088401908156, -1.5308674143676129, -1.1681670620058908, 1.3748345847740826, 0.28388738456361123, -0.37374003079645696, 2.9489109452284934, 0.38147384481885627, -0.6351765194539595, 0.08824145484231279, -0.811892307602746, -1.742992613677244], \"xaxis\": \"x2\", \"y\": [2.4749962936946055, -0.9007990275507158, -0.9805747297855275, 0.8591241423923144, -0.23513612993279762, -1.4871885942258938, 0.1509626101323387, 0.3710990855337078, -0.0783348441645605, 2.26380966222816, 0.208228005383773, 0.3526292310156882, 1.1125779531924598, -0.9777079006710802, 1.2013899556079988, 0.07237738940168735, -1.3345991474970709, -2.017283621905848, -0.6549271175784173, -1.8897303970589032, -0.05019611399214896, 0.2680783170338222, 0.8959378751017952, 1.9759406303102243, 0.6701199636150814, 0.9306138813501291, -2.581350212978, 1.2019358187360194, 0.5962268260509613, 0.043399436853583974, -0.7034736013426729, -0.5870817705680396, 0.26132864277511264, 1.0026011168534013, 0.5024826385176249, -1.3709098720171886, 1.6010990955566187, -1.1866188378116598, -0.0851183518897504, 2.6578337032405006, 1.6498431342132363, 0.01577419471099402, 0.18660345295126896, -1.6380810984694385, -0.6920612579214326, -0.5481117511795, -0.8393828604315164, 0.6545901837953004, 0.6793888900506158, 0.5868162253947056, 0.7373061487047904, 0.4104583260324701, 1.512028590184469, 2.234848174397926, -1.206697874221941, 1.5386372375224369, 0.4589019331759673, -0.2677178684218074, -0.5165748852689157, 2.097914912767957, 1.1046891478459746, -1.0127769075344921, -0.9275024218807334, 0.46254807937094916, -2.581572057555803, -0.5177589481227729, 0.4316554621434871, 0.6954811231387482, 0.0300098483416636, 0.6539900009746611, -0.4449879580630433, -0.999503090467957, 1.0362026545443144, 0.9136741620871076, -0.5439968151535551, -0.8107903439717139, -1.9019102452016945, 0.7119532518308098, -0.5667692810338499, 1.0639290359748934, -0.6453104900764639, 0.26835233269243897, -0.7968176977559296, -0.7527220997163271, -1.5516630981944994, 0.5303143093757477, 1.0840453642416785, 1.4896418973352272, 1.2220370054697876, -0.16792657416935036, -0.2308432545947218, -0.29786350107739773, 0.12177245408476088, 1.3631037691423746, 0.6384473313553243, -0.7283898466255497, 0.2516740646126679, -0.8870567793418102, 0.5163456231504208, 1.1852874008722312], \"yaxis\": \"y2\"}, {\"line\": {\"color\": \"rgba(128, 128, 128, 1.0)\", \"dash\": \"solid\", \"shape\": \"linear\", \"width\": 1.3}, \"marker\": {\"size\": 2, \"symbol\": \"circle\"}, \"mode\": \"markers\", \"name\": \"A\", \"text\": \"\", \"type\": \"scatter\", \"x\": [1.231070159811716, -0.03117281649129617, -0.6162773756384039, -1.6376008743252277, -0.08241446653137414, -1.1857410285737386, 1.5025063017476732, -0.05133227922674751, 1.2644556879951765, -0.05964774681572033, -2.297403684005262, -0.9868119640856649, 0.05675988924076596, 1.185951066101353, -1.373095549551666, -0.20562601185759508, 1.9428309188887116, -0.18927683502183562, 0.9825093159521757, -1.2263415995284603, -0.6298439802477139, 0.6068580870279782, -0.890636392495951, 0.631918047414181, -0.7720379065528462, -0.29593149001966135, -1.1226904422118051, 0.23629800314365096, -0.4741276194468566, 2.1717181443789344, -1.4806895991854223, -0.4955021094440134, 0.032117081646470994, 0.25701142893123874, -0.23713230266729876, 0.9695332751815351, 0.2716319732427874, -0.20824851930974994, -1.0475258685794056, 0.56838672084109, -0.14802383067475433, -0.2626985118025356, -0.485172385498463, 0.40027566985106316, -0.4421940311637228, -1.2083996634068965, -1.5985316077391072, 0.5640687204376864, -0.37255174684050163, 1.9573057613355627, -0.08203264742974938, -0.6363424018323703, 0.47124001588370756, -0.9974260837891378, 0.561213886768126, -0.2517931486910543, -1.0726006338905476, 1.895293220583968, -0.5735772528649017, -1.0961897880553446, -1.2473194715544305, -1.9395128963440484, -0.8011034626807447, -0.8729632839115978, 0.9718542651123409, 0.9880918794379198, -0.3539421511355455, -0.7872073680358485, -0.014673280228460442, 0.0719656927583585, 0.22437507299150267, 1.238024342372839, 0.3609958413639249, 0.31562209670153074, 0.660784086125347, 1.0264393713595676, -1.2501039657721695, 0.7398172427970308, -1.379883171220064, -0.2789847177401478, 0.402043007570006, 0.14469232460479514, -0.08498934486439978, 1.7134644085780146, -1.4468169895356162, 0.715895965943651, -0.1544878290689414, -0.19537887570599272, -0.5316531629843192, -0.44306354202850134, 0.42475780202125824, -0.585282832765401, 2.0077890009820103, -0.00392265960940687, -0.7012580198585556, 3.2492551217480696, -1.0309968186486267, -1.8420028443536924, -0.4099855734921172, 0.31802949595869745], \"xaxis\": \"x3\", \"y\": [2.4749962936946055, -0.9007990275507158, -0.9805747297855275, 0.8591241423923144, -0.23513612993279762, -1.4871885942258938, 0.1509626101323387, 0.3710990855337078, -0.0783348441645605, 2.26380966222816, 0.208228005383773, 0.3526292310156882, 1.1125779531924598, -0.9777079006710802, 1.2013899556079988, 0.07237738940168735, -1.3345991474970709, -2.017283621905848, -0.6549271175784173, -1.8897303970589032, -0.05019611399214896, 0.2680783170338222, 0.8959378751017952, 1.9759406303102243, 0.6701199636150814, 0.9306138813501291, -2.581350212978, 1.2019358187360194, 0.5962268260509613, 0.043399436853583974, -0.7034736013426729, -0.5870817705680396, 0.26132864277511264, 1.0026011168534013, 0.5024826385176249, -1.3709098720171886, 1.6010990955566187, -1.1866188378116598, -0.0851183518897504, 2.6578337032405006, 1.6498431342132363, 0.01577419471099402, 0.18660345295126896, -1.6380810984694385, -0.6920612579214326, -0.5481117511795, -0.8393828604315164, 0.6545901837953004, 0.6793888900506158, 0.5868162253947056, 0.7373061487047904, 0.4104583260324701, 1.512028590184469, 2.234848174397926, -1.206697874221941, 1.5386372375224369, 0.4589019331759673, -0.2677178684218074, -0.5165748852689157, 2.097914912767957, 1.1046891478459746, -1.0127769075344921, -0.9275024218807334, 0.46254807937094916, -2.581572057555803, -0.5177589481227729, 0.4316554621434871, 0.6954811231387482, 0.0300098483416636, 0.6539900009746611, -0.4449879580630433, -0.999503090467957, 1.0362026545443144, 0.9136741620871076, -0.5439968151535551, -0.8107903439717139, -1.9019102452016945, 0.7119532518308098, -0.5667692810338499, 1.0639290359748934, -0.6453104900764639, 0.26835233269243897, -0.7968176977559296, -0.7527220997163271, -1.5516630981944994, 0.5303143093757477, 1.0840453642416785, 1.4896418973352272, 1.2220370054697876, -0.16792657416935036, -0.2308432545947218, -0.29786350107739773, 0.12177245408476088, 1.3631037691423746, 0.6384473313553243, -0.7283898466255497, 0.2516740646126679, -0.8870567793418102, 0.5163456231504208, 1.1852874008722312], \"yaxis\": \"y3\"}, {\"line\": {\"color\": \"rgba(128, 128, 128, 1.0)\", \"dash\": \"solid\", \"shape\": \"linear\", \"width\": 1.3}, \"marker\": {\"size\": 2, \"symbol\": \"circle\"}, \"mode\": \"markers\", \"name\": \"A\", \"text\": \"\", \"type\": \"scatter\", \"x\": [-0.38885819895232676, -0.9717472290895455, -0.9139514439533044, -0.12082311181586085, 0.3330149406569263, -0.9799049992518911, -1.67111919752334, 0.15162770083347216, 2.1445059748730726, 0.6058900549623925, 1.0630011917635849, -0.24644562811864812, -1.5325621975142605, -0.6469666724377413, -0.9616193205511907, 0.41800907429574874, 1.0397811292984618, -0.31541696072229847, -1.4049094608966841, -0.0884161044520405, 0.21495690415865082, 0.7272029791670528, -0.36171724757592705, -1.8843190236447718, -2.601906771859556, 0.9330016216922752, -1.0913660590152312, -0.4987963991281909, 1.7963669173505645, -0.020190081183019428, -0.08012435469167206, 1.0110582736533014, -1.1176034224498308, 0.669714490474785, 1.4345482061991972, 0.9899681205051231, -1.0361872742541638, 0.9543542851066912, 0.6886393863606326, 0.19966677361934768, 0.2248252323826824, 1.266659711726156, -1.1336143637616543, -1.9569188197769551, -0.6045250312730492, 1.008230391710319, -0.7398823275817051, -1.086953738335082, 1.9542880196409105, -1.941804377383334, -1.4808022512692627, -0.14015683186366015, 0.7626198660784957, -0.27479444953159154, 0.34448358744396157, 0.20148077743096154, 0.5811986146711187, 0.19960282050885136, 0.7739569815639976, -1.1573437069405694, 0.4521186470452195, 0.11990670910695764, 1.4924315665692511, 1.4175810663481372, 0.6183128660677296, 1.6061354947982638, 1.1996224140964713, -0.20863814845378764, -0.7959340245341419, 1.6055454796693986, 0.3345272122695861, -1.3223424522812381, 0.4077645278070668, -2.063164604706958, -0.06691844889513632, 0.5828815572503655, -0.3128476641027049, -1.1638349708744584, 0.41722706491806855, -0.18316239793324637, -0.930424708885888, -1.902918235853356, 0.8041526601231147, 0.10882810639113567, 0.2644282211852591, 2.310789453105758, -0.16812597599819737, -0.558078628026835, 0.11279638166561838, -0.5792231817795479, 0.09869825075713468, 0.5882162052004194, -0.792805396195245, 1.2161537394731101, -0.31067260416757025, -0.1178432631562213, 0.025596138383547126, 1.1510116422285448, 1.1275767421761456, -0.7168911555643587], \"xaxis\": \"x4\", \"y\": [2.4749962936946055, -0.9007990275507158, -0.9805747297855275, 0.8591241423923144, -0.23513612993279762, -1.4871885942258938, 0.1509626101323387, 0.3710990855337078, -0.0783348441645605, 2.26380966222816, 0.208228005383773, 0.3526292310156882, 1.1125779531924598, -0.9777079006710802, 1.2013899556079988, 0.07237738940168735, -1.3345991474970709, -2.017283621905848, -0.6549271175784173, -1.8897303970589032, -0.05019611399214896, 0.2680783170338222, 0.8959378751017952, 1.9759406303102243, 0.6701199636150814, 0.9306138813501291, -2.581350212978, 1.2019358187360194, 0.5962268260509613, 0.043399436853583974, -0.7034736013426729, -0.5870817705680396, 0.26132864277511264, 1.0026011168534013, 0.5024826385176249, -1.3709098720171886, 1.6010990955566187, -1.1866188378116598, -0.0851183518897504, 2.6578337032405006, 1.6498431342132363, 0.01577419471099402, 0.18660345295126896, -1.6380810984694385, -0.6920612579214326, -0.5481117511795, -0.8393828604315164, 0.6545901837953004, 0.6793888900506158, 0.5868162253947056, 0.7373061487047904, 0.4104583260324701, 1.512028590184469, 2.234848174397926, -1.206697874221941, 1.5386372375224369, 0.4589019331759673, -0.2677178684218074, -0.5165748852689157, 2.097914912767957, 1.1046891478459746, -1.0127769075344921, -0.9275024218807334, 0.46254807937094916, -2.581572057555803, -0.5177589481227729, 0.4316554621434871, 0.6954811231387482, 0.0300098483416636, 0.6539900009746611, -0.4449879580630433, -0.999503090467957, 1.0362026545443144, 0.9136741620871076, -0.5439968151535551, -0.8107903439717139, -1.9019102452016945, 0.7119532518308098, -0.5667692810338499, 1.0639290359748934, -0.6453104900764639, 0.26835233269243897, -0.7968176977559296, -0.7527220997163271, -1.5516630981944994, 0.5303143093757477, 1.0840453642416785, 1.4896418973352272, 1.2220370054697876, -0.16792657416935036, -0.2308432545947218, -0.29786350107739773, 0.12177245408476088, 1.3631037691423746, 0.6384473313553243, -0.7283898466255497, 0.2516740646126679, -0.8870567793418102, 0.5163456231504208, 1.1852874008722312], \"yaxis\": \"y4\"}, {\"line\": {\"color\": \"rgba(128, 128, 128, 1.0)\", \"dash\": \"solid\", \"shape\": \"linear\", \"width\": 1.3}, \"marker\": {\"size\": 2, \"symbol\": \"circle\"}, \"mode\": \"markers\", \"name\": \"B\", \"text\": \"\", \"type\": \"scatter\", \"x\": [2.4749962936946055, -0.9007990275507158, -0.9805747297855275, 0.8591241423923144, -0.23513612993279762, -1.4871885942258938, 0.1509626101323387, 0.3710990855337078, -0.0783348441645605, 2.26380966222816, 0.208228005383773, 0.3526292310156882, 1.1125779531924598, -0.9777079006710802, 1.2013899556079988, 0.07237738940168735, -1.3345991474970709, -2.017283621905848, -0.6549271175784173, -1.8897303970589032, -0.05019611399214896, 0.2680783170338222, 0.8959378751017952, 1.9759406303102243, 0.6701199636150814, 0.9306138813501291, -2.581350212978, 1.2019358187360194, 0.5962268260509613, 0.043399436853583974, -0.7034736013426729, -0.5870817705680396, 0.26132864277511264, 1.0026011168534013, 0.5024826385176249, -1.3709098720171886, 1.6010990955566187, -1.1866188378116598, -0.0851183518897504, 2.6578337032405006, 1.6498431342132363, 0.01577419471099402, 0.18660345295126896, -1.6380810984694385, -0.6920612579214326, -0.5481117511795, -0.8393828604315164, 0.6545901837953004, 0.6793888900506158, 0.5868162253947056, 0.7373061487047904, 0.4104583260324701, 1.512028590184469, 2.234848174397926, -1.206697874221941, 1.5386372375224369, 0.4589019331759673, -0.2677178684218074, -0.5165748852689157, 2.097914912767957, 1.1046891478459746, -1.0127769075344921, -0.9275024218807334, 0.46254807937094916, -2.581572057555803, -0.5177589481227729, 0.4316554621434871, 0.6954811231387482, 0.0300098483416636, 0.6539900009746611, -0.4449879580630433, -0.999503090467957, 1.0362026545443144, 0.9136741620871076, -0.5439968151535551, -0.8107903439717139, -1.9019102452016945, 0.7119532518308098, -0.5667692810338499, 1.0639290359748934, -0.6453104900764639, 0.26835233269243897, -0.7968176977559296, -0.7527220997163271, -1.5516630981944994, 0.5303143093757477, 1.0840453642416785, 1.4896418973352272, 1.2220370054697876, -0.16792657416935036, -0.2308432545947218, -0.29786350107739773, 0.12177245408476088, 1.3631037691423746, 0.6384473313553243, -0.7283898466255497, 0.2516740646126679, -0.8870567793418102, 0.5163456231504208, 1.1852874008722312], \"xaxis\": \"x5\", \"y\": [0.3134686022095278, 0.9167330694085948, 1.8358559878457181, 0.2834426630393991, 0.22899753551591995, 1.2214721753208433, 0.2910640003360314, 0.44389793149791734, 1.2162009677053427, -0.9619002047119665, -1.2784583359551878, -0.37144603885723965, 0.8800661016792073, -0.6763563018495778, -2.2277493627980003, 0.6930676738162171, -1.1683340478867852, -0.15790090640505508, -0.6826931554912031, 0.05049038923586889, 0.4869377860093024, -0.8835410697700743, 0.24868435409408757, -1.056969392655306, 0.6233496437331075, 0.9046922325586537, 0.2818495405726576, 0.14967640219134654, -0.6091488927991449, 0.2123086378874707, 0.45743817850369867, -0.9658200412921484, -0.00865557348175014, 0.4291721685534401, -0.22006799285765793, 2.488597634675389, -0.6061303020257509, 1.6102658234045657, -1.000863701554238, -0.534256527143899, -0.4621570121146412, -1.9759816278599311, -0.7760690578252674, -0.18467394830622197, -1.1458391575252205, 1.7555670562803594, -0.26250474351571285, 0.5464460246470153, 0.30987674584616987, 0.3520151819035632, 0.9958399353993154, -0.5214726384988668, 0.07222055358695231, 0.46791079579358846, -0.33047997165882564, 0.9192388020854462, -0.3256795536945822, -1.8653337188608055, 0.5962235529452432, -0.4240408936804001, 1.8384924861277794, -1.1038965745155283, -0.8519275517835061, 0.7141618825240307, 0.8285710482210474, -0.42276652716172586, -1.1587737795342765, 0.9809709177500708, -0.12667495781204194, -2.5319609816814572, 1.432198698417712, -1.0622603426980124, -0.6234638991651306, -1.2776077551390106, 0.028895853903978024, 1.644544932190103, -0.6163351737696124, -0.041946278013372994, 1.07876840216128, 0.4241597671285785, -2.2076469021892127, -0.6868007293609565, -0.7430886502094988, -0.33242320190080693, -0.7943984962651276, -2.4226861547474168, 1.5447323436514886, -0.5894859162554954, -0.5022088401908156, -1.5308674143676129, -1.1681670620058908, 1.3748345847740826, 0.28388738456361123, -0.37374003079645696, 2.9489109452284934, 0.38147384481885627, -0.6351765194539595, 0.08824145484231279, -0.811892307602746, -1.742992613677244], \"yaxis\": \"y5\"}, {\"histfunc\": \"count\", \"histnorm\": \"\", \"marker\": {\"color\": \"rgba(55, 128, 191, 1.0)\", \"line\": {\"color\": \"#4D5663\", \"width\": 1.3}}, \"name\": \"B\", \"nbinsx\": 10, \"opacity\": 0.8, \"orientation\": \"v\", \"type\": \"histogram\", \"x\": [0.3134686022095278, 0.9167330694085948, 1.8358559878457181, 0.2834426630393991, 0.22899753551591995, 1.2214721753208433, 0.2910640003360314, 0.44389793149791734, 1.2162009677053427, -0.9619002047119665, -1.2784583359551878, -0.37144603885723965, 0.8800661016792073, -0.6763563018495778, -2.2277493627980003, 0.6930676738162171, -1.1683340478867852, -0.15790090640505508, -0.6826931554912031, 0.05049038923586889, 0.4869377860093024, -0.8835410697700743, 0.24868435409408757, -1.056969392655306, 0.6233496437331075, 0.9046922325586537, 0.2818495405726576, 0.14967640219134654, -0.6091488927991449, 0.2123086378874707, 0.45743817850369867, -0.9658200412921484, -0.00865557348175014, 0.4291721685534401, -0.22006799285765793, 2.488597634675389, -0.6061303020257509, 1.6102658234045657, -1.000863701554238, -0.534256527143899, -0.4621570121146412, -1.9759816278599311, -0.7760690578252674, -0.18467394830622197, -1.1458391575252205, 1.7555670562803594, -0.26250474351571285, 0.5464460246470153, 0.30987674584616987, 0.3520151819035632, 0.9958399353993154, -0.5214726384988668, 0.07222055358695231, 0.46791079579358846, -0.33047997165882564, 0.9192388020854462, -0.3256795536945822, -1.8653337188608055, 0.5962235529452432, -0.4240408936804001, 1.8384924861277794, -1.1038965745155283, -0.8519275517835061, 0.7141618825240307, 0.8285710482210474, -0.42276652716172586, -1.1587737795342765, 0.9809709177500708, -0.12667495781204194, -2.5319609816814572, 1.432198698417712, -1.0622603426980124, -0.6234638991651306, -1.2776077551390106, 0.028895853903978024, 1.644544932190103, -0.6163351737696124, -0.041946278013372994, 1.07876840216128, 0.4241597671285785, -2.2076469021892127, -0.6868007293609565, -0.7430886502094988, -0.33242320190080693, -0.7943984962651276, -2.4226861547474168, 1.5447323436514886, -0.5894859162554954, -0.5022088401908156, -1.5308674143676129, -1.1681670620058908, 1.3748345847740826, 0.28388738456361123, -0.37374003079645696, 2.9489109452284934, 0.38147384481885627, -0.6351765194539595, 0.08824145484231279, -0.811892307602746, -1.742992613677244], \"xaxis\": \"x6\", \"yaxis\": \"y6\"}, {\"line\": {\"color\": \"rgba(128, 128, 128, 1.0)\", \"dash\": \"solid\", \"shape\": \"linear\", \"width\": 1.3}, \"marker\": {\"size\": 2, \"symbol\": \"circle\"}, \"mode\": \"markers\", \"name\": \"B\", \"text\": \"\", \"type\": \"scatter\", \"x\": [1.231070159811716, -0.03117281649129617, -0.6162773756384039, -1.6376008743252277, -0.08241446653137414, -1.1857410285737386, 1.5025063017476732, -0.05133227922674751, 1.2644556879951765, -0.05964774681572033, -2.297403684005262, -0.9868119640856649, 0.05675988924076596, 1.185951066101353, -1.373095549551666, -0.20562601185759508, 1.9428309188887116, -0.18927683502183562, 0.9825093159521757, -1.2263415995284603, -0.6298439802477139, 0.6068580870279782, -0.890636392495951, 0.631918047414181, -0.7720379065528462, -0.29593149001966135, -1.1226904422118051, 0.23629800314365096, -0.4741276194468566, 2.1717181443789344, -1.4806895991854223, -0.4955021094440134, 0.032117081646470994, 0.25701142893123874, -0.23713230266729876, 0.9695332751815351, 0.2716319732427874, -0.20824851930974994, -1.0475258685794056, 0.56838672084109, -0.14802383067475433, -0.2626985118025356, -0.485172385498463, 0.40027566985106316, -0.4421940311637228, -1.2083996634068965, -1.5985316077391072, 0.5640687204376864, -0.37255174684050163, 1.9573057613355627, -0.08203264742974938, -0.6363424018323703, 0.47124001588370756, -0.9974260837891378, 0.561213886768126, -0.2517931486910543, -1.0726006338905476, 1.895293220583968, -0.5735772528649017, -1.0961897880553446, -1.2473194715544305, -1.9395128963440484, -0.8011034626807447, -0.8729632839115978, 0.9718542651123409, 0.9880918794379198, -0.3539421511355455, -0.7872073680358485, -0.014673280228460442, 0.0719656927583585, 0.22437507299150267, 1.238024342372839, 0.3609958413639249, 0.31562209670153074, 0.660784086125347, 1.0264393713595676, -1.2501039657721695, 0.7398172427970308, -1.379883171220064, -0.2789847177401478, 0.402043007570006, 0.14469232460479514, -0.08498934486439978, 1.7134644085780146, -1.4468169895356162, 0.715895965943651, -0.1544878290689414, -0.19537887570599272, -0.5316531629843192, -0.44306354202850134, 0.42475780202125824, -0.585282832765401, 2.0077890009820103, -0.00392265960940687, -0.7012580198585556, 3.2492551217480696, -1.0309968186486267, -1.8420028443536924, -0.4099855734921172, 0.31802949595869745], \"xaxis\": \"x7\", \"y\": [0.3134686022095278, 0.9167330694085948, 1.8358559878457181, 0.2834426630393991, 0.22899753551591995, 1.2214721753208433, 0.2910640003360314, 0.44389793149791734, 1.2162009677053427, -0.9619002047119665, -1.2784583359551878, -0.37144603885723965, 0.8800661016792073, -0.6763563018495778, -2.2277493627980003, 0.6930676738162171, -1.1683340478867852, -0.15790090640505508, -0.6826931554912031, 0.05049038923586889, 0.4869377860093024, -0.8835410697700743, 0.24868435409408757, -1.056969392655306, 0.6233496437331075, 0.9046922325586537, 0.2818495405726576, 0.14967640219134654, -0.6091488927991449, 0.2123086378874707, 0.45743817850369867, -0.9658200412921484, -0.00865557348175014, 0.4291721685534401, -0.22006799285765793, 2.488597634675389, -0.6061303020257509, 1.6102658234045657, -1.000863701554238, -0.534256527143899, -0.4621570121146412, -1.9759816278599311, -0.7760690578252674, -0.18467394830622197, -1.1458391575252205, 1.7555670562803594, -0.26250474351571285, 0.5464460246470153, 0.30987674584616987, 0.3520151819035632, 0.9958399353993154, -0.5214726384988668, 0.07222055358695231, 0.46791079579358846, -0.33047997165882564, 0.9192388020854462, -0.3256795536945822, -1.8653337188608055, 0.5962235529452432, -0.4240408936804001, 1.8384924861277794, -1.1038965745155283, -0.8519275517835061, 0.7141618825240307, 0.8285710482210474, -0.42276652716172586, -1.1587737795342765, 0.9809709177500708, -0.12667495781204194, -2.5319609816814572, 1.432198698417712, -1.0622603426980124, -0.6234638991651306, -1.2776077551390106, 0.028895853903978024, 1.644544932190103, -0.6163351737696124, -0.041946278013372994, 1.07876840216128, 0.4241597671285785, -2.2076469021892127, -0.6868007293609565, -0.7430886502094988, -0.33242320190080693, -0.7943984962651276, -2.4226861547474168, 1.5447323436514886, -0.5894859162554954, -0.5022088401908156, -1.5308674143676129, -1.1681670620058908, 1.3748345847740826, 0.28388738456361123, -0.37374003079645696, 2.9489109452284934, 0.38147384481885627, -0.6351765194539595, 0.08824145484231279, -0.811892307602746, -1.742992613677244], \"yaxis\": \"y7\"}, {\"line\": {\"color\": \"rgba(128, 128, 128, 1.0)\", \"dash\": \"solid\", \"shape\": \"linear\", \"width\": 1.3}, \"marker\": {\"size\": 2, \"symbol\": \"circle\"}, \"mode\": \"markers\", \"name\": \"B\", \"text\": \"\", \"type\": \"scatter\", \"x\": [-0.38885819895232676, -0.9717472290895455, -0.9139514439533044, -0.12082311181586085, 0.3330149406569263, -0.9799049992518911, -1.67111919752334, 0.15162770083347216, 2.1445059748730726, 0.6058900549623925, 1.0630011917635849, -0.24644562811864812, -1.5325621975142605, -0.6469666724377413, -0.9616193205511907, 0.41800907429574874, 1.0397811292984618, -0.31541696072229847, -1.4049094608966841, -0.0884161044520405, 0.21495690415865082, 0.7272029791670528, -0.36171724757592705, -1.8843190236447718, -2.601906771859556, 0.9330016216922752, -1.0913660590152312, -0.4987963991281909, 1.7963669173505645, -0.020190081183019428, -0.08012435469167206, 1.0110582736533014, -1.1176034224498308, 0.669714490474785, 1.4345482061991972, 0.9899681205051231, -1.0361872742541638, 0.9543542851066912, 0.6886393863606326, 0.19966677361934768, 0.2248252323826824, 1.266659711726156, -1.1336143637616543, -1.9569188197769551, -0.6045250312730492, 1.008230391710319, -0.7398823275817051, -1.086953738335082, 1.9542880196409105, -1.941804377383334, -1.4808022512692627, -0.14015683186366015, 0.7626198660784957, -0.27479444953159154, 0.34448358744396157, 0.20148077743096154, 0.5811986146711187, 0.19960282050885136, 0.7739569815639976, -1.1573437069405694, 0.4521186470452195, 0.11990670910695764, 1.4924315665692511, 1.4175810663481372, 0.6183128660677296, 1.6061354947982638, 1.1996224140964713, -0.20863814845378764, -0.7959340245341419, 1.6055454796693986, 0.3345272122695861, -1.3223424522812381, 0.4077645278070668, -2.063164604706958, -0.06691844889513632, 0.5828815572503655, -0.3128476641027049, -1.1638349708744584, 0.41722706491806855, -0.18316239793324637, -0.930424708885888, -1.902918235853356, 0.8041526601231147, 0.10882810639113567, 0.2644282211852591, 2.310789453105758, -0.16812597599819737, -0.558078628026835, 0.11279638166561838, -0.5792231817795479, 0.09869825075713468, 0.5882162052004194, -0.792805396195245, 1.2161537394731101, -0.31067260416757025, -0.1178432631562213, 0.025596138383547126, 1.1510116422285448, 1.1275767421761456, -0.7168911555643587], \"xaxis\": \"x8\", \"y\": [0.3134686022095278, 0.9167330694085948, 1.8358559878457181, 0.2834426630393991, 0.22899753551591995, 1.2214721753208433, 0.2910640003360314, 0.44389793149791734, 1.2162009677053427, -0.9619002047119665, -1.2784583359551878, -0.37144603885723965, 0.8800661016792073, -0.6763563018495778, -2.2277493627980003, 0.6930676738162171, -1.1683340478867852, -0.15790090640505508, -0.6826931554912031, 0.05049038923586889, 0.4869377860093024, -0.8835410697700743, 0.24868435409408757, -1.056969392655306, 0.6233496437331075, 0.9046922325586537, 0.2818495405726576, 0.14967640219134654, -0.6091488927991449, 0.2123086378874707, 0.45743817850369867, -0.9658200412921484, -0.00865557348175014, 0.4291721685534401, -0.22006799285765793, 2.488597634675389, -0.6061303020257509, 1.6102658234045657, -1.000863701554238, -0.534256527143899, -0.4621570121146412, -1.9759816278599311, -0.7760690578252674, -0.18467394830622197, -1.1458391575252205, 1.7555670562803594, -0.26250474351571285, 0.5464460246470153, 0.30987674584616987, 0.3520151819035632, 0.9958399353993154, -0.5214726384988668, 0.07222055358695231, 0.46791079579358846, -0.33047997165882564, 0.9192388020854462, -0.3256795536945822, -1.8653337188608055, 0.5962235529452432, -0.4240408936804001, 1.8384924861277794, -1.1038965745155283, -0.8519275517835061, 0.7141618825240307, 0.8285710482210474, -0.42276652716172586, -1.1587737795342765, 0.9809709177500708, -0.12667495781204194, -2.5319609816814572, 1.432198698417712, -1.0622603426980124, -0.6234638991651306, -1.2776077551390106, 0.028895853903978024, 1.644544932190103, -0.6163351737696124, -0.041946278013372994, 1.07876840216128, 0.4241597671285785, -2.2076469021892127, -0.6868007293609565, -0.7430886502094988, -0.33242320190080693, -0.7943984962651276, -2.4226861547474168, 1.5447323436514886, -0.5894859162554954, -0.5022088401908156, -1.5308674143676129, -1.1681670620058908, 1.3748345847740826, 0.28388738456361123, -0.37374003079645696, 2.9489109452284934, 0.38147384481885627, -0.6351765194539595, 0.08824145484231279, -0.811892307602746, -1.742992613677244], \"yaxis\": \"y8\"}, {\"line\": {\"color\": \"rgba(128, 128, 128, 1.0)\", \"dash\": \"solid\", \"shape\": \"linear\", \"width\": 1.3}, \"marker\": {\"size\": 2, \"symbol\": \"circle\"}, \"mode\": \"markers\", \"name\": \"C\", \"text\": \"\", \"type\": \"scatter\", \"x\": [2.4749962936946055, -0.9007990275507158, -0.9805747297855275, 0.8591241423923144, -0.23513612993279762, -1.4871885942258938, 0.1509626101323387, 0.3710990855337078, -0.0783348441645605, 2.26380966222816, 0.208228005383773, 0.3526292310156882, 1.1125779531924598, -0.9777079006710802, 1.2013899556079988, 0.07237738940168735, -1.3345991474970709, -2.017283621905848, -0.6549271175784173, -1.8897303970589032, -0.05019611399214896, 0.2680783170338222, 0.8959378751017952, 1.9759406303102243, 0.6701199636150814, 0.9306138813501291, -2.581350212978, 1.2019358187360194, 0.5962268260509613, 0.043399436853583974, -0.7034736013426729, -0.5870817705680396, 0.26132864277511264, 1.0026011168534013, 0.5024826385176249, -1.3709098720171886, 1.6010990955566187, -1.1866188378116598, -0.0851183518897504, 2.6578337032405006, 1.6498431342132363, 0.01577419471099402, 0.18660345295126896, -1.6380810984694385, -0.6920612579214326, -0.5481117511795, -0.8393828604315164, 0.6545901837953004, 0.6793888900506158, 0.5868162253947056, 0.7373061487047904, 0.4104583260324701, 1.512028590184469, 2.234848174397926, -1.206697874221941, 1.5386372375224369, 0.4589019331759673, -0.2677178684218074, -0.5165748852689157, 2.097914912767957, 1.1046891478459746, -1.0127769075344921, -0.9275024218807334, 0.46254807937094916, -2.581572057555803, -0.5177589481227729, 0.4316554621434871, 0.6954811231387482, 0.0300098483416636, 0.6539900009746611, -0.4449879580630433, -0.999503090467957, 1.0362026545443144, 0.9136741620871076, -0.5439968151535551, -0.8107903439717139, -1.9019102452016945, 0.7119532518308098, -0.5667692810338499, 1.0639290359748934, -0.6453104900764639, 0.26835233269243897, -0.7968176977559296, -0.7527220997163271, -1.5516630981944994, 0.5303143093757477, 1.0840453642416785, 1.4896418973352272, 1.2220370054697876, -0.16792657416935036, -0.2308432545947218, -0.29786350107739773, 0.12177245408476088, 1.3631037691423746, 0.6384473313553243, -0.7283898466255497, 0.2516740646126679, -0.8870567793418102, 0.5163456231504208, 1.1852874008722312], \"xaxis\": \"x9\", \"y\": [1.231070159811716, -0.03117281649129617, -0.6162773756384039, -1.6376008743252277, -0.08241446653137414, -1.1857410285737386, 1.5025063017476732, -0.05133227922674751, 1.2644556879951765, -0.05964774681572033, -2.297403684005262, -0.9868119640856649, 0.05675988924076596, 1.185951066101353, -1.373095549551666, -0.20562601185759508, 1.9428309188887116, -0.18927683502183562, 0.9825093159521757, -1.2263415995284603, -0.6298439802477139, 0.6068580870279782, -0.890636392495951, 0.631918047414181, -0.7720379065528462, -0.29593149001966135, -1.1226904422118051, 0.23629800314365096, -0.4741276194468566, 2.1717181443789344, -1.4806895991854223, -0.4955021094440134, 0.032117081646470994, 0.25701142893123874, -0.23713230266729876, 0.9695332751815351, 0.2716319732427874, -0.20824851930974994, -1.0475258685794056, 0.56838672084109, -0.14802383067475433, -0.2626985118025356, -0.485172385498463, 0.40027566985106316, -0.4421940311637228, -1.2083996634068965, -1.5985316077391072, 0.5640687204376864, -0.37255174684050163, 1.9573057613355627, -0.08203264742974938, -0.6363424018323703, 0.47124001588370756, -0.9974260837891378, 0.561213886768126, -0.2517931486910543, -1.0726006338905476, 1.895293220583968, -0.5735772528649017, -1.0961897880553446, -1.2473194715544305, -1.9395128963440484, -0.8011034626807447, -0.8729632839115978, 0.9718542651123409, 0.9880918794379198, -0.3539421511355455, -0.7872073680358485, -0.014673280228460442, 0.0719656927583585, 0.22437507299150267, 1.238024342372839, 0.3609958413639249, 0.31562209670153074, 0.660784086125347, 1.0264393713595676, -1.2501039657721695, 0.7398172427970308, -1.379883171220064, -0.2789847177401478, 0.402043007570006, 0.14469232460479514, -0.08498934486439978, 1.7134644085780146, -1.4468169895356162, 0.715895965943651, -0.1544878290689414, -0.19537887570599272, -0.5316531629843192, -0.44306354202850134, 0.42475780202125824, -0.585282832765401, 2.0077890009820103, -0.00392265960940687, -0.7012580198585556, 3.2492551217480696, -1.0309968186486267, -1.8420028443536924, -0.4099855734921172, 0.31802949595869745], \"yaxis\": \"y9\"}, {\"line\": {\"color\": \"rgba(128, 128, 128, 1.0)\", \"dash\": \"solid\", \"shape\": \"linear\", \"width\": 1.3}, \"marker\": {\"size\": 2, \"symbol\": \"circle\"}, \"mode\": \"markers\", \"name\": \"C\", \"text\": \"\", \"type\": \"scatter\", \"x\": [0.3134686022095278, 0.9167330694085948, 1.8358559878457181, 0.2834426630393991, 0.22899753551591995, 1.2214721753208433, 0.2910640003360314, 0.44389793149791734, 1.2162009677053427, -0.9619002047119665, -1.2784583359551878, -0.37144603885723965, 0.8800661016792073, -0.6763563018495778, -2.2277493627980003, 0.6930676738162171, -1.1683340478867852, -0.15790090640505508, -0.6826931554912031, 0.05049038923586889, 0.4869377860093024, -0.8835410697700743, 0.24868435409408757, -1.056969392655306, 0.6233496437331075, 0.9046922325586537, 0.2818495405726576, 0.14967640219134654, -0.6091488927991449, 0.2123086378874707, 0.45743817850369867, -0.9658200412921484, -0.00865557348175014, 0.4291721685534401, -0.22006799285765793, 2.488597634675389, -0.6061303020257509, 1.6102658234045657, -1.000863701554238, -0.534256527143899, -0.4621570121146412, -1.9759816278599311, -0.7760690578252674, -0.18467394830622197, -1.1458391575252205, 1.7555670562803594, -0.26250474351571285, 0.5464460246470153, 0.30987674584616987, 0.3520151819035632, 0.9958399353993154, -0.5214726384988668, 0.07222055358695231, 0.46791079579358846, -0.33047997165882564, 0.9192388020854462, -0.3256795536945822, -1.8653337188608055, 0.5962235529452432, -0.4240408936804001, 1.8384924861277794, -1.1038965745155283, -0.8519275517835061, 0.7141618825240307, 0.8285710482210474, -0.42276652716172586, -1.1587737795342765, 0.9809709177500708, -0.12667495781204194, -2.5319609816814572, 1.432198698417712, -1.0622603426980124, -0.6234638991651306, -1.2776077551390106, 0.028895853903978024, 1.644544932190103, -0.6163351737696124, -0.041946278013372994, 1.07876840216128, 0.4241597671285785, -2.2076469021892127, -0.6868007293609565, -0.7430886502094988, -0.33242320190080693, -0.7943984962651276, -2.4226861547474168, 1.5447323436514886, -0.5894859162554954, -0.5022088401908156, -1.5308674143676129, -1.1681670620058908, 1.3748345847740826, 0.28388738456361123, -0.37374003079645696, 2.9489109452284934, 0.38147384481885627, -0.6351765194539595, 0.08824145484231279, -0.811892307602746, -1.742992613677244], \"xaxis\": \"x10\", \"y\": [1.231070159811716, -0.03117281649129617, -0.6162773756384039, -1.6376008743252277, -0.08241446653137414, -1.1857410285737386, 1.5025063017476732, -0.05133227922674751, 1.2644556879951765, -0.05964774681572033, -2.297403684005262, -0.9868119640856649, 0.05675988924076596, 1.185951066101353, -1.373095549551666, -0.20562601185759508, 1.9428309188887116, -0.18927683502183562, 0.9825093159521757, -1.2263415995284603, -0.6298439802477139, 0.6068580870279782, -0.890636392495951, 0.631918047414181, -0.7720379065528462, -0.29593149001966135, -1.1226904422118051, 0.23629800314365096, -0.4741276194468566, 2.1717181443789344, -1.4806895991854223, -0.4955021094440134, 0.032117081646470994, 0.25701142893123874, -0.23713230266729876, 0.9695332751815351, 0.2716319732427874, -0.20824851930974994, -1.0475258685794056, 0.56838672084109, -0.14802383067475433, -0.2626985118025356, -0.485172385498463, 0.40027566985106316, -0.4421940311637228, -1.2083996634068965, -1.5985316077391072, 0.5640687204376864, -0.37255174684050163, 1.9573057613355627, -0.08203264742974938, -0.6363424018323703, 0.47124001588370756, -0.9974260837891378, 0.561213886768126, -0.2517931486910543, -1.0726006338905476, 1.895293220583968, -0.5735772528649017, -1.0961897880553446, -1.2473194715544305, -1.9395128963440484, -0.8011034626807447, -0.8729632839115978, 0.9718542651123409, 0.9880918794379198, -0.3539421511355455, -0.7872073680358485, -0.014673280228460442, 0.0719656927583585, 0.22437507299150267, 1.238024342372839, 0.3609958413639249, 0.31562209670153074, 0.660784086125347, 1.0264393713595676, -1.2501039657721695, 0.7398172427970308, -1.379883171220064, -0.2789847177401478, 0.402043007570006, 0.14469232460479514, -0.08498934486439978, 1.7134644085780146, -1.4468169895356162, 0.715895965943651, -0.1544878290689414, -0.19537887570599272, -0.5316531629843192, -0.44306354202850134, 0.42475780202125824, -0.585282832765401, 2.0077890009820103, -0.00392265960940687, -0.7012580198585556, 3.2492551217480696, -1.0309968186486267, -1.8420028443536924, -0.4099855734921172, 0.31802949595869745], \"yaxis\": \"y10\"}, {\"histfunc\": \"count\", \"histnorm\": \"\", \"marker\": {\"color\": \"rgba(50, 171, 96, 1.0)\", \"line\": {\"color\": \"#4D5663\", \"width\": 1.3}}, \"name\": \"C\", \"nbinsx\": 10, \"opacity\": 0.8, \"orientation\": \"v\", \"type\": \"histogram\", \"x\": [1.231070159811716, -0.03117281649129617, -0.6162773756384039, -1.6376008743252277, -0.08241446653137414, -1.1857410285737386, 1.5025063017476732, -0.05133227922674751, 1.2644556879951765, -0.05964774681572033, -2.297403684005262, -0.9868119640856649, 0.05675988924076596, 1.185951066101353, -1.373095549551666, -0.20562601185759508, 1.9428309188887116, -0.18927683502183562, 0.9825093159521757, -1.2263415995284603, -0.6298439802477139, 0.6068580870279782, -0.890636392495951, 0.631918047414181, -0.7720379065528462, -0.29593149001966135, -1.1226904422118051, 0.23629800314365096, -0.4741276194468566, 2.1717181443789344, -1.4806895991854223, -0.4955021094440134, 0.032117081646470994, 0.25701142893123874, -0.23713230266729876, 0.9695332751815351, 0.2716319732427874, -0.20824851930974994, -1.0475258685794056, 0.56838672084109, -0.14802383067475433, -0.2626985118025356, -0.485172385498463, 0.40027566985106316, -0.4421940311637228, -1.2083996634068965, -1.5985316077391072, 0.5640687204376864, -0.37255174684050163, 1.9573057613355627, -0.08203264742974938, -0.6363424018323703, 0.47124001588370756, -0.9974260837891378, 0.561213886768126, -0.2517931486910543, -1.0726006338905476, 1.895293220583968, -0.5735772528649017, -1.0961897880553446, -1.2473194715544305, -1.9395128963440484, -0.8011034626807447, -0.8729632839115978, 0.9718542651123409, 0.9880918794379198, -0.3539421511355455, -0.7872073680358485, -0.014673280228460442, 0.0719656927583585, 0.22437507299150267, 1.238024342372839, 0.3609958413639249, 0.31562209670153074, 0.660784086125347, 1.0264393713595676, -1.2501039657721695, 0.7398172427970308, -1.379883171220064, -0.2789847177401478, 0.402043007570006, 0.14469232460479514, -0.08498934486439978, 1.7134644085780146, -1.4468169895356162, 0.715895965943651, -0.1544878290689414, -0.19537887570599272, -0.5316531629843192, -0.44306354202850134, 0.42475780202125824, -0.585282832765401, 2.0077890009820103, -0.00392265960940687, -0.7012580198585556, 3.2492551217480696, -1.0309968186486267, -1.8420028443536924, -0.4099855734921172, 0.31802949595869745], \"xaxis\": \"x11\", \"yaxis\": \"y11\"}, {\"line\": {\"color\": \"rgba(128, 128, 128, 1.0)\", \"dash\": \"solid\", \"shape\": \"linear\", \"width\": 1.3}, \"marker\": {\"size\": 2, \"symbol\": \"circle\"}, \"mode\": \"markers\", \"name\": \"C\", \"text\": \"\", \"type\": \"scatter\", \"x\": [-0.38885819895232676, -0.9717472290895455, -0.9139514439533044, -0.12082311181586085, 0.3330149406569263, -0.9799049992518911, -1.67111919752334, 0.15162770083347216, 2.1445059748730726, 0.6058900549623925, 1.0630011917635849, -0.24644562811864812, -1.5325621975142605, -0.6469666724377413, -0.9616193205511907, 0.41800907429574874, 1.0397811292984618, -0.31541696072229847, -1.4049094608966841, -0.0884161044520405, 0.21495690415865082, 0.7272029791670528, -0.36171724757592705, -1.8843190236447718, -2.601906771859556, 0.9330016216922752, -1.0913660590152312, -0.4987963991281909, 1.7963669173505645, -0.020190081183019428, -0.08012435469167206, 1.0110582736533014, -1.1176034224498308, 0.669714490474785, 1.4345482061991972, 0.9899681205051231, -1.0361872742541638, 0.9543542851066912, 0.6886393863606326, 0.19966677361934768, 0.2248252323826824, 1.266659711726156, -1.1336143637616543, -1.9569188197769551, -0.6045250312730492, 1.008230391710319, -0.7398823275817051, -1.086953738335082, 1.9542880196409105, -1.941804377383334, -1.4808022512692627, -0.14015683186366015, 0.7626198660784957, -0.27479444953159154, 0.34448358744396157, 0.20148077743096154, 0.5811986146711187, 0.19960282050885136, 0.7739569815639976, -1.1573437069405694, 0.4521186470452195, 0.11990670910695764, 1.4924315665692511, 1.4175810663481372, 0.6183128660677296, 1.6061354947982638, 1.1996224140964713, -0.20863814845378764, -0.7959340245341419, 1.6055454796693986, 0.3345272122695861, -1.3223424522812381, 0.4077645278070668, -2.063164604706958, -0.06691844889513632, 0.5828815572503655, -0.3128476641027049, -1.1638349708744584, 0.41722706491806855, -0.18316239793324637, -0.930424708885888, -1.902918235853356, 0.8041526601231147, 0.10882810639113567, 0.2644282211852591, 2.310789453105758, -0.16812597599819737, -0.558078628026835, 0.11279638166561838, -0.5792231817795479, 0.09869825075713468, 0.5882162052004194, -0.792805396195245, 1.2161537394731101, -0.31067260416757025, -0.1178432631562213, 0.025596138383547126, 1.1510116422285448, 1.1275767421761456, -0.7168911555643587], \"xaxis\": \"x12\", \"y\": [1.231070159811716, -0.03117281649129617, -0.6162773756384039, -1.6376008743252277, -0.08241446653137414, -1.1857410285737386, 1.5025063017476732, -0.05133227922674751, 1.2644556879951765, -0.05964774681572033, -2.297403684005262, -0.9868119640856649, 0.05675988924076596, 1.185951066101353, -1.373095549551666, -0.20562601185759508, 1.9428309188887116, -0.18927683502183562, 0.9825093159521757, -1.2263415995284603, -0.6298439802477139, 0.6068580870279782, -0.890636392495951, 0.631918047414181, -0.7720379065528462, -0.29593149001966135, -1.1226904422118051, 0.23629800314365096, -0.4741276194468566, 2.1717181443789344, -1.4806895991854223, -0.4955021094440134, 0.032117081646470994, 0.25701142893123874, -0.23713230266729876, 0.9695332751815351, 0.2716319732427874, -0.20824851930974994, -1.0475258685794056, 0.56838672084109, -0.14802383067475433, -0.2626985118025356, -0.485172385498463, 0.40027566985106316, -0.4421940311637228, -1.2083996634068965, -1.5985316077391072, 0.5640687204376864, -0.37255174684050163, 1.9573057613355627, -0.08203264742974938, -0.6363424018323703, 0.47124001588370756, -0.9974260837891378, 0.561213886768126, -0.2517931486910543, -1.0726006338905476, 1.895293220583968, -0.5735772528649017, -1.0961897880553446, -1.2473194715544305, -1.9395128963440484, -0.8011034626807447, -0.8729632839115978, 0.9718542651123409, 0.9880918794379198, -0.3539421511355455, -0.7872073680358485, -0.014673280228460442, 0.0719656927583585, 0.22437507299150267, 1.238024342372839, 0.3609958413639249, 0.31562209670153074, 0.660784086125347, 1.0264393713595676, -1.2501039657721695, 0.7398172427970308, -1.379883171220064, -0.2789847177401478, 0.402043007570006, 0.14469232460479514, -0.08498934486439978, 1.7134644085780146, -1.4468169895356162, 0.715895965943651, -0.1544878290689414, -0.19537887570599272, -0.5316531629843192, -0.44306354202850134, 0.42475780202125824, -0.585282832765401, 2.0077890009820103, -0.00392265960940687, -0.7012580198585556, 3.2492551217480696, -1.0309968186486267, -1.8420028443536924, -0.4099855734921172, 0.31802949595869745], \"yaxis\": \"y12\"}, {\"line\": {\"color\": \"rgba(128, 128, 128, 1.0)\", \"dash\": \"solid\", \"shape\": \"linear\", \"width\": 1.3}, \"marker\": {\"size\": 2, \"symbol\": \"circle\"}, \"mode\": \"markers\", \"name\": \"D\", \"text\": \"\", \"type\": \"scatter\", \"x\": [2.4749962936946055, -0.9007990275507158, -0.9805747297855275, 0.8591241423923144, -0.23513612993279762, -1.4871885942258938, 0.1509626101323387, 0.3710990855337078, -0.0783348441645605, 2.26380966222816, 0.208228005383773, 0.3526292310156882, 1.1125779531924598, -0.9777079006710802, 1.2013899556079988, 0.07237738940168735, -1.3345991474970709, -2.017283621905848, -0.6549271175784173, -1.8897303970589032, -0.05019611399214896, 0.2680783170338222, 0.8959378751017952, 1.9759406303102243, 0.6701199636150814, 0.9306138813501291, -2.581350212978, 1.2019358187360194, 0.5962268260509613, 0.043399436853583974, -0.7034736013426729, -0.5870817705680396, 0.26132864277511264, 1.0026011168534013, 0.5024826385176249, -1.3709098720171886, 1.6010990955566187, -1.1866188378116598, -0.0851183518897504, 2.6578337032405006, 1.6498431342132363, 0.01577419471099402, 0.18660345295126896, -1.6380810984694385, -0.6920612579214326, -0.5481117511795, -0.8393828604315164, 0.6545901837953004, 0.6793888900506158, 0.5868162253947056, 0.7373061487047904, 0.4104583260324701, 1.512028590184469, 2.234848174397926, -1.206697874221941, 1.5386372375224369, 0.4589019331759673, -0.2677178684218074, -0.5165748852689157, 2.097914912767957, 1.1046891478459746, -1.0127769075344921, -0.9275024218807334, 0.46254807937094916, -2.581572057555803, -0.5177589481227729, 0.4316554621434871, 0.6954811231387482, 0.0300098483416636, 0.6539900009746611, -0.4449879580630433, -0.999503090467957, 1.0362026545443144, 0.9136741620871076, -0.5439968151535551, -0.8107903439717139, -1.9019102452016945, 0.7119532518308098, -0.5667692810338499, 1.0639290359748934, -0.6453104900764639, 0.26835233269243897, -0.7968176977559296, -0.7527220997163271, -1.5516630981944994, 0.5303143093757477, 1.0840453642416785, 1.4896418973352272, 1.2220370054697876, -0.16792657416935036, -0.2308432545947218, -0.29786350107739773, 0.12177245408476088, 1.3631037691423746, 0.6384473313553243, -0.7283898466255497, 0.2516740646126679, -0.8870567793418102, 0.5163456231504208, 1.1852874008722312], \"xaxis\": \"x13\", \"y\": [-0.38885819895232676, -0.9717472290895455, -0.9139514439533044, -0.12082311181586085, 0.3330149406569263, -0.9799049992518911, -1.67111919752334, 0.15162770083347216, 2.1445059748730726, 0.6058900549623925, 1.0630011917635849, -0.24644562811864812, -1.5325621975142605, -0.6469666724377413, -0.9616193205511907, 0.41800907429574874, 1.0397811292984618, -0.31541696072229847, -1.4049094608966841, -0.0884161044520405, 0.21495690415865082, 0.7272029791670528, -0.36171724757592705, -1.8843190236447718, -2.601906771859556, 0.9330016216922752, -1.0913660590152312, -0.4987963991281909, 1.7963669173505645, -0.020190081183019428, -0.08012435469167206, 1.0110582736533014, -1.1176034224498308, 0.669714490474785, 1.4345482061991972, 0.9899681205051231, -1.0361872742541638, 0.9543542851066912, 0.6886393863606326, 0.19966677361934768, 0.2248252323826824, 1.266659711726156, -1.1336143637616543, -1.9569188197769551, -0.6045250312730492, 1.008230391710319, -0.7398823275817051, -1.086953738335082, 1.9542880196409105, -1.941804377383334, -1.4808022512692627, -0.14015683186366015, 0.7626198660784957, -0.27479444953159154, 0.34448358744396157, 0.20148077743096154, 0.5811986146711187, 0.19960282050885136, 0.7739569815639976, -1.1573437069405694, 0.4521186470452195, 0.11990670910695764, 1.4924315665692511, 1.4175810663481372, 0.6183128660677296, 1.6061354947982638, 1.1996224140964713, -0.20863814845378764, -0.7959340245341419, 1.6055454796693986, 0.3345272122695861, -1.3223424522812381, 0.4077645278070668, -2.063164604706958, -0.06691844889513632, 0.5828815572503655, -0.3128476641027049, -1.1638349708744584, 0.41722706491806855, -0.18316239793324637, -0.930424708885888, -1.902918235853356, 0.8041526601231147, 0.10882810639113567, 0.2644282211852591, 2.310789453105758, -0.16812597599819737, -0.558078628026835, 0.11279638166561838, -0.5792231817795479, 0.09869825075713468, 0.5882162052004194, -0.792805396195245, 1.2161537394731101, -0.31067260416757025, -0.1178432631562213, 0.025596138383547126, 1.1510116422285448, 1.1275767421761456, -0.7168911555643587], \"yaxis\": \"y13\"}, {\"line\": {\"color\": \"rgba(128, 128, 128, 1.0)\", \"dash\": \"solid\", \"shape\": \"linear\", \"width\": 1.3}, \"marker\": {\"size\": 2, \"symbol\": \"circle\"}, \"mode\": \"markers\", \"name\": \"D\", \"text\": \"\", \"type\": \"scatter\", \"x\": [0.3134686022095278, 0.9167330694085948, 1.8358559878457181, 0.2834426630393991, 0.22899753551591995, 1.2214721753208433, 0.2910640003360314, 0.44389793149791734, 1.2162009677053427, -0.9619002047119665, -1.2784583359551878, -0.37144603885723965, 0.8800661016792073, -0.6763563018495778, -2.2277493627980003, 0.6930676738162171, -1.1683340478867852, -0.15790090640505508, -0.6826931554912031, 0.05049038923586889, 0.4869377860093024, -0.8835410697700743, 0.24868435409408757, -1.056969392655306, 0.6233496437331075, 0.9046922325586537, 0.2818495405726576, 0.14967640219134654, -0.6091488927991449, 0.2123086378874707, 0.45743817850369867, -0.9658200412921484, -0.00865557348175014, 0.4291721685534401, -0.22006799285765793, 2.488597634675389, -0.6061303020257509, 1.6102658234045657, -1.000863701554238, -0.534256527143899, -0.4621570121146412, -1.9759816278599311, -0.7760690578252674, -0.18467394830622197, -1.1458391575252205, 1.7555670562803594, -0.26250474351571285, 0.5464460246470153, 0.30987674584616987, 0.3520151819035632, 0.9958399353993154, -0.5214726384988668, 0.07222055358695231, 0.46791079579358846, -0.33047997165882564, 0.9192388020854462, -0.3256795536945822, -1.8653337188608055, 0.5962235529452432, -0.4240408936804001, 1.8384924861277794, -1.1038965745155283, -0.8519275517835061, 0.7141618825240307, 0.8285710482210474, -0.42276652716172586, -1.1587737795342765, 0.9809709177500708, -0.12667495781204194, -2.5319609816814572, 1.432198698417712, -1.0622603426980124, -0.6234638991651306, -1.2776077551390106, 0.028895853903978024, 1.644544932190103, -0.6163351737696124, -0.041946278013372994, 1.07876840216128, 0.4241597671285785, -2.2076469021892127, -0.6868007293609565, -0.7430886502094988, -0.33242320190080693, -0.7943984962651276, -2.4226861547474168, 1.5447323436514886, -0.5894859162554954, -0.5022088401908156, -1.5308674143676129, -1.1681670620058908, 1.3748345847740826, 0.28388738456361123, -0.37374003079645696, 2.9489109452284934, 0.38147384481885627, -0.6351765194539595, 0.08824145484231279, -0.811892307602746, -1.742992613677244], \"xaxis\": \"x14\", \"y\": [-0.38885819895232676, -0.9717472290895455, -0.9139514439533044, -0.12082311181586085, 0.3330149406569263, -0.9799049992518911, -1.67111919752334, 0.15162770083347216, 2.1445059748730726, 0.6058900549623925, 1.0630011917635849, -0.24644562811864812, -1.5325621975142605, -0.6469666724377413, -0.9616193205511907, 0.41800907429574874, 1.0397811292984618, -0.31541696072229847, -1.4049094608966841, -0.0884161044520405, 0.21495690415865082, 0.7272029791670528, -0.36171724757592705, -1.8843190236447718, -2.601906771859556, 0.9330016216922752, -1.0913660590152312, -0.4987963991281909, 1.7963669173505645, -0.020190081183019428, -0.08012435469167206, 1.0110582736533014, -1.1176034224498308, 0.669714490474785, 1.4345482061991972, 0.9899681205051231, -1.0361872742541638, 0.9543542851066912, 0.6886393863606326, 0.19966677361934768, 0.2248252323826824, 1.266659711726156, -1.1336143637616543, -1.9569188197769551, -0.6045250312730492, 1.008230391710319, -0.7398823275817051, -1.086953738335082, 1.9542880196409105, -1.941804377383334, -1.4808022512692627, -0.14015683186366015, 0.7626198660784957, -0.27479444953159154, 0.34448358744396157, 0.20148077743096154, 0.5811986146711187, 0.19960282050885136, 0.7739569815639976, -1.1573437069405694, 0.4521186470452195, 0.11990670910695764, 1.4924315665692511, 1.4175810663481372, 0.6183128660677296, 1.6061354947982638, 1.1996224140964713, -0.20863814845378764, -0.7959340245341419, 1.6055454796693986, 0.3345272122695861, -1.3223424522812381, 0.4077645278070668, -2.063164604706958, -0.06691844889513632, 0.5828815572503655, -0.3128476641027049, -1.1638349708744584, 0.41722706491806855, -0.18316239793324637, -0.930424708885888, -1.902918235853356, 0.8041526601231147, 0.10882810639113567, 0.2644282211852591, 2.310789453105758, -0.16812597599819737, -0.558078628026835, 0.11279638166561838, -0.5792231817795479, 0.09869825075713468, 0.5882162052004194, -0.792805396195245, 1.2161537394731101, -0.31067260416757025, -0.1178432631562213, 0.025596138383547126, 1.1510116422285448, 1.1275767421761456, -0.7168911555643587], \"yaxis\": \"y14\"}, {\"line\": {\"color\": \"rgba(128, 128, 128, 1.0)\", \"dash\": \"solid\", \"shape\": \"linear\", \"width\": 1.3}, \"marker\": {\"size\": 2, \"symbol\": \"circle\"}, \"mode\": \"markers\", \"name\": \"D\", \"text\": \"\", \"type\": \"scatter\", \"x\": [1.231070159811716, -0.03117281649129617, -0.6162773756384039, -1.6376008743252277, -0.08241446653137414, -1.1857410285737386, 1.5025063017476732, -0.05133227922674751, 1.2644556879951765, -0.05964774681572033, -2.297403684005262, -0.9868119640856649, 0.05675988924076596, 1.185951066101353, -1.373095549551666, -0.20562601185759508, 1.9428309188887116, -0.18927683502183562, 0.9825093159521757, -1.2263415995284603, -0.6298439802477139, 0.6068580870279782, -0.890636392495951, 0.631918047414181, -0.7720379065528462, -0.29593149001966135, -1.1226904422118051, 0.23629800314365096, -0.4741276194468566, 2.1717181443789344, -1.4806895991854223, -0.4955021094440134, 0.032117081646470994, 0.25701142893123874, -0.23713230266729876, 0.9695332751815351, 0.2716319732427874, -0.20824851930974994, -1.0475258685794056, 0.56838672084109, -0.14802383067475433, -0.2626985118025356, -0.485172385498463, 0.40027566985106316, -0.4421940311637228, -1.2083996634068965, -1.5985316077391072, 0.5640687204376864, -0.37255174684050163, 1.9573057613355627, -0.08203264742974938, -0.6363424018323703, 0.47124001588370756, -0.9974260837891378, 0.561213886768126, -0.2517931486910543, -1.0726006338905476, 1.895293220583968, -0.5735772528649017, -1.0961897880553446, -1.2473194715544305, -1.9395128963440484, -0.8011034626807447, -0.8729632839115978, 0.9718542651123409, 0.9880918794379198, -0.3539421511355455, -0.7872073680358485, -0.014673280228460442, 0.0719656927583585, 0.22437507299150267, 1.238024342372839, 0.3609958413639249, 0.31562209670153074, 0.660784086125347, 1.0264393713595676, -1.2501039657721695, 0.7398172427970308, -1.379883171220064, -0.2789847177401478, 0.402043007570006, 0.14469232460479514, -0.08498934486439978, 1.7134644085780146, -1.4468169895356162, 0.715895965943651, -0.1544878290689414, -0.19537887570599272, -0.5316531629843192, -0.44306354202850134, 0.42475780202125824, -0.585282832765401, 2.0077890009820103, -0.00392265960940687, -0.7012580198585556, 3.2492551217480696, -1.0309968186486267, -1.8420028443536924, -0.4099855734921172, 0.31802949595869745], \"xaxis\": \"x15\", \"y\": [-0.38885819895232676, -0.9717472290895455, -0.9139514439533044, -0.12082311181586085, 0.3330149406569263, -0.9799049992518911, -1.67111919752334, 0.15162770083347216, 2.1445059748730726, 0.6058900549623925, 1.0630011917635849, -0.24644562811864812, -1.5325621975142605, -0.6469666724377413, -0.9616193205511907, 0.41800907429574874, 1.0397811292984618, -0.31541696072229847, -1.4049094608966841, -0.0884161044520405, 0.21495690415865082, 0.7272029791670528, -0.36171724757592705, -1.8843190236447718, -2.601906771859556, 0.9330016216922752, -1.0913660590152312, -0.4987963991281909, 1.7963669173505645, -0.020190081183019428, -0.08012435469167206, 1.0110582736533014, -1.1176034224498308, 0.669714490474785, 1.4345482061991972, 0.9899681205051231, -1.0361872742541638, 0.9543542851066912, 0.6886393863606326, 0.19966677361934768, 0.2248252323826824, 1.266659711726156, -1.1336143637616543, -1.9569188197769551, -0.6045250312730492, 1.008230391710319, -0.7398823275817051, -1.086953738335082, 1.9542880196409105, -1.941804377383334, -1.4808022512692627, -0.14015683186366015, 0.7626198660784957, -0.27479444953159154, 0.34448358744396157, 0.20148077743096154, 0.5811986146711187, 0.19960282050885136, 0.7739569815639976, -1.1573437069405694, 0.4521186470452195, 0.11990670910695764, 1.4924315665692511, 1.4175810663481372, 0.6183128660677296, 1.6061354947982638, 1.1996224140964713, -0.20863814845378764, -0.7959340245341419, 1.6055454796693986, 0.3345272122695861, -1.3223424522812381, 0.4077645278070668, -2.063164604706958, -0.06691844889513632, 0.5828815572503655, -0.3128476641027049, -1.1638349708744584, 0.41722706491806855, -0.18316239793324637, -0.930424708885888, -1.902918235853356, 0.8041526601231147, 0.10882810639113567, 0.2644282211852591, 2.310789453105758, -0.16812597599819737, -0.558078628026835, 0.11279638166561838, -0.5792231817795479, 0.09869825075713468, 0.5882162052004194, -0.792805396195245, 1.2161537394731101, -0.31067260416757025, -0.1178432631562213, 0.025596138383547126, 1.1510116422285448, 1.1275767421761456, -0.7168911555643587], \"yaxis\": \"y15\"}, {\"histfunc\": \"count\", \"histnorm\": \"\", \"marker\": {\"color\": \"rgba(128, 0, 128, 1.0)\", \"line\": {\"color\": \"#4D5663\", \"width\": 1.3}}, \"name\": \"D\", \"nbinsx\": 10, \"opacity\": 0.8, \"orientation\": \"v\", \"type\": \"histogram\", \"x\": [-0.38885819895232676, -0.9717472290895455, -0.9139514439533044, -0.12082311181586085, 0.3330149406569263, -0.9799049992518911, -1.67111919752334, 0.15162770083347216, 2.1445059748730726, 0.6058900549623925, 1.0630011917635849, -0.24644562811864812, -1.5325621975142605, -0.6469666724377413, -0.9616193205511907, 0.41800907429574874, 1.0397811292984618, -0.31541696072229847, -1.4049094608966841, -0.0884161044520405, 0.21495690415865082, 0.7272029791670528, -0.36171724757592705, -1.8843190236447718, -2.601906771859556, 0.9330016216922752, -1.0913660590152312, -0.4987963991281909, 1.7963669173505645, -0.020190081183019428, -0.08012435469167206, 1.0110582736533014, -1.1176034224498308, 0.669714490474785, 1.4345482061991972, 0.9899681205051231, -1.0361872742541638, 0.9543542851066912, 0.6886393863606326, 0.19966677361934768, 0.2248252323826824, 1.266659711726156, -1.1336143637616543, -1.9569188197769551, -0.6045250312730492, 1.008230391710319, -0.7398823275817051, -1.086953738335082, 1.9542880196409105, -1.941804377383334, -1.4808022512692627, -0.14015683186366015, 0.7626198660784957, -0.27479444953159154, 0.34448358744396157, 0.20148077743096154, 0.5811986146711187, 0.19960282050885136, 0.7739569815639976, -1.1573437069405694, 0.4521186470452195, 0.11990670910695764, 1.4924315665692511, 1.4175810663481372, 0.6183128660677296, 1.6061354947982638, 1.1996224140964713, -0.20863814845378764, -0.7959340245341419, 1.6055454796693986, 0.3345272122695861, -1.3223424522812381, 0.4077645278070668, -2.063164604706958, -0.06691844889513632, 0.5828815572503655, -0.3128476641027049, -1.1638349708744584, 0.41722706491806855, -0.18316239793324637, -0.930424708885888, -1.902918235853356, 0.8041526601231147, 0.10882810639113567, 0.2644282211852591, 2.310789453105758, -0.16812597599819737, -0.558078628026835, 0.11279638166561838, -0.5792231817795479, 0.09869825075713468, 0.5882162052004194, -0.792805396195245, 1.2161537394731101, -0.31067260416757025, -0.1178432631562213, 0.025596138383547126, 1.1510116422285448, 1.1275767421761456, -0.7168911555643587], \"xaxis\": \"x16\", \"yaxis\": \"y16\"}],\n",
       "                        {\"bargap\": 0.02, \"legend\": {\"bgcolor\": \"#F5F6F9\", \"font\": {\"color\": \"#4D5663\"}}, \"paper_bgcolor\": \"#F5F6F9\", \"plot_bgcolor\": \"#F5F6F9\", \"showlegend\": false, \"template\": {\"data\": {\"bar\": [{\"error_x\": {\"color\": \"#2a3f5f\"}, \"error_y\": {\"color\": \"#2a3f5f\"}, \"marker\": {\"line\": {\"color\": \"#E5ECF6\", \"width\": 0.5}}, \"type\": \"bar\"}], \"barpolar\": [{\"marker\": {\"line\": {\"color\": \"#E5ECF6\", \"width\": 0.5}}, \"type\": \"barpolar\"}], \"carpet\": [{\"aaxis\": {\"endlinecolor\": \"#2a3f5f\", \"gridcolor\": \"white\", \"linecolor\": \"white\", \"minorgridcolor\": \"white\", \"startlinecolor\": \"#2a3f5f\"}, \"baxis\": {\"endlinecolor\": \"#2a3f5f\", \"gridcolor\": \"white\", \"linecolor\": \"white\", \"minorgridcolor\": \"white\", \"startlinecolor\": \"#2a3f5f\"}, \"type\": \"carpet\"}], \"choropleth\": [{\"colorbar\": {\"outlinewidth\": 0, \"ticks\": \"\"}, \"type\": \"choropleth\"}], \"contour\": [{\"colorbar\": {\"outlinewidth\": 0, \"ticks\": \"\"}, \"colorscale\": [[0.0, \"#0d0887\"], [0.1111111111111111, \"#46039f\"], [0.2222222222222222, \"#7201a8\"], [0.3333333333333333, \"#9c179e\"], [0.4444444444444444, \"#bd3786\"], [0.5555555555555556, \"#d8576b\"], [0.6666666666666666, \"#ed7953\"], [0.7777777777777778, \"#fb9f3a\"], [0.8888888888888888, \"#fdca26\"], [1.0, \"#f0f921\"]], \"type\": \"contour\"}], \"contourcarpet\": [{\"colorbar\": {\"outlinewidth\": 0, \"ticks\": \"\"}, \"type\": \"contourcarpet\"}], \"heatmap\": [{\"colorbar\": {\"outlinewidth\": 0, \"ticks\": \"\"}, \"colorscale\": [[0.0, \"#0d0887\"], [0.1111111111111111, \"#46039f\"], [0.2222222222222222, \"#7201a8\"], [0.3333333333333333, \"#9c179e\"], [0.4444444444444444, \"#bd3786\"], [0.5555555555555556, \"#d8576b\"], [0.6666666666666666, \"#ed7953\"], [0.7777777777777778, \"#fb9f3a\"], [0.8888888888888888, \"#fdca26\"], [1.0, \"#f0f921\"]], \"type\": \"heatmap\"}], \"heatmapgl\": [{\"colorbar\": {\"outlinewidth\": 0, \"ticks\": \"\"}, \"colorscale\": [[0.0, \"#0d0887\"], [0.1111111111111111, \"#46039f\"], [0.2222222222222222, \"#7201a8\"], [0.3333333333333333, \"#9c179e\"], [0.4444444444444444, \"#bd3786\"], [0.5555555555555556, \"#d8576b\"], [0.6666666666666666, \"#ed7953\"], [0.7777777777777778, \"#fb9f3a\"], [0.8888888888888888, \"#fdca26\"], [1.0, \"#f0f921\"]], \"type\": \"heatmapgl\"}], \"histogram\": [{\"marker\": {\"colorbar\": {\"outlinewidth\": 0, \"ticks\": \"\"}}, \"type\": \"histogram\"}], \"histogram2d\": [{\"colorbar\": {\"outlinewidth\": 0, \"ticks\": \"\"}, \"colorscale\": [[0.0, \"#0d0887\"], [0.1111111111111111, \"#46039f\"], [0.2222222222222222, \"#7201a8\"], [0.3333333333333333, \"#9c179e\"], [0.4444444444444444, \"#bd3786\"], [0.5555555555555556, \"#d8576b\"], [0.6666666666666666, \"#ed7953\"], [0.7777777777777778, \"#fb9f3a\"], [0.8888888888888888, \"#fdca26\"], [1.0, \"#f0f921\"]], \"type\": \"histogram2d\"}], \"histogram2dcontour\": [{\"colorbar\": {\"outlinewidth\": 0, \"ticks\": \"\"}, \"colorscale\": [[0.0, \"#0d0887\"], [0.1111111111111111, \"#46039f\"], [0.2222222222222222, \"#7201a8\"], [0.3333333333333333, \"#9c179e\"], [0.4444444444444444, \"#bd3786\"], [0.5555555555555556, \"#d8576b\"], [0.6666666666666666, \"#ed7953\"], [0.7777777777777778, \"#fb9f3a\"], [0.8888888888888888, \"#fdca26\"], [1.0, \"#f0f921\"]], \"type\": \"histogram2dcontour\"}], \"mesh3d\": [{\"colorbar\": {\"outlinewidth\": 0, \"ticks\": \"\"}, \"type\": \"mesh3d\"}], \"parcoords\": [{\"line\": {\"colorbar\": {\"outlinewidth\": 0, \"ticks\": \"\"}}, \"type\": \"parcoords\"}], \"pie\": [{\"automargin\": true, \"type\": \"pie\"}], \"scatter\": [{\"marker\": {\"colorbar\": {\"outlinewidth\": 0, \"ticks\": \"\"}}, \"type\": \"scatter\"}], \"scatter3d\": [{\"line\": {\"colorbar\": {\"outlinewidth\": 0, \"ticks\": \"\"}}, \"marker\": {\"colorbar\": {\"outlinewidth\": 0, \"ticks\": \"\"}}, \"type\": \"scatter3d\"}], \"scattercarpet\": [{\"marker\": {\"colorbar\": {\"outlinewidth\": 0, \"ticks\": \"\"}}, \"type\": \"scattercarpet\"}], \"scattergeo\": [{\"marker\": {\"colorbar\": {\"outlinewidth\": 0, \"ticks\": \"\"}}, \"type\": \"scattergeo\"}], \"scattergl\": [{\"marker\": {\"colorbar\": {\"outlinewidth\": 0, \"ticks\": \"\"}}, \"type\": \"scattergl\"}], \"scattermapbox\": [{\"marker\": {\"colorbar\": {\"outlinewidth\": 0, \"ticks\": \"\"}}, \"type\": \"scattermapbox\"}], \"scatterpolar\": [{\"marker\": {\"colorbar\": {\"outlinewidth\": 0, \"ticks\": \"\"}}, \"type\": \"scatterpolar\"}], \"scatterpolargl\": [{\"marker\": {\"colorbar\": {\"outlinewidth\": 0, \"ticks\": \"\"}}, \"type\": \"scatterpolargl\"}], \"scatterternary\": [{\"marker\": {\"colorbar\": {\"outlinewidth\": 0, \"ticks\": \"\"}}, \"type\": \"scatterternary\"}], \"surface\": [{\"colorbar\": {\"outlinewidth\": 0, \"ticks\": \"\"}, \"colorscale\": [[0.0, \"#0d0887\"], [0.1111111111111111, \"#46039f\"], [0.2222222222222222, \"#7201a8\"], [0.3333333333333333, \"#9c179e\"], [0.4444444444444444, \"#bd3786\"], [0.5555555555555556, \"#d8576b\"], [0.6666666666666666, \"#ed7953\"], [0.7777777777777778, \"#fb9f3a\"], [0.8888888888888888, \"#fdca26\"], [1.0, \"#f0f921\"]], \"type\": \"surface\"}], \"table\": [{\"cells\": {\"fill\": {\"color\": \"#EBF0F8\"}, \"line\": {\"color\": \"white\"}}, \"header\": {\"fill\": {\"color\": \"#C8D4E3\"}, \"line\": {\"color\": \"white\"}}, \"type\": \"table\"}]}, \"layout\": {\"annotationdefaults\": {\"arrowcolor\": \"#2a3f5f\", \"arrowhead\": 0, \"arrowwidth\": 1}, \"coloraxis\": {\"colorbar\": {\"outlinewidth\": 0, \"ticks\": \"\"}}, \"colorscale\": {\"diverging\": [[0, \"#8e0152\"], [0.1, \"#c51b7d\"], [0.2, \"#de77ae\"], [0.3, \"#f1b6da\"], [0.4, \"#fde0ef\"], [0.5, \"#f7f7f7\"], [0.6, \"#e6f5d0\"], [0.7, \"#b8e186\"], [0.8, \"#7fbc41\"], [0.9, \"#4d9221\"], [1, \"#276419\"]], \"sequential\": [[0.0, \"#0d0887\"], [0.1111111111111111, \"#46039f\"], [0.2222222222222222, \"#7201a8\"], [0.3333333333333333, \"#9c179e\"], [0.4444444444444444, \"#bd3786\"], [0.5555555555555556, \"#d8576b\"], [0.6666666666666666, \"#ed7953\"], [0.7777777777777778, \"#fb9f3a\"], [0.8888888888888888, \"#fdca26\"], [1.0, \"#f0f921\"]], \"sequentialminus\": [[0.0, \"#0d0887\"], [0.1111111111111111, \"#46039f\"], [0.2222222222222222, \"#7201a8\"], [0.3333333333333333, \"#9c179e\"], [0.4444444444444444, \"#bd3786\"], [0.5555555555555556, \"#d8576b\"], [0.6666666666666666, \"#ed7953\"], [0.7777777777777778, \"#fb9f3a\"], [0.8888888888888888, \"#fdca26\"], [1.0, \"#f0f921\"]]}, \"colorway\": [\"#636efa\", \"#EF553B\", \"#00cc96\", \"#ab63fa\", \"#FFA15A\", \"#19d3f3\", \"#FF6692\", \"#B6E880\", \"#FF97FF\", \"#FECB52\"], \"font\": {\"color\": \"#2a3f5f\"}, \"geo\": {\"bgcolor\": \"white\", \"lakecolor\": \"white\", \"landcolor\": \"#E5ECF6\", \"showlakes\": true, \"showland\": true, \"subunitcolor\": \"white\"}, \"hoverlabel\": {\"align\": \"left\"}, \"hovermode\": \"closest\", \"mapbox\": {\"style\": \"light\"}, \"paper_bgcolor\": \"white\", \"plot_bgcolor\": \"#E5ECF6\", \"polar\": {\"angularaxis\": {\"gridcolor\": \"white\", \"linecolor\": \"white\", \"ticks\": \"\"}, \"bgcolor\": \"#E5ECF6\", \"radialaxis\": {\"gridcolor\": \"white\", \"linecolor\": \"white\", \"ticks\": \"\"}}, \"scene\": {\"xaxis\": {\"backgroundcolor\": \"#E5ECF6\", \"gridcolor\": \"white\", \"gridwidth\": 2, \"linecolor\": \"white\", \"showbackground\": true, \"ticks\": \"\", \"zerolinecolor\": \"white\"}, \"yaxis\": {\"backgroundcolor\": \"#E5ECF6\", \"gridcolor\": \"white\", \"gridwidth\": 2, \"linecolor\": \"white\", \"showbackground\": true, \"ticks\": \"\", \"zerolinecolor\": \"white\"}, \"zaxis\": {\"backgroundcolor\": \"#E5ECF6\", \"gridcolor\": \"white\", \"gridwidth\": 2, \"linecolor\": \"white\", \"showbackground\": true, \"ticks\": \"\", \"zerolinecolor\": \"white\"}}, \"shapedefaults\": {\"line\": {\"color\": \"#2a3f5f\"}}, \"ternary\": {\"aaxis\": {\"gridcolor\": \"white\", \"linecolor\": \"white\", \"ticks\": \"\"}, \"baxis\": {\"gridcolor\": \"white\", \"linecolor\": \"white\", \"ticks\": \"\"}, \"bgcolor\": \"#E5ECF6\", \"caxis\": {\"gridcolor\": \"white\", \"linecolor\": \"white\", \"ticks\": \"\"}}, \"title\": {\"x\": 0.05}, \"xaxis\": {\"automargin\": true, \"gridcolor\": \"white\", \"linecolor\": \"white\", \"ticks\": \"\", \"title\": {\"standoff\": 15}, \"zerolinecolor\": \"white\", \"zerolinewidth\": 2}, \"yaxis\": {\"automargin\": true, \"gridcolor\": \"white\", \"linecolor\": \"white\", \"ticks\": \"\", \"title\": {\"standoff\": 15}, \"zerolinecolor\": \"white\", \"zerolinewidth\": 2}}}, \"title\": {\"font\": {\"color\": \"#4D5663\"}}, \"xaxis\": {\"anchor\": \"y\", \"domain\": [0.0, 0.2125], \"gridcolor\": \"#E1E5ED\", \"showgrid\": false, \"tickfont\": {\"color\": \"#4D5663\"}, \"title\": {\"font\": {\"color\": \"#4D5663\"}, \"text\": \"\"}, \"zerolinecolor\": \"#E1E5ED\"}, \"xaxis10\": {\"anchor\": \"y10\", \"domain\": [0.2625, 0.475], \"gridcolor\": \"#E1E5ED\", \"showgrid\": false, \"tickfont\": {\"color\": \"#4D5663\"}, \"title\": {\"font\": {\"color\": \"#4D5663\"}, \"text\": \"\"}, \"zerolinecolor\": \"#E1E5ED\"}, \"xaxis11\": {\"anchor\": \"y11\", \"domain\": [0.525, 0.7375], \"gridcolor\": \"#E1E5ED\", \"showgrid\": false, \"tickfont\": {\"color\": \"#4D5663\"}, \"title\": {\"font\": {\"color\": \"#4D5663\"}, \"text\": \"\"}, \"zerolinecolor\": \"#E1E5ED\"}, \"xaxis12\": {\"anchor\": \"y12\", \"domain\": [0.7875, 1.0], \"gridcolor\": \"#E1E5ED\", \"showgrid\": false, \"tickfont\": {\"color\": \"#4D5663\"}, \"title\": {\"font\": {\"color\": \"#4D5663\"}, \"text\": \"\"}, \"zerolinecolor\": \"#E1E5ED\"}, \"xaxis13\": {\"anchor\": \"y13\", \"domain\": [0.0, 0.2125], \"gridcolor\": \"#E1E5ED\", \"showgrid\": false, \"tickfont\": {\"color\": \"#4D5663\"}, \"title\": {\"font\": {\"color\": \"#4D5663\"}, \"text\": \"\"}, \"zerolinecolor\": \"#E1E5ED\"}, \"xaxis14\": {\"anchor\": \"y14\", \"domain\": [0.2625, 0.475], \"gridcolor\": \"#E1E5ED\", \"showgrid\": false, \"tickfont\": {\"color\": \"#4D5663\"}, \"title\": {\"font\": {\"color\": \"#4D5663\"}, \"text\": \"\"}, \"zerolinecolor\": \"#E1E5ED\"}, \"xaxis15\": {\"anchor\": \"y15\", \"domain\": [0.525, 0.7375], \"gridcolor\": \"#E1E5ED\", \"showgrid\": false, \"tickfont\": {\"color\": \"#4D5663\"}, \"title\": {\"font\": {\"color\": \"#4D5663\"}, \"text\": \"\"}, \"zerolinecolor\": \"#E1E5ED\"}, \"xaxis16\": {\"anchor\": \"y16\", \"domain\": [0.7875, 1.0], \"gridcolor\": \"#E1E5ED\", \"showgrid\": false, \"tickfont\": {\"color\": \"#4D5663\"}, \"title\": {\"font\": {\"color\": \"#4D5663\"}, \"text\": \"\"}, \"zerolinecolor\": \"#E1E5ED\"}, \"xaxis2\": {\"anchor\": \"y2\", \"domain\": [0.2625, 0.475], \"gridcolor\": \"#E1E5ED\", \"showgrid\": false, \"tickfont\": {\"color\": \"#4D5663\"}, \"title\": {\"font\": {\"color\": \"#4D5663\"}, \"text\": \"\"}, \"zerolinecolor\": \"#E1E5ED\"}, \"xaxis3\": {\"anchor\": \"y3\", \"domain\": [0.525, 0.7375], \"gridcolor\": \"#E1E5ED\", \"showgrid\": false, \"tickfont\": {\"color\": \"#4D5663\"}, \"title\": {\"font\": {\"color\": \"#4D5663\"}, \"text\": \"\"}, \"zerolinecolor\": \"#E1E5ED\"}, \"xaxis4\": {\"anchor\": \"y4\", \"domain\": [0.7875, 1.0], \"gridcolor\": \"#E1E5ED\", \"showgrid\": false, \"tickfont\": {\"color\": \"#4D5663\"}, \"title\": {\"font\": {\"color\": \"#4D5663\"}, \"text\": \"\"}, \"zerolinecolor\": \"#E1E5ED\"}, \"xaxis5\": {\"anchor\": \"y5\", \"domain\": [0.0, 0.2125], \"gridcolor\": \"#E1E5ED\", \"showgrid\": false, \"tickfont\": {\"color\": \"#4D5663\"}, \"title\": {\"font\": {\"color\": \"#4D5663\"}, \"text\": \"\"}, \"zerolinecolor\": \"#E1E5ED\"}, \"xaxis6\": {\"anchor\": \"y6\", \"domain\": [0.2625, 0.475], \"gridcolor\": \"#E1E5ED\", \"showgrid\": false, \"tickfont\": {\"color\": \"#4D5663\"}, \"title\": {\"font\": {\"color\": \"#4D5663\"}, \"text\": \"\"}, \"zerolinecolor\": \"#E1E5ED\"}, \"xaxis7\": {\"anchor\": \"y7\", \"domain\": [0.525, 0.7375], \"gridcolor\": \"#E1E5ED\", \"showgrid\": false, \"tickfont\": {\"color\": \"#4D5663\"}, \"title\": {\"font\": {\"color\": \"#4D5663\"}, \"text\": \"\"}, \"zerolinecolor\": \"#E1E5ED\"}, \"xaxis8\": {\"anchor\": \"y8\", \"domain\": [0.7875, 1.0], \"gridcolor\": \"#E1E5ED\", \"showgrid\": false, \"tickfont\": {\"color\": \"#4D5663\"}, \"title\": {\"font\": {\"color\": \"#4D5663\"}, \"text\": \"\"}, \"zerolinecolor\": \"#E1E5ED\"}, \"xaxis9\": {\"anchor\": \"y9\", \"domain\": [0.0, 0.2125], \"gridcolor\": \"#E1E5ED\", \"showgrid\": false, \"tickfont\": {\"color\": \"#4D5663\"}, \"title\": {\"font\": {\"color\": \"#4D5663\"}, \"text\": \"\"}, \"zerolinecolor\": \"#E1E5ED\"}, \"yaxis\": {\"anchor\": \"x\", \"domain\": [0.8025, 1.0], \"gridcolor\": \"#E1E5ED\", \"showgrid\": false, \"tickfont\": {\"color\": \"#4D5663\"}, \"title\": {\"font\": {\"color\": \"#4D5663\"}, \"text\": \"\"}, \"zerolinecolor\": \"#E1E5ED\"}, \"yaxis10\": {\"anchor\": \"x10\", \"domain\": [0.2675, 0.465], \"gridcolor\": \"#E1E5ED\", \"showgrid\": false, \"tickfont\": {\"color\": \"#4D5663\"}, \"title\": {\"font\": {\"color\": \"#4D5663\"}, \"text\": \"\"}, \"zerolinecolor\": \"#E1E5ED\"}, \"yaxis11\": {\"anchor\": \"x11\", \"domain\": [0.2675, 0.465], \"gridcolor\": \"#E1E5ED\", \"showgrid\": false, \"tickfont\": {\"color\": \"#4D5663\"}, \"title\": {\"font\": {\"color\": \"#4D5663\"}, \"text\": \"\"}, \"zerolinecolor\": \"#E1E5ED\"}, \"yaxis12\": {\"anchor\": \"x12\", \"domain\": [0.2675, 0.465], \"gridcolor\": \"#E1E5ED\", \"showgrid\": false, \"tickfont\": {\"color\": \"#4D5663\"}, \"title\": {\"font\": {\"color\": \"#4D5663\"}, \"text\": \"\"}, \"zerolinecolor\": \"#E1E5ED\"}, \"yaxis13\": {\"anchor\": \"x13\", \"domain\": [0.0, 0.1975], \"gridcolor\": \"#E1E5ED\", \"showgrid\": false, \"tickfont\": {\"color\": \"#4D5663\"}, \"title\": {\"font\": {\"color\": \"#4D5663\"}, \"text\": \"\"}, \"zerolinecolor\": \"#E1E5ED\"}, \"yaxis14\": {\"anchor\": \"x14\", \"domain\": [0.0, 0.1975], \"gridcolor\": \"#E1E5ED\", \"showgrid\": false, \"tickfont\": {\"color\": \"#4D5663\"}, \"title\": {\"font\": {\"color\": \"#4D5663\"}, \"text\": \"\"}, \"zerolinecolor\": \"#E1E5ED\"}, \"yaxis15\": {\"anchor\": \"x15\", \"domain\": [0.0, 0.1975], \"gridcolor\": \"#E1E5ED\", \"showgrid\": false, \"tickfont\": {\"color\": \"#4D5663\"}, \"title\": {\"font\": {\"color\": \"#4D5663\"}, \"text\": \"\"}, \"zerolinecolor\": \"#E1E5ED\"}, \"yaxis16\": {\"anchor\": \"x16\", \"domain\": [0.0, 0.1975], \"gridcolor\": \"#E1E5ED\", \"showgrid\": false, \"tickfont\": {\"color\": \"#4D5663\"}, \"title\": {\"font\": {\"color\": \"#4D5663\"}, \"text\": \"\"}, \"zerolinecolor\": \"#E1E5ED\"}, \"yaxis2\": {\"anchor\": \"x2\", \"domain\": [0.8025, 1.0], \"gridcolor\": \"#E1E5ED\", \"showgrid\": false, \"tickfont\": {\"color\": \"#4D5663\"}, \"title\": {\"font\": {\"color\": \"#4D5663\"}, \"text\": \"\"}, \"zerolinecolor\": \"#E1E5ED\"}, \"yaxis3\": {\"anchor\": \"x3\", \"domain\": [0.8025, 1.0], \"gridcolor\": \"#E1E5ED\", \"showgrid\": false, \"tickfont\": {\"color\": \"#4D5663\"}, \"title\": {\"font\": {\"color\": \"#4D5663\"}, \"text\": \"\"}, \"zerolinecolor\": \"#E1E5ED\"}, \"yaxis4\": {\"anchor\": \"x4\", \"domain\": [0.8025, 1.0], \"gridcolor\": \"#E1E5ED\", \"showgrid\": false, \"tickfont\": {\"color\": \"#4D5663\"}, \"title\": {\"font\": {\"color\": \"#4D5663\"}, \"text\": \"\"}, \"zerolinecolor\": \"#E1E5ED\"}, \"yaxis5\": {\"anchor\": \"x5\", \"domain\": [0.535, 0.7325], \"gridcolor\": \"#E1E5ED\", \"showgrid\": false, \"tickfont\": {\"color\": \"#4D5663\"}, \"title\": {\"font\": {\"color\": \"#4D5663\"}, \"text\": \"\"}, \"zerolinecolor\": \"#E1E5ED\"}, \"yaxis6\": {\"anchor\": \"x6\", \"domain\": [0.535, 0.7325], \"gridcolor\": \"#E1E5ED\", \"showgrid\": false, \"tickfont\": {\"color\": \"#4D5663\"}, \"title\": {\"font\": {\"color\": \"#4D5663\"}, \"text\": \"\"}, \"zerolinecolor\": \"#E1E5ED\"}, \"yaxis7\": {\"anchor\": \"x7\", \"domain\": [0.535, 0.7325], \"gridcolor\": \"#E1E5ED\", \"showgrid\": false, \"tickfont\": {\"color\": \"#4D5663\"}, \"title\": {\"font\": {\"color\": \"#4D5663\"}, \"text\": \"\"}, \"zerolinecolor\": \"#E1E5ED\"}, \"yaxis8\": {\"anchor\": \"x8\", \"domain\": [0.535, 0.7325], \"gridcolor\": \"#E1E5ED\", \"showgrid\": false, \"tickfont\": {\"color\": \"#4D5663\"}, \"title\": {\"font\": {\"color\": \"#4D5663\"}, \"text\": \"\"}, \"zerolinecolor\": \"#E1E5ED\"}, \"yaxis9\": {\"anchor\": \"x9\", \"domain\": [0.2675, 0.465], \"gridcolor\": \"#E1E5ED\", \"showgrid\": false, \"tickfont\": {\"color\": \"#4D5663\"}, \"title\": {\"font\": {\"color\": \"#4D5663\"}, \"text\": \"\"}, \"zerolinecolor\": \"#E1E5ED\"}},\n",
       "                        {\"showLink\": true, \"linkText\": \"Export to plot.ly\", \"plotlyServerURL\": \"https://plot.ly\", \"responsive\": true}\n",
       "                    ).then(function(){\n",
       "                            \n",
       "var gd = document.getElementById('79798d73-7040-48ba-b197-792b015f1d6f');\n",
       "var x = new MutationObserver(function (mutations, observer) {{\n",
       "        var display = window.getComputedStyle(gd).display;\n",
       "        if (!display || display === 'none') {{\n",
       "            console.log([gd, 'removed!']);\n",
       "            Plotly.purge(gd);\n",
       "            observer.disconnect();\n",
       "        }}\n",
       "}});\n",
       "\n",
       "// Listen for the removal of the full notebook cells\n",
       "var notebookContainer = gd.closest('#notebook-container');\n",
       "if (notebookContainer) {{\n",
       "    x.observe(notebookContainer, {childList: true});\n",
       "}}\n",
       "\n",
       "// Listen for the clearing of the current output cell\n",
       "var outputEl = gd.closest('.output');\n",
       "if (outputEl) {{\n",
       "    x.observe(outputEl, {childList: true});\n",
       "}}\n",
       "\n",
       "                        })\n",
       "                };\n",
       "                });\n",
       "            </script>\n",
       "        </div>"
      ]
     },
     "metadata": {},
     "output_type": "display_data"
    }
   ],
   "source": [
    "# Scatter Matrix; all columns must be numerical values\n",
    "df.scatter_matrix()"
   ]
  },
  {
   "cell_type": "code",
   "execution_count": null,
   "metadata": {},
   "outputs": [],
   "source": []
  }
 ],
 "metadata": {
  "kernelspec": {
   "display_name": "da1",
   "language": "python",
   "name": "da1"
  },
  "language_info": {
   "codemirror_mode": {
    "name": "ipython",
    "version": 3
   },
   "file_extension": ".py",
   "mimetype": "text/x-python",
   "name": "python",
   "nbconvert_exporter": "python",
   "pygments_lexer": "ipython3",
   "version": "3.7.6"
  }
 },
 "nbformat": 4,
 "nbformat_minor": 4
}
