{
 "cells": [
  {
   "cell_type": "markdown",
   "metadata": {},
   "source": [
    "# Tensorboard"
   ]
  },
  {
   "cell_type": "code",
   "execution_count": 1,
   "metadata": {},
   "outputs": [],
   "source": [
    "import pandas as pd\n",
    "import numpy as np\n",
    "import os"
   ]
  },
  {
   "cell_type": "code",
   "execution_count": 2,
   "metadata": {},
   "outputs": [],
   "source": [
    "df = pd.read_csv('../DATA/cancer_classification.csv')"
   ]
  },
  {
   "cell_type": "markdown",
   "metadata": {},
   "source": [
    "### Train Test Split"
   ]
  },
  {
   "cell_type": "code",
   "execution_count": 3,
   "metadata": {},
   "outputs": [],
   "source": [
    "X = df.drop('benign_0__mal_1',axis=1).values\n",
    "y = df['benign_0__mal_1'].values"
   ]
  },
  {
   "cell_type": "code",
   "execution_count": 4,
   "metadata": {},
   "outputs": [],
   "source": [
    "from sklearn.model_selection import train_test_split"
   ]
  },
  {
   "cell_type": "code",
   "execution_count": 5,
   "metadata": {},
   "outputs": [],
   "source": [
    "X_train, X_test, y_train, y_test = train_test_split(X,y,test_size=0.25,random_state=101)"
   ]
  },
  {
   "cell_type": "markdown",
   "metadata": {},
   "source": [
    "\n",
    "### Scaling Data"
   ]
  },
  {
   "cell_type": "code",
   "execution_count": 6,
   "metadata": {},
   "outputs": [],
   "source": [
    "from sklearn.preprocessing import MinMaxScaler"
   ]
  },
  {
   "cell_type": "code",
   "execution_count": 7,
   "metadata": {},
   "outputs": [],
   "source": [
    "scaler = MinMaxScaler()"
   ]
  },
  {
   "cell_type": "code",
   "execution_count": 8,
   "metadata": {},
   "outputs": [
    {
     "data": {
      "text/plain": [
       "MinMaxScaler(copy=True, feature_range=(0, 1))"
      ]
     },
     "execution_count": 8,
     "metadata": {},
     "output_type": "execute_result"
    }
   ],
   "source": [
    "scaler.fit(X_train)"
   ]
  },
  {
   "cell_type": "code",
   "execution_count": 9,
   "metadata": {},
   "outputs": [],
   "source": [
    "X_train = scaler.transform(X_train)\n",
    "X_test = scaler.transform(X_test)"
   ]
  },
  {
   "cell_type": "markdown",
   "metadata": {},
   "source": [
    "## Creating the Model"
   ]
  },
  {
   "cell_type": "code",
   "execution_count": 10,
   "metadata": {},
   "outputs": [],
   "source": [
    "import tensorflow as tf\n",
    "from tensorflow.keras.models import Sequential\n",
    "from tensorflow.keras.layers import Dense, Activation,Dropout"
   ]
  },
  {
   "cell_type": "code",
   "execution_count": 11,
   "metadata": {},
   "outputs": [],
   "source": [
    "from tensorflow.keras.callbacks import EarlyStopping,TensorBoard"
   ]
  },
  {
   "cell_type": "code",
   "execution_count": 12,
   "metadata": {},
   "outputs": [],
   "source": [
    "early_stop = EarlyStopping(monitor='val_loss', mode='min', verbose=1, patience=25)"
   ]
  },
  {
   "cell_type": "code",
   "execution_count": 13,
   "metadata": {},
   "outputs": [
    {
     "data": {
      "text/plain": [
       "'/home/ai/Documents/data-analysis/Neural Nets and Deep Learning'"
      ]
     },
     "execution_count": 13,
     "metadata": {},
     "output_type": "execute_result"
    }
   ],
   "source": [
    "pwd"
   ]
  },
  {
   "cell_type": "code",
   "execution_count": 14,
   "metadata": {},
   "outputs": [
    {
     "data": {
      "text/plain": [
       "'/home/ai/Documents/data-analysis/Neural Nets and Deep Learning'"
      ]
     },
     "execution_count": 14,
     "metadata": {},
     "output_type": "execute_result"
    }
   ],
   "source": [
    "os.getcwd()"
   ]
  },
  {
   "cell_type": "markdown",
   "metadata": {},
   "source": [
    "## Creating the Tensorboard Callback\n",
    "\n",
    "TensorBoard is a visualization tool provided with TensorFlow.\n",
    "\n",
    "This callback logs events for TensorBoard, including:\n",
    "* Metrics summary plots\n",
    "* Training graph visualization\n",
    "* Activation histograms\n",
    "* Sampled profiling\n",
    "\n",
    "If you have installed TensorFlow with pip, you should be able\n",
    "to launch TensorBoard from the command line:\n",
    "\n",
    "```sh\n",
    "tensorboard --logdir=path_to_your_logs\n",
    "```\n",
    "\n",
    "You can find more information about TensorBoard\n",
    "[here](https://www.tensorflow.org/tensorboard/).\n",
    "\n",
    "    Arguments:\n",
    "        log_dir: the path of the directory where to save the log files to be\n",
    "          parsed by TensorBoard.\n",
    "        histogram_freq: frequency (in epochs) at which to compute activation and\n",
    "          weight histograms for the layers of the model. If set to 0, histograms\n",
    "          won't be computed. Validation data (or split) must be specified for\n",
    "          histogram visualizations.\n",
    "        write_graph: whether to visualize the graph in TensorBoard. The log file\n",
    "          can become quite large when write_graph is set to True.\n",
    "        write_images: whether to write model weights to visualize as image in\n",
    "          TensorBoard.\n",
    "        update_freq: `'batch'` or `'epoch'` or integer. When using `'batch'`,\n",
    "          writes the losses and metrics to TensorBoard after each batch. The same\n",
    "          applies for `'epoch'`. If using an integer, let's say `1000`, the\n",
    "          callback will write the metrics and losses to TensorBoard every 1000\n",
    "          samples. Note that writing too frequently to TensorBoard can slow down\n",
    "          your training.\n",
    "        profile_batch: Profile the batch to sample compute characteristics. By\n",
    "          default, it will profile the second batch. Set profile_batch=0 to\n",
    "          disable profiling. Must run in TensorFlow eager mode.\n",
    "        embeddings_freq: frequency (in epochs) at which embedding layers will\n",
    "          be visualized. If set to 0, embeddings won't be visualized.\n",
    "       "
   ]
  },
  {
   "cell_type": "code",
   "execution_count": 15,
   "metadata": {},
   "outputs": [],
   "source": [
    "from datetime import datetime"
   ]
  },
  {
   "cell_type": "code",
   "execution_count": 16,
   "metadata": {},
   "outputs": [
    {
     "data": {
      "text/plain": [
       "'2020-03-16--1319'"
      ]
     },
     "execution_count": 16,
     "metadata": {},
     "output_type": "execute_result"
    }
   ],
   "source": [
    "datetime.now().strftime(\"%Y-%m-%d--%H%M\")"
   ]
  },
  {
   "cell_type": "code",
   "execution_count": 17,
   "metadata": {},
   "outputs": [],
   "source": [
    "# WINDOWS: Use \"logs\\\\fit\"\n",
    "# MACOS/LINUX: Use \"logs\\fit\"\n",
    "\n",
    "log_directory = 'logsit'\n",
    "\n",
    "# OPTIONAL: ADD A TIMESTAMP FOR UNIQUE FOLDER\n",
    "# timestamp = datetime.now().strftime(\"%Y-%m-%d--%H%M\")\n",
    "# log_directory = log_directory + '\\\\' + timestamp\n",
    "\n",
    "\n",
    "board = TensorBoard(log_dir=log_directory,histogram_freq=1,\n",
    "    write_graph=True,\n",
    "    write_images=True,\n",
    "    update_freq='epoch',\n",
    "    profile_batch=2,\n",
    "    embeddings_freq=1)"
   ]
  },
  {
   "cell_type": "markdown",
   "metadata": {},
   "source": [
    "Now create the model layers:"
   ]
  },
  {
   "cell_type": "code",
   "execution_count": 18,
   "metadata": {},
   "outputs": [],
   "source": [
    "model = Sequential()\n",
    "model.add(Dense(units=30,activation='relu'))\n",
    "model.add(Dropout(0.5))\n",
    "model.add(Dense(units=15,activation='relu'))\n",
    "model.add(Dropout(0.5))\n",
    "model.add(Dense(units=1,activation='sigmoid'))\n",
    "model.compile(loss='binary_crossentropy', optimizer='adam')"
   ]
  },
  {
   "cell_type": "markdown",
   "metadata": {},
   "source": [
    "## Train the Model"
   ]
  },
  {
   "cell_type": "code",
   "execution_count": 19,
   "metadata": {},
   "outputs": [
    {
     "name": "stdout",
     "output_type": "stream",
     "text": [
      "Train on 426 samples, validate on 143 samples\n",
      "Epoch 1/600\n",
      "426/426 [==============================] - 3s 6ms/sample - loss: 0.7198 - val_loss: 0.6790\n",
      "Epoch 2/600\n",
      "426/426 [==============================] - 0s 759us/sample - loss: 0.6809 - val_loss: 0.6611\n",
      "Epoch 3/600\n",
      "426/426 [==============================] - 0s 638us/sample - loss: 0.6614 - val_loss: 0.6438\n",
      "Epoch 4/600\n",
      "426/426 [==============================] - 0s 712us/sample - loss: 0.6342 - val_loss: 0.6224\n",
      "Epoch 5/600\n",
      "426/426 [==============================] - 0s 664us/sample - loss: 0.6354 - val_loss: 0.5993\n",
      "Epoch 6/600\n",
      "426/426 [==============================] - 0s 577us/sample - loss: 0.6086 - val_loss: 0.5710\n",
      "Epoch 7/600\n",
      "426/426 [==============================] - 0s 802us/sample - loss: 0.5789 - val_loss: 0.5360\n",
      "Epoch 8/600\n",
      "426/426 [==============================] - 0s 634us/sample - loss: 0.5583 - val_loss: 0.5039\n",
      "Epoch 9/600\n",
      "426/426 [==============================] - 0s 601us/sample - loss: 0.5365 - val_loss: 0.4713\n",
      "Epoch 10/600\n",
      "426/426 [==============================] - 0s 929us/sample - loss: 0.5320 - val_loss: 0.4425\n",
      "Epoch 11/600\n",
      "426/426 [==============================] - 0s 653us/sample - loss: 0.4999 - val_loss: 0.4158\n",
      "Epoch 12/600\n",
      "426/426 [==============================] - 0s 415us/sample - loss: 0.4789 - val_loss: 0.3891\n",
      "Epoch 13/600\n",
      "426/426 [==============================] - 0s 703us/sample - loss: 0.4499 - val_loss: 0.3633\n",
      "Epoch 14/600\n",
      "426/426 [==============================] - 0s 692us/sample - loss: 0.4406 - val_loss: 0.3387\n",
      "Epoch 15/600\n",
      "426/426 [==============================] - 0s 871us/sample - loss: 0.4086 - val_loss: 0.3180\n",
      "Epoch 16/600\n",
      "426/426 [==============================] - 0s 603us/sample - loss: 0.3791 - val_loss: 0.2917\n",
      "Epoch 17/600\n",
      "426/426 [==============================] - 0s 433us/sample - loss: 0.3711 - val_loss: 0.2668\n",
      "Epoch 18/600\n",
      "426/426 [==============================] - 0s 480us/sample - loss: 0.3538 - val_loss: 0.2535\n",
      "Epoch 19/600\n",
      "426/426 [==============================] - 0s 863us/sample - loss: 0.3462 - val_loss: 0.2412\n",
      "Epoch 20/600\n",
      "426/426 [==============================] - 0s 896us/sample - loss: 0.3339 - val_loss: 0.2338\n",
      "Epoch 21/600\n",
      "426/426 [==============================] - 0s 732us/sample - loss: 0.3161 - val_loss: 0.2206\n",
      "Epoch 22/600\n",
      "426/426 [==============================] - 0s 643us/sample - loss: 0.3054 - val_loss: 0.2085\n",
      "Epoch 23/600\n",
      "426/426 [==============================] - 0s 650us/sample - loss: 0.2900 - val_loss: 0.2013\n",
      "Epoch 24/600\n",
      "426/426 [==============================] - 0s 670us/sample - loss: 0.2652 - val_loss: 0.1914\n",
      "Epoch 25/600\n",
      "426/426 [==============================] - ETA: 0s - loss: 0.240 - 0s 637us/sample - loss: 0.2551 - val_loss: 0.1828\n",
      "Epoch 26/600\n",
      "426/426 [==============================] - 0s 636us/sample - loss: 0.2627 - val_loss: 0.1759\n",
      "Epoch 27/600\n",
      "426/426 [==============================] - 0s 732us/sample - loss: 0.2755 - val_loss: 0.1704\n",
      "Epoch 28/600\n",
      "426/426 [==============================] - 0s 530us/sample - loss: 0.2475 - val_loss: 0.1662\n",
      "Epoch 29/600\n",
      "426/426 [==============================] - 0s 607us/sample - loss: 0.2501 - val_loss: 0.1716\n",
      "Epoch 30/600\n",
      "426/426 [==============================] - 0s 688us/sample - loss: 0.2293 - val_loss: 0.1562\n",
      "Epoch 31/600\n",
      "426/426 [==============================] - 0s 608us/sample - loss: 0.2355 - val_loss: 0.1478\n",
      "Epoch 32/600\n",
      "426/426 [==============================] - 0s 649us/sample - loss: 0.2660 - val_loss: 0.1513\n",
      "Epoch 33/600\n",
      "426/426 [==============================] - 0s 690us/sample - loss: 0.2177 - val_loss: 0.1446\n",
      "Epoch 34/600\n",
      "426/426 [==============================] - 0s 586us/sample - loss: 0.2256 - val_loss: 0.1400\n",
      "Epoch 35/600\n",
      "426/426 [==============================] - 0s 468us/sample - loss: 0.2276 - val_loss: 0.1392\n",
      "Epoch 36/600\n",
      "426/426 [==============================] - 0s 761us/sample - loss: 0.2237 - val_loss: 0.1405\n",
      "Epoch 37/600\n",
      "426/426 [==============================] - 0s 722us/sample - loss: 0.1897 - val_loss: 0.1416\n",
      "Epoch 38/600\n",
      "426/426 [==============================] - 0s 803us/sample - loss: 0.2011 - val_loss: 0.1331\n",
      "Epoch 39/600\n",
      "426/426 [==============================] - 0s 720us/sample - loss: 0.2014 - val_loss: 0.1328\n",
      "Epoch 40/600\n",
      "426/426 [==============================] - 0s 594us/sample - loss: 0.2080 - val_loss: 0.1409\n",
      "Epoch 41/600\n",
      "426/426 [==============================] - 0s 536us/sample - loss: 0.1931 - val_loss: 0.1300\n",
      "Epoch 42/600\n",
      "426/426 [==============================] - 0s 816us/sample - loss: 0.1962 - val_loss: 0.1249\n",
      "Epoch 43/600\n",
      "426/426 [==============================] - 0s 636us/sample - loss: 0.1907 - val_loss: 0.1247\n",
      "Epoch 44/600\n",
      "426/426 [==============================] - 0s 710us/sample - loss: 0.1991 - val_loss: 0.1248\n",
      "Epoch 45/600\n",
      "426/426 [==============================] - 0s 706us/sample - loss: 0.1896 - val_loss: 0.1237\n",
      "Epoch 46/600\n",
      "426/426 [==============================] - 0s 530us/sample - loss: 0.1799 - val_loss: 0.1344\n",
      "Epoch 47/600\n",
      "426/426 [==============================] - 0s 639us/sample - loss: 0.1682 - val_loss: 0.1181\n",
      "Epoch 48/600\n",
      "426/426 [==============================] - 0s 706us/sample - loss: 0.1610 - val_loss: 0.1157\n",
      "Epoch 49/600\n",
      "426/426 [==============================] - 0s 565us/sample - loss: 0.2028 - val_loss: 0.1202\n",
      "Epoch 50/600\n",
      "426/426 [==============================] - 0s 691us/sample - loss: 0.1619 - val_loss: 0.1164\n",
      "Epoch 51/600\n",
      "426/426 [==============================] - 0s 632us/sample - loss: 0.1724 - val_loss: 0.1169\n",
      "Epoch 52/600\n",
      "426/426 [==============================] - 0s 562us/sample - loss: 0.1899 - val_loss: 0.1138\n",
      "Epoch 53/600\n",
      "426/426 [==============================] - 0s 712us/sample - loss: 0.1550 - val_loss: 0.1185\n",
      "Epoch 54/600\n",
      "426/426 [==============================] - 0s 652us/sample - loss: 0.1552 - val_loss: 0.1145\n",
      "Epoch 55/600\n",
      "426/426 [==============================] - 0s 568us/sample - loss: 0.1606 - val_loss: 0.1101\n",
      "Epoch 56/600\n",
      "426/426 [==============================] - 0s 675us/sample - loss: 0.1395 - val_loss: 0.1131\n",
      "Epoch 57/600\n",
      "426/426 [==============================] - 0s 675us/sample - loss: 0.1360 - val_loss: 0.1074\n",
      "Epoch 58/600\n",
      "426/426 [==============================] - 0s 581us/sample - loss: 0.1670 - val_loss: 0.1115\n",
      "Epoch 59/600\n",
      "426/426 [==============================] - 0s 1ms/sample - loss: 0.1263 - val_loss: 0.1044\n",
      "Epoch 60/600\n",
      "426/426 [==============================] - 0s 831us/sample - loss: 0.1522 - val_loss: 0.1114\n",
      "Epoch 61/600\n",
      "426/426 [==============================] - 0s 636us/sample - loss: 0.1587 - val_loss: 0.1106\n",
      "Epoch 62/600\n",
      "426/426 [==============================] - 0s 704us/sample - loss: 0.1373 - val_loss: 0.1108\n",
      "Epoch 63/600\n",
      "426/426 [==============================] - 0s 723us/sample - loss: 0.1263 - val_loss: 0.1040\n",
      "Epoch 64/600\n",
      "426/426 [==============================] - 0s 722us/sample - loss: 0.1392 - val_loss: 0.1011\n",
      "Epoch 65/600\n",
      "426/426 [==============================] - 0s 579us/sample - loss: 0.1210 - val_loss: 0.1056\n",
      "Epoch 66/600\n",
      "426/426 [==============================] - 0s 550us/sample - loss: 0.1406 - val_loss: 0.1011\n",
      "Epoch 67/600\n",
      "426/426 [==============================] - 0s 531us/sample - loss: 0.1188 - val_loss: 0.1015\n",
      "Epoch 68/600\n",
      "426/426 [==============================] - 0s 524us/sample - loss: 0.1373 - val_loss: 0.1097\n",
      "Epoch 69/600\n",
      "426/426 [==============================] - 0s 776us/sample - loss: 0.1387 - val_loss: 0.1199\n",
      "Epoch 70/600\n",
      "426/426 [==============================] - 0s 648us/sample - loss: 0.1615 - val_loss: 0.0996\n",
      "Epoch 71/600\n",
      "426/426 [==============================] - 0s 594us/sample - loss: 0.1175 - val_loss: 0.1139\n",
      "Epoch 72/600\n",
      "426/426 [==============================] - 0s 586us/sample - loss: 0.1076 - val_loss: 0.1179\n",
      "Epoch 73/600\n",
      "426/426 [==============================] - 0s 753us/sample - loss: 0.1165 - val_loss: 0.1087\n",
      "Epoch 74/600\n",
      "426/426 [==============================] - 0s 621us/sample - loss: 0.1172 - val_loss: 0.1014\n",
      "Epoch 75/600\n",
      "426/426 [==============================] - 0s 740us/sample - loss: 0.1113 - val_loss: 0.0998\n",
      "Epoch 76/600\n",
      "426/426 [==============================] - 0s 630us/sample - loss: 0.1177 - val_loss: 0.1046\n",
      "Epoch 77/600\n",
      "426/426 [==============================] - 0s 764us/sample - loss: 0.1233 - val_loss: 0.1021\n"
     ]
    },
    {
     "name": "stdout",
     "output_type": "stream",
     "text": [
      "Epoch 78/600\n",
      "426/426 [==============================] - 0s 625us/sample - loss: 0.0991 - val_loss: 0.0983\n",
      "Epoch 79/600\n",
      "426/426 [==============================] - 0s 540us/sample - loss: 0.1133 - val_loss: 0.1058\n",
      "Epoch 80/600\n",
      "426/426 [==============================] - 0s 548us/sample - loss: 0.1153 - val_loss: 0.1045\n",
      "Epoch 81/600\n",
      "426/426 [==============================] - 0s 674us/sample - loss: 0.1164 - val_loss: 0.1077\n",
      "Epoch 82/600\n",
      "426/426 [==============================] - 0s 560us/sample - loss: 0.1119 - val_loss: 0.1156\n",
      "Epoch 83/600\n",
      "426/426 [==============================] - 0s 666us/sample - loss: 0.1186 - val_loss: 0.0977\n",
      "Epoch 84/600\n",
      "426/426 [==============================] - 0s 679us/sample - loss: 0.1301 - val_loss: 0.0997\n",
      "Epoch 85/600\n",
      "426/426 [==============================] - 0s 624us/sample - loss: 0.1145 - val_loss: 0.1091\n",
      "Epoch 86/600\n",
      "426/426 [==============================] - 0s 690us/sample - loss: 0.1323 - val_loss: 0.1009\n",
      "Epoch 87/600\n",
      "426/426 [==============================] - 0s 728us/sample - loss: 0.1167 - val_loss: 0.1055\n",
      "Epoch 88/600\n",
      "426/426 [==============================] - 0s 634us/sample - loss: 0.1067 - val_loss: 0.0995\n",
      "Epoch 89/600\n",
      "426/426 [==============================] - 0s 473us/sample - loss: 0.1224 - val_loss: 0.1040\n",
      "Epoch 90/600\n",
      "426/426 [==============================] - 0s 841us/sample - loss: 0.1232 - val_loss: 0.1055\n",
      "Epoch 91/600\n",
      "426/426 [==============================] - 0s 716us/sample - loss: 0.0946 - val_loss: 0.0983\n",
      "Epoch 92/600\n",
      "426/426 [==============================] - 0s 551us/sample - loss: 0.1111 - val_loss: 0.1024\n",
      "Epoch 93/600\n",
      "426/426 [==============================] - 0s 635us/sample - loss: 0.1058 - val_loss: 0.1052\n",
      "Epoch 94/600\n",
      "426/426 [==============================] - 0s 674us/sample - loss: 0.1126 - val_loss: 0.1093\n",
      "Epoch 95/600\n",
      "426/426 [==============================] - 0s 729us/sample - loss: 0.1128 - val_loss: 0.1014\n",
      "Epoch 96/600\n",
      "426/426 [==============================] - 0s 759us/sample - loss: 0.1161 - val_loss: 0.0984\n",
      "Epoch 97/600\n",
      "426/426 [==============================] - 0s 531us/sample - loss: 0.0862 - val_loss: 0.1090\n",
      "Epoch 98/600\n",
      "426/426 [==============================] - 0s 650us/sample - loss: 0.0958 - val_loss: 0.1007\n",
      "Epoch 99/600\n",
      "426/426 [==============================] - 0s 656us/sample - loss: 0.1094 - val_loss: 0.1035\n",
      "Epoch 100/600\n",
      "426/426 [==============================] - 0s 791us/sample - loss: 0.0967 - val_loss: 0.1043\n",
      "Epoch 101/600\n",
      "426/426 [==============================] - 0s 602us/sample - loss: 0.1040 - val_loss: 0.1099\n",
      "Epoch 102/600\n",
      "426/426 [==============================] - 0s 694us/sample - loss: 0.1016 - val_loss: 0.1020\n",
      "Epoch 103/600\n",
      "426/426 [==============================] - 0s 782us/sample - loss: 0.1115 - val_loss: 0.1078\n",
      "Epoch 104/600\n",
      "426/426 [==============================] - 0s 714us/sample - loss: 0.0885 - val_loss: 0.1020\n",
      "Epoch 105/600\n",
      "426/426 [==============================] - 0s 669us/sample - loss: 0.1114 - val_loss: 0.0999\n",
      "Epoch 106/600\n",
      "426/426 [==============================] - 0s 612us/sample - loss: 0.0978 - val_loss: 0.1016\n",
      "Epoch 107/600\n",
      "426/426 [==============================] - 0s 706us/sample - loss: 0.1166 - val_loss: 0.1073\n",
      "Epoch 108/600\n",
      "426/426 [==============================] - 0s 596us/sample - loss: 0.1039 - val_loss: 0.0992\n",
      "Epoch 00108: early stopping\n"
     ]
    },
    {
     "data": {
      "text/plain": [
       "<tensorflow.python.keras.callbacks.History at 0x7fbd903b8cd0>"
      ]
     },
     "execution_count": 19,
     "metadata": {},
     "output_type": "execute_result"
    }
   ],
   "source": [
    "model.fit(x=X_train, \n",
    "          y=y_train, \n",
    "          epochs=600,\n",
    "          validation_data=(X_test, y_test), verbose=1,\n",
    "          callbacks=[early_stop,board]\n",
    "          )"
   ]
  },
  {
   "cell_type": "markdown",
   "metadata": {},
   "source": [
    "# Running Tensorboard\n"
   ]
  },
  {
   "cell_type": "markdown",
   "metadata": {},
   "source": [
    "## Running through the Command Line\n",
    "\n",
    "**Watch video to see how to run Tensorboard through a command line call.**"
   ]
  },
  {
   "cell_type": "markdown",
   "metadata": {},
   "source": [
    "Tensorboard will run locally in your browser at [http://localhost:6006/](http://localhost:6006/)\n"
   ]
  },
  {
   "cell_type": "code",
   "execution_count": 20,
   "metadata": {},
   "outputs": [
    {
     "name": "stdout",
     "output_type": "stream",
     "text": [
      "logsit\n"
     ]
    }
   ],
   "source": [
    "print(log_directory)"
   ]
  },
  {
   "cell_type": "code",
   "execution_count": 21,
   "metadata": {},
   "outputs": [
    {
     "data": {
      "text/plain": [
       "'/home/ai/Documents/data-analysis/Neural Nets and Deep Learning'"
      ]
     },
     "execution_count": 21,
     "metadata": {},
     "output_type": "execute_result"
    }
   ],
   "source": [
    "pwd"
   ]
  },
  {
   "cell_type": "markdown",
   "metadata": {},
   "source": [
    "### Use cd at your command line to change directory to the file path reported back by pwd or your current .py file location.\n",
    "### Then run this code at your command line or terminal"
   ]
  },
  {
   "cell_type": "code",
   "execution_count": 22,
   "metadata": {},
   "outputs": [
    {
     "ename": "SyntaxError",
     "evalue": "invalid syntax (<ipython-input-22-27bfd30e22f5>, line 1)",
     "output_type": "error",
     "traceback": [
      "\u001b[0;36m  File \u001b[0;32m\"<ipython-input-22-27bfd30e22f5>\"\u001b[0;36m, line \u001b[0;32m1\u001b[0m\n\u001b[0;31m    tensorboard --logdir logsit\u001b[0m\n\u001b[0m                              ^\u001b[0m\n\u001b[0;31mSyntaxError\u001b[0m\u001b[0;31m:\u001b[0m invalid syntax\n"
     ]
    }
   ],
   "source": [
    "tensorboard --logdir logsit"
   ]
  },
  {
   "cell_type": "code",
   "execution_count": null,
   "metadata": {},
   "outputs": [],
   "source": []
  },
  {
   "cell_type": "code",
   "execution_count": null,
   "metadata": {},
   "outputs": [],
   "source": []
  },
  {
   "cell_type": "code",
   "execution_count": null,
   "metadata": {},
   "outputs": [],
   "source": []
  }
 ],
 "metadata": {
  "kernelspec": {
   "display_name": "da1",
   "language": "python",
   "name": "da1"
  },
  "language_info": {
   "codemirror_mode": {
    "name": "ipython",
    "version": 3
   },
   "file_extension": ".py",
   "mimetype": "text/x-python",
   "name": "python",
   "nbconvert_exporter": "python",
   "pygments_lexer": "ipython3",
   "version": "3.7.6"
  }
 },
 "nbformat": 4,
 "nbformat_minor": 2
}
